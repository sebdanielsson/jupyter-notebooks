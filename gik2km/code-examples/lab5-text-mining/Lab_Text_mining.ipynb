{
  "cells": [
    {
      "attachments": {},
      "cell_type": "markdown",
      "id": "csNWKwraUip1",
      "metadata": {
        "id": "csNWKwraUip1"
      },
      "source": [
        "# **Linguistic Features:**\n",
        "\n",
        "Text: The original word text.\n",
        "\n",
        "Lemma: The base form of the word.\n",
        "\n",
        "POS: The simple UPOS part-of-speech tag.\n",
        "\n",
        "Tag: The detailed part-of-speech tag.\n",
        "\n",
        "Dep: Syntactic dependency, i.e. the relation between tokens.\n",
        "\n",
        "Shape: The word shape – capitalization, punctuation, digits.\n",
        "\n",
        "is alpha: Is the token an alpha character?\n",
        "\n",
        "is stop: Is the token part of a stop list, i.e. the most common words of the language?"
      ]
    },
    {
      "cell_type": "code",
      "execution_count": 1,
      "id": "6afd2783",
      "metadata": {
        "colab": {
          "base_uri": "https://localhost:8080/"
        },
        "id": "6afd2783",
        "outputId": "0b233809-3eb4-49b3-9f95-1fabdf611b0c"
      },
      "outputs": [
        {
          "name": "stdout",
          "output_type": "stream",
          "text": [
            "Apple PROPN nsubj\n",
            "is AUX ROOT\n",
            "one NUM attr\n",
            "of ADP prep\n",
            "the DET det\n",
            "biggest ADJ amod\n",
            "companies NOUN pobj\n",
            "in ADP prep\n",
            "the DET det\n",
            "world NOUN pobj\n"
          ]
        }
      ],
      "source": [
        "# Spacy, nltk, textblob, pandas, numpy, matplotlib, scikit-learn\n",
        "# Download this in prompt: python -m spacy download en\n",
        "# There are a few more downloads below\n",
        "\n",
        "import spacy\n",
        "\n",
        "nlp_model = spacy.load(\"en_core_web_sm\")\n",
        "\n",
        "# Create a Doc object\n",
        "doc = nlp_model(u\"Apple is one of the biggest companies in the world\")\n",
        "\n",
        "# Print each token separately\n",
        "for token in doc:\n",
        "    print(token.text, token.pos_, token.dep_)"
      ]
    },
    {
      "cell_type": "code",
      "execution_count": 2,
      "id": "08d86e80",
      "metadata": {
        "colab": {
          "base_uri": "https://localhost:8080/"
        },
        "id": "08d86e80",
        "outputId": "e43c70ab-beed-46ea-a188-adf944a01e91"
      },
      "outputs": [
        {
          "data": {
            "text/plain": [
              "True"
            ]
          },
          "execution_count": 2,
          "metadata": {},
          "output_type": "execute_result"
        }
      ],
      "source": [
        "doc[0].is_alpha"
      ]
    },
    {
      "attachments": {},
      "cell_type": "markdown",
      "id": "761a4036",
      "metadata": {
        "id": "761a4036"
      },
      "source": [
        "# doc[0].tag\n",
        "    text; lemma_ ; pos_ ; \n",
        "    tag_; shape_; is_alpha;\n",
        "    is_stop"
      ]
    },
    {
      "cell_type": "code",
      "execution_count": 3,
      "id": "673f83e2",
      "metadata": {
        "colab": {
          "base_uri": "https://localhost:8080/"
        },
        "id": "673f83e2",
        "outputId": "cc3d8995-6d30-4fd6-c699-6e3e69876bb4"
      },
      "outputs": [
        {
          "data": {
            "text/plain": [
              "Although commmonly attributed to John Lennon from his song \"Beautiful Boy\", the phrase \"Life is what happens to us while we are making other plans\" was written by cartoonist Allen Saunders and published in Reader's Digest in 1957, when Lennon was 17."
            ]
          },
          "execution_count": 3,
          "metadata": {},
          "output_type": "execute_result"
        }
      ],
      "source": [
        "doc1 = nlp_model(u'Although commmonly attributed to John Lennon from his song \"Beautiful Boy\", \\\n",
        "the phrase \"Life is what happens to us while we are making other plans\" was written by \\\n",
        "cartoonist Allen Saunders and published in Reader\\'s Digest in 1957, when Lennon was 17.')\n",
        "doc1"
      ]
    },
    {
      "cell_type": "code",
      "execution_count": 4,
      "id": "e7b4463a",
      "metadata": {
        "colab": {
          "base_uri": "https://localhost:8080/"
        },
        "id": "e7b4463a",
        "outputId": "e69fabf3-33e1-41a1-9983-7778e7e0505c"
      },
      "outputs": [
        {
          "name": "stdout",
          "output_type": "stream",
          "text": [
            "\"Life is what happens to us while we are making other plans\"\n"
          ]
        }
      ],
      "source": [
        "life_quote = doc1[16:30]\n",
        "print(life_quote)"
      ]
    },
    {
      "cell_type": "code",
      "execution_count": 5,
      "id": "e37d3224",
      "metadata": {
        "colab": {
          "base_uri": "https://localhost:8080/"
        },
        "id": "e37d3224",
        "outputId": "7fdc3b3e-4a75-4522-85c3-a2c085d25a2e"
      },
      "outputs": [
        {
          "data": {
            "text/plain": [
              "spacy.tokens.span.Span"
            ]
          },
          "execution_count": 5,
          "metadata": {},
          "output_type": "execute_result"
        }
      ],
      "source": [
        "# span is a slice of document or sentence\n",
        "type(life_quote)"
      ]
    },
    {
      "attachments": {},
      "cell_type": "markdown",
      "id": "adcf1146",
      "metadata": {
        "id": "adcf1146"
      },
      "source": [
        "# Tokenization"
      ]
    },
    {
      "cell_type": "code",
      "execution_count": 6,
      "id": "f372d3b9",
      "metadata": {
        "id": "f372d3b9",
        "outputId": "4e4fb7ef-062c-49b4-f851-2c52ce9ec73c"
      },
      "outputs": [
        {
          "name": "stdout",
          "output_type": "stream",
          "text": [
            "One is a number\n",
            "We're here to help! email support@oursite.com or visit us at http://www.oursite.com!\n"
          ]
        }
      ],
      "source": [
        "mystring = nlp_model(u\"One is a number\")\n",
        "print(mystring)\n",
        "\n",
        "# Create a string that includes opening and closing quotation marks\n",
        "mystring1 = nlp_model(u\"We're here to help! email support@oursite.com or visit us at http://www.oursite.com!\")\n",
        "print(mystring1)"
      ]
    },
    {
      "cell_type": "code",
      "execution_count": 7,
      "id": "912b5563",
      "metadata": {
        "id": "912b5563",
        "outputId": "43ea0bde-ff45-4ea5-d666-47987eb85648"
      },
      "outputs": [
        {
          "name": "stdout",
          "output_type": "stream",
          "text": [
            "One\n",
            "is\n",
            "a\n",
            "number\n"
          ]
        }
      ],
      "source": [
        "# Create a Doc object and explore tokens\n",
        "doc3 = nlp_model(mystring)\n",
        "\n",
        "for t in doc3:\n",
        "    print(t.text)"
      ]
    },
    {
      "cell_type": "code",
      "execution_count": 8,
      "id": "cc7770b7",
      "metadata": {
        "id": "cc7770b7",
        "outputId": "862056d7-4409-470c-8002-9f60d80b225f"
      },
      "outputs": [
        {
          "name": "stdout",
          "output_type": "stream",
          "text": [
            "We\n",
            "'re\n",
            "here\n",
            "to\n",
            "help\n",
            "!\n",
            "email\n",
            "support@oursite.com\n",
            "or\n",
            "visit\n",
            "us\n",
            "at\n",
            "http://www.oursite.com\n",
            "!\n"
          ]
        }
      ],
      "source": [
        "doc4 = nlp_model(mystring1)\n",
        "\n",
        "for token in doc4:\n",
        "    print(token)"
      ]
    },
    {
      "cell_type": "code",
      "execution_count": 9,
      "id": "3692e786",
      "metadata": {
        "id": "3692e786",
        "outputId": "2b8245da-4e6b-44f3-f5aa-14063a803d8b"
      },
      "outputs": [
        {
          "data": {
            "text/plain": [
              "14"
            ]
          },
          "execution_count": 9,
          "metadata": {},
          "output_type": "execute_result"
        }
      ],
      "source": [
        "# count of tokens\n",
        "len(doc4)"
      ]
    },
    {
      "attachments": {},
      "cell_type": "markdown",
      "id": "0a4b8123",
      "metadata": {
        "id": "0a4b8123"
      },
      "source": [
        "# Named entity"
      ]
    },
    {
      "cell_type": "code",
      "execution_count": 10,
      "id": "c1657098",
      "metadata": {
        "colab": {
          "base_uri": "https://localhost:8080/"
        },
        "id": "c1657098",
        "outputId": "45f31f47-c581-4cfd-8d11-7ec0ebe27534"
      },
      "outputs": [
        {
          "name": "stdout",
          "output_type": "stream",
          "text": [
            "Apple | is | one | of | the | biggest | companies | in | U.S | \n",
            "----\n",
            "Apple - ORG\n",
            "U.S - GPE\n"
          ]
        }
      ],
      "source": [
        "doc5 = nlp_model(u'Apple is one of the biggest companies in U.S')\n",
        "\n",
        "for token in doc5:\n",
        "    print(token.text, end=' | ')\n",
        "\n",
        "print('\\n----')\n",
        "\n",
        "for ent in doc5.ents:\n",
        "    print(ent.text+' - '+ent.label_)\n",
        "    \n"
      ]
    },
    {
      "cell_type": "code",
      "execution_count": 11,
      "id": "68de7be4",
      "metadata": {
        "id": "68de7be4",
        "outputId": "65554fc4-ec9d-4c08-f206-f38389812917"
      },
      "outputs": [
        {
          "name": "stdout",
          "output_type": "stream",
          "text": [
            "Mapping \t NOUN \t mapping\n",
            "a \t DET \t a\n",
            "GIS \t PROPN \t GIS\n",
            "tool \t NOUN \t tool\n"
          ]
        }
      ],
      "source": [
        "# Lemmatization/stemming\n",
        "\n",
        "doc6 = nlp_model(u\"Mapping a GIS tool\")\n",
        "\n",
        "for token in doc6:\n",
        "    print(token.text, '\\t', token.pos_, '\\t', token.lemma_)"
      ]
    },
    {
      "cell_type": "code",
      "execution_count": 12,
      "id": "3e9e8374",
      "metadata": {
        "id": "3e9e8374",
        "outputId": "9e2c816b-20ed-4d85-9370-61fbc09763f2"
      },
      "outputs": [
        {
          "name": "stdout",
          "output_type": "stream",
          "text": [
            "{'seem', 'must', 'might', '’m', 'he', 'her', 'noone', 'thence', 'only', 'whereby', 'down', 'between', 'about', 'their', 'wherein', 'therein', 'fifteen', 'almost', 'just', '’s', 'herself', 'none', 'nowhere', 'give', 'regarding', 'former', 'since', 'make', 'part', 'become', 'ca', 'more', 'into', 'take', 'back', 'anywhere', 'i', 'myself', 'there', 'namely', 'hereby', 'go', 'may', 'else', 'twelve', 'least', 'against', 'being', 'on', 'thru', \"'s\", 'whom', 'be', 'rather', 'everyone', 'below', 'his', \"'ve\", 'would', 'us', 'should', 'behind', 'anyway', 'we', 'keep', 'therefore', 'it', 'neither', 'while', 'otherwise', 'where', 'throughout', 'amount', 'two', 'afterwards', 'hereupon', 'though', 'of', 'along', 'ourselves', 'serious', 'beforehand', 'call', 'she', 'using', 'often', 'another', 'now', 'because', 'fifty', 'me', '’ll', 'indeed', 'together', 'becoming', 'among', 'except', 'due', 'whence', 'was', 'thereupon', 'few', 'off', 'seemed', 'always', 'mostly', 'very', 'thereby', 'these', 'your', 'seems', 'besides', 'been', 'made', 'enough', 'they', 'third', 'latter', 'hers', 'twenty', 'three', '‘re', 'doing', 'yourself', 'first', 'so', 'how', 'is', 'ours', 'ever', 'every', 'over', 'can', 'someone', 'six', 'each', 'hence', 'everywhere', 'thus', 'those', 'please', 'too', 'somewhere', 'mine', 'any', 'nor', 'towards', '’re', 'if', 'most', 'themselves', 'wherever', 'our', 'across', 'whatever', 'does', 'without', 'during', 'really', 'never', 'unless', 'am', '’d', 'and', 'many', 'done', 'up', 'formerly', 'anything', 'next', 'via', 'front', 'or', 'whole', 'but', 'could', 'this', 'not', 'yourselves', 'seeming', 'also', '’ve', 'toward', \"'ll\", \"'re\", '‘d', 'an', 'whenever', 'out', 'less', 'above', 'sixty', 'are', 'own', 'who', 'side', 'my', 'you', 'name', 'used', 'four', 'did', 'were', 'elsewhere', 'cannot', 'sometimes', 'here', 'hereafter', '‘ve', \"'d\", 'under', 'whereupon', '‘s', 'moreover', 'himself', 'somehow', 'whereas', \"'m\", 'becomes', 'from', 'why', 'others', 'whither', 'full', 'when', 'further', 'n’t', 'do', 'anyone', 'latterly', 'bottom', 'in', 'yet', 'became', 'forty', 'beside', 'no', 'eleven', 'its', 'thereafter', 'see', 'what', 'anyhow', 'after', 'a', 'alone', 'herein', 'before', 'with', 'quite', \"n't\", 'which', '‘ll', 'n‘t', 'get', 'all', 'has', 'through', 'either', 'already', 'everything', 'yours', 'meanwhile', 'to', 'nine', 'onto', 'however', 'empty', 'nobody', 'even', 'show', 'him', 'whoever', 'eight', 'ten', 'for', 'until', 'hundred', 'had', '‘m', 'upon', 'say', 'than', 'whether', 'whose', 'five', 'amongst', 'whereafter', 'nevertheless', 'same', 'some', 'by', 'again', 'top', 'still', 'move', 'such', 'various', 'sometime', 'that', 'put', 'several', 'one', 'last', 'them', 'have', 'the', 'well', 'something', 'will', 'beyond', 'within', 'at', 're', 'once', 'other', 'much', 'itself', 'nothing', 'as', 'although', 'around', 'both', 'per', 'then', 'perhaps'}\n"
          ]
        }
      ],
      "source": [
        "# Stop words\n",
        "print(nlp_model.Defaults.stop_words)"
      ]
    },
    {
      "attachments": {},
      "cell_type": "markdown",
      "id": "172abaff",
      "metadata": {
        "id": "172abaff"
      },
      "source": [
        "# Sentiment analysis\n"
      ]
    },
    {
      "cell_type": "code",
      "execution_count": 13,
      "id": "9cfd12cf",
      "metadata": {
        "colab": {
          "base_uri": "https://localhost:8080/",
          "height": 425
        },
        "id": "9cfd12cf",
        "outputId": "e0d134e7-ceac-4c35-c013-0872a1332219",
        "scrolled": true
      },
      "outputs": [
        {
          "data": {
            "text/html": [
              "<div>\n",
              "<style scoped>\n",
              "    .dataframe tbody tr th:only-of-type {\n",
              "        vertical-align: middle;\n",
              "    }\n",
              "\n",
              "    .dataframe tbody tr th {\n",
              "        vertical-align: top;\n",
              "    }\n",
              "\n",
              "    .dataframe thead th {\n",
              "        text-align: right;\n",
              "    }\n",
              "</style>\n",
              "<table border=\"1\" class=\"dataframe\">\n",
              "  <thead>\n",
              "    <tr style=\"text-align: right;\">\n",
              "      <th></th>\n",
              "      <th>ID</th>\n",
              "      <th>Review</th>\n",
              "    </tr>\n",
              "  </thead>\n",
              "  <tbody>\n",
              "    <tr>\n",
              "      <th>0</th>\n",
              "      <td>1</td>\n",
              "      <td>The product is missing. It is the worst service.</td>\n",
              "    </tr>\n",
              "    <tr>\n",
              "      <th>1</th>\n",
              "      <td>2</td>\n",
              "      <td>It is a good quality product.</td>\n",
              "    </tr>\n",
              "    <tr>\n",
              "      <th>2</th>\n",
              "      <td>3</td>\n",
              "      <td>There is a delay of product delivery. Not reco...</td>\n",
              "    </tr>\n",
              "    <tr>\n",
              "      <th>3</th>\n",
              "      <td>4</td>\n",
              "      <td>Highly recommend the product!</td>\n",
              "    </tr>\n",
              "    <tr>\n",
              "      <th>4</th>\n",
              "      <td>5</td>\n",
              "      <td>Not worth buying it!!</td>\n",
              "    </tr>\n",
              "    <tr>\n",
              "      <th>5</th>\n",
              "      <td>6</td>\n",
              "      <td>Nice and cheap!</td>\n",
              "    </tr>\n",
              "    <tr>\n",
              "      <th>6</th>\n",
              "      <td>7</td>\n",
              "      <td>@It is very nice.</td>\n",
              "    </tr>\n",
              "    <tr>\n",
              "      <th>7</th>\n",
              "      <td>8</td>\n",
              "      <td>I have been using this from 10 days and the pr...</td>\n",
              "    </tr>\n",
              "    <tr>\n",
              "      <th>8</th>\n",
              "      <td>9</td>\n",
              "      <td>The product is broken after 1 day. Don't buy it!</td>\n",
              "    </tr>\n",
              "    <tr>\n",
              "      <th>9</th>\n",
              "      <td>10</td>\n",
              "      <td>Amazing     product!\"</td>\n",
              "    </tr>\n",
              "    <tr>\n",
              "      <th>10</th>\n",
              "      <td>11</td>\n",
              "      <td></td>\n",
              "    </tr>\n",
              "    <tr>\n",
              "      <th>11</th>\n",
              "      <td>12</td>\n",
              "      <td>NaN</td>\n",
              "    </tr>\n",
              "  </tbody>\n",
              "</table>\n",
              "</div>"
            ],
            "text/plain": [
              "    ID                                             Review\n",
              "0    1   The product is missing. It is the worst service.\n",
              "1    2                      It is a good quality product.\n",
              "2    3  There is a delay of product delivery. Not reco...\n",
              "3    4                      Highly recommend the product!\n",
              "4    5                              Not worth buying it!!\n",
              "5    6                                    Nice and cheap!\n",
              "6    7                                  @It is very nice.\n",
              "7    8  I have been using this from 10 days and the pr...\n",
              "8    9   The product is broken after 1 day. Don't buy it!\n",
              "9   10                              Amazing     product!\"\n",
              "10  11                                                   \n",
              "11  12                                                NaN"
            ]
          },
          "execution_count": 13,
          "metadata": {},
          "output_type": "execute_result"
        }
      ],
      "source": [
        "from textblob import TextBlob\n",
        "import matplotlib.pyplot as plt\n",
        "import pandas as pd\n",
        "from nltk.tokenize import word_tokenize\n",
        "from nltk.stem import WordNetLemmatizer\n",
        "from nltk.corpus import stopwords\n",
        "import re\n",
        "\n",
        "data = pd.read_csv('./test_data.tsv', delimiter = '\\t')\n",
        "\n",
        "# Shape\n",
        "data"
      ]
    },
    {
      "cell_type": "code",
      "execution_count": 14,
      "id": "9bd8f07a",
      "metadata": {
        "colab": {
          "base_uri": "https://localhost:8080/",
          "height": 425
        },
        "id": "9bd8f07a",
        "outputId": "db6a48e3-6635-4ed5-f06d-520fbae5a6a5"
      },
      "outputs": [
        {
          "data": {
            "text/html": [
              "<div>\n",
              "<style scoped>\n",
              "    .dataframe tbody tr th:only-of-type {\n",
              "        vertical-align: middle;\n",
              "    }\n",
              "\n",
              "    .dataframe tbody tr th {\n",
              "        vertical-align: top;\n",
              "    }\n",
              "\n",
              "    .dataframe thead th {\n",
              "        text-align: right;\n",
              "    }\n",
              "</style>\n",
              "<table border=\"1\" class=\"dataframe\">\n",
              "  <thead>\n",
              "    <tr style=\"text-align: right;\">\n",
              "      <th></th>\n",
              "      <th>ID</th>\n",
              "      <th>Review</th>\n",
              "    </tr>\n",
              "  </thead>\n",
              "  <tbody>\n",
              "    <tr>\n",
              "      <th>0</th>\n",
              "      <td>1</td>\n",
              "      <td>The product is missing. It is the worst service.</td>\n",
              "    </tr>\n",
              "    <tr>\n",
              "      <th>1</th>\n",
              "      <td>2</td>\n",
              "      <td>It is a good quality product.</td>\n",
              "    </tr>\n",
              "    <tr>\n",
              "      <th>2</th>\n",
              "      <td>3</td>\n",
              "      <td>There is a delay of product delivery. Not reco...</td>\n",
              "    </tr>\n",
              "    <tr>\n",
              "      <th>3</th>\n",
              "      <td>4</td>\n",
              "      <td>Highly recommend the product!</td>\n",
              "    </tr>\n",
              "    <tr>\n",
              "      <th>4</th>\n",
              "      <td>5</td>\n",
              "      <td>Not worth buying it!!</td>\n",
              "    </tr>\n",
              "    <tr>\n",
              "      <th>5</th>\n",
              "      <td>6</td>\n",
              "      <td>Nice and cheap!</td>\n",
              "    </tr>\n",
              "    <tr>\n",
              "      <th>6</th>\n",
              "      <td>7</td>\n",
              "      <td>@It is very nice.</td>\n",
              "    </tr>\n",
              "    <tr>\n",
              "      <th>7</th>\n",
              "      <td>8</td>\n",
              "      <td>I have been using this from 10 days and the pr...</td>\n",
              "    </tr>\n",
              "    <tr>\n",
              "      <th>8</th>\n",
              "      <td>9</td>\n",
              "      <td>The product is broken after 1 day. Don't buy it!</td>\n",
              "    </tr>\n",
              "    <tr>\n",
              "      <th>9</th>\n",
              "      <td>10</td>\n",
              "      <td>Amazing     product!\"</td>\n",
              "    </tr>\n",
              "    <tr>\n",
              "      <th>10</th>\n",
              "      <td>11</td>\n",
              "      <td></td>\n",
              "    </tr>\n",
              "    <tr>\n",
              "      <th>11</th>\n",
              "      <td>12</td>\n",
              "      <td>NaN</td>\n",
              "    </tr>\n",
              "  </tbody>\n",
              "</table>\n",
              "</div>"
            ],
            "text/plain": [
              "    ID                                             Review\n",
              "0    1   The product is missing. It is the worst service.\n",
              "1    2                      It is a good quality product.\n",
              "2    3  There is a delay of product delivery. Not reco...\n",
              "3    4                      Highly recommend the product!\n",
              "4    5                              Not worth buying it!!\n",
              "5    6                                    Nice and cheap!\n",
              "6    7                                  @It is very nice.\n",
              "7    8  I have been using this from 10 days and the pr...\n",
              "8    9   The product is broken after 1 day. Don't buy it!\n",
              "9   10                              Amazing     product!\"\n",
              "10  11                                                   \n",
              "11  12                                                NaN"
            ]
          },
          "execution_count": 14,
          "metadata": {},
          "output_type": "execute_result"
        }
      ],
      "source": [
        "review = data['Review']\n",
        "data"
      ]
    },
    {
      "cell_type": "code",
      "execution_count": 15,
      "id": "b8b64442",
      "metadata": {
        "colab": {
          "base_uri": "https://localhost:8080/"
        },
        "id": "b8b64442",
        "outputId": "69d0bf64-391b-41e4-b636-4b7a9c711c6f"
      },
      "outputs": [
        {
          "data": {
            "text/plain": [
              "ID        0\n",
              "Review    1\n",
              "dtype: int64"
            ]
          },
          "execution_count": 15,
          "metadata": {},
          "output_type": "execute_result"
        }
      ],
      "source": [
        "# Check for the existence of NaN values in a cell:\n",
        "data.isnull().sum()"
      ]
    },
    {
      "cell_type": "code",
      "execution_count": 16,
      "id": "27f22fc0",
      "metadata": {
        "colab": {
          "base_uri": "https://localhost:8080/",
          "height": 394
        },
        "id": "27f22fc0",
        "outputId": "49ce9c9e-3211-4220-abfc-d3a2f422fed7"
      },
      "outputs": [
        {
          "data": {
            "text/html": [
              "<div>\n",
              "<style scoped>\n",
              "    .dataframe tbody tr th:only-of-type {\n",
              "        vertical-align: middle;\n",
              "    }\n",
              "\n",
              "    .dataframe tbody tr th {\n",
              "        vertical-align: top;\n",
              "    }\n",
              "\n",
              "    .dataframe thead th {\n",
              "        text-align: right;\n",
              "    }\n",
              "</style>\n",
              "<table border=\"1\" class=\"dataframe\">\n",
              "  <thead>\n",
              "    <tr style=\"text-align: right;\">\n",
              "      <th></th>\n",
              "      <th>ID</th>\n",
              "      <th>Review</th>\n",
              "    </tr>\n",
              "  </thead>\n",
              "  <tbody>\n",
              "    <tr>\n",
              "      <th>0</th>\n",
              "      <td>1</td>\n",
              "      <td>The product is missing. It is the worst service.</td>\n",
              "    </tr>\n",
              "    <tr>\n",
              "      <th>1</th>\n",
              "      <td>2</td>\n",
              "      <td>It is a good quality product.</td>\n",
              "    </tr>\n",
              "    <tr>\n",
              "      <th>2</th>\n",
              "      <td>3</td>\n",
              "      <td>There is a delay of product delivery. Not reco...</td>\n",
              "    </tr>\n",
              "    <tr>\n",
              "      <th>3</th>\n",
              "      <td>4</td>\n",
              "      <td>Highly recommend the product!</td>\n",
              "    </tr>\n",
              "    <tr>\n",
              "      <th>4</th>\n",
              "      <td>5</td>\n",
              "      <td>Not worth buying it!!</td>\n",
              "    </tr>\n",
              "    <tr>\n",
              "      <th>5</th>\n",
              "      <td>6</td>\n",
              "      <td>Nice and cheap!</td>\n",
              "    </tr>\n",
              "    <tr>\n",
              "      <th>6</th>\n",
              "      <td>7</td>\n",
              "      <td>@It is very nice.</td>\n",
              "    </tr>\n",
              "    <tr>\n",
              "      <th>7</th>\n",
              "      <td>8</td>\n",
              "      <td>I have been using this from 10 days and the pr...</td>\n",
              "    </tr>\n",
              "    <tr>\n",
              "      <th>8</th>\n",
              "      <td>9</td>\n",
              "      <td>The product is broken after 1 day. Don't buy it!</td>\n",
              "    </tr>\n",
              "    <tr>\n",
              "      <th>9</th>\n",
              "      <td>10</td>\n",
              "      <td>Amazing     product!\"</td>\n",
              "    </tr>\n",
              "    <tr>\n",
              "      <th>10</th>\n",
              "      <td>11</td>\n",
              "      <td></td>\n",
              "    </tr>\n",
              "  </tbody>\n",
              "</table>\n",
              "</div>"
            ],
            "text/plain": [
              "    ID                                             Review\n",
              "0    1   The product is missing. It is the worst service.\n",
              "1    2                      It is a good quality product.\n",
              "2    3  There is a delay of product delivery. Not reco...\n",
              "3    4                      Highly recommend the product!\n",
              "4    5                              Not worth buying it!!\n",
              "5    6                                    Nice and cheap!\n",
              "6    7                                  @It is very nice.\n",
              "7    8  I have been using this from 10 days and the pr...\n",
              "8    9   The product is broken after 1 day. Don't buy it!\n",
              "9   10                              Amazing     product!\"\n",
              "10  11                                                   "
            ]
          },
          "execution_count": 16,
          "metadata": {},
          "output_type": "execute_result"
        }
      ],
      "source": [
        "data.dropna(inplace=True)\n",
        "\n",
        "data"
      ]
    },
    {
      "cell_type": "code",
      "execution_count": 17,
      "id": "617a803f",
      "metadata": {
        "colab": {
          "base_uri": "https://localhost:8080/"
        },
        "id": "617a803f",
        "outputId": "7240226c-f084-4b4f-c714-c516cfa4d6b6"
      },
      "outputs": [
        {
          "name": "stdout",
          "output_type": "stream",
          "text": [
            "10\n"
          ]
        },
        {
          "data": {
            "text/plain": [
              "[10]"
            ]
          },
          "execution_count": 17,
          "metadata": {},
          "output_type": "execute_result"
        }
      ],
      "source": [
        "r=0\n",
        "blanks = []  # start with an empty list\n",
        "\n",
        "for i in data['Review']:\n",
        "  \n",
        "  if i.isspace():\n",
        "    blanks.append(r)\n",
        "    print(r)\n",
        "    \n",
        "  r=r+1\n",
        "  \n",
        "        \n",
        "blanks"
      ]
    },
    {
      "cell_type": "code",
      "execution_count": 18,
      "id": "1596e209",
      "metadata": {
        "colab": {
          "base_uri": "https://localhost:8080/",
          "height": 363
        },
        "id": "1596e209",
        "outputId": "1bd300de-fc66-49ab-bf77-16c7bca16851",
        "scrolled": true
      },
      "outputs": [
        {
          "data": {
            "text/html": [
              "<div>\n",
              "<style scoped>\n",
              "    .dataframe tbody tr th:only-of-type {\n",
              "        vertical-align: middle;\n",
              "    }\n",
              "\n",
              "    .dataframe tbody tr th {\n",
              "        vertical-align: top;\n",
              "    }\n",
              "\n",
              "    .dataframe thead th {\n",
              "        text-align: right;\n",
              "    }\n",
              "</style>\n",
              "<table border=\"1\" class=\"dataframe\">\n",
              "  <thead>\n",
              "    <tr style=\"text-align: right;\">\n",
              "      <th></th>\n",
              "      <th>ID</th>\n",
              "      <th>Review</th>\n",
              "    </tr>\n",
              "  </thead>\n",
              "  <tbody>\n",
              "    <tr>\n",
              "      <th>0</th>\n",
              "      <td>1</td>\n",
              "      <td>The product is missing. It is the worst service.</td>\n",
              "    </tr>\n",
              "    <tr>\n",
              "      <th>1</th>\n",
              "      <td>2</td>\n",
              "      <td>It is a good quality product.</td>\n",
              "    </tr>\n",
              "    <tr>\n",
              "      <th>2</th>\n",
              "      <td>3</td>\n",
              "      <td>There is a delay of product delivery. Not reco...</td>\n",
              "    </tr>\n",
              "    <tr>\n",
              "      <th>3</th>\n",
              "      <td>4</td>\n",
              "      <td>Highly recommend the product!</td>\n",
              "    </tr>\n",
              "    <tr>\n",
              "      <th>4</th>\n",
              "      <td>5</td>\n",
              "      <td>Not worth buying it!!</td>\n",
              "    </tr>\n",
              "    <tr>\n",
              "      <th>5</th>\n",
              "      <td>6</td>\n",
              "      <td>Nice and cheap!</td>\n",
              "    </tr>\n",
              "    <tr>\n",
              "      <th>6</th>\n",
              "      <td>7</td>\n",
              "      <td>@It is very nice.</td>\n",
              "    </tr>\n",
              "    <tr>\n",
              "      <th>7</th>\n",
              "      <td>8</td>\n",
              "      <td>I have been using this from 10 days and the pr...</td>\n",
              "    </tr>\n",
              "    <tr>\n",
              "      <th>8</th>\n",
              "      <td>9</td>\n",
              "      <td>The product is broken after 1 day. Don't buy it!</td>\n",
              "    </tr>\n",
              "    <tr>\n",
              "      <th>9</th>\n",
              "      <td>10</td>\n",
              "      <td>Amazing     product!\"</td>\n",
              "    </tr>\n",
              "  </tbody>\n",
              "</table>\n",
              "</div>"
            ],
            "text/plain": [
              "   ID                                             Review\n",
              "0   1   The product is missing. It is the worst service.\n",
              "1   2                      It is a good quality product.\n",
              "2   3  There is a delay of product delivery. Not reco...\n",
              "3   4                      Highly recommend the product!\n",
              "4   5                              Not worth buying it!!\n",
              "5   6                                    Nice and cheap!\n",
              "6   7                                  @It is very nice.\n",
              "7   8  I have been using this from 10 days and the pr...\n",
              "8   9   The product is broken after 1 day. Don't buy it!\n",
              "9  10                              Amazing     product!\""
            ]
          },
          "execution_count": 18,
          "metadata": {},
          "output_type": "execute_result"
        }
      ],
      "source": [
        "data.drop(blanks, inplace=True)\n",
        "\n",
        "data\n"
      ]
    },
    {
      "cell_type": "code",
      "execution_count": 19,
      "id": "72aa53f8",
      "metadata": {
        "id": "72aa53f8"
      },
      "outputs": [],
      "source": [
        "def clean_data(text):\n",
        "    return ' '.join(re.sub(\"(@[a-zA-Z0-9]+)|([^0-9A-Za-z])|(https://[\\w.]+/[\\w]+)\", \" \", text).split())\n",
        "\n",
        "data['cleaned_data'] = data['Review'].apply(clean_data)"
      ]
    },
    {
      "cell_type": "code",
      "execution_count": 20,
      "id": "326a24d1",
      "metadata": {
        "id": "326a24d1",
        "outputId": "a90347b1-6246-4568-a56a-cf5c946cd42e"
      },
      "outputs": [
        {
          "data": {
            "text/html": [
              "<div>\n",
              "<style scoped>\n",
              "    .dataframe tbody tr th:only-of-type {\n",
              "        vertical-align: middle;\n",
              "    }\n",
              "\n",
              "    .dataframe tbody tr th {\n",
              "        vertical-align: top;\n",
              "    }\n",
              "\n",
              "    .dataframe thead th {\n",
              "        text-align: right;\n",
              "    }\n",
              "</style>\n",
              "<table border=\"1\" class=\"dataframe\">\n",
              "  <thead>\n",
              "    <tr style=\"text-align: right;\">\n",
              "      <th></th>\n",
              "      <th>ID</th>\n",
              "      <th>Review</th>\n",
              "      <th>cleaned_data</th>\n",
              "    </tr>\n",
              "  </thead>\n",
              "  <tbody>\n",
              "    <tr>\n",
              "      <th>0</th>\n",
              "      <td>1</td>\n",
              "      <td>The product is missing. It is the worst service.</td>\n",
              "      <td>The product is missing It is the worst service</td>\n",
              "    </tr>\n",
              "    <tr>\n",
              "      <th>1</th>\n",
              "      <td>2</td>\n",
              "      <td>It is a good quality product.</td>\n",
              "      <td>It is a good quality product</td>\n",
              "    </tr>\n",
              "    <tr>\n",
              "      <th>2</th>\n",
              "      <td>3</td>\n",
              "      <td>There is a delay of product delivery. Not reco...</td>\n",
              "      <td>There is a delay of product delivery Not recom...</td>\n",
              "    </tr>\n",
              "    <tr>\n",
              "      <th>3</th>\n",
              "      <td>4</td>\n",
              "      <td>Highly recommend the product!</td>\n",
              "      <td>Highly recommend the product</td>\n",
              "    </tr>\n",
              "    <tr>\n",
              "      <th>4</th>\n",
              "      <td>5</td>\n",
              "      <td>Not worth buying it!!</td>\n",
              "      <td>Not worth buying it</td>\n",
              "    </tr>\n",
              "    <tr>\n",
              "      <th>5</th>\n",
              "      <td>6</td>\n",
              "      <td>Nice and cheap!</td>\n",
              "      <td>Nice and cheap</td>\n",
              "    </tr>\n",
              "    <tr>\n",
              "      <th>6</th>\n",
              "      <td>7</td>\n",
              "      <td>@It is very nice.</td>\n",
              "      <td>is very nice</td>\n",
              "    </tr>\n",
              "    <tr>\n",
              "      <th>7</th>\n",
              "      <td>8</td>\n",
              "      <td>I have been using this from 10 days and the pr...</td>\n",
              "      <td>I have been using this from 10 days and the pr...</td>\n",
              "    </tr>\n",
              "    <tr>\n",
              "      <th>8</th>\n",
              "      <td>9</td>\n",
              "      <td>The product is broken after 1 day. Don't buy it!</td>\n",
              "      <td>The product is broken after 1 day Don t buy it</td>\n",
              "    </tr>\n",
              "    <tr>\n",
              "      <th>9</th>\n",
              "      <td>10</td>\n",
              "      <td>Amazing     product!\"</td>\n",
              "      <td>Amazing product</td>\n",
              "    </tr>\n",
              "  </tbody>\n",
              "</table>\n",
              "</div>"
            ],
            "text/plain": [
              "   ID                                             Review   \n",
              "0   1   The product is missing. It is the worst service.  \\\n",
              "1   2                      It is a good quality product.   \n",
              "2   3  There is a delay of product delivery. Not reco...   \n",
              "3   4                      Highly recommend the product!   \n",
              "4   5                              Not worth buying it!!   \n",
              "5   6                                    Nice and cheap!   \n",
              "6   7                                  @It is very nice.   \n",
              "7   8  I have been using this from 10 days and the pr...   \n",
              "8   9   The product is broken after 1 day. Don't buy it!   \n",
              "9  10                              Amazing     product!\"   \n",
              "\n",
              "                                        cleaned_data  \n",
              "0     The product is missing It is the worst service  \n",
              "1                       It is a good quality product  \n",
              "2  There is a delay of product delivery Not recom...  \n",
              "3                       Highly recommend the product  \n",
              "4                                Not worth buying it  \n",
              "5                                     Nice and cheap  \n",
              "6                                       is very nice  \n",
              "7  I have been using this from 10 days and the pr...  \n",
              "8     The product is broken after 1 day Don t buy it  \n",
              "9                                    Amazing product  "
            ]
          },
          "execution_count": 20,
          "metadata": {},
          "output_type": "execute_result"
        }
      ],
      "source": [
        "data"
      ]
    },
    {
      "cell_type": "code",
      "execution_count": 21,
      "id": "8b05d53c",
      "metadata": {
        "id": "8b05d53c"
      },
      "outputs": [],
      "source": [
        "def drop_numbers(list_text):\n",
        "    list_text_new = []\n",
        "    for i in list_text:\n",
        "        if not re.search('\\d', i):\n",
        "            list_text_new.append(i)\n",
        "    return ''.join(list_text_new)\n",
        "\n",
        "data['cleaned_data'] = data['cleaned_data'].apply(drop_numbers)"
      ]
    },
    {
      "cell_type": "code",
      "execution_count": 22,
      "id": "cddaf507",
      "metadata": {
        "colab": {
          "base_uri": "https://localhost:8080/",
          "height": 363
        },
        "id": "cddaf507",
        "outputId": "9732be0e-4837-48d4-f2b1-9ee19a2569d8"
      },
      "outputs": [
        {
          "data": {
            "text/html": [
              "<div>\n",
              "<style scoped>\n",
              "    .dataframe tbody tr th:only-of-type {\n",
              "        vertical-align: middle;\n",
              "    }\n",
              "\n",
              "    .dataframe tbody tr th {\n",
              "        vertical-align: top;\n",
              "    }\n",
              "\n",
              "    .dataframe thead th {\n",
              "        text-align: right;\n",
              "    }\n",
              "</style>\n",
              "<table border=\"1\" class=\"dataframe\">\n",
              "  <thead>\n",
              "    <tr style=\"text-align: right;\">\n",
              "      <th></th>\n",
              "      <th>ID</th>\n",
              "      <th>Review</th>\n",
              "      <th>cleaned_data</th>\n",
              "    </tr>\n",
              "  </thead>\n",
              "  <tbody>\n",
              "    <tr>\n",
              "      <th>0</th>\n",
              "      <td>1</td>\n",
              "      <td>The product is missing. It is the worst service.</td>\n",
              "      <td>The product is missing It is the worst service</td>\n",
              "    </tr>\n",
              "    <tr>\n",
              "      <th>1</th>\n",
              "      <td>2</td>\n",
              "      <td>It is a good quality product.</td>\n",
              "      <td>It is a good quality product</td>\n",
              "    </tr>\n",
              "    <tr>\n",
              "      <th>2</th>\n",
              "      <td>3</td>\n",
              "      <td>There is a delay of product delivery. Not reco...</td>\n",
              "      <td>There is a delay of product delivery Not recom...</td>\n",
              "    </tr>\n",
              "    <tr>\n",
              "      <th>3</th>\n",
              "      <td>4</td>\n",
              "      <td>Highly recommend the product!</td>\n",
              "      <td>Highly recommend the product</td>\n",
              "    </tr>\n",
              "    <tr>\n",
              "      <th>4</th>\n",
              "      <td>5</td>\n",
              "      <td>Not worth buying it!!</td>\n",
              "      <td>Not worth buying it</td>\n",
              "    </tr>\n",
              "    <tr>\n",
              "      <th>5</th>\n",
              "      <td>6</td>\n",
              "      <td>Nice and cheap!</td>\n",
              "      <td>Nice and cheap</td>\n",
              "    </tr>\n",
              "    <tr>\n",
              "      <th>6</th>\n",
              "      <td>7</td>\n",
              "      <td>@It is very nice.</td>\n",
              "      <td>is very nice</td>\n",
              "    </tr>\n",
              "    <tr>\n",
              "      <th>7</th>\n",
              "      <td>8</td>\n",
              "      <td>I have been using this from 10 days and the pr...</td>\n",
              "      <td>I have been using this from  days and the prod...</td>\n",
              "    </tr>\n",
              "    <tr>\n",
              "      <th>8</th>\n",
              "      <td>9</td>\n",
              "      <td>The product is broken after 1 day. Don't buy it!</td>\n",
              "      <td>The product is broken after  day Don t buy it</td>\n",
              "    </tr>\n",
              "    <tr>\n",
              "      <th>9</th>\n",
              "      <td>10</td>\n",
              "      <td>Amazing     product!\"</td>\n",
              "      <td>Amazing product</td>\n",
              "    </tr>\n",
              "  </tbody>\n",
              "</table>\n",
              "</div>"
            ],
            "text/plain": [
              "   ID                                             Review   \n",
              "0   1   The product is missing. It is the worst service.  \\\n",
              "1   2                      It is a good quality product.   \n",
              "2   3  There is a delay of product delivery. Not reco...   \n",
              "3   4                      Highly recommend the product!   \n",
              "4   5                              Not worth buying it!!   \n",
              "5   6                                    Nice and cheap!   \n",
              "6   7                                  @It is very nice.   \n",
              "7   8  I have been using this from 10 days and the pr...   \n",
              "8   9   The product is broken after 1 day. Don't buy it!   \n",
              "9  10                              Amazing     product!\"   \n",
              "\n",
              "                                        cleaned_data  \n",
              "0     The product is missing It is the worst service  \n",
              "1                       It is a good quality product  \n",
              "2  There is a delay of product delivery Not recom...  \n",
              "3                       Highly recommend the product  \n",
              "4                                Not worth buying it  \n",
              "5                                     Nice and cheap  \n",
              "6                                       is very nice  \n",
              "7  I have been using this from  days and the prod...  \n",
              "8      The product is broken after  day Don t buy it  \n",
              "9                                    Amazing product  "
            ]
          },
          "execution_count": 22,
          "metadata": {},
          "output_type": "execute_result"
        }
      ],
      "source": [
        "data"
      ]
    },
    {
      "cell_type": "code",
      "execution_count": 23,
      "id": "422db639",
      "metadata": {
        "colab": {
          "base_uri": "https://localhost:8080/"
        },
        "id": "422db639",
        "outputId": "7e98bdd9-19b8-46bc-f197-096bdc9d1e08"
      },
      "outputs": [
        {
          "name": "stderr",
          "output_type": "stream",
          "text": [
            "[nltk_data] Downloading package punkt to /home/vscode/nltk_data...\n",
            "[nltk_data]   Package punkt is already up-to-date!\n"
          ]
        }
      ],
      "source": [
        "# changing all the words of the reviews column to lowercase letters\n",
        "# From library word_tokenize\n",
        "import nltk\n",
        "nltk.download('punkt')\n",
        "\n",
        "def lower_case(text):\n",
        "    text_words = word_tokenize(text)\n",
        "    text_words_lower = [x.lower() for x in text_words]\n",
        "    return ' '.join(text_words_lower)\n",
        "\n",
        "data['cleaned_data'] = data['cleaned_data'].apply(lower_case)"
      ]
    },
    {
      "cell_type": "code",
      "execution_count": 24,
      "id": "99bac17b",
      "metadata": {
        "id": "99bac17b",
        "outputId": "9f346fb8-f68c-4852-b112-3863a5802ca8"
      },
      "outputs": [
        {
          "data": {
            "text/html": [
              "<div>\n",
              "<style scoped>\n",
              "    .dataframe tbody tr th:only-of-type {\n",
              "        vertical-align: middle;\n",
              "    }\n",
              "\n",
              "    .dataframe tbody tr th {\n",
              "        vertical-align: top;\n",
              "    }\n",
              "\n",
              "    .dataframe thead th {\n",
              "        text-align: right;\n",
              "    }\n",
              "</style>\n",
              "<table border=\"1\" class=\"dataframe\">\n",
              "  <thead>\n",
              "    <tr style=\"text-align: right;\">\n",
              "      <th></th>\n",
              "      <th>ID</th>\n",
              "      <th>Review</th>\n",
              "      <th>cleaned_data</th>\n",
              "    </tr>\n",
              "  </thead>\n",
              "  <tbody>\n",
              "    <tr>\n",
              "      <th>0</th>\n",
              "      <td>1</td>\n",
              "      <td>The product is missing. It is the worst service.</td>\n",
              "      <td>the product is missing it is the worst service</td>\n",
              "    </tr>\n",
              "    <tr>\n",
              "      <th>1</th>\n",
              "      <td>2</td>\n",
              "      <td>It is a good quality product.</td>\n",
              "      <td>it is a good quality product</td>\n",
              "    </tr>\n",
              "    <tr>\n",
              "      <th>2</th>\n",
              "      <td>3</td>\n",
              "      <td>There is a delay of product delivery. Not reco...</td>\n",
              "      <td>there is a delay of product delivery not recom...</td>\n",
              "    </tr>\n",
              "    <tr>\n",
              "      <th>3</th>\n",
              "      <td>4</td>\n",
              "      <td>Highly recommend the product!</td>\n",
              "      <td>highly recommend the product</td>\n",
              "    </tr>\n",
              "    <tr>\n",
              "      <th>4</th>\n",
              "      <td>5</td>\n",
              "      <td>Not worth buying it!!</td>\n",
              "      <td>not worth buying it</td>\n",
              "    </tr>\n",
              "    <tr>\n",
              "      <th>5</th>\n",
              "      <td>6</td>\n",
              "      <td>Nice and cheap!</td>\n",
              "      <td>nice and cheap</td>\n",
              "    </tr>\n",
              "    <tr>\n",
              "      <th>6</th>\n",
              "      <td>7</td>\n",
              "      <td>@It is very nice.</td>\n",
              "      <td>is very nice</td>\n",
              "    </tr>\n",
              "    <tr>\n",
              "      <th>7</th>\n",
              "      <td>8</td>\n",
              "      <td>I have been using this from 10 days and the pr...</td>\n",
              "      <td>i have been using this from days and the produ...</td>\n",
              "    </tr>\n",
              "    <tr>\n",
              "      <th>8</th>\n",
              "      <td>9</td>\n",
              "      <td>The product is broken after 1 day. Don't buy it!</td>\n",
              "      <td>the product is broken after day don t buy it</td>\n",
              "    </tr>\n",
              "    <tr>\n",
              "      <th>9</th>\n",
              "      <td>10</td>\n",
              "      <td>Amazing     product!\"</td>\n",
              "      <td>amazing product</td>\n",
              "    </tr>\n",
              "  </tbody>\n",
              "</table>\n",
              "</div>"
            ],
            "text/plain": [
              "   ID                                             Review   \n",
              "0   1   The product is missing. It is the worst service.  \\\n",
              "1   2                      It is a good quality product.   \n",
              "2   3  There is a delay of product delivery. Not reco...   \n",
              "3   4                      Highly recommend the product!   \n",
              "4   5                              Not worth buying it!!   \n",
              "5   6                                    Nice and cheap!   \n",
              "6   7                                  @It is very nice.   \n",
              "7   8  I have been using this from 10 days and the pr...   \n",
              "8   9   The product is broken after 1 day. Don't buy it!   \n",
              "9  10                              Amazing     product!\"   \n",
              "\n",
              "                                        cleaned_data  \n",
              "0     the product is missing it is the worst service  \n",
              "1                       it is a good quality product  \n",
              "2  there is a delay of product delivery not recom...  \n",
              "3                       highly recommend the product  \n",
              "4                                not worth buying it  \n",
              "5                                     nice and cheap  \n",
              "6                                       is very nice  \n",
              "7  i have been using this from days and the produ...  \n",
              "8       the product is broken after day don t buy it  \n",
              "9                                    amazing product  "
            ]
          },
          "execution_count": 24,
          "metadata": {},
          "output_type": "execute_result"
        }
      ],
      "source": [
        "data"
      ]
    },
    {
      "cell_type": "code",
      "execution_count": 25,
      "id": "80c84002",
      "metadata": {
        "colab": {
          "base_uri": "https://localhost:8080/"
        },
        "id": "80c84002",
        "outputId": "25b672d9-f353-4daa-ed37-087f56af5697"
      },
      "outputs": [
        {
          "name": "stderr",
          "output_type": "stream",
          "text": [
            "[nltk_data] Downloading package wordnet to /home/vscode/nltk_data...\n",
            "[nltk_data]   Package wordnet is already up-to-date!\n"
          ]
        },
        {
          "data": {
            "text/plain": [
              "True"
            ]
          },
          "execution_count": 25,
          "metadata": {},
          "output_type": "execute_result"
        }
      ],
      "source": [
        "import nltk\n",
        "nltk.download('wordnet')"
      ]
    },
    {
      "cell_type": "code",
      "execution_count": 26,
      "id": "24fb669a",
      "metadata": {
        "id": "24fb669a"
      },
      "outputs": [],
      "source": [
        "lemmatizer = WordNetLemmatizer()\n",
        "\n",
        "def lemmatise(text):\n",
        "    text_tokens = word_tokenize(text)\n",
        "    text_lemm = [lemmatizer.lemmatize(word) for word in text_tokens]\n",
        "    return ' '.join(text_lemm)\n",
        "\n",
        "data['cleaned_data'] = data['cleaned_data'].apply(lemmatise)"
      ]
    },
    {
      "attachments": {},
      "cell_type": "markdown",
      "id": "V2vYvtlQD1PJ",
      "metadata": {
        "id": "V2vYvtlQD1PJ"
      },
      "source": [
        "# Stop Words removal\n",
        "Remove available stopwords\n",
        "\n",
        "\n",
        "Also remove any unnecessary words as well by extending the stopwords"
      ]
    },
    {
      "cell_type": "code",
      "execution_count": 27,
      "id": "ae7b5424",
      "metadata": {
        "colab": {
          "base_uri": "https://localhost:8080/",
          "height": 363
        },
        "id": "ae7b5424",
        "outputId": "1318bdf7-5684-41bf-8ba0-9959e708fed3"
      },
      "outputs": [
        {
          "data": {
            "text/html": [
              "<div>\n",
              "<style scoped>\n",
              "    .dataframe tbody tr th:only-of-type {\n",
              "        vertical-align: middle;\n",
              "    }\n",
              "\n",
              "    .dataframe tbody tr th {\n",
              "        vertical-align: top;\n",
              "    }\n",
              "\n",
              "    .dataframe thead th {\n",
              "        text-align: right;\n",
              "    }\n",
              "</style>\n",
              "<table border=\"1\" class=\"dataframe\">\n",
              "  <thead>\n",
              "    <tr style=\"text-align: right;\">\n",
              "      <th></th>\n",
              "      <th>ID</th>\n",
              "      <th>Review</th>\n",
              "      <th>cleaned_data</th>\n",
              "    </tr>\n",
              "  </thead>\n",
              "  <tbody>\n",
              "    <tr>\n",
              "      <th>0</th>\n",
              "      <td>1</td>\n",
              "      <td>The product is missing. It is the worst service.</td>\n",
              "      <td>the product is missing it is the worst service</td>\n",
              "    </tr>\n",
              "    <tr>\n",
              "      <th>1</th>\n",
              "      <td>2</td>\n",
              "      <td>It is a good quality product.</td>\n",
              "      <td>it is a good quality product</td>\n",
              "    </tr>\n",
              "    <tr>\n",
              "      <th>2</th>\n",
              "      <td>3</td>\n",
              "      <td>There is a delay of product delivery. Not reco...</td>\n",
              "      <td>there is a delay of product delivery not recom...</td>\n",
              "    </tr>\n",
              "    <tr>\n",
              "      <th>3</th>\n",
              "      <td>4</td>\n",
              "      <td>Highly recommend the product!</td>\n",
              "      <td>highly recommend the product</td>\n",
              "    </tr>\n",
              "    <tr>\n",
              "      <th>4</th>\n",
              "      <td>5</td>\n",
              "      <td>Not worth buying it!!</td>\n",
              "      <td>not worth buying it</td>\n",
              "    </tr>\n",
              "    <tr>\n",
              "      <th>5</th>\n",
              "      <td>6</td>\n",
              "      <td>Nice and cheap!</td>\n",
              "      <td>nice and cheap</td>\n",
              "    </tr>\n",
              "    <tr>\n",
              "      <th>6</th>\n",
              "      <td>7</td>\n",
              "      <td>@It is very nice.</td>\n",
              "      <td>is very nice</td>\n",
              "    </tr>\n",
              "    <tr>\n",
              "      <th>7</th>\n",
              "      <td>8</td>\n",
              "      <td>I have been using this from 10 days and the pr...</td>\n",
              "      <td>i have been using this from day and the produc...</td>\n",
              "    </tr>\n",
              "    <tr>\n",
              "      <th>8</th>\n",
              "      <td>9</td>\n",
              "      <td>The product is broken after 1 day. Don't buy it!</td>\n",
              "      <td>the product is broken after day don t buy it</td>\n",
              "    </tr>\n",
              "    <tr>\n",
              "      <th>9</th>\n",
              "      <td>10</td>\n",
              "      <td>Amazing     product!\"</td>\n",
              "      <td>amazing product</td>\n",
              "    </tr>\n",
              "  </tbody>\n",
              "</table>\n",
              "</div>"
            ],
            "text/plain": [
              "   ID                                             Review   \n",
              "0   1   The product is missing. It is the worst service.  \\\n",
              "1   2                      It is a good quality product.   \n",
              "2   3  There is a delay of product delivery. Not reco...   \n",
              "3   4                      Highly recommend the product!   \n",
              "4   5                              Not worth buying it!!   \n",
              "5   6                                    Nice and cheap!   \n",
              "6   7                                  @It is very nice.   \n",
              "7   8  I have been using this from 10 days and the pr...   \n",
              "8   9   The product is broken after 1 day. Don't buy it!   \n",
              "9  10                              Amazing     product!\"   \n",
              "\n",
              "                                        cleaned_data  \n",
              "0     the product is missing it is the worst service  \n",
              "1                       it is a good quality product  \n",
              "2  there is a delay of product delivery not recom...  \n",
              "3                       highly recommend the product  \n",
              "4                                not worth buying it  \n",
              "5                                     nice and cheap  \n",
              "6                                       is very nice  \n",
              "7  i have been using this from day and the produc...  \n",
              "8       the product is broken after day don t buy it  \n",
              "9                                    amazing product  "
            ]
          },
          "execution_count": 27,
          "metadata": {},
          "output_type": "execute_result"
        }
      ],
      "source": [
        "data"
      ]
    },
    {
      "cell_type": "code",
      "execution_count": 28,
      "id": "b69ae97f",
      "metadata": {
        "colab": {
          "base_uri": "https://localhost:8080/",
          "height": 623
        },
        "id": "b69ae97f",
        "outputId": "024d8f8e-fcbe-4d21-882e-1a7c07d16f6a"
      },
      "outputs": [
        {
          "data": {
            "image/png": "[encoded data removed]",
            "text/plain": [
              "<Figure size 1500x600 with 1 Axes>"
            ]
          },
          "metadata": {},
          "output_type": "display_data"
        }
      ],
      "source": [
        "## Visualizing the Most Frequent Words\n",
        "\n",
        "from sklearn.feature_extraction.text import CountVectorizer\n",
        "import numpy as np\n",
        "import matplotlib.pyplot as plt\n",
        "\n",
        "cv = CountVectorizer(stop_words = 'english')\n",
        "words = cv.fit_transform(data.cleaned_data)\n",
        "sum_words = words.sum(axis=0)\n",
        "\n",
        "\n",
        "words_freq = [(word, sum_words[0, idx]) for word, idx in cv.vocabulary_.items()]\n",
        "words_freq = sorted(words_freq, key = lambda x: x[1], reverse = True)\n",
        "frequency = pd.DataFrame(words_freq, columns=['word', 'freq'])\n",
        "\n",
        "plt.style.use('fivethirtyeight')\n",
        "color = plt.cm.ocean(np.linspace(0, 1, 20))\n",
        "frequency.head(20).plot(x='word', y='freq', kind='bar', figsize=(15, 6), color = color)\n",
        "plt.title(\"Most Frequently Occuring Words - Top 20\")\n",
        "plt.show()"
      ]
    },
    {
      "cell_type": "code",
      "execution_count": 29,
      "id": "369b382d",
      "metadata": {
        "colab": {
          "base_uri": "https://localhost:8080/"
        },
        "id": "369b382d",
        "outputId": "2e330ccf-ab67-49a4-a4fc-c1f2baa45d7f"
      },
      "outputs": [
        {
          "name": "stdout",
          "output_type": "stream",
          "text": [
            "-0.6\n",
            "0.7\n",
            "0.0\n",
            "0.16\n",
            "-0.15\n",
            "0.5\n",
            "0.78\n",
            "0.78\n",
            "-0.4\n",
            "0.6000000000000001\n"
          ]
        }
      ],
      "source": [
        "# Lets calculate the Polarity of the Reviews\n",
        "def get_polarity(text):\n",
        "    textblob = TextBlob(str(text))\n",
        "    pol = textblob.sentiment.polarity\n",
        "    print(pol)\n",
        "    if(pol==0):\n",
        "        return \"Neutral\"\n",
        "    elif(pol>0.1 and pol<=1):\n",
        "        return \"Positive\"\n",
        "    elif(pol>-1 and pol<=-0.1):\n",
        "        return \"Negative\"\n",
        "    \n",
        "data['polarity'] = data['cleaned_data'].apply(get_polarity)\n"
      ]
    },
    {
      "cell_type": "code",
      "execution_count": 30,
      "id": "95ce3004",
      "metadata": {
        "colab": {
          "base_uri": "https://localhost:8080/",
          "height": 466
        },
        "id": "95ce3004",
        "outputId": "8a4c8427-0299-4b7d-a347-05475c8b1600"
      },
      "outputs": [
        {
          "data": {
            "text/plain": [
              "<Axes: ylabel='polarity'>"
            ]
          },
          "execution_count": 30,
          "metadata": {},
          "output_type": "execute_result"
        },
        {
          "data": {
            "image/png": "[encoded data removed]",
            "text/plain": [
              "<Figure size 640x480 with 1 Axes>"
            ]
          },
          "metadata": {},
          "output_type": "display_data"
        }
      ],
      "source": [
        "data['polarity'].value_counts().plot(kind='barh')"
      ]
    },
    {
      "cell_type": "code",
      "execution_count": 31,
      "id": "1e23b935",
      "metadata": {
        "id": "1e23b935",
        "outputId": "a3d4cd7c-60dd-4dcc-b299-e830d2c0ff6d"
      },
      "outputs": [
        {
          "data": {
            "text/plain": [
              "polarity\n",
              "Positive    6\n",
              "Negative    3\n",
              "Neutral     1\n",
              "Name: count, dtype: int64"
            ]
          },
          "execution_count": 31,
          "metadata": {},
          "output_type": "execute_result"
        }
      ],
      "source": [
        "data['polarity'].value_counts()"
      ]
    },
    {
      "attachments": {},
      "cell_type": "markdown",
      "id": "1be4d010",
      "metadata": {
        "id": "1be4d010"
      },
      "source": [
        "# Classification"
      ]
    },
    {
      "cell_type": "code",
      "execution_count": 32,
      "id": "48cf98b9",
      "metadata": {
        "colab": {
          "base_uri": "https://localhost:8080/",
          "height": 425
        },
        "id": "48cf98b9",
        "outputId": "5c0ac261-7547-4377-9146-e4f2f8223281"
      },
      "outputs": [
        {
          "data": {
            "text/html": [
              "<div>\n",
              "<style scoped>\n",
              "    .dataframe tbody tr th:only-of-type {\n",
              "        vertical-align: middle;\n",
              "    }\n",
              "\n",
              "    .dataframe tbody tr th {\n",
              "        vertical-align: top;\n",
              "    }\n",
              "\n",
              "    .dataframe thead th {\n",
              "        text-align: right;\n",
              "    }\n",
              "</style>\n",
              "<table border=\"1\" class=\"dataframe\">\n",
              "  <thead>\n",
              "    <tr style=\"text-align: right;\">\n",
              "      <th></th>\n",
              "      <th>ID</th>\n",
              "      <th>Review</th>\n",
              "      <th>Label</th>\n",
              "    </tr>\n",
              "  </thead>\n",
              "  <tbody>\n",
              "    <tr>\n",
              "      <th>0</th>\n",
              "      <td>1</td>\n",
              "      <td>The product is missing. It is the worst service.</td>\n",
              "      <td>neg</td>\n",
              "    </tr>\n",
              "    <tr>\n",
              "      <th>1</th>\n",
              "      <td>2</td>\n",
              "      <td>It is a good quality product.</td>\n",
              "      <td>pos</td>\n",
              "    </tr>\n",
              "    <tr>\n",
              "      <th>2</th>\n",
              "      <td>3</td>\n",
              "      <td>There is a delay of product delivery. Not reco...</td>\n",
              "      <td>neg</td>\n",
              "    </tr>\n",
              "    <tr>\n",
              "      <th>3</th>\n",
              "      <td>4</td>\n",
              "      <td>Highly recommend the product. It &amp; nice!</td>\n",
              "      <td>pos</td>\n",
              "    </tr>\n",
              "    <tr>\n",
              "      <th>4</th>\n",
              "      <td>5</td>\n",
              "      <td>Not worth buying it!!</td>\n",
              "      <td>neg</td>\n",
              "    </tr>\n",
              "    <tr>\n",
              "      <th>5</th>\n",
              "      <td>6</td>\n",
              "      <td>Nice and cheap!</td>\n",
              "      <td>pos</td>\n",
              "    </tr>\n",
              "    <tr>\n",
              "      <th>6</th>\n",
              "      <td>7</td>\n",
              "      <td>@It is very nice.</td>\n",
              "      <td>pos</td>\n",
              "    </tr>\n",
              "    <tr>\n",
              "      <th>7</th>\n",
              "      <td>8</td>\n",
              "      <td>I have been using this from 10 days and the pr...</td>\n",
              "      <td>pos</td>\n",
              "    </tr>\n",
              "    <tr>\n",
              "      <th>8</th>\n",
              "      <td>9</td>\n",
              "      <td>The product is broken after 1 day. Don't buy it!</td>\n",
              "      <td>neg</td>\n",
              "    </tr>\n",
              "    <tr>\n",
              "      <th>9</th>\n",
              "      <td>10</td>\n",
              "      <td>Amazing product!</td>\n",
              "      <td>pos</td>\n",
              "    </tr>\n",
              "    <tr>\n",
              "      <th>10</th>\n",
              "      <td>11</td>\n",
              "      <td>NaN</td>\n",
              "      <td>NaN</td>\n",
              "    </tr>\n",
              "    <tr>\n",
              "      <th>11</th>\n",
              "      <td>12</td>\n",
              "      <td></td>\n",
              "      <td>NaN</td>\n",
              "    </tr>\n",
              "  </tbody>\n",
              "</table>\n",
              "</div>"
            ],
            "text/plain": [
              "    ID                                             Review Label\n",
              "0    1   The product is missing. It is the worst service.   neg\n",
              "1    2                      It is a good quality product.   pos\n",
              "2    3  There is a delay of product delivery. Not reco...   neg\n",
              "3    4           Highly recommend the product. It & nice!   pos\n",
              "4    5                              Not worth buying it!!   neg\n",
              "5    6                                    Nice and cheap!   pos\n",
              "6    7                                  @It is very nice.   pos\n",
              "7    8  I have been using this from 10 days and the pr...   pos\n",
              "8    9   The product is broken after 1 day. Don't buy it!   neg\n",
              "9   10                                   Amazing product!   pos\n",
              "10  11                                                NaN   NaN\n",
              "11  12                                                      NaN"
            ]
          },
          "execution_count": 32,
          "metadata": {},
          "output_type": "execute_result"
        }
      ],
      "source": [
        "from textblob import TextBlob\n",
        "import matplotlib.pyplot as plt\n",
        "import pandas as pd\n",
        "from nltk.tokenize import word_tokenize\n",
        "from nltk.stem import WordNetLemmatizer\n",
        "from nltk.corpus import stopwords\n",
        "import re\n",
        "\n",
        "data = pd.read_csv('./test_data_class.tsv', delimiter = '\\t')\n",
        "\n",
        "data"
      ]
    },
    {
      "cell_type": "code",
      "execution_count": 33,
      "id": "711fceae",
      "metadata": {
        "colab": {
          "base_uri": "https://localhost:8080/"
        },
        "id": "711fceae",
        "outputId": "f7e75fd1-d47b-4969-d42f-ba4401c03eea"
      },
      "outputs": [
        {
          "data": {
            "text/plain": [
              "ID        0\n",
              "Review    1\n",
              "Label     2\n",
              "dtype: int64"
            ]
          },
          "execution_count": 33,
          "metadata": {},
          "output_type": "execute_result"
        }
      ],
      "source": [
        "data.isnull().sum()"
      ]
    },
    {
      "cell_type": "code",
      "execution_count": 34,
      "id": "8f292266",
      "metadata": {
        "colab": {
          "base_uri": "https://localhost:8080/",
          "height": 206
        },
        "id": "8f292266",
        "outputId": "f53eeb0e-6df5-42f0-a4b6-8ed91dcfe8b4"
      },
      "outputs": [
        {
          "data": {
            "text/html": [
              "<div>\n",
              "<style scoped>\n",
              "    .dataframe tbody tr th:only-of-type {\n",
              "        vertical-align: middle;\n",
              "    }\n",
              "\n",
              "    .dataframe tbody tr th {\n",
              "        vertical-align: top;\n",
              "    }\n",
              "\n",
              "    .dataframe thead th {\n",
              "        text-align: right;\n",
              "    }\n",
              "</style>\n",
              "<table border=\"1\" class=\"dataframe\">\n",
              "  <thead>\n",
              "    <tr style=\"text-align: right;\">\n",
              "      <th></th>\n",
              "      <th>ID</th>\n",
              "      <th>Review</th>\n",
              "      <th>Label</th>\n",
              "    </tr>\n",
              "  </thead>\n",
              "  <tbody>\n",
              "    <tr>\n",
              "      <th>0</th>\n",
              "      <td>1</td>\n",
              "      <td>The product is missing. It is the worst service.</td>\n",
              "      <td>neg</td>\n",
              "    </tr>\n",
              "    <tr>\n",
              "      <th>1</th>\n",
              "      <td>2</td>\n",
              "      <td>It is a good quality product.</td>\n",
              "      <td>pos</td>\n",
              "    </tr>\n",
              "    <tr>\n",
              "      <th>2</th>\n",
              "      <td>3</td>\n",
              "      <td>There is a delay of product delivery. Not reco...</td>\n",
              "      <td>neg</td>\n",
              "    </tr>\n",
              "    <tr>\n",
              "      <th>3</th>\n",
              "      <td>4</td>\n",
              "      <td>Highly recommend the product. It &amp; nice!</td>\n",
              "      <td>pos</td>\n",
              "    </tr>\n",
              "    <tr>\n",
              "      <th>4</th>\n",
              "      <td>5</td>\n",
              "      <td>Not worth buying it!!</td>\n",
              "      <td>neg</td>\n",
              "    </tr>\n",
              "  </tbody>\n",
              "</table>\n",
              "</div>"
            ],
            "text/plain": [
              "   ID                                             Review Label\n",
              "0   1   The product is missing. It is the worst service.   neg\n",
              "1   2                      It is a good quality product.   pos\n",
              "2   3  There is a delay of product delivery. Not reco...   neg\n",
              "3   4           Highly recommend the product. It & nice!   pos\n",
              "4   5                              Not worth buying it!!   neg"
            ]
          },
          "execution_count": 34,
          "metadata": {},
          "output_type": "execute_result"
        }
      ],
      "source": [
        "data.head()"
      ]
    },
    {
      "cell_type": "code",
      "execution_count": 35,
      "id": "c0f14462",
      "metadata": {
        "colab": {
          "base_uri": "https://localhost:8080/",
          "height": 363
        },
        "id": "c0f14462",
        "outputId": "05b6c79b-9aa9-4342-9f22-70dc49c2e3a3"
      },
      "outputs": [
        {
          "data": {
            "text/html": [
              "<div>\n",
              "<style scoped>\n",
              "    .dataframe tbody tr th:only-of-type {\n",
              "        vertical-align: middle;\n",
              "    }\n",
              "\n",
              "    .dataframe tbody tr th {\n",
              "        vertical-align: top;\n",
              "    }\n",
              "\n",
              "    .dataframe thead th {\n",
              "        text-align: right;\n",
              "    }\n",
              "</style>\n",
              "<table border=\"1\" class=\"dataframe\">\n",
              "  <thead>\n",
              "    <tr style=\"text-align: right;\">\n",
              "      <th></th>\n",
              "      <th>ID</th>\n",
              "      <th>Review</th>\n",
              "      <th>Label</th>\n",
              "    </tr>\n",
              "  </thead>\n",
              "  <tbody>\n",
              "    <tr>\n",
              "      <th>0</th>\n",
              "      <td>1</td>\n",
              "      <td>The product is missing. It is the worst service.</td>\n",
              "      <td>neg</td>\n",
              "    </tr>\n",
              "    <tr>\n",
              "      <th>1</th>\n",
              "      <td>2</td>\n",
              "      <td>It is a good quality product.</td>\n",
              "      <td>pos</td>\n",
              "    </tr>\n",
              "    <tr>\n",
              "      <th>2</th>\n",
              "      <td>3</td>\n",
              "      <td>There is a delay of product delivery. Not reco...</td>\n",
              "      <td>neg</td>\n",
              "    </tr>\n",
              "    <tr>\n",
              "      <th>3</th>\n",
              "      <td>4</td>\n",
              "      <td>Highly recommend the product. It &amp; nice!</td>\n",
              "      <td>pos</td>\n",
              "    </tr>\n",
              "    <tr>\n",
              "      <th>4</th>\n",
              "      <td>5</td>\n",
              "      <td>Not worth buying it!!</td>\n",
              "      <td>neg</td>\n",
              "    </tr>\n",
              "    <tr>\n",
              "      <th>5</th>\n",
              "      <td>6</td>\n",
              "      <td>Nice and cheap!</td>\n",
              "      <td>pos</td>\n",
              "    </tr>\n",
              "    <tr>\n",
              "      <th>6</th>\n",
              "      <td>7</td>\n",
              "      <td>@It is very nice.</td>\n",
              "      <td>pos</td>\n",
              "    </tr>\n",
              "    <tr>\n",
              "      <th>7</th>\n",
              "      <td>8</td>\n",
              "      <td>I have been using this from 10 days and the pr...</td>\n",
              "      <td>pos</td>\n",
              "    </tr>\n",
              "    <tr>\n",
              "      <th>8</th>\n",
              "      <td>9</td>\n",
              "      <td>The product is broken after 1 day. Don't buy it!</td>\n",
              "      <td>neg</td>\n",
              "    </tr>\n",
              "    <tr>\n",
              "      <th>9</th>\n",
              "      <td>10</td>\n",
              "      <td>Amazing product!</td>\n",
              "      <td>pos</td>\n",
              "    </tr>\n",
              "  </tbody>\n",
              "</table>\n",
              "</div>"
            ],
            "text/plain": [
              "   ID                                             Review Label\n",
              "0   1   The product is missing. It is the worst service.   neg\n",
              "1   2                      It is a good quality product.   pos\n",
              "2   3  There is a delay of product delivery. Not reco...   neg\n",
              "3   4           Highly recommend the product. It & nice!   pos\n",
              "4   5                              Not worth buying it!!   neg\n",
              "5   6                                    Nice and cheap!   pos\n",
              "6   7                                  @It is very nice.   pos\n",
              "7   8  I have been using this from 10 days and the pr...   pos\n",
              "8   9   The product is broken after 1 day. Don't buy it!   neg\n",
              "9  10                                   Amazing product!   pos"
            ]
          },
          "execution_count": 35,
          "metadata": {},
          "output_type": "execute_result"
        }
      ],
      "source": [
        "data.dropna(inplace=True)\n",
        "\n",
        "data"
      ]
    },
    {
      "cell_type": "code",
      "execution_count": 36,
      "id": "1aa6e68a",
      "metadata": {
        "colab": {
          "base_uri": "https://localhost:8080/"
        },
        "id": "1aa6e68a",
        "outputId": "ec4a82f3-a8f6-4883-a7ac-6a8f96928bb3"
      },
      "outputs": [
        {
          "data": {
            "text/plain": [
              "[]"
            ]
          },
          "execution_count": 36,
          "metadata": {},
          "output_type": "execute_result"
        }
      ],
      "source": [
        "r=0\n",
        "blanks = []  # start with an empty list\n",
        "\n",
        "for i in data['Review']:\n",
        "    if i.isspace():\n",
        "        blanks.append(r)\n",
        "\n",
        "    r=r+1\n",
        "        \n",
        "blanks"
      ]
    },
    {
      "cell_type": "code",
      "execution_count": 37,
      "id": "8daffcf7",
      "metadata": {
        "colab": {
          "base_uri": "https://localhost:8080/",
          "height": 363
        },
        "id": "8daffcf7",
        "outputId": "c25af950-71dd-474f-edf2-e66d4a0d9c20"
      },
      "outputs": [
        {
          "data": {
            "text/html": [
              "<div>\n",
              "<style scoped>\n",
              "    .dataframe tbody tr th:only-of-type {\n",
              "        vertical-align: middle;\n",
              "    }\n",
              "\n",
              "    .dataframe tbody tr th {\n",
              "        vertical-align: top;\n",
              "    }\n",
              "\n",
              "    .dataframe thead th {\n",
              "        text-align: right;\n",
              "    }\n",
              "</style>\n",
              "<table border=\"1\" class=\"dataframe\">\n",
              "  <thead>\n",
              "    <tr style=\"text-align: right;\">\n",
              "      <th></th>\n",
              "      <th>ID</th>\n",
              "      <th>Review</th>\n",
              "      <th>Label</th>\n",
              "    </tr>\n",
              "  </thead>\n",
              "  <tbody>\n",
              "    <tr>\n",
              "      <th>0</th>\n",
              "      <td>1</td>\n",
              "      <td>The product is missing. It is the worst service.</td>\n",
              "      <td>neg</td>\n",
              "    </tr>\n",
              "    <tr>\n",
              "      <th>1</th>\n",
              "      <td>2</td>\n",
              "      <td>It is a good quality product.</td>\n",
              "      <td>pos</td>\n",
              "    </tr>\n",
              "    <tr>\n",
              "      <th>2</th>\n",
              "      <td>3</td>\n",
              "      <td>There is a delay of product delivery. Not reco...</td>\n",
              "      <td>neg</td>\n",
              "    </tr>\n",
              "    <tr>\n",
              "      <th>3</th>\n",
              "      <td>4</td>\n",
              "      <td>Highly recommend the product. It &amp; nice!</td>\n",
              "      <td>pos</td>\n",
              "    </tr>\n",
              "    <tr>\n",
              "      <th>4</th>\n",
              "      <td>5</td>\n",
              "      <td>Not worth buying it!!</td>\n",
              "      <td>neg</td>\n",
              "    </tr>\n",
              "    <tr>\n",
              "      <th>5</th>\n",
              "      <td>6</td>\n",
              "      <td>Nice and cheap!</td>\n",
              "      <td>pos</td>\n",
              "    </tr>\n",
              "    <tr>\n",
              "      <th>6</th>\n",
              "      <td>7</td>\n",
              "      <td>@It is very nice.</td>\n",
              "      <td>pos</td>\n",
              "    </tr>\n",
              "    <tr>\n",
              "      <th>7</th>\n",
              "      <td>8</td>\n",
              "      <td>I have been using this from 10 days and the pr...</td>\n",
              "      <td>pos</td>\n",
              "    </tr>\n",
              "    <tr>\n",
              "      <th>8</th>\n",
              "      <td>9</td>\n",
              "      <td>The product is broken after 1 day. Don't buy it!</td>\n",
              "      <td>neg</td>\n",
              "    </tr>\n",
              "    <tr>\n",
              "      <th>9</th>\n",
              "      <td>10</td>\n",
              "      <td>Amazing product!</td>\n",
              "      <td>pos</td>\n",
              "    </tr>\n",
              "  </tbody>\n",
              "</table>\n",
              "</div>"
            ],
            "text/plain": [
              "   ID                                             Review Label\n",
              "0   1   The product is missing. It is the worst service.   neg\n",
              "1   2                      It is a good quality product.   pos\n",
              "2   3  There is a delay of product delivery. Not reco...   neg\n",
              "3   4           Highly recommend the product. It & nice!   pos\n",
              "4   5                              Not worth buying it!!   neg\n",
              "5   6                                    Nice and cheap!   pos\n",
              "6   7                                  @It is very nice.   pos\n",
              "7   8  I have been using this from 10 days and the pr...   pos\n",
              "8   9   The product is broken after 1 day. Don't buy it!   neg\n",
              "9  10                                   Amazing product!   pos"
            ]
          },
          "execution_count": 37,
          "metadata": {},
          "output_type": "execute_result"
        }
      ],
      "source": [
        "data"
      ]
    },
    {
      "cell_type": "code",
      "execution_count": 38,
      "id": "e4acfc98",
      "metadata": {
        "id": "e4acfc98"
      },
      "outputs": [],
      "source": [
        "def clean_data(text):\n",
        "    return ' '.join(re.sub(\"(@[a-zA-Z0-9]+)|([^0-9A-Za-z])|(https://[\\w.]+/[\\w]+)\", \" \", text).split())\n",
        "\n",
        "data['cleaned_data'] = data['Review'].apply(clean_data)\n",
        "\n",
        "def drop_numbers(list_text):\n",
        "    list_text_new = []\n",
        "    for i in list_text:\n",
        "        if not re.search('\\d', i):\n",
        "            list_text_new.append(i)\n",
        "    return ''.join(list_text_new)\n",
        "\n",
        "data['cleaned_data'] = data['cleaned_data'].apply(drop_numbers)"
      ]
    },
    {
      "cell_type": "code",
      "execution_count": 39,
      "id": "9b75f862",
      "metadata": {
        "colab": {
          "base_uri": "https://localhost:8080/",
          "height": 432
        },
        "id": "9b75f862",
        "outputId": "64e8f46b-76eb-4783-dddc-87d399672285"
      },
      "outputs": [
        {
          "name": "stderr",
          "output_type": "stream",
          "text": [
            "[nltk_data] Downloading package punkt to /home/vscode/nltk_data...\n",
            "[nltk_data]   Package punkt is already up-to-date!\n",
            "[nltk_data] Downloading package wordnet to /home/vscode/nltk_data...\n",
            "[nltk_data]   Package wordnet is already up-to-date!\n"
          ]
        },
        {
          "data": {
            "text/html": [
              "<div>\n",
              "<style scoped>\n",
              "    .dataframe tbody tr th:only-of-type {\n",
              "        vertical-align: middle;\n",
              "    }\n",
              "\n",
              "    .dataframe tbody tr th {\n",
              "        vertical-align: top;\n",
              "    }\n",
              "\n",
              "    .dataframe thead th {\n",
              "        text-align: right;\n",
              "    }\n",
              "</style>\n",
              "<table border=\"1\" class=\"dataframe\">\n",
              "  <thead>\n",
              "    <tr style=\"text-align: right;\">\n",
              "      <th></th>\n",
              "      <th>ID</th>\n",
              "      <th>Review</th>\n",
              "      <th>Label</th>\n",
              "      <th>cleaned_data</th>\n",
              "    </tr>\n",
              "  </thead>\n",
              "  <tbody>\n",
              "    <tr>\n",
              "      <th>0</th>\n",
              "      <td>1</td>\n",
              "      <td>The product is missing. It is the worst service.</td>\n",
              "      <td>neg</td>\n",
              "      <td>the product is missing it is the worst service</td>\n",
              "    </tr>\n",
              "    <tr>\n",
              "      <th>1</th>\n",
              "      <td>2</td>\n",
              "      <td>It is a good quality product.</td>\n",
              "      <td>pos</td>\n",
              "      <td>it is a good quality product</td>\n",
              "    </tr>\n",
              "    <tr>\n",
              "      <th>2</th>\n",
              "      <td>3</td>\n",
              "      <td>There is a delay of product delivery. Not reco...</td>\n",
              "      <td>neg</td>\n",
              "      <td>there is a delay of product delivery not recom...</td>\n",
              "    </tr>\n",
              "    <tr>\n",
              "      <th>3</th>\n",
              "      <td>4</td>\n",
              "      <td>Highly recommend the product. It &amp; nice!</td>\n",
              "      <td>pos</td>\n",
              "      <td>highly recommend the product it nice</td>\n",
              "    </tr>\n",
              "    <tr>\n",
              "      <th>4</th>\n",
              "      <td>5</td>\n",
              "      <td>Not worth buying it!!</td>\n",
              "      <td>neg</td>\n",
              "      <td>not worth buying it</td>\n",
              "    </tr>\n",
              "    <tr>\n",
              "      <th>5</th>\n",
              "      <td>6</td>\n",
              "      <td>Nice and cheap!</td>\n",
              "      <td>pos</td>\n",
              "      <td>nice and cheap</td>\n",
              "    </tr>\n",
              "    <tr>\n",
              "      <th>6</th>\n",
              "      <td>7</td>\n",
              "      <td>@It is very nice.</td>\n",
              "      <td>pos</td>\n",
              "      <td>is very nice</td>\n",
              "    </tr>\n",
              "    <tr>\n",
              "      <th>7</th>\n",
              "      <td>8</td>\n",
              "      <td>I have been using this from 10 days and the pr...</td>\n",
              "      <td>pos</td>\n",
              "      <td>i have been using this from day and the produc...</td>\n",
              "    </tr>\n",
              "    <tr>\n",
              "      <th>8</th>\n",
              "      <td>9</td>\n",
              "      <td>The product is broken after 1 day. Don't buy it!</td>\n",
              "      <td>neg</td>\n",
              "      <td>the product is broken after day don t buy it</td>\n",
              "    </tr>\n",
              "    <tr>\n",
              "      <th>9</th>\n",
              "      <td>10</td>\n",
              "      <td>Amazing product!</td>\n",
              "      <td>pos</td>\n",
              "      <td>amazing product</td>\n",
              "    </tr>\n",
              "  </tbody>\n",
              "</table>\n",
              "</div>"
            ],
            "text/plain": [
              "   ID                                             Review Label   \n",
              "0   1   The product is missing. It is the worst service.   neg  \\\n",
              "1   2                      It is a good quality product.   pos   \n",
              "2   3  There is a delay of product delivery. Not reco...   neg   \n",
              "3   4           Highly recommend the product. It & nice!   pos   \n",
              "4   5                              Not worth buying it!!   neg   \n",
              "5   6                                    Nice and cheap!   pos   \n",
              "6   7                                  @It is very nice.   pos   \n",
              "7   8  I have been using this from 10 days and the pr...   pos   \n",
              "8   9   The product is broken after 1 day. Don't buy it!   neg   \n",
              "9  10                                   Amazing product!   pos   \n",
              "\n",
              "                                        cleaned_data  \n",
              "0     the product is missing it is the worst service  \n",
              "1                       it is a good quality product  \n",
              "2  there is a delay of product delivery not recom...  \n",
              "3               highly recommend the product it nice  \n",
              "4                                not worth buying it  \n",
              "5                                     nice and cheap  \n",
              "6                                       is very nice  \n",
              "7  i have been using this from day and the produc...  \n",
              "8       the product is broken after day don t buy it  \n",
              "9                                    amazing product  "
            ]
          },
          "execution_count": 39,
          "metadata": {},
          "output_type": "execute_result"
        }
      ],
      "source": [
        "# changing all the words of the reviews column to lowercase letters\n",
        "# From library word_tokenize\n",
        "import nltk\n",
        "nltk.download('punkt')\n",
        "\n",
        "def lower_case(text):\n",
        "    text_words = word_tokenize(text)\n",
        "    text_words_lower = [x.lower() for x in text_words]\n",
        "    return ' '.join(text_words_lower)\n",
        "\n",
        "data['cleaned_data'] = data['cleaned_data'].apply(lower_case)\n",
        "\n",
        "import nltk\n",
        "nltk.download('wordnet')\n",
        "\n",
        "lemmatizer = WordNetLemmatizer()\n",
        "\n",
        "def lemmatise(text):\n",
        "    text_tokens = word_tokenize(text)\n",
        "    text_lemm = [lemmatizer.lemmatize(word) for word in text_tokens]\n",
        "    return ' '.join(text_lemm)\n",
        "\n",
        "data['cleaned_data'] = data['cleaned_data'].apply(lemmatise)\n",
        "\n",
        "data"
      ]
    },
    {
      "cell_type": "code",
      "execution_count": 40,
      "id": "097383c6",
      "metadata": {
        "colab": {
          "base_uri": "https://localhost:8080/",
          "height": 363
        },
        "id": "097383c6",
        "outputId": "a9365fb2-7696-4f26-d717-2d4a9c0a82ee"
      },
      "outputs": [
        {
          "data": {
            "text/html": [
              "<div>\n",
              "<style scoped>\n",
              "    .dataframe tbody tr th:only-of-type {\n",
              "        vertical-align: middle;\n",
              "    }\n",
              "\n",
              "    .dataframe tbody tr th {\n",
              "        vertical-align: top;\n",
              "    }\n",
              "\n",
              "    .dataframe thead th {\n",
              "        text-align: right;\n",
              "    }\n",
              "</style>\n",
              "<table border=\"1\" class=\"dataframe\">\n",
              "  <thead>\n",
              "    <tr style=\"text-align: right;\">\n",
              "      <th></th>\n",
              "      <th>ID</th>\n",
              "      <th>Review</th>\n",
              "      <th>Label</th>\n",
              "      <th>cleaned_data</th>\n",
              "    </tr>\n",
              "  </thead>\n",
              "  <tbody>\n",
              "    <tr>\n",
              "      <th>0</th>\n",
              "      <td>1</td>\n",
              "      <td>The product is missing. It is the worst service.</td>\n",
              "      <td>neg</td>\n",
              "      <td>the product is missing it is the worst service</td>\n",
              "    </tr>\n",
              "    <tr>\n",
              "      <th>1</th>\n",
              "      <td>2</td>\n",
              "      <td>It is a good quality product.</td>\n",
              "      <td>pos</td>\n",
              "      <td>it is a good quality product</td>\n",
              "    </tr>\n",
              "    <tr>\n",
              "      <th>2</th>\n",
              "      <td>3</td>\n",
              "      <td>There is a delay of product delivery. Not reco...</td>\n",
              "      <td>neg</td>\n",
              "      <td>there is a delay of product delivery not recom...</td>\n",
              "    </tr>\n",
              "    <tr>\n",
              "      <th>3</th>\n",
              "      <td>4</td>\n",
              "      <td>Highly recommend the product. It &amp; nice!</td>\n",
              "      <td>pos</td>\n",
              "      <td>highly recommend the product it nice</td>\n",
              "    </tr>\n",
              "    <tr>\n",
              "      <th>4</th>\n",
              "      <td>5</td>\n",
              "      <td>Not worth buying it!!</td>\n",
              "      <td>neg</td>\n",
              "      <td>not worth buying it</td>\n",
              "    </tr>\n",
              "    <tr>\n",
              "      <th>5</th>\n",
              "      <td>6</td>\n",
              "      <td>Nice and cheap!</td>\n",
              "      <td>pos</td>\n",
              "      <td>nice and cheap</td>\n",
              "    </tr>\n",
              "    <tr>\n",
              "      <th>6</th>\n",
              "      <td>7</td>\n",
              "      <td>@It is very nice.</td>\n",
              "      <td>pos</td>\n",
              "      <td>is very nice</td>\n",
              "    </tr>\n",
              "    <tr>\n",
              "      <th>7</th>\n",
              "      <td>8</td>\n",
              "      <td>I have been using this from 10 days and the pr...</td>\n",
              "      <td>pos</td>\n",
              "      <td>i have been using this from day and the produc...</td>\n",
              "    </tr>\n",
              "    <tr>\n",
              "      <th>8</th>\n",
              "      <td>9</td>\n",
              "      <td>The product is broken after 1 day. Don't buy it!</td>\n",
              "      <td>neg</td>\n",
              "      <td>the product is broken after day don t buy it</td>\n",
              "    </tr>\n",
              "    <tr>\n",
              "      <th>9</th>\n",
              "      <td>10</td>\n",
              "      <td>Amazing product!</td>\n",
              "      <td>pos</td>\n",
              "      <td>amazing product</td>\n",
              "    </tr>\n",
              "  </tbody>\n",
              "</table>\n",
              "</div>"
            ],
            "text/plain": [
              "   ID                                             Review Label   \n",
              "0   1   The product is missing. It is the worst service.   neg  \\\n",
              "1   2                      It is a good quality product.   pos   \n",
              "2   3  There is a delay of product delivery. Not reco...   neg   \n",
              "3   4           Highly recommend the product. It & nice!   pos   \n",
              "4   5                              Not worth buying it!!   neg   \n",
              "5   6                                    Nice and cheap!   pos   \n",
              "6   7                                  @It is very nice.   pos   \n",
              "7   8  I have been using this from 10 days and the pr...   pos   \n",
              "8   9   The product is broken after 1 day. Don't buy it!   neg   \n",
              "9  10                                   Amazing product!   pos   \n",
              "\n",
              "                                        cleaned_data  \n",
              "0     the product is missing it is the worst service  \n",
              "1                       it is a good quality product  \n",
              "2  there is a delay of product delivery not recom...  \n",
              "3               highly recommend the product it nice  \n",
              "4                                not worth buying it  \n",
              "5                                     nice and cheap  \n",
              "6                                       is very nice  \n",
              "7  i have been using this from day and the produc...  \n",
              "8       the product is broken after day don t buy it  \n",
              "9                                    amazing product  "
            ]
          },
          "execution_count": 40,
          "metadata": {},
          "output_type": "execute_result"
        }
      ],
      "source": [
        "data"
      ]
    },
    {
      "cell_type": "code",
      "execution_count": 41,
      "id": "ec5d2384",
      "metadata": {
        "colab": {
          "base_uri": "https://localhost:8080/",
          "height": 466
        },
        "id": "ec5d2384",
        "outputId": "1e8b7512-ab46-46fd-9569-94577ad94d89"
      },
      "outputs": [
        {
          "data": {
            "text/plain": [
              "<Axes: ylabel='Label'>"
            ]
          },
          "execution_count": 41,
          "metadata": {},
          "output_type": "execute_result"
        },
        {
          "data": {
            "image/png": "[encoded data removed]",
            "text/plain": [
              "<Figure size 640x480 with 1 Axes>"
            ]
          },
          "metadata": {},
          "output_type": "display_data"
        }
      ],
      "source": [
        "data['Label'].value_counts().plot(kind='barh')"
      ]
    },
    {
      "cell_type": "code",
      "execution_count": 42,
      "id": "d09e52e1",
      "metadata": {
        "id": "d09e52e1"
      },
      "outputs": [],
      "source": [
        "# Classification begins here\n",
        "\n",
        "from sklearn.model_selection import train_test_split\n",
        "\n",
        "X = data['Review']\n",
        "y = data['Label']\n",
        "\n",
        "# change your train and test size to check accuracy\n",
        "X_train, X_test, y_train, y_test = train_test_split(X, y, test_size=0.33, random_state=42)"
      ]
    },
    {
      "cell_type": "code",
      "execution_count": 43,
      "id": "7ad3716a",
      "metadata": {
        "id": "7ad3716a"
      },
      "outputs": [],
      "source": [
        "# Pipeline\n",
        "\n",
        "from sklearn.pipeline import Pipeline\n",
        "from sklearn.feature_extraction.text import TfidfVectorizer\n",
        "from sklearn.svm import LinearSVC\n",
        "\n",
        "# Creating classifier With data of vectors TFIDF\n",
        "text_clf_lsvc = Pipeline([('tfidf', TfidfVectorizer()),\n",
        "                     ('clf', LinearSVC()),\n",
        "])"
      ]
    },
    {
      "attachments": {},
      "cell_type": "markdown",
      "id": "VTrDGkssKWph",
      "metadata": {
        "id": "VTrDGkssKWph"
      },
      "source": [
        "# Try Randomforestclassifier "
      ]
    },
    {
      "cell_type": "code",
      "execution_count": 44,
      "id": "16304f3e",
      "metadata": {
        "colab": {
          "base_uri": "https://localhost:8080/",
          "height": 124
        },
        "id": "16304f3e",
        "outputId": "e34a996b-d100-4bd7-bbfb-91e0aea79a00"
      },
      "outputs": [
        {
          "data": {
            "text/html": [
              "<style>#sk-container-id-1 {color: black;background-color: white;}#sk-container-id-1 pre{padding: 0;}#sk-container-id-1 div.sk-toggleable {background-color: white;}#sk-container-id-1 label.sk-toggleable__label {cursor: pointer;display: block;width: 100%;margin-bottom: 0;padding: 0.3em;box-sizing: border-box;text-align: center;}#sk-container-id-1 label.sk-toggleable__label-arrow:before {content: \"▸\";float: left;margin-right: 0.25em;color: #696969;}#sk-container-id-1 label.sk-toggleable__label-arrow:hover:before {color: black;}#sk-container-id-1 div.sk-estimator:hover label.sk-toggleable__label-arrow:before {color: black;}#sk-container-id-1 div.sk-toggleable__content {max-height: 0;max-width: 0;overflow: hidden;text-align: left;background-color: #f0f8ff;}#sk-container-id-1 div.sk-toggleable__content pre {margin: 0.2em;color: black;border-radius: 0.25em;background-color: #f0f8ff;}#sk-container-id-1 input.sk-toggleable__control:checked~div.sk-toggleable__content {max-height: 200px;max-width: 100%;overflow: auto;}#sk-container-id-1 input.sk-toggleable__control:checked~label.sk-toggleable__label-arrow:before {content: \"▾\";}#sk-container-id-1 div.sk-estimator input.sk-toggleable__control:checked~label.sk-toggleable__label {background-color: #d4ebff;}#sk-container-id-1 div.sk-label input.sk-toggleable__control:checked~label.sk-toggleable__label {background-color: #d4ebff;}#sk-container-id-1 input.sk-hidden--visually {border: 0;clip: rect(1px 1px 1px 1px);clip: rect(1px, 1px, 1px, 1px);height: 1px;margin: -1px;overflow: hidden;padding: 0;position: absolute;width: 1px;}#sk-container-id-1 div.sk-estimator {font-family: monospace;background-color: #f0f8ff;border: 1px dotted black;border-radius: 0.25em;box-sizing: border-box;margin-bottom: 0.5em;}#sk-container-id-1 div.sk-estimator:hover {background-color: #d4ebff;}#sk-container-id-1 div.sk-parallel-item::after {content: \"\";width: 100%;border-bottom: 1px solid gray;flex-grow: 1;}#sk-container-id-1 div.sk-label:hover label.sk-toggleable__label {background-color: #d4ebff;}#sk-container-id-1 div.sk-serial::before {content: \"\";position: absolute;border-left: 1px solid gray;box-sizing: border-box;top: 0;bottom: 0;left: 50%;z-index: 0;}#sk-container-id-1 div.sk-serial {display: flex;flex-direction: column;align-items: center;background-color: white;padding-right: 0.2em;padding-left: 0.2em;position: relative;}#sk-container-id-1 div.sk-item {position: relative;z-index: 1;}#sk-container-id-1 div.sk-parallel {display: flex;align-items: stretch;justify-content: center;background-color: white;position: relative;}#sk-container-id-1 div.sk-item::before, #sk-container-id-1 div.sk-parallel-item::before {content: \"\";position: absolute;border-left: 1px solid gray;box-sizing: border-box;top: 0;bottom: 0;left: 50%;z-index: -1;}#sk-container-id-1 div.sk-parallel-item {display: flex;flex-direction: column;z-index: 1;position: relative;background-color: white;}#sk-container-id-1 div.sk-parallel-item:first-child::after {align-self: flex-end;width: 50%;}#sk-container-id-1 div.sk-parallel-item:last-child::after {align-self: flex-start;width: 50%;}#sk-container-id-1 div.sk-parallel-item:only-child::after {width: 0;}#sk-container-id-1 div.sk-dashed-wrapped {border: 1px dashed gray;margin: 0 0.4em 0.5em 0.4em;box-sizing: border-box;padding-bottom: 0.4em;background-color: white;}#sk-container-id-1 div.sk-label label {font-family: monospace;font-weight: bold;display: inline-block;line-height: 1.2em;}#sk-container-id-1 div.sk-label-container {text-align: center;}#sk-container-id-1 div.sk-container {/* jupyter's `normalize.less` sets `[hidden] { display: none; }` but bootstrap.min.css set `[hidden] { display: none !important; }` so we also need the `!important` here to be able to override the default hidden behavior on the sphinx rendered scikit-learn.org. See: https://github.com/scikit-learn/scikit-learn/issues/21755 */display: inline-block !important;position: relative;}#sk-container-id-1 div.sk-text-repr-fallback {display: none;}</style><div id=\"sk-container-id-1\" class=\"sk-top-container\"><div class=\"sk-text-repr-fallback\"><pre>Pipeline(steps=[(&#x27;tfidf&#x27;, TfidfVectorizer()), (&#x27;clf&#x27;, LinearSVC())])</pre><b>In a Jupyter environment, please rerun this cell to show the HTML representation or trust the notebook. <br />On GitHub, the HTML representation is unable to render, please try loading this page with nbviewer.org.</b></div><div class=\"sk-container\" hidden><div class=\"sk-item sk-dashed-wrapped\"><div class=\"sk-label-container\"><div class=\"sk-label sk-toggleable\"><input class=\"sk-toggleable__control sk-hidden--visually\" id=\"sk-estimator-id-1\" type=\"checkbox\" ><label for=\"sk-estimator-id-1\" class=\"sk-toggleable__label sk-toggleable__label-arrow\">Pipeline</label><div class=\"sk-toggleable__content\"><pre>Pipeline(steps=[(&#x27;tfidf&#x27;, TfidfVectorizer()), (&#x27;clf&#x27;, LinearSVC())])</pre></div></div></div><div class=\"sk-serial\"><div class=\"sk-item\"><div class=\"sk-estimator sk-toggleable\"><input class=\"sk-toggleable__control sk-hidden--visually\" id=\"sk-estimator-id-2\" type=\"checkbox\" ><label for=\"sk-estimator-id-2\" class=\"sk-toggleable__label sk-toggleable__label-arrow\">TfidfVectorizer</label><div class=\"sk-toggleable__content\"><pre>TfidfVectorizer()</pre></div></div></div><div class=\"sk-item\"><div class=\"sk-estimator sk-toggleable\"><input class=\"sk-toggleable__control sk-hidden--visually\" id=\"sk-estimator-id-3\" type=\"checkbox\" ><label for=\"sk-estimator-id-3\" class=\"sk-toggleable__label sk-toggleable__label-arrow\">LinearSVC</label><div class=\"sk-toggleable__content\"><pre>LinearSVC()</pre></div></div></div></div></div></div></div>"
            ],
            "text/plain": [
              "Pipeline(steps=[('tfidf', TfidfVectorizer()), ('clf', LinearSVC())])"
            ]
          },
          "execution_count": 44,
          "metadata": {},
          "output_type": "execute_result"
        }
      ],
      "source": [
        "# Training \n",
        "text_clf_lsvc.fit(X_train, y_train)"
      ]
    },
    {
      "cell_type": "code",
      "execution_count": 45,
      "id": "85a44d96",
      "metadata": {
        "id": "85a44d96"
      },
      "outputs": [],
      "source": [
        "# Testing\n",
        "predictions = text_clf_lsvc.predict(X_test)"
      ]
    },
    {
      "cell_type": "code",
      "execution_count": 46,
      "id": "b12f1ef6",
      "metadata": {
        "colab": {
          "base_uri": "https://localhost:8080/"
        },
        "id": "b12f1ef6",
        "outputId": "52cb7dcd-de36-4262-c913-f3b69b351e8a",
        "scrolled": true
      },
      "outputs": [
        {
          "name": "stdout",
          "output_type": "stream",
          "text": [
            "0.5\n"
          ]
        }
      ],
      "source": [
        "from sklearn import metrics\n",
        "\n",
        "# Print the overall accuracy\n",
        "print(metrics.accuracy_score(y_test,predictions))"
      ]
    }
  ],
  "metadata": {
    "colab": {
      "provenance": []
    },
    "kernelspec": {
      "display_name": "Python 3 (ipykernel)",
      "language": "python",
      "name": "python3"
    },
    "language_info": {
      "codemirror_mode": {
        "name": "ipython",
        "version": 3
      },
      "file_extension": ".py",
      "mimetype": "text/x-python",
      "name": "python",
      "nbconvert_exporter": "python",
      "pygments_lexer": "ipython3",
      "version": "3.11.3"
    }
  },
  "nbformat": 4,
  "nbformat_minor": 5
}
