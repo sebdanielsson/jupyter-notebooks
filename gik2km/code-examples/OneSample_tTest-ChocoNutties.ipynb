{
 "cells": [
  {
   "cell_type": "code",
   "execution_count": 1,
   "metadata": {},
   "outputs": [
    {
     "data": {
      "image/png": "[encoded data removed]",
      "text/plain": [
       "<Figure size 640x480 with 1 Axes>"
      ]
     },
     "metadata": {},
     "output_type": "display_data"
    }
   ],
   "source": [
    "# One-Sample t-test\n",
    "#  PROBLEM: Helen sells Choconutties. Claim: Each bar weighs 200g and contains 70g of peanuts.\n",
    "#  Some customers claims there are less than 70g peanuts in Helens chocolate bars.\n",
    "#  Helen wants to check that H0: the average chocolate bar DO contain 70g peanuts\n",
    "#  Ha: The average weight of peanuts in a chocolate bar is NOT 70g. (Modified form the video where they say LESS THAN 70g )\n",
    "\n",
    "\n",
    "from numpy.random import seed\n",
    "from numpy.random import randn\n",
    "from scipy.stats import ttest_1samp\n",
    "import numpy as np\n",
    "import scipy\n",
    "# \"Lock\" the pseudo-random number generator, to allow replicable analysis\n",
    "seed(24)\n",
    "# Return a sample (or samples) from the \"standard normal\" distribution.\n",
    "meanNuts = 68.7\n",
    "sdNuts = 5\n",
    "n=20 # Helen takes a random sample of 20 bars (out of her stock of 400 bars)\n",
    "\n",
    "#Known mean value to compare with, i.e. 70 grams of nuts are expected!\n",
    "mu = 70  \n",
    "# generate sample\n",
    "dataNutsGen = sdNuts * randn(n) + meanNuts\n",
    "dataNuts = (55,70,55,68,64,67,57,68,65,85,69,85,62,72,72,75,65,62,76,79,72,69,73,72,73,62,71,70,60)\n",
    "#dataNuts = (5,17,15,16,61,17,57,68,65,15,69,15,90)\n",
    "\n",
    "from matplotlib import pyplot\n",
    "#Visual inspection of histogram\n",
    "pyplot.hist(dataNuts, bins=20)\n",
    "pyplot.show()\n",
    "\n"
   ]
  },
  {
   "cell_type": "code",
   "execution_count": 2,
   "metadata": {},
   "outputs": [
    {
     "name": "stdout",
     "output_type": "stream",
     "text": [
      "DescribeResult(nobs=29, minmax=(55, 85), mean=68.72413793103448, variance=56.992610837438434, skewness=0.1758172721433875, kurtosis=-0.04280753690848105)\n",
      "     0\n",
      "0   55\n",
      "1   70\n",
      "2   55\n",
      "3   68\n",
      "4   64\n",
      "5   67\n",
      "6   57\n",
      "7   68\n",
      "8   65\n",
      "9   85\n",
      "10  69\n",
      "11  85\n",
      "12  62\n",
      "13  72\n",
      "14  72\n",
      "15  75\n",
      "16  65\n",
      "17  62\n",
      "18  76\n",
      "19  79\n",
      "20  72\n",
      "21  69\n",
      "22  73\n",
      "23  72\n",
      "24  73\n",
      "25  62\n",
      "26  71\n",
      "27  70\n",
      "28  60\n"
     ]
    },
    {
     "data": {
      "text/html": [
       "<div>\n",
       "<style scoped>\n",
       "    .dataframe tbody tr th:only-of-type {\n",
       "        vertical-align: middle;\n",
       "    }\n",
       "\n",
       "    .dataframe tbody tr th {\n",
       "        vertical-align: top;\n",
       "    }\n",
       "\n",
       "    .dataframe thead th {\n",
       "        text-align: right;\n",
       "    }\n",
       "</style>\n",
       "<table border=\"1\" class=\"dataframe\">\n",
       "  <thead>\n",
       "    <tr style=\"text-align: right;\">\n",
       "      <th></th>\n",
       "      <th>0</th>\n",
       "    </tr>\n",
       "  </thead>\n",
       "  <tbody>\n",
       "    <tr>\n",
       "      <th>count</th>\n",
       "      <td>29.000000</td>\n",
       "    </tr>\n",
       "    <tr>\n",
       "      <th>mean</th>\n",
       "      <td>68.724138</td>\n",
       "    </tr>\n",
       "    <tr>\n",
       "      <th>std</th>\n",
       "      <td>7.549345</td>\n",
       "    </tr>\n",
       "    <tr>\n",
       "      <th>min</th>\n",
       "      <td>55.000000</td>\n",
       "    </tr>\n",
       "    <tr>\n",
       "      <th>25%</th>\n",
       "      <td>64.000000</td>\n",
       "    </tr>\n",
       "    <tr>\n",
       "      <th>50%</th>\n",
       "      <td>69.000000</td>\n",
       "    </tr>\n",
       "    <tr>\n",
       "      <th>75%</th>\n",
       "      <td>72.000000</td>\n",
       "    </tr>\n",
       "    <tr>\n",
       "      <th>max</th>\n",
       "      <td>85.000000</td>\n",
       "    </tr>\n",
       "  </tbody>\n",
       "</table>\n",
       "</div>"
      ],
      "text/plain": [
       "               0\n",
       "count  29.000000\n",
       "mean   68.724138\n",
       "std     7.549345\n",
       "min    55.000000\n",
       "25%    64.000000\n",
       "50%    69.000000\n",
       "75%    72.000000\n",
       "max    85.000000"
      ]
     },
     "execution_count": 2,
     "metadata": {},
     "output_type": "execute_result"
    }
   ],
   "source": [
    "# Explore using scipy.stats.describe() function\n",
    "print(scipy.stats.describe(dataNuts))\n",
    "\n",
    "# Explore in another way using pandas describe() function instead\n",
    "import pandas as pd\n",
    "#Create a DataFrame\n",
    "df = pd.DataFrame(dataNuts)\n",
    "# check that everything is alright by printing the new datastructure\n",
    "print(df)\n",
    "df.describe()"
   ]
  },
  {
   "cell_type": "code",
   "execution_count": 7,
   "metadata": {},
   "outputs": [
    {
     "name": "stdout",
     "output_type": "stream",
     "text": [
      "(65.85252064707853, 71.59575521499042) H0 = 70 grams\n"
     ]
    }
   ],
   "source": [
    "#create 95% confidence interval for population mean weight\n",
    "ci = scipy.stats.t.interval(0.95, df=len(dataNuts)-1, loc=np.mean(dataNuts), scale=scipy.stats.sem(dataNuts)) \n",
    "\n",
    "\n",
    "# compare samples\n",
    "print(ci, \"H0 =\", mu, \"grams\")"
   ]
  },
  {
   "cell_type": "code",
   "execution_count": 10,
   "metadata": {},
   "outputs": [
    {
     "name": "stdout",
     "output_type": "stream",
     "text": [
      "Statistics=-0.910, p=0.37053\n"
     ]
    }
   ],
   "source": [
    "stat, p = ttest_1samp(dataNuts, mu)\n",
    "print('Statistics=%.3f, p=%.5f' % (stat, p))\n"
   ]
  },
  {
   "cell_type": "code",
   "execution_count": 9,
   "metadata": {},
   "outputs": [
    {
     "data": {
      "text/plain": [
       "(55,\n",
       " 70,\n",
       " 55,\n",
       " 68,\n",
       " 64,\n",
       " 67,\n",
       " 57,\n",
       " 68,\n",
       " 65,\n",
       " 85,\n",
       " 69,\n",
       " 85,\n",
       " 62,\n",
       " 72,\n",
       " 72,\n",
       " 75,\n",
       " 65,\n",
       " 62,\n",
       " 76,\n",
       " 79,\n",
       " 72,\n",
       " 69,\n",
       " 73,\n",
       " 72,\n",
       " 73,\n",
       " 62,\n",
       " 71,\n",
       " 70,\n",
       " 60)"
      ]
     },
     "execution_count": 9,
     "metadata": {},
     "output_type": "execute_result"
    }
   ],
   "source": [
    "dataNuts"
   ]
  },
  {
   "cell_type": "code",
   "execution_count": null,
   "metadata": {},
   "outputs": [],
   "source": []
  }
 ],
 "metadata": {
  "kernelspec": {
   "display_name": "Python 3 (ipykernel)",
   "language": "python",
   "name": "python3"
  },
  "language_info": {
   "codemirror_mode": {
    "name": "ipython",
    "version": 3
   },
   "file_extension": ".py",
   "mimetype": "text/x-python",
   "name": "python",
   "nbconvert_exporter": "python",
   "pygments_lexer": "ipython3",
   "version": "3.9.15"
  }
 },
 "nbformat": 4,
 "nbformat_minor": 4
}
