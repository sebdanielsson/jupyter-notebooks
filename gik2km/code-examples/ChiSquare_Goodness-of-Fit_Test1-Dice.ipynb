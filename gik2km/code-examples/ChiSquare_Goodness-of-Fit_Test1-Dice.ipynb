{
 "cells": [
  {
   "cell_type": "code",
   "execution_count": 1,
   "metadata": {},
   "outputs": [
    {
     "name": "stdout",
     "output_type": "stream",
     "text": [
      "df= 3.7000000000000006 p= 0.5933639617818077\n"
     ]
    }
   ],
   "source": [
    "# Dice rolls: Chi SquareGoodness-of-Fit_Test \n",
    "# A die was rolled 120 times. We want to know if the die delivers a uniform distribution (of the numbers 1 to 6).\n",
    "# An unbiased die: \n",
    "#    H0: There is equal probability of occurrence of any of the face when the die is rolled. \n",
    "# An biased die:\n",
    "#    H1: There is NOT an equal probability of occurrence of any of the face when the die is rolled. \n",
    "#  If only observed values, f_obs, is given, then it is assumed that the expected frequencies \n",
    "#   are uniform and given by the mean of the observed frequencies.\n",
    "#  If you have expected values then f_exp can be stated by e.g.: chisquare([15, 18, 7], f_exp=[16, 10, 8])\n",
    "\n",
    "from scipy.stats import chisquare\n",
    "\n",
    "f_obs = [24, 14, 17, 23, 20, 22]\n",
    "\n",
    "df, p = chisquare(f_obs)\n",
    "print(\"df=\",df, \"p=\",p)"
   ]
  },
  {
   "cell_type": "code",
   "execution_count": null,
   "metadata": {},
   "outputs": [],
   "source": []
  }
 ],
 "metadata": {
  "kernelspec": {
   "display_name": "Python 3 (ipykernel)",
   "language": "python",
   "name": "python3"
  },
  "language_info": {
   "codemirror_mode": {
    "name": "ipython",
    "version": 3
   },
   "file_extension": ".py",
   "mimetype": "text/x-python",
   "name": "python",
   "nbconvert_exporter": "python",
   "pygments_lexer": "ipython3",
   "version": "3.9.15"
  }
 },
 "nbformat": 4,
 "nbformat_minor": 4
}
