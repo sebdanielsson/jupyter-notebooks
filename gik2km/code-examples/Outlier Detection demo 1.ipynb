{
 "cells": [
  {
   "cell_type": "code",
   "execution_count": 2,
   "id": "7405c1c1",
   "metadata": {},
   "outputs": [
    {
     "name": "stdout",
     "output_type": "stream",
     "text": [
      "mean=50.108 stdv=5.041\n"
     ]
    }
   ],
   "source": [
    "# source: https://machinelearningmastery.com/how-to-use-statistics-to-identify-outliers-in-myData/\n",
    "# generate gaussian myData\n",
    "from numpy.random import seed\n",
    "from numpy.random import randn\n",
    "from numpy import mean\n",
    "from numpy import std\n",
    "# seed the random number generator\n",
    "seed(78)\n",
    "# generate data with a given mean and std.dev\n",
    "myData = 5 * randn(500) + 50\n",
    "# summarize\n",
    "print('mean=%.3f stdv=%.3f' % (mean(myData), std(myData)))"
   ]
  },
  {
   "cell_type": "code",
   "execution_count": 3,
   "id": "32b96f49",
   "metadata": {},
   "outputs": [
    {
     "data": {
      "text/plain": [
       "array([50.61023069, 48.47640867, 52.88987693, 52.87627512, 49.69605825,\n",
       "       52.52630968, 47.41220291, 53.3822383 , 49.90922487, 46.75183964,\n",
       "       53.15314239, 51.12528479, 45.61715904, 54.14261564, 60.46423168,\n",
       "       51.15004149, 53.47069926, 48.07462002, 50.77762164, 54.98314366,\n",
       "       44.67961864, 48.32221725, 44.22223664, 43.77825059, 52.95072315,\n",
       "       47.15559701, 59.75189511, 56.30187731, 49.55500013, 52.33126793,\n",
       "       47.27517763, 51.21587225, 42.81392237, 43.54033916, 51.86672142,\n",
       "       52.61932817, 48.69884862, 49.31356994, 53.34337575, 55.63832221,\n",
       "       57.74676786, 52.75381757, 54.77312412, 49.66841198, 52.00905893,\n",
       "       41.5882316 , 48.72660198, 44.86499177, 50.08922107, 54.18363482,\n",
       "       55.13958921, 55.46288846, 61.33586328, 54.84757573, 49.78679387,\n",
       "       45.54802683, 48.09369896, 55.71510898, 44.86508332, 55.39855802,\n",
       "       53.09667941, 48.71258217, 49.91476488, 53.57044615, 61.07196757,\n",
       "       52.58854817, 50.13512469, 52.54212957, 55.02183534, 60.62462545,\n",
       "       48.71476968, 53.36169964, 37.99630756, 44.47553391, 43.46074386,\n",
       "       51.45795614, 45.43430639, 42.86143074, 52.51122198, 40.13472048,\n",
       "       53.68387657, 53.58305265, 56.68286144, 53.52102262, 45.77970152,\n",
       "       50.01566389, 60.95411957, 49.60033064, 46.49796743, 49.56639323,\n",
       "       54.51344689, 54.88103295, 47.57632458, 49.05834401, 51.54137821,\n",
       "       49.39603735, 41.52318952, 49.19152298, 45.58252451, 42.70758435,\n",
       "       56.65391029, 56.69261773, 48.5860703 , 48.87233695, 37.25144486,\n",
       "       46.49966901, 60.13652267, 43.71036502, 51.29147416, 51.95824387,\n",
       "       42.34439044, 52.63491416, 47.65597625, 53.56663859, 54.81976312,\n",
       "       44.33463455, 55.38918274, 57.87497247, 49.36697763, 49.76199956,\n",
       "       43.0163311 , 48.5843531 , 53.12295877, 44.30723508, 48.71593501,\n",
       "       49.75740417, 46.77688743, 43.86923673, 53.64729708, 48.00758656,\n",
       "       47.46195283, 51.58672827, 54.39811733, 48.05794106, 42.64198416,\n",
       "       53.09200219, 44.81090613, 48.13232141, 48.87414665, 40.5711767 ,\n",
       "       47.68665933, 55.19174856, 45.80946714, 48.10510081, 49.09511459,\n",
       "       54.98487757, 56.51963939, 47.62284982, 49.62052366, 47.19914501,\n",
       "       47.33177544, 53.92787262, 53.59842628, 50.2460615 , 50.09937447,\n",
       "       40.78500561, 55.94817953, 43.11275101, 65.23327038, 49.62587358,\n",
       "       36.32167737, 40.31439376, 55.6546427 , 48.52189426, 46.99602498,\n",
       "       53.18266828, 53.80499285, 55.80077106, 50.67149719, 52.59445737,\n",
       "       53.19415216, 55.72666533, 53.53265764, 55.42314129, 53.21353013,\n",
       "       47.99144867, 50.5674019 , 50.79266209, 44.57907351, 45.87925322,\n",
       "       55.13426934, 49.95312239, 54.3344849 , 54.06064816, 51.3276974 ,\n",
       "       56.65758466, 43.50555247, 43.43291962, 49.81059516, 45.27571589,\n",
       "       48.71272556, 50.5489309 , 50.85842433, 59.13794397, 44.98747634,\n",
       "       47.08600913, 40.48560703, 48.82464282, 54.47176902, 48.50708397,\n",
       "       46.46721801, 54.29350985, 49.53011024, 52.95502909, 50.83333607,\n",
       "       49.1380447 , 52.12657125, 53.88153593, 49.63869203, 49.20557133,\n",
       "       57.17795116, 54.94949532, 47.11950765, 44.19473166, 48.07260604,\n",
       "       43.36358505, 54.47434341, 51.45694257, 56.49758618, 50.73009204,\n",
       "       52.94373061, 57.3772121 , 50.07193934, 42.58813493, 52.00252214,\n",
       "       57.72679809, 47.67021369, 53.94430018, 44.80323549, 50.20488689,\n",
       "       54.24681005, 53.28322523, 47.04393065, 44.40254558, 48.73897648,\n",
       "       54.57116708, 44.64154934, 56.67241612, 44.23804713, 53.34770461,\n",
       "       50.60130619, 41.84902331, 42.70844307, 50.39304001, 41.21820678,\n",
       "       55.14094182, 48.98277358, 43.00657671, 53.37765067, 54.11018305,\n",
       "       50.38285697, 47.18602368, 47.92165752, 51.17367045, 45.7717605 ,\n",
       "       49.6158856 , 51.27689262, 43.98690157, 56.79175882, 50.33085663,\n",
       "       68.65198365, 59.1812745 , 43.17696655, 51.66407361, 59.9458743 ,\n",
       "       43.24156943, 53.74211545, 48.6806893 , 43.31495   , 51.99429282,\n",
       "       52.5017864 , 47.98327469, 57.57243703, 48.25210114, 58.21324229,\n",
       "       59.53588567, 53.24873444, 52.79882413, 52.71379356, 50.80652488,\n",
       "       46.68214743, 44.27346532, 46.76623448, 53.92439761, 51.48627595,\n",
       "       57.38511579, 48.66563893, 59.44833478, 56.08154844, 43.30546822,\n",
       "       51.29003528, 53.33850564, 44.49287054, 41.21390346, 53.40358308,\n",
       "       52.93735528, 44.93395147, 46.88911079, 52.11967216, 47.2671803 ,\n",
       "       43.73547227, 62.375702  , 57.43774971, 43.92686354, 50.18418124,\n",
       "       50.06573799, 55.20903562, 51.42836828, 48.35974384, 55.28557427,\n",
       "       57.52305638, 52.81222381, 43.19229129, 46.69133232, 52.02355425,\n",
       "       52.49554729, 45.28309352, 49.50449265, 50.04611334, 52.62580396,\n",
       "       43.49642115, 49.21839278, 44.06910697, 46.7998464 , 50.84314512,\n",
       "       49.38634801, 55.24044955, 44.83266565, 58.32498407, 58.68101739,\n",
       "       46.02712026, 48.54833662, 57.28229768, 46.87529644, 46.90775988,\n",
       "       49.63214424, 51.7261024 , 43.22331299, 46.053182  , 46.60673244,\n",
       "       49.23362785, 51.25888444, 38.83342406, 57.08424286, 58.23773626,\n",
       "       48.693134  , 50.69712711, 50.07160932, 56.38063267, 52.49296593,\n",
       "       54.93696691, 51.82403977, 54.30190229, 55.30026713, 54.41439437,\n",
       "       55.36742922, 49.8213761 , 58.24196893, 50.41960585, 47.75212211,\n",
       "       48.40019974, 51.43872432, 44.41194177, 60.06588353, 48.01049908,\n",
       "       50.15477124, 46.60558063, 51.86585166, 41.54807926, 45.82823131,\n",
       "       41.79597228, 46.84486304, 57.25901723, 46.37265089, 53.13613105,\n",
       "       48.85405036, 45.83840228, 47.54146728, 45.13232781, 52.53313888,\n",
       "       44.84081369, 50.26904816, 48.17655399, 54.6680011 , 47.46947386,\n",
       "       48.15653096, 56.43649224, 39.90223918, 55.86443855, 56.48360641,\n",
       "       49.47604979, 49.21923156, 49.74701018, 51.45180873, 60.41555905,\n",
       "       50.11675011, 54.64195676, 48.52708292, 44.96928288, 52.18853165,\n",
       "       46.84684736, 60.39622092, 46.27405149, 57.11591005, 43.12641026,\n",
       "       46.28897277, 46.95644219, 34.25421739, 50.36460239, 42.60966568,\n",
       "       40.29214229, 49.85774476, 45.55180936, 50.07000281, 42.77225711,\n",
       "       45.1418131 , 46.95637307, 46.91125758, 45.53928144, 46.11913766,\n",
       "       55.59408928, 54.19928136, 56.1023333 , 57.17557853, 51.27428987,\n",
       "       37.88523927, 54.91557158, 56.68339438, 50.68994232, 49.20593553,\n",
       "       56.09577562, 55.47536369, 46.41618987, 55.45805246, 47.94688409,\n",
       "       45.27395764, 54.38013305, 55.30720197, 48.91557268, 48.29352057,\n",
       "       48.60769235, 47.69865774, 41.60502893, 52.47290786, 58.53586524,\n",
       "       46.30927931, 46.81499595, 43.81271381, 52.68459237, 48.41994244,\n",
       "       58.3266052 , 47.41753816, 57.99786769, 50.66397798, 59.15180597,\n",
       "       51.5967135 , 54.63884246, 44.62443124, 49.51527946, 47.45107906,\n",
       "       49.58028052, 50.78455881, 47.15738271, 48.47496846, 48.07798439,\n",
       "       57.71071031, 44.9195484 , 58.14906066, 46.87090398, 49.13955174,\n",
       "       34.38062407, 49.52716309, 45.34383652, 49.01928805, 38.85756261,\n",
       "       48.25802297, 47.14497679, 45.00953887, 49.66497782, 44.8661905 ,\n",
       "       49.78009505, 57.43852937, 50.67663215, 54.42495698, 49.1134006 ,\n",
       "       52.51237409, 47.43833679, 46.94532096, 42.65702652, 44.42803402,\n",
       "       45.87221662, 51.27049356, 50.04919076, 39.82661002, 53.24557242,\n",
       "       44.66252392, 54.99991176, 51.41207747, 51.40629939, 50.74339576])"
      ]
     },
     "execution_count": 3,
     "metadata": {},
     "output_type": "execute_result"
    }
   ],
   "source": [
    "myData"
   ]
  },
  {
   "cell_type": "code",
   "execution_count": 2,
   "id": "bdc1606e",
   "metadata": {},
   "outputs": [
    {
     "data": {
      "image/png": "[encoded data removed]",
      "text/plain": [
       "<Figure size 432x288 with 1 Axes>"
      ]
     },
     "metadata": {
      "needs_background": "light"
     },
     "output_type": "display_data"
    },
    {
     "data": {
      "image/png": "[encoded data removed]",
      "text/plain": [
       "<Figure size 432x288 with 1 Axes>"
      ]
     },
     "metadata": {
      "needs_background": "light"
     },
     "output_type": "display_data"
    }
   ],
   "source": [
    "from matplotlib import pyplot\n",
    "# Qualitative assessment: Visual inspection of histogram\n",
    "# histogram\n",
    "pyplot.hist(myData)\n",
    "pyplot.show()\n",
    "\n",
    "pyplot.boxplot(myData, vert=False)\n",
    "pyplot.show()"
   ]
  },
  {
   "cell_type": "code",
   "execution_count": 3,
   "id": "22623b58",
   "metadata": {},
   "outputs": [
    {
     "name": "stdout",
     "output_type": "stream",
     "text": [
      "Identified outliers: 4\n",
      "Non-outlier observations: 496\n"
     ]
    }
   ],
   "source": [
    "# compute sample mean and standard deviation\n",
    "# then calculate the cut-off for identifying outliers as more than 3 standard deviations from the mean.\n",
    "\n",
    "# calculate summary statistics\n",
    "data_mean, data_std = mean(myData), std(myData)\n",
    "\n",
    "# identify outliers\n",
    "cut_off = data_std * 3\n",
    "lower, upper = data_mean - cut_off, data_mean + cut_off\n",
    "\n",
    "#identify outliers as those examples that fall outside of the defined lower and upper limits.\n",
    "outliers = [x for x in myData if x < lower or x > upper]\n",
    "print('Identified outliers: %d' % len(outliers))\n",
    "\n",
    "\n",
    "# Alternately, we can filter out those values from the sample that are not \n",
    "# within the defined limits.\n",
    "# remove outliers\n",
    "outliers_removed = [x for x in myData if x > lower and x < upper]\n",
    "\n",
    "print('Non-outlier observations: %d' % len(outliers_removed))"
   ]
  },
  {
   "cell_type": "code",
   "execution_count": 5,
   "id": "1380f5e6",
   "metadata": {},
   "outputs": [
    {
     "name": "stdout",
     "output_type": "stream",
     "text": [
      "Identified outliers: 5\n",
      "Non-outlier observations: 495\n"
     ]
    }
   ],
   "source": [
    "# Inter-Quartile Range (IQR) can be used to identify outliers by \n",
    "# defining limits on the sample values that are a factor k of the \n",
    "# IQR below the 25th percentile or above the 75th percentile. \n",
    "# The common value for the factor k is the value 1.5. \n",
    "# A factor k of 3 or more can be used to identify values that are \n",
    "# extreme outliers or “far outs” when described in the context of \n",
    "# box and whisker plots.\n",
    "\n",
    "# On a box and whisker plot, these limits are drawn as fences on \n",
    "# the whiskers (or the lines) that are drawn from the box. \n",
    "# Values that fall outside of these values are drawn as dots.\n",
    "# identify outliers with interquartile range\n",
    "from numpy.random import seed\n",
    "from numpy.random import randn\n",
    "from numpy import percentile\n",
    "\n",
    "# calculate interquartile range\n",
    "q25, q75 = percentile(myData, 25), percentile(myData, 75)\n",
    "iqr = q75 - q25\n",
    "\n",
    "# calculate the cutoff for outliers as 1.5 times the IQR and \n",
    "# subtract this cut-off from the 25th percentile and add it \n",
    "# to the 75th percentile to give the actual limits on the data.\n",
    "# calculate the outlier cutoff\n",
    "cut_off = iqr * 1.5\n",
    "lower, upper = q25 - cut_off, q75 + cut_off\n",
    "\n",
    "# Use these limits to identify the outlier values.\n",
    "outliers = [x for x in myData if x < lower or x > upper]\n",
    "print('Identified outliers: %d' % len(outliers))\n",
    "\n",
    "# Use the limits to filter out the outliers from the dataset.\n",
    "# remove outliers\n",
    "outliers_removed = [x for x in myData if x > lower and x < upper]\n",
    "print('Non-outlier observations: %d' % len(outliers_removed))"
   ]
  },
  {
   "cell_type": "code",
   "execution_count": null,
   "id": "76ebf0ff",
   "metadata": {},
   "outputs": [],
   "source": []
  }
 ],
 "metadata": {
  "kernelspec": {
   "display_name": "Python 3 (ipykernel)",
   "language": "python",
   "name": "python3"
  },
  "language_info": {
   "codemirror_mode": {
    "name": "ipython",
    "version": 3
   },
   "file_extension": ".py",
   "mimetype": "text/x-python",
   "name": "python",
   "nbconvert_exporter": "python",
   "pygments_lexer": "ipython3",
   "version": "3.7.12"
  }
 },
 "nbformat": 4,
 "nbformat_minor": 5
}
