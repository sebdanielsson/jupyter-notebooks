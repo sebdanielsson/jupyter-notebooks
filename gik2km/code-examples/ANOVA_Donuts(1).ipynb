{
 "cells": [
  {
   "cell_type": "code",
   "execution_count": 59,
   "metadata": {},
   "outputs": [
    {
     "name": "stdout",
     "output_type": "stream",
     "text": [
      "    weight fatType\n",
      "0      164    Fat1\n",
      "1      172    Fat1\n",
      "2      168    Fat1\n",
      "3      177    Fat1\n",
      "4      156    Fat1\n",
      "5      195    Fat1\n",
      "6      178    Fat2\n",
      "7      191    Fat2\n",
      "8      197    Fat2\n",
      "9      182    Fat2\n",
      "10     185    Fat2\n",
      "11     177    Fat2\n",
      "12     175    Fat3\n",
      "13     193    Fat3\n",
      "14     178    Fat3\n",
      "15     171    Fat3\n",
      "16     163    Fat3\n",
      "17     176    Fat3\n",
      "18     155    Fat4\n",
      "19     166    Fat4\n",
      "20     149    Fat4\n",
      "21     164    Fat4\n",
      "22     170    Fat4\n",
      "23     168    Fat4\n"
     ]
    },
    {
     "data": {
      "text/plain": [
       "<AxesSubplot:title={'center':'weight'}, xlabel='fatType'>"
      ]
     },
     "execution_count": 59,
     "metadata": {},
     "output_type": "execute_result"
    },
    {
     "data": {
      "image/png": "[encoded data removed]",
      "text/plain": [
       "<Figure size 864x576 with 1 Axes>"
      ]
     },
     "metadata": {
      "needs_background": "light"
     },
     "output_type": "display_data"
    }
   ],
   "source": [
    "# Oneway ANOVA using DONUTS data\n",
    "import matplotlib\n",
    "import pandas as pd\n",
    "import statsmodels.api as sm\n",
    "from statsmodels.formula.api import ols\n",
    "import matplotlib.pyplot as plt\n",
    "\n",
    "# Fetch data\n",
    "data = pd.read_csv(\"C:\\\\Users\\\\rny\\\\Documents\\\\HDa\\\\Data Science & Machine Learning\\\\VT2022\\\\labs\\\\data\\\\donuts2.csv\", sep=\";\")\n",
    "print(data) #uncomment for a view of the data\n",
    "\n",
    "# Explore\n",
    "data.boxplot('weight', by='fatType', figsize=(12, 8))\n",
    "\n",
    "# more to do ? :)\n",
    "#...."
   ]
  },
  {
   "cell_type": "code",
   "execution_count": 64,
   "metadata": {},
   "outputs": [
    {
     "name": "stdout",
     "output_type": "stream",
     "text": [
      "          sum_sq    df         F    PR(>F)\n",
      "fatType   1636.5   3.0  5.406343  0.006876\n",
      "Residual  2018.0  20.0       NaN       NaN\n"
     ]
    }
   ],
   "source": [
    "model = ols('weight~fatType', data=data).fit() \n",
    "aov_table= sm.stats.anova_lm(model,typ=2)\n",
    "print(aov_table)"
   ]
  },
  {
   "cell_type": "code",
   "execution_count": null,
   "metadata": {},
   "outputs": [],
   "source": []
  },
  {
   "cell_type": "code",
   "execution_count": null,
   "metadata": {},
   "outputs": [],
   "source": []
  }
 ],
 "metadata": {
  "kernelspec": {
   "display_name": "Python 3 (ipykernel)",
   "language": "python",
   "name": "python3"
  },
  "language_info": {
   "codemirror_mode": {
    "name": "ipython",
    "version": 3
   },
   "file_extension": ".py",
   "mimetype": "text/x-python",
   "name": "python",
   "nbconvert_exporter": "python",
   "pygments_lexer": "ipython3",
   "version": "3.9.15"
  }
 },
 "nbformat": 4,
 "nbformat_minor": 4
}
