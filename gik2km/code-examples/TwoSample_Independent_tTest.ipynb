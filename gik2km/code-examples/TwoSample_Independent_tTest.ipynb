{
 "cells": [
  {
   "cell_type": "code",
   "execution_count": 6,
   "metadata": {},
   "outputs": [
    {
     "data": {
      "image/png": "[encoded data removed]",
      "text/plain": [
       "<Figure size 432x288 with 1 Axes>"
      ]
     },
     "metadata": {
      "needs_background": "light"
     },
     "output_type": "display_data"
    },
    {
     "data": {
      "image/png": "[encoded data removed]",
      "text/plain": [
       "<Figure size 432x288 with 1 Axes>"
      ]
     },
     "metadata": {
      "needs_background": "light"
     },
     "output_type": "display_data"
    }
   ],
   "source": [
    "#Independent two-sample t-test, aka Student's t-test\n",
    "from numpy.random import seed\n",
    "from numpy.random import randn\n",
    "import scipy \n",
    "from scipy.stats import ttest_ind\n",
    "\n",
    "# \"Lock\" the pseudo-random number generator, to allow replicable analysis\n",
    "seed(24)\n",
    "# Return a sample (or samples) from the \"standard normal\" distribution.\n",
    "#meanA = 78.1\n",
    "#meanB = 77.9\n",
    "#sdA = 3.1\n",
    "#sdB=3 \n",
    "\n",
    "meanA = 76\n",
    "meanB = 77\n",
    "sdA = 2.5\n",
    "sdB=3\n",
    "\n",
    "# generate two independent samples\n",
    "dataA = sdA * randn(100) + meanA\n",
    "dataB = sdB * randn(100) + meanB\n",
    "\n",
    "#\n",
    "from matplotlib import pyplot\n",
    "#1a. Qualitative assessment: Visual inspection of histogram\n",
    "# histogram\n",
    "pyplot.hist(dataA)\n",
    "pyplot.show()\n",
    "pyplot.hist(dataB)\n",
    "pyplot.show()"
   ]
  },
  {
   "cell_type": "code",
   "execution_count": 10,
   "metadata": {},
   "outputs": [
    {
     "name": "stdout",
     "output_type": "stream",
     "text": [
      "Data A:  DescribeResult(nobs=100, minmax=(69.55785299932106, 81.5653984251085), mean=76.26063004371218, variance=6.755855383938105, skewness=-0.27691186731324063, kurtosis=-0.46349530005825645) \n",
      "\n",
      "Data B:  DescribeResult(nobs=100, minmax=(68.38971169581346, 83.3202342957928), mean=77.18892297863235, variance=7.983188180892125, skewness=-0.21149017491659305, kurtosis=0.004566280758576902)\n"
     ]
    }
   ],
   "source": [
    "# Explore using scipy.stats.describe() function\n",
    "print(\"Data A: \", scipy.stats.describe(dataA), \"\\n\")\n",
    "print(\"Data B: \", scipy.stats.describe(dataB))"
   ]
  },
  {
   "cell_type": "code",
   "execution_count": 3,
   "metadata": {},
   "outputs": [
    {
     "name": "stdout",
     "output_type": "stream",
     "text": [
      "Statistics=-2.418, p=0.01651\n"
     ]
    }
   ],
   "source": [
    "# compare samples by conducting the test\n",
    "stat, p = ttest_ind(dataA, dataB)\n",
    "print('Statistics=%.3f, p=%.5f' % (stat, p))"
   ]
  },
  {
   "cell_type": "code",
   "execution_count": null,
   "metadata": {},
   "outputs": [],
   "source": []
  }
 ],
 "metadata": {
  "kernelspec": {
   "display_name": "Python 3 (ipykernel)",
   "language": "python",
   "name": "python3"
  },
  "language_info": {
   "codemirror_mode": {
    "name": "ipython",
    "version": 3
   },
   "file_extension": ".py",
   "mimetype": "text/x-python",
   "name": "python",
   "nbconvert_exporter": "python",
   "pygments_lexer": "ipython3",
   "version": "3.9.15"
  }
 },
 "nbformat": 4,
 "nbformat_minor": 4
}
