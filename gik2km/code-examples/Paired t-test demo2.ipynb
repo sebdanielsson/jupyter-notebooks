{
 "cells": [
  {
   "cell_type": "code",
   "execution_count": null,
   "id": "c1c85074",
   "metadata": {},
   "outputs": [],
   "source": [
    "import pandas as pd\n",
    "\n",
    "df = pd.read_csv(\"blood_pressure.csv\")\n",
    "\n",
    "df[['bp_before','bp_after']].describe()\n",
    "\n",
    "# check for any significant outliers in each of the variables.\n",
    "from scipy import stats\n",
    "bp_before_hist\n",
    "bp_after_hist\n",
    "\n",
    "\n",
    "stats.ttest_rel(df['bp_before'], df['bp_after'])\n",
    "\n"
   ]
  },
  {
   "cell_type": "code",
   "execution_count": 20,
   "id": "2cbcc825",
   "metadata": {},
   "outputs": [
    {
     "name": "stdout",
     "output_type": "stream",
     "text": [
      "[36.6 26.1 28.4 25.  24.6 22.8 32.8 31.5 21.9 31.1 33.4 39.4 34.8 30.5\n",
      " 27.6 34.3 37.3 35.3 30.8 32.6 23.3 32.8 37.  29.7 30.6 36.  30.  38.1\n",
      " 31.8 35.2 28.1 32.6 38.4 23.4 37.1 19.6 29.4 33.2 27.1 31.5 36.3 31.5\n",
      " 20.1 34.  35.2 30.6 29.9 30.2 21.9 28. ]\n"
     ]
    }
   ],
   "source": [
    "import numpy as np\n",
    "import random\n",
    "np.random.seed(24)\n",
    "avg, stddev = 30, 5 # mean and standard deviation\n",
    "\n",
    "s = np.random.normal(avg, stddev, 50)\n",
    "t = s.round(1)\n",
    "print(t)"
   ]
  },
  {
   "cell_type": "code",
   "execution_count": null,
   "id": "867a9742",
   "metadata": {},
   "outputs": [],
   "source": []
  },
  {
   "cell_type": "code",
   "execution_count": null,
   "id": "eb32508d",
   "metadata": {},
   "outputs": [],
   "source": []
  },
  {
   "cell_type": "code",
   "execution_count": null,
   "id": "e0c254b3",
   "metadata": {},
   "outputs": [],
   "source": []
  }
 ],
 "metadata": {
  "kernelspec": {
   "display_name": "Python 3 (ipykernel)",
   "language": "python",
   "name": "python3"
  },
  "language_info": {
   "codemirror_mode": {
    "name": "ipython",
    "version": 3
   },
   "file_extension": ".py",
   "mimetype": "text/x-python",
   "name": "python",
   "nbconvert_exporter": "python",
   "pygments_lexer": "ipython3",
   "version": "3.7.12"
  }
 },
 "nbformat": 4,
 "nbformat_minor": 5
}
