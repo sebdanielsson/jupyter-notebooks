{
 "cells": [
  {
   "cell_type": "code",
   "execution_count": 39,
   "metadata": {},
   "outputs": [],
   "source": [
    "import requests\n",
    "from bs4 import BeautifulSoup\n",
    "\n",
    "# Prepare CSV file\n",
    "topRatedCSV = \"topRatedMovies.csv\"\n",
    "headers = \"tmdb_id\\ttitle\\trating\\n\"\n",
    "f = open(topRatedCSV, \"w+\")\n",
    "f.write(headers)\n",
    "\n",
    "# Scrape function\n",
    "def scrapePage(headers, url, n_pages):\n",
    "    # Loop through each page\n",
    "    for page in range(1, n_pages+1):\n",
    "        res_topRated = requests.get(url+'?page='+str(page), headers=headers)\n",
    "        topRated_html = BeautifulSoup(res_topRated.content, \"html.parser\")\n",
    "\n",
    "        print(url+'?page='+str(page), res_topRated.status_code, \"OK\")\n",
    "\n",
    "        topRated_container = topRated_html.find(\"div\", {\"class\": \"media_items\"})\n",
    "        topRated_titles = topRated_container.find_all('a', {\"class\": \"image\"}) # type: ignore\n",
    "        topRated_ratings = topRated_container.find_all('div', {\"class\": \"user_score_chart\"}) # type: ignore\n",
    "\n",
    "        for title in topRated_titles:\n",
    "            movie_id = topRated_titles[topRated_titles.index(title)].get('href').split('/')[2]\n",
    "            movie_title = topRated_titles[topRated_titles.index(title)].get('title')\n",
    "            movie_rating = topRated_ratings[topRated_titles.index(title)].get('data-percent').split('.')[0]\n",
    "            print(movie_id, movie_title, movie_rating, sep='\\t', file=f)"
   ]
  },
  {
   "cell_type": "code",
   "execution_count": 40,
   "metadata": {},
   "outputs": [
    {
     "name": "stdout",
     "output_type": "stream",
     "text": [
      "https://www.themoviedb.org/movie/top-rated?page=1 200 OK\n",
      "https://www.themoviedb.org/movie/top-rated?page=2 200 OK\n",
      "https://www.themoviedb.org/movie/top-rated?page=3 200 OK\n",
      "https://www.themoviedb.org/movie/top-rated?page=4 200 OK\n",
      "https://www.themoviedb.org/movie/top-rated?page=5 200 OK\n"
     ]
    }
   ],
   "source": [
    "# Scrape\n",
    "headers = {'user-agent': 'Mozilla/5.0 (Macintosh; Intel Mac OS X 13.3; rv:109) Gecko/20100101 Firefox/112.0'}\n",
    "url = 'https://www.themoviedb.org/movie/top-rated'\n",
    "n_pages = 5\n",
    "scrapePage(headers, url, n_pages)\n",
    "\n",
    "# Close CSV file\n",
    "f.close()"
   ]
  },
  {
   "cell_type": "code",
   "execution_count": null,
   "metadata": {},
   "outputs": [],
   "source": []
  }
 ],
 "metadata": {
  "kernelspec": {
   "display_name": "Python 3",
   "language": "python",
   "name": "python3"
  },
  "language_info": {
   "codemirror_mode": {
    "name": "ipython",
    "version": 3
   },
   "file_extension": ".py",
   "mimetype": "text/x-python",
   "name": "python",
   "nbconvert_exporter": "python",
   "pygments_lexer": "ipython3",
   "version": "3.11.3"
  },
  "orig_nbformat": 4
 },
 "nbformat": 4,
 "nbformat_minor": 2
}
