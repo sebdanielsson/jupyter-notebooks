{
 "cells": [
  {
   "attachments": {},
   "cell_type": "markdown",
   "metadata": {},
   "source": [
    "# GIK2KM Data Science & Machine Learning\n",
    "\n",
    "Dalarna University, VT23\n",
    "\n",
    "© Joonas Pääkkönen\n",
    "\n",
    "## Lab 3: Machine Learning\n",
    "\n",
    "### Deadline: Sunday May 7th, 2023, 23:59 CET time\n",
    "\n",
    "It is okay to work in pairs. However, if you work with another student, add his or her name below, too.\n",
    "\n",
    "Upload your .ipynb file to Learn. Use file name format “labX firstname lastname studentid.ipynb\",\n",
    "e.g., “lab6 jim jonsson v21abcde hanna jansson v21abcda.ipynb”.\n",
    "\n",
    "If you work as a pair, then only one of the two students submits the lab to Learn.\n",
    "\n",
    "For grade G: execute all the given tasks.\n",
    "\n",
    "Use Scikit-learn first and foremost, with the help of Pandas, NumPy, SciPy, Matplotlib and Seaborn, if needed.\n",
    "Remember that Pandas dataframes come in very handy in data science.\n",
    "Note: pairplots may take several seconds or even minutes to plot depending on how fast your system is.\n",
    "\n",
    "Plagiarism: Do not blindly copy-paste anything.\n",
    "You need to be able to explain your solution in your own words and analyse the results.\n",
    "The plagiarism rules of the university apply.\n",
    "As explained above, you may work in pairs but in that case, add both names and email addresses below.\n",
    "\n",
    "Make sure that your code runs before submitting.\n",
    "\n",
    "Do not modify this header information other than adding your name(s) and email(s) below:\n",
    "\n",
    "### Student name(s):\n",
    "\n",
    "* Sebastian Danielsson\n",
    "* Jesper Andersson\n",
    "\n",
    "### DU email address(es):\n",
    "\n",
    "* h21sebda@du.se\n",
    "* h21jespa@du.se"
   ]
  },
  {
   "cell_type": "markdown",
   "metadata": {},
   "source": [
    "## Task 1: k-means clustering"
   ]
  },
  {
   "cell_type": "markdown",
   "metadata": {},
   "source": [
    "Task 1.1: Download the DryBeanDataset.zip file from\n",
    "https://archive.ics.uci.edu/ml/datasets/Dry+Bean+Dataset and save Dry_Bean_Dataset.xlsx to variable \"beandata\"."
   ]
  },
  {
   "cell_type": "code",
   "execution_count": null,
   "metadata": {},
   "outputs": [],
   "source": []
  },
  {
   "cell_type": "markdown",
   "metadata": {},
   "source": [
    "Task 1.2: Plot the pairplot of beandata with hue set to \"Class\"."
   ]
  },
  {
   "cell_type": "code",
   "execution_count": null,
   "metadata": {},
   "outputs": [],
   "source": []
  },
  {
   "cell_type": "markdown",
   "metadata": {},
   "source": [
    "Task 1.3: Plot a scatterplot with compactness on the x-axis and minor axis length on the y-axis. Here all the datapoints should have the same color."
   ]
  },
  {
   "cell_type": "code",
   "execution_count": null,
   "metadata": {},
   "outputs": [],
   "source": []
  },
  {
   "cell_type": "markdown",
   "metadata": {},
   "source": [
    "Task 1.4: Use the Sklearn k-means algorithm to cluster the data into $k=2$ clusters, and plot a scatterplot that shows the clusters in different colors."
   ]
  },
  {
   "cell_type": "code",
   "execution_count": null,
   "metadata": {},
   "outputs": [],
   "source": []
  },
  {
   "cell_type": "markdown",
   "metadata": {},
   "source": [
    "Task 1.5: Use Sklearn to find and print the silhouette score of the clustering of Task 1.4."
   ]
  },
  {
   "cell_type": "code",
   "execution_count": null,
   "metadata": {},
   "outputs": [],
   "source": []
  },
  {
   "cell_type": "markdown",
   "metadata": {},
   "source": [
    "Task 1.6: Use the Sklearn k-means algorithm to cluster the data into $k=3$ clusters, and plot a scatterplot that shows the three clusters in different colors."
   ]
  },
  {
   "cell_type": "code",
   "execution_count": null,
   "metadata": {},
   "outputs": [],
   "source": []
  },
  {
   "cell_type": "markdown",
   "metadata": {},
   "source": [
    "Task 1.7: Use Sklearn to find and print the silhouette score of the clustering of Task 1.6."
   ]
  },
  {
   "cell_type": "code",
   "execution_count": null,
   "metadata": {},
   "outputs": [],
   "source": []
  },
  {
   "cell_type": "markdown",
   "metadata": {},
   "source": [
    "Task 1.8: Which number of clusters, with $k=2$ or $k=3$, gave the better performance in terms of the silhouette score? Are the results in line with what you see in the figures? Which number of clusters seems more suitable when you look at the scatterplots? Explain in your own words below."
   ]
  },
  {
   "cell_type": "markdown",
   "metadata": {},
   "source": []
  },
  {
   "cell_type": "markdown",
   "metadata": {},
   "source": [
    "## Task 2: Comparing clustering algorithms"
   ]
  },
  {
   "cell_type": "markdown",
   "metadata": {},
   "source": [
    "Task 2.1: Download buddymove_holidayiq.csv from https://archive.ics.uci.edu/ml/datasets/BuddyMove+Data+Set and save it to a variable called buddydata."
   ]
  },
  {
   "cell_type": "code",
   "execution_count": null,
   "metadata": {},
   "outputs": [],
   "source": []
  },
  {
   "cell_type": "markdown",
   "metadata": {},
   "source": [
    "Task 2.2: Use Seaborn to plot the pairplot of buddydata with only one color for each datapoint."
   ]
  },
  {
   "cell_type": "code",
   "execution_count": null,
   "metadata": {},
   "outputs": [],
   "source": []
  },
  {
   "cell_type": "markdown",
   "metadata": {},
   "source": [
    "Task 2.3: By looking at the pairplot, one might argue that based on features Nature and Shopping, the users could be grouped into 3 separate clusters. Plot only this scatterplot, with Nature on the x-axis and Shopping on the y-axis."
   ]
  },
  {
   "cell_type": "code",
   "execution_count": null,
   "metadata": {},
   "outputs": [],
   "source": []
  },
  {
   "cell_type": "markdown",
   "metadata": {},
   "source": [
    "Task 2.4: Assuming that we have 3 different user groups, how would you describe each of these groups by looking at the scatterplot? Explain in your own words below based on how many reviews the users of each user group have made. See the website referred to in Task 2.1. for explanations of the features. "
   ]
  },
  {
   "cell_type": "markdown",
   "metadata": {},
   "source": []
  },
  {
   "cell_type": "markdown",
   "metadata": {},
   "source": [
    "Task 2.5: Use Sklearn to build a k-means clustering model (for the 2-dimensional dataset of Task 2.3) with $k=3$, plot the corresponding scatterplot so that datapoints belonging to different clusters have different colors, and finally also print the corresponding silhouette score."
   ]
  },
  {
   "cell_type": "code",
   "execution_count": null,
   "metadata": {},
   "outputs": [],
   "source": []
  },
  {
   "cell_type": "markdown",
   "metadata": {},
   "source": [
    "Task 2.6: Use Sklearn to build a Gaussian mixture clustering model with 3 mixture components, plot the corresponding scatterplot so that datapoints belonging to different clusters have different colors, and finally also print the corresponding silhouette score."
   ]
  },
  {
   "cell_type": "code",
   "execution_count": null,
   "metadata": {},
   "outputs": [],
   "source": []
  },
  {
   "cell_type": "markdown",
   "metadata": {},
   "source": [
    "Task 2.7: Use Sklearn to build a DBSCAN clustering model with parameter values eps=1 and min_samples=1, plot the corresponding scatterplot so that datapoints belonging to different clusters have different colors, and finally also print the corresponding silhouette score."
   ]
  },
  {
   "cell_type": "code",
   "execution_count": null,
   "metadata": {
    "scrolled": true
   },
   "outputs": [],
   "source": []
  },
  {
   "cell_type": "markdown",
   "metadata": {},
   "source": [
    "Task 2.8: Try any other Sklearn clustering model (you can choose whichever you like), plot the corresponding scatterplot so that datapoints belonging to different clusters have different colors, and finally also print the corresponding silhouette score."
   ]
  },
  {
   "cell_type": "code",
   "execution_count": null,
   "metadata": {},
   "outputs": [],
   "source": []
  },
  {
   "cell_type": "markdown",
   "metadata": {},
   "source": [
    "Task 2.9: Which one of the four clustering models gave the best performance in terms of the silhouette score? Also explain in your own words which one you would recommend, and why?"
   ]
  },
  {
   "cell_type": "markdown",
   "metadata": {},
   "source": []
  },
  {
   "cell_type": "markdown",
   "metadata": {},
   "source": [
    "## Task 3: PCA"
   ]
  },
  {
   "cell_type": "markdown",
   "metadata": {},
   "source": [
    "Task 3.1: Here we continue with buddydata but only with the numeric columns. Save only the numeric columns of buddydata to a new variable called \"buddydatanum\". Include all the numeric features, not just Nature and Shopping. Also print a snapshot of buddydatanum by simply writing the variable name. How many observations and features does the buddydatanum dataset contain?"
   ]
  },
  {
   "cell_type": "code",
   "execution_count": null,
   "metadata": {},
   "outputs": [],
   "source": []
  },
  {
   "cell_type": "markdown",
   "metadata": {},
   "source": [
    "Task 3.2: Find the correlation matrix of buddydatanum, and use Seaborn to plot a heatmap of this correlation matrix."
   ]
  },
  {
   "cell_type": "code",
   "execution_count": null,
   "metadata": {},
   "outputs": [],
   "source": []
  },
  {
   "cell_type": "markdown",
   "metadata": {},
   "source": [
    "Task 3.3: Explain in your own words what you see in the heatmap."
   ]
  },
  {
   "cell_type": "markdown",
   "metadata": {},
   "source": []
  },
  {
   "cell_type": "markdown",
   "metadata": {},
   "source": [
    "Task 3.4: Use the Sklearn PCA algorithm with 2 PCA components by the PCA fit() function on buddydatanum."
   ]
  },
  {
   "cell_type": "code",
   "execution_count": null,
   "metadata": {},
   "outputs": [],
   "source": []
  },
  {
   "cell_type": "markdown",
   "metadata": {},
   "source": [
    "Task 3.5: Find the explained variance ratios of the two PCA components."
   ]
  },
  {
   "cell_type": "code",
   "execution_count": null,
   "metadata": {},
   "outputs": [],
   "source": []
  },
  {
   "cell_type": "markdown",
   "metadata": {},
   "source": [
    "Task 3.6: Repeat Task 3.4 and Task 3.5, but this time normalize the data using the preprocessing package. That is, first use the sklearn.preprocessing package to normalize buddydatanum, then run the Sklearn PCA algorithm with 2 PCA components by the PCA fit() function on the normalized version of buddydatanum."
   ]
  },
  {
   "cell_type": "code",
   "execution_count": null,
   "metadata": {},
   "outputs": [],
   "source": []
  },
  {
   "cell_type": "markdown",
   "metadata": {},
   "source": [
    "Task 3.7: Is there a difference in how much variance the first principle component of the \"not normalized\" data (of Task 3.4) explains when compared with how much variance the first principle component of the normalized data (of Task 3.6) explains? That is, are the explained variance ratios of the first principle components different without and with normalization? If so, do you believe the difference is noteworthy? Explain in your own words."
   ]
  },
  {
   "cell_type": "markdown",
   "metadata": {},
   "source": []
  },
  {
   "cell_type": "markdown",
   "metadata": {},
   "source": [
    "### Task 4: kNN classification"
   ]
  },
  {
   "cell_type": "markdown",
   "metadata": {},
   "source": [
    "Task 4.1: Let's say now we are interested in classifying all the beans of beandata, but we only know the \"AspectRation\" and the \"Area\" of the beans, in addition to the corresponding \"Class\" of the beans. Use Scikit-learn to build a kNN classifier with $k=3$. Train the model with a random $70\\%$ selection of the whole dataset, and leave the remaining $30\\%$ of the dataset as the test set."
   ]
  },
  {
   "cell_type": "code",
   "execution_count": null,
   "metadata": {},
   "outputs": [],
   "source": []
  },
  {
   "cell_type": "markdown",
   "metadata": {},
   "source": [
    "Task 4.2: Plot a Seaborn pairplot of the training set with only AspectRation and Area with hue set to Class."
   ]
  },
  {
   "cell_type": "code",
   "execution_count": null,
   "metadata": {},
   "outputs": [],
   "source": []
  },
  {
   "cell_type": "markdown",
   "metadata": {},
   "source": [
    "Task 4.3: Plot a Seaborn pairplot of the test set with only AspectRation and Area with hue set to the predicted class of the kNN classifier that you just built."
   ]
  },
  {
   "cell_type": "code",
   "execution_count": null,
   "metadata": {
    "scrolled": true
   },
   "outputs": [],
   "source": []
  },
  {
   "cell_type": "markdown",
   "metadata": {},
   "source": [
    "Task 4.4: Describe what you see in the pairplots above in your own words. How good do you believe the classification results are?"
   ]
  },
  {
   "cell_type": "markdown",
   "metadata": {},
   "source": []
  }
 ],
 "metadata": {
  "kernelspec": {
   "display_name": "Python 3 (ipykernel)",
   "language": "python",
   "name": "python3"
  },
  "language_info": {
   "codemirror_mode": {
    "name": "ipython",
    "version": 3
   },
   "file_extension": ".py",
   "mimetype": "text/x-python",
   "name": "python",
   "nbconvert_exporter": "python",
   "pygments_lexer": "ipython3",
   "version": "3.9.7"
  }
 },
 "nbformat": 4,
 "nbformat_minor": 4
}
