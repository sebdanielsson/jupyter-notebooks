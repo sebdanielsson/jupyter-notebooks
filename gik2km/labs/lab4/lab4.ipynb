{
 "cells": [
  {
   "attachments": {},
   "cell_type": "markdown",
   "metadata": {},
   "source": [
    "# Lab 4 - Data Scraping\n",
    "\n"
   ]
  },
  {
   "cell_type": "code",
   "execution_count": 62,
   "metadata": {},
   "outputs": [],
   "source": [
    "import requests\n",
    "\n",
    "USER_AGENT = \"Mozilla/5.0 (Macintosh; Intel Mac OS X 10.14; rv:65.0) Gecko/20100101 Firefox/65.0\"\n",
    "headers = {\"user-agent\": USER_AGENT}\n",
    "\n",
    "r1 = requests.get(\"https://www.techtarget.com/searchenterpriseai/definition/deep-learning-deep-neural-network\", headers=headers)\n",
    "r2 = requests.get(\"https://www.ibm.com/blog/what-policymakers-need-to-know-about-foundation-models/\", headers=headers)"
   ]
  },
  {
   "cell_type": "code",
   "execution_count": 63,
   "metadata": {},
   "outputs": [
    {
     "name": "stdout",
     "output_type": "stream",
     "text": [
      "Request 1 status code: 200\n",
      "Request 2 status code: 200\n"
     ]
    }
   ],
   "source": [
    "from bs4 import BeautifulSoup, Tag\n",
    "import sys\n",
    "\n",
    "if r1.status_code == 200:\n",
    "    soup1 = BeautifulSoup(r1.content, \"html.parser\")\n",
    "    print(\"Request 1 status code:\", r1.status_code)\n",
    "else:\n",
    "    print(\"Scraping is not possible. Status code:\", r1.status_code)\n",
    "    sys.exit(0)\n",
    "\n",
    "if r2.status_code == 200:\n",
    "    soup2 = BeautifulSoup(r2.content, \"html.parser\")\n",
    "    print(\"Request 2 status code:\", r2.status_code)\n",
    "else:\n",
    "    print(\"Scraping is not possible. Status code:\", r2.status_code)\n",
    "    sys.exit(0)"
   ]
  },
  {
   "cell_type": "code",
   "execution_count": 64,
   "metadata": {},
   "outputs": [],
   "source": [
    "website1 = \"website1.txt\"\n",
    "\n",
    "text1 = soup1.find(\"section\", {\"id\": \"content-body\"})\n",
    "\n",
    "if isinstance(text1, Tag):\n",
    "    anchors1 = text1.find_all(\"section\", {\"class\": \"section main-article-chapter\"})\n",
    "else:\n",
    "    print(\"No valid section found\")\n",
    "    anchors1 = []\n",
    "\n",
    "with open(website1, \"w\") as f1:\n",
    "    for anchor in anchors1:\n",
    "        elements = anchor.find_all(['h1', 'h2', 'h3', 'h4', 'h5', 'h6', 'p', 'li'])\n",
    "        for tags in elements:\n",
    "            summary = tags.text\n",
    "            # print(summary)\n",
    "            f1.write(summary + \"\\n\\n\")\n",
    "\n",
    "f1.close()"
   ]
  },
  {
   "cell_type": "code",
   "execution_count": 69,
   "metadata": {},
   "outputs": [],
   "source": [
    "website2 = \"website2.txt\"\n",
    "\n",
    "text2 = soup2.find(\"div\", {\"class\": \"grid__content post post--IBM_blog\"})\n",
    "\n",
    "if isinstance(text2, Tag):\n",
    "    anchors2 = text2.find_all(\"main\", {\"class\": \"post__content\"})\n",
    "else:\n",
    "    print(\"No valid section found\")\n",
    "    anchors2 = []\n",
    "\n",
    "with open(website2, \"w\") as f2:\n",
    "    for anchor in anchors2:\n",
    "        elements = anchor.find_all(['h1', 'h2', 'h3', 'h4', 'h5', 'h6', 'p', 'ol'])\n",
    "        for tags in elements:\n",
    "            summary = tags.text\n",
    "            # print(summary)\n",
    "            f2.write(summary + \"\\n\\n\")\n",
    "\n",
    "f2.close()"
   ]
  }
 ],
 "metadata": {
  "kernelspec": {
   "display_name": "Python 3",
   "language": "python",
   "name": "python3"
  },
  "language_info": {
   "codemirror_mode": {
    "name": "ipython",
    "version": 3
   },
   "file_extension": ".py",
   "mimetype": "text/x-python",
   "name": "python",
   "nbconvert_exporter": "python",
   "pygments_lexer": "ipython3",
   "version": "3.11.2"
  },
  "orig_nbformat": 4
 },
 "nbformat": 4,
 "nbformat_minor": 2
}
