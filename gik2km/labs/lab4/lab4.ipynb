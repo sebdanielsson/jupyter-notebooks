{
 "cells": [
  {
   "attachments": {},
   "cell_type": "markdown",
   "metadata": {},
   "source": [
    "# Lab 4 - Data Scraping\n",
    "\n",
    "## Task 1"
   ]
  },
  {
   "cell_type": "code",
   "execution_count": 1,
   "metadata": {},
   "outputs": [],
   "source": [
    "import requests\n",
    "from bs4 import BeautifulSoup\n",
    "import sys\n",
    "\n",
    "USER_AGENT = \"Mozilla/5.0 (Macintosh; Intel Mac OS X 13.3; rv:109) Gecko/20100101 Firefox/112.0\"\n",
    "headers = {\"user-agent\": USER_AGENT}"
   ]
  },
  {
   "cell_type": "code",
   "execution_count": 2,
   "metadata": {},
   "outputs": [
    {
     "name": "stdout",
     "output_type": "stream",
     "text": [
      "Request 1 status code: 200\n"
     ]
    }
   ],
   "source": [
    "r1 = requests.get(\"https://www.techtarget.com/searchenterpriseai/definition/deep-learning-deep-neural-network\", headers=headers)\n",
    "\n",
    "if r1.status_code == 200:\n",
    "    soup1 = BeautifulSoup(r1.content, \"html.parser\")\n",
    "    print(\"Request 1 status code:\", r1.status_code)\n",
    "else:\n",
    "    print(\"Scraping is not possible. Status code:\", r1.status_code)\n",
    "    sys.exit(0)\n",
    "\n",
    "website1 = \"website1.txt\"\n",
    "\n",
    "text1 = soup1.find(\"section\", {\"id\": \"content-body\"})\n",
    "\n",
    "anchors1 = text1.find_all(\"section\", {\"class\": \"section main-article-chapter\"}) # type: ignore\n",
    "\n",
    "with open(website1, \"w\") as f1:\n",
    "    for anchor in anchors1:\n",
    "        elements = anchor.find_all(['h1', 'h2', 'h3', 'h4', 'h5', 'h6', 'p', 'li'])\n",
    "        for tags in elements:\n",
    "            summary = tags.text\n",
    "            # print(summary)\n",
    "            f1.write(summary + \"\\n\\n\")\n",
    "\n",
    "f1.close()"
   ]
  },
  {
   "cell_type": "code",
   "execution_count": 3,
   "metadata": {},
   "outputs": [
    {
     "name": "stdout",
     "output_type": "stream",
     "text": [
      "Request 2 status code: 200\n"
     ]
    }
   ],
   "source": [
    "r2 = requests.get(\"https://www.ibm.com/blog/what-policymakers-need-to-know-about-foundation-models/\", headers=headers)\n",
    "\n",
    "if r2.status_code == 200:\n",
    "    soup2 = BeautifulSoup(r2.content, \"html.parser\")\n",
    "    print(\"Request 2 status code:\", r2.status_code)\n",
    "else:\n",
    "    print(\"Scraping is not possible. Status code:\", r2.status_code)\n",
    "    sys.exit(0)\n",
    "\n",
    "website2 = \"website2.txt\"\n",
    "\n",
    "text2 = soup2.find(\"div\", {\"class\": \"grid__content post post--IBM_blog\"})\n",
    "\n",
    "anchors2 = text2.find_all(\"main\", {\"class\": \"post__content\"}) # type: ignore\n",
    "\n",
    "with open(website2, \"w\") as f2:\n",
    "    for anchor in anchors2:\n",
    "        elements = anchor.find_all(['h1', 'h2', 'h3', 'h4', 'h5', 'h6', 'p', 'ol'])\n",
    "        for tags in elements:\n",
    "            summary = tags.text\n",
    "            # print(summary)\n",
    "            f2.write(summary + \"\\n\\n\")\n",
    "\n",
    "f2.close()"
   ]
  },
  {
   "attachments": {},
   "cell_type": "markdown",
   "metadata": {},
   "source": [
    "## Task 2"
   ]
  },
  {
   "cell_type": "code",
   "execution_count": 4,
   "metadata": {},
   "outputs": [
    {
     "name": "stdout",
     "output_type": "stream",
     "text": [
      "Request 3 status code: 200\n"
     ]
    }
   ],
   "source": [
    "import requests\n",
    "from bs4 import BeautifulSoup\n",
    "import sys\n",
    "\n",
    "USER_AGENT = \"Mozilla/5.0 (Macintosh; Intel Mac OS X 13.3; rv:109) Gecko/20100101 Firefox/112.0\"\n",
    "headers = {\"user-agent\": USER_AGENT}\n",
    "\n",
    "r3 = requests.get(\"https://www.komplett.se/search?q=RTX%204090&hits=72&stockStatus=InStock&PendingRelease=false&nlevel=10000§28003§10412\", headers=headers)\n",
    "\n",
    "if r3.status_code == 200:\n",
    "    soup3 = BeautifulSoup(r3.content, \"html.parser\")\n",
    "    print(\"Request 3 status code:\", r3.status_code)\n",
    "else:\n",
    "    print(\"Scrape Error:\", r3.status_code)\n",
    "    sys.exit(0)"
   ]
  },
  {
   "cell_type": "code",
   "execution_count": 5,
   "metadata": {},
   "outputs": [],
   "source": [
    "productlist = soup3.find(\"form\", {\"class\": \"product-list\"})\n",
    "products = productlist.find_all('div', {\"class\": \"product-box-container\"}) # type: ignore\n",
    "\n",
    "out_filename = \"komplett_rtx4090.csv\"\n",
    "headers = \"name,price,rating,stock\\n\"\n",
    "\n",
    "f = open(out_filename, \"w+\")\n",
    "f.write(headers)\n",
    "\n",
    "for product in products:\n",
    "    if product:\n",
    "        name = product.find(\"a\", {\"class\" : \"product-link\"})\n",
    "        price = product.find(\"span\", {\"class\" : \"product-price-now\"})\n",
    "        rating = product.find(\"span\", {\"class\" : \"rating-stars\"})\n",
    "        stock = product.find(\"span\", {\"class\" : \"stockstatus-stock-details\"})\n",
    "\n",
    "        if rating is None:\n",
    "            a = name.get('title')\n",
    "            b = price.text\n",
    "            c = None\n",
    "            d = stock.text\n",
    "        else:\n",
    "            a = name.get('title')\n",
    "            b = price.text\n",
    "            c = rating.get('title')\n",
    "            d = stock.text\n",
    "\n",
    "        print(a, b, c, d, sep=',', file=f)\n",
    "\n",
    "f.close()"
   ]
  }
 ],
 "metadata": {
  "kernelspec": {
   "display_name": "Python 3",
   "language": "python",
   "name": "python3"
  },
  "language_info": {
   "codemirror_mode": {
    "name": "ipython",
    "version": 3
   },
   "file_extension": ".py",
   "mimetype": "text/x-python",
   "name": "python",
   "nbconvert_exporter": "python",
   "pygments_lexer": "ipython3",
   "version": "3.11.2"
  },
  "orig_nbformat": 4
 },
 "nbformat": 4,
 "nbformat_minor": 2
}
