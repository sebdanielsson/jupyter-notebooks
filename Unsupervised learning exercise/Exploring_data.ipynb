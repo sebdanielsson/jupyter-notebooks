{
 "cells": [
  {
   "cell_type": "code",
   "execution_count": null,
   "id": "bfca72d8",
   "metadata": {},
   "outputs": [],
   "source": [
    "import numpy as np\n",
    "import pandas as pd\n",
    "import seaborn as sns\n",
    "import matplotlib.pyplot as plt\n",
    "%matplotlib inline"
   ]
  },
  {
   "cell_type": "code",
   "execution_count": null,
   "id": "e90aa5cf",
   "metadata": {},
   "outputs": [],
   "source": [
    "customer_data = pd.read_csv('shopping-data.csv')\n",
    "\n",
    "customer_data.head()"
   ]
  },
  {
   "cell_type": "code",
   "execution_count": null,
   "id": "a6a1f747",
   "metadata": {},
   "outputs": [],
   "source": [
    "customer_data.describe()"
   ]
  },
  {
   "cell_type": "code",
   "execution_count": null,
   "id": "3e448538",
   "metadata": {},
   "outputs": [],
   "source": [
    "# Bivariate analysis\n",
    "\n",
    "# Scatter plot\n",
    "plt.scatter(customer_data.iloc[:,3].values, customer_data.iloc[:,4].values)\n",
    "plt.show()\n"
   ]
  },
  {
   "cell_type": "code",
   "execution_count": null,
   "id": "f5261f7a",
   "metadata": {},
   "outputs": [],
   "source": [
    "# Scatter plot 2\n",
    "\n",
    "customer_data.plot.scatter(x=\"Age\", y=\"Annual Income (k$)\")\n",
    "plt.show\n"
   ]
  },
  {
   "cell_type": "code",
   "execution_count": null,
   "id": "e4ac2eba",
   "metadata": {},
   "outputs": [],
   "source": [
    "# Pair plot using seaborn library\n",
    "\n",
    "sns.pairplot(data=customer_data, vars=['Age','Annual Income (k$)','Spending Score (1-100)'])\n",
    "plt.show()"
   ]
  },
  {
   "cell_type": "code",
   "execution_count": null,
   "id": "11706c71",
   "metadata": {
    "scrolled": true
   },
   "outputs": [],
   "source": [
    "# Correlation matrix\n",
    "customer_data[['Age','Annual Income (k$)','Spending Score (1-100)']].corr()\n",
    "\n",
    "sns.heatmap(customer_data[['Age','Annual Income (k$)','Spending Score (1-100)']].corr(), annot=True, cmap='Reds')\n",
    "plt.show"
   ]
  },
  {
   "cell_type": "code",
   "execution_count": null,
   "id": "f0b2e3d8",
   "metadata": {},
   "outputs": [],
   "source": [
    "x=customer_data.iloc[:,1]\n",
    "y=customer_data.iloc[:,4]\n",
    "\n",
    "sns.boxplot(data=customer_data, x=\"Spending Score (1-100)\", y=\"Genre\")\n",
    "plt.show"
   ]
  },
  {
   "cell_type": "code",
   "execution_count": null,
   "id": "4978d662",
   "metadata": {},
   "outputs": [],
   "source": [
    "# Comparing numerical and categorical data\n",
    "\n",
    "customer_data.groupby('Genre')['Spending Score (1-100)'].mean()"
   ]
  },
  {
   "cell_type": "code",
   "execution_count": null,
   "id": "4dfcbadd",
   "metadata": {},
   "outputs": [],
   "source": []
  }
 ],
 "metadata": {
  "kernelspec": {
   "display_name": "Python 3.10.8",
   "language": "python",
   "name": "python3"
  },
  "language_info": {
   "codemirror_mode": {
    "name": "ipython",
    "version": 3
   },
   "file_extension": ".py",
   "mimetype": "text/x-python",
   "name": "python",
   "nbconvert_exporter": "python",
   "pygments_lexer": "ipython3",
   "version": "3.10.8"
  },
  "vscode": {
   "interpreter": {
    "hash": "73a4deffa37449eec2906a82541729956dc4ede81d351440dc1e5a408dd292eb"
   }
  }
 },
 "nbformat": 4,
 "nbformat_minor": 5
}
