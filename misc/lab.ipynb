{
 "cells": [
  {
   "cell_type": "code",
   "execution_count": 185,
   "metadata": {},
   "outputs": [
    {
     "data": {
      "text/plain": [
       "(array([51, 55, 51, 10, 34, 41, 41,  8, 27, 30, 51, 58, 18, 11, 44, 63, 98,\n",
       "        66, 20, 94,  7,  6, 69, 67, 41, 81, 72, 41, 25, 88, 53, 23, 42,  7,\n",
       "        79, 52, 40, 25, 32, 21, 19, 36, 97, 85, 89, 97, 92, 45, 83, 23]),\n",
       " array([99, 32, 51, 19, 79,  8, 12, 64, 75, 58, 59, 39, 42, 87, 65, 35, 82,\n",
       "        43, 53, 71,  4, 41, 92, 77, 40, 86, 26,  1, 35, 66, 44, 38, 90, 88,\n",
       "        43, 69, 53, 72, 94,  2]))"
      ]
     },
     "execution_count": 185,
     "metadata": {},
     "output_type": "execute_result"
    }
   ],
   "source": [
    "import numpy as np\n",
    "\n",
    "#np.random.seed(0)  # Set a seed for reproducibility\n",
    "a = np.random.randint(1, 100, 50)\n",
    "b = np.random.randint(1, 100, 40)\n",
    "\n",
    "a, b\n"
   ]
  },
  {
   "cell_type": "code",
   "execution_count": 186,
   "metadata": {},
   "outputs": [
    {
     "data": {
      "text/plain": [
       "3695151772044771844"
      ]
     },
     "execution_count": 186,
     "metadata": {},
     "output_type": "execute_result"
    }
   ],
   "source": [
    "def calculate_expression(a, b):\n",
    "    a = np.array(a)\n",
    "    b = np.array(b)\n",
    "\n",
    "    # Ensure the elements of a and b are positive integers less than 100\n",
    "    if np.any(a >= 100) or np.any(b >= 100) or np.any(a <= 0) or np.any(b <= 0):\n",
    "        raise ValueError(\"Elements in a and b must be positive integers less than 100.\")\n",
    "\n",
    "    # Ensure the length of a and b is correct\n",
    "    if len(a) != 50 or len(b) != 40:\n",
    "        raise ValueError(\"Length of array a must be 50 and length of array b must be 40.\")\n",
    "\n",
    "    # Compute the first summation (up to n = 50)\n",
    "    n = len(a)\n",
    "    a_padded = np.pad(a, (0, max(0, n - len(a))), constant_values=0)[:n]\n",
    "    b_padded = np.pad(b, (0, max(0, n - len(b))), constant_values=0)[:n]\n",
    "    first_sum = np.sum((a_padded**4 + b_padded**2)**3)\n",
    "\n",
    "    # Compute the second summation (up to m = 40)\n",
    "    m = len(b)\n",
    "    a_padded_m = np.pad(a, (0, max(0, m - len(a))), constant_values=0)[:m]\n",
    "    b_padded_m = np.pad(b, (0, max(0, m - len(b))), constant_values=0)[:m]\n",
    "    second_sum = np.sum((a_padded_m**2 - b_padded_m)**2)\n",
    "\n",
    "    return first_sum + second_sum\n",
    "\n",
    "# Recalculating the expression with the corrected function\n",
    "result_corrected = calculate_expression(a, b)\n",
    "result_corrected\n"
   ]
  },
  {
   "cell_type": "code",
   "execution_count": 187,
   "metadata": {},
   "outputs": [
    {
     "data": {
      "text/plain": [
       "3.921301869876507e+24"
      ]
     },
     "execution_count": 187,
     "metadata": {},
     "output_type": "execute_result"
    }
   ],
   "source": [
    "def calculate_expression_float(a, b):\n",
    "    a = np.array(a, dtype=np.float64)\n",
    "    b = np.array(b, dtype=np.float64)\n",
    "\n",
    "    # Check if elements in a and b are within the specified range\n",
    "    if np.any(a >= 100) or np.any(b >= 100) or np.any(a <= 0) or np.any(b <= 0):\n",
    "        raise ValueError(\"Elements in a and b must be positive integers less than 100.\")\n",
    "\n",
    "    # Ensure the length of a and b does not exceed n=50 and m=40 respectively\n",
    "    if len(a) > 50 or len(b) > 40:\n",
    "        raise ValueError(\"Length of array a must not exceed 50 and length of array b must not exceed 40.\")\n",
    "\n",
    "    # Compute the first summation (up to n = 50)\n",
    "    n = len(a)\n",
    "    a_padded = np.pad(a, (0, max(0, n - len(a))), constant_values=0)[:n]\n",
    "    b_padded = np.pad(b, (0, max(0, n - len(b))), constant_values=0)[:n]\n",
    "    first_sum = np.sum((a_padded**4 + b_padded**2)**3)\n",
    "\n",
    "    # Compute the second summation (up to m = 40)\n",
    "    m = len(b)\n",
    "    a_padded_m = np.pad(a, (0, max(0, m - len(a))), constant_values=0)[:m]\n",
    "    b_padded_m = np.pad(b, (0, max(0, m - len(b))), constant_values=0)[:m]\n",
    "    second_sum = np.sum((a_padded_m**2 - b_padded_m)**2)\n",
    "\n",
    "    return first_sum + second_sum\n",
    "\n",
    "# Let's try recalculating with the same a and b arrays using this modified function\n",
    "result_with_large_numbers = calculate_expression_float(a, b)\n",
    "result_with_large_numbers\n"
   ]
  },
  {
   "cell_type": "code",
   "execution_count": null,
   "metadata": {},
   "outputs": [],
   "source": []
  }
 ],
 "metadata": {
  "kernelspec": {
   "display_name": "Python 3",
   "language": "python",
   "name": "python3"
  },
  "language_info": {
   "codemirror_mode": {
    "name": "ipython",
    "version": 3
   },
   "file_extension": ".py",
   "mimetype": "text/x-python",
   "name": "python",
   "nbconvert_exporter": "python",
   "pygments_lexer": "ipython3",
   "version": "3.11.6"
  }
 },
 "nbformat": 4,
 "nbformat_minor": 2
}
