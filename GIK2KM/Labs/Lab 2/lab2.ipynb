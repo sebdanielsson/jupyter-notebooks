{
 "cells": [
  {
   "attachments": {},
   "cell_type": "markdown",
   "metadata": {},
   "source": [
    "# GIK2KM - Lab 2 - Hypothoses Testing in Python"
   ]
  },
  {
   "attachments": {},
   "cell_type": "markdown",
   "metadata": {},
   "source": [
    "## Warming up in Python"
   ]
  },
  {
   "cell_type": "code",
   "execution_count": 1,
   "metadata": {},
   "outputs": [
    {
     "data": {
      "text/html": [
       "<div>\n",
       "<style scoped>\n",
       "    .dataframe tbody tr th:only-of-type {\n",
       "        vertical-align: middle;\n",
       "    }\n",
       "\n",
       "    .dataframe tbody tr th {\n",
       "        vertical-align: top;\n",
       "    }\n",
       "\n",
       "    .dataframe thead th {\n",
       "        text-align: right;\n",
       "    }\n",
       "</style>\n",
       "<table border=\"1\" class=\"dataframe\">\n",
       "  <thead>\n",
       "    <tr style=\"text-align: right;\">\n",
       "      <th></th>\n",
       "      <th>0</th>\n",
       "    </tr>\n",
       "  </thead>\n",
       "  <tbody>\n",
       "    <tr>\n",
       "      <th>count</th>\n",
       "      <td>12.000000</td>\n",
       "    </tr>\n",
       "    <tr>\n",
       "      <th>mean</th>\n",
       "      <td>47.333333</td>\n",
       "    </tr>\n",
       "    <tr>\n",
       "      <th>std</th>\n",
       "      <td>31.858589</td>\n",
       "    </tr>\n",
       "    <tr>\n",
       "      <th>min</th>\n",
       "      <td>5.000000</td>\n",
       "    </tr>\n",
       "    <tr>\n",
       "      <th>25%</th>\n",
       "      <td>18.750000</td>\n",
       "    </tr>\n",
       "    <tr>\n",
       "      <th>50%</th>\n",
       "      <td>46.500000</td>\n",
       "    </tr>\n",
       "    <tr>\n",
       "      <th>75%</th>\n",
       "      <td>68.000000</td>\n",
       "    </tr>\n",
       "    <tr>\n",
       "      <th>max</th>\n",
       "      <td>97.000000</td>\n",
       "    </tr>\n",
       "  </tbody>\n",
       "</table>\n",
       "</div>"
      ],
      "text/plain": [
       "               0\n",
       "count  12.000000\n",
       "mean   47.333333\n",
       "std    31.858589\n",
       "min     5.000000\n",
       "25%    18.750000\n",
       "50%    46.500000\n",
       "75%    68.000000\n",
       "max    97.000000"
      ]
     },
     "execution_count": 1,
     "metadata": {},
     "output_type": "execute_result"
    }
   ],
   "source": [
    "import pandas as pd\n",
    "\n",
    "# Create a DataFrame with the samples\n",
    "values = pd.DataFrame([26, 37, 56, 89, 19, 86, 97, 62, 58, 5, 18, 15])\n",
    "\n",
    "# Print median, mean, max, min, standard deviation, number of samples\n",
    "values.describe()"
   ]
  },
  {
   "cell_type": "code",
   "execution_count": 2,
   "metadata": {},
   "outputs": [
    {
     "data": {
      "text/html": [
       "<div>\n",
       "<style scoped>\n",
       "    .dataframe tbody tr th:only-of-type {\n",
       "        vertical-align: middle;\n",
       "    }\n",
       "\n",
       "    .dataframe tbody tr th {\n",
       "        vertical-align: top;\n",
       "    }\n",
       "\n",
       "    .dataframe thead th {\n",
       "        text-align: right;\n",
       "    }\n",
       "</style>\n",
       "<table border=\"1\" class=\"dataframe\">\n",
       "  <thead>\n",
       "    <tr style=\"text-align: right;\">\n",
       "      <th></th>\n",
       "      <th>0</th>\n",
       "    </tr>\n",
       "  </thead>\n",
       "  <tbody>\n",
       "    <tr>\n",
       "      <th>9</th>\n",
       "      <td>5</td>\n",
       "    </tr>\n",
       "    <tr>\n",
       "      <th>11</th>\n",
       "      <td>15</td>\n",
       "    </tr>\n",
       "    <tr>\n",
       "      <th>10</th>\n",
       "      <td>18</td>\n",
       "    </tr>\n",
       "    <tr>\n",
       "      <th>4</th>\n",
       "      <td>19</td>\n",
       "    </tr>\n",
       "    <tr>\n",
       "      <th>0</th>\n",
       "      <td>26</td>\n",
       "    </tr>\n",
       "    <tr>\n",
       "      <th>1</th>\n",
       "      <td>37</td>\n",
       "    </tr>\n",
       "    <tr>\n",
       "      <th>2</th>\n",
       "      <td>56</td>\n",
       "    </tr>\n",
       "    <tr>\n",
       "      <th>8</th>\n",
       "      <td>58</td>\n",
       "    </tr>\n",
       "    <tr>\n",
       "      <th>7</th>\n",
       "      <td>62</td>\n",
       "    </tr>\n",
       "    <tr>\n",
       "      <th>5</th>\n",
       "      <td>86</td>\n",
       "    </tr>\n",
       "    <tr>\n",
       "      <th>3</th>\n",
       "      <td>89</td>\n",
       "    </tr>\n",
       "    <tr>\n",
       "      <th>6</th>\n",
       "      <td>97</td>\n",
       "    </tr>\n",
       "  </tbody>\n",
       "</table>\n",
       "</div>"
      ],
      "text/plain": [
       "     0\n",
       "9    5\n",
       "11  15\n",
       "10  18\n",
       "4   19\n",
       "0   26\n",
       "1   37\n",
       "2   56\n",
       "8   58\n",
       "7   62\n",
       "5   86\n",
       "3   89\n",
       "6   97"
      ]
     },
     "execution_count": 2,
     "metadata": {},
     "output_type": "execute_result"
    }
   ],
   "source": [
    "# Sort the values in ascending order\n",
    "values.sort_values(by=0, ascending=True)"
   ]
  },
  {
   "cell_type": "code",
   "execution_count": 3,
   "metadata": {},
   "outputs": [
    {
     "data": {
      "text/html": [
       "<div>\n",
       "<style scoped>\n",
       "    .dataframe tbody tr th:only-of-type {\n",
       "        vertical-align: middle;\n",
       "    }\n",
       "\n",
       "    .dataframe tbody tr th {\n",
       "        vertical-align: top;\n",
       "    }\n",
       "\n",
       "    .dataframe thead th {\n",
       "        text-align: right;\n",
       "    }\n",
       "</style>\n",
       "<table border=\"1\" class=\"dataframe\">\n",
       "  <thead>\n",
       "    <tr style=\"text-align: right;\">\n",
       "      <th></th>\n",
       "      <th>0</th>\n",
       "    </tr>\n",
       "  </thead>\n",
       "  <tbody>\n",
       "    <tr>\n",
       "      <th>6</th>\n",
       "      <td>97</td>\n",
       "    </tr>\n",
       "    <tr>\n",
       "      <th>3</th>\n",
       "      <td>89</td>\n",
       "    </tr>\n",
       "    <tr>\n",
       "      <th>5</th>\n",
       "      <td>86</td>\n",
       "    </tr>\n",
       "    <tr>\n",
       "      <th>7</th>\n",
       "      <td>62</td>\n",
       "    </tr>\n",
       "    <tr>\n",
       "      <th>8</th>\n",
       "      <td>58</td>\n",
       "    </tr>\n",
       "    <tr>\n",
       "      <th>2</th>\n",
       "      <td>56</td>\n",
       "    </tr>\n",
       "    <tr>\n",
       "      <th>1</th>\n",
       "      <td>37</td>\n",
       "    </tr>\n",
       "    <tr>\n",
       "      <th>0</th>\n",
       "      <td>26</td>\n",
       "    </tr>\n",
       "    <tr>\n",
       "      <th>4</th>\n",
       "      <td>19</td>\n",
       "    </tr>\n",
       "    <tr>\n",
       "      <th>10</th>\n",
       "      <td>18</td>\n",
       "    </tr>\n",
       "    <tr>\n",
       "      <th>11</th>\n",
       "      <td>15</td>\n",
       "    </tr>\n",
       "    <tr>\n",
       "      <th>9</th>\n",
       "      <td>5</td>\n",
       "    </tr>\n",
       "  </tbody>\n",
       "</table>\n",
       "</div>"
      ],
      "text/plain": [
       "     0\n",
       "6   97\n",
       "3   89\n",
       "5   86\n",
       "7   62\n",
       "8   58\n",
       "2   56\n",
       "1   37\n",
       "0   26\n",
       "4   19\n",
       "10  18\n",
       "11  15\n",
       "9    5"
      ]
     },
     "execution_count": 3,
     "metadata": {},
     "output_type": "execute_result"
    }
   ],
   "source": [
    "# Sort the values in descending order\n",
    "values.sort_values(by=0, ascending=False)"
   ]
  },
  {
   "cell_type": "code",
   "execution_count": 4,
   "metadata": {},
   "outputs": [
    {
     "data": {
      "image/png": "[encoded data removed]",
      "text/plain": [
       "<Figure size 640x480 with 1 Axes>"
      ]
     },
     "metadata": {},
     "output_type": "display_data"
    },
    {
     "data": {
      "image/png": "[encoded data removed]",
      "text/plain": [
       "<Figure size 640x480 with 1 Axes>"
      ]
     },
     "metadata": {},
     "output_type": "display_data"
    }
   ],
   "source": [
    "import matplotlib.pyplot as plt\n",
    "import numpy as np\n",
    "\n",
    "# Plot the values in a bar chart\n",
    "fig,ax = plt.subplots(1,1)\n",
    "ax.set_title(\"bar chart of samples\")\n",
    "ax.bar(np.arange(0,12,1), values[0])\n",
    "ax.set_xlabel(\"sample\")\n",
    "ax.set_xticks(np.arange(0,12,1))\n",
    "ax.set_ylabel(\"value\")\n",
    "ax.set_yticks(np.arange(0,100.1,10))\n",
    "plt.show()\n",
    "\n",
    "# Plot the values in a histogram\n",
    "fig,ax = plt.subplots(1,1)\n",
    "ax.set_title(\"histogram of samples\")\n",
    "ax.hist(values, bins = [0,10,20,30,40,50,60,60,80,90,100])\n",
    "ax.set_xlabel(\"value\")\n",
    "ax.set_xticks(np.arange(0,100.1,10))\n",
    "ax.set_ylabel(\"frequency\")\n",
    "ax.set_yticks(np.arange(0,4,1))\n",
    "plt.show()"
   ]
  },
  {
   "attachments": {},
   "cell_type": "markdown",
   "metadata": {},
   "source": [
    "## One Sample t-test: Compare the mean of a single sample with a known population mean\n",
    "\n",
    "1. Watch this movie clip: One Sample t-Test [4 min], in where a one sample t-test is performed manually using look-up tables and so on.\n",
    "\n",
    "(a) Notes: In the video, the significance level is 5%, i.e. α = 0.05. The degrees of freedom (df) is 29, which is the number of samples minus 1 (You don’t have to think about the df when using Python!). The test statistic (shown after 3min:30sec in the video) i.e. the t-value is computed by a built-in in function in Python.\n",
    "\n",
    "2. When searching for tests you will often find the z-test, as well as the t-test. What is the basic difference in between a z-test and a t-test?\n",
    "\n",
    "**Answer:  \n",
    "To use the z test one need to know the SD (standard deviation) for the whole population. If the SD for the population is unknown, it needs to be estimated with the t-test.**"
   ]
  },
  {
   "attachments": {},
   "cell_type": "markdown",
   "metadata": {},
   "source": [
    "3. By using Python, repeat the same One-sample t-test as shown in the video. Note: You do should not use a t-distribution look-up table as in the video. Instead, an exact p-value will be computed for you in Python! Compare the results! They should be just about the same as in the video ... :)\n",
    "\n",
    "Use this data set for the analysis:  \n",
    "125.2994, 126.4402, 171.2639, 143.5338, 160.2288, 97.2396, 132.6253, 125.3658, 157.1991, 155.7616, 130.6605, 149.1697, 134.3806, 138.2204, 146.3384, 117.8715, 152.3988, 172.9519, 159.7141, 132.7292, 137.4430, 190.0342, 116.9569, 134.5817, 149.3947, 130.4849, 124.4223, 127.3084, 108.9376, 151.0511\n",
    "\n",
    "**Answer:**  \n",
    "H0; μ = 100 (Mean IQ for the population.)  \n",
    "H1; μ ≠ 100 (Mean IQ for the sample population is not 100)  \n",
    "alpha; α = 0.05 (We'll use a significance level/alpha of 0.05 to calculate a 95% confidence interval.)  "
   ]
  },
  {
   "cell_type": "code",
   "execution_count": 5,
   "metadata": {},
   "outputs": [
    {
     "data": {
      "text/html": [
       "<div>\n",
       "<style scoped>\n",
       "    .dataframe tbody tr th:only-of-type {\n",
       "        vertical-align: middle;\n",
       "    }\n",
       "\n",
       "    .dataframe tbody tr th {\n",
       "        vertical-align: top;\n",
       "    }\n",
       "\n",
       "    .dataframe thead th {\n",
       "        text-align: right;\n",
       "    }\n",
       "</style>\n",
       "<table border=\"1\" class=\"dataframe\">\n",
       "  <thead>\n",
       "    <tr style=\"text-align: right;\">\n",
       "      <th></th>\n",
       "      <th>0</th>\n",
       "    </tr>\n",
       "  </thead>\n",
       "  <tbody>\n",
       "    <tr>\n",
       "      <th>count</th>\n",
       "      <td>30.000000</td>\n",
       "    </tr>\n",
       "    <tr>\n",
       "      <th>mean</th>\n",
       "      <td>140.000247</td>\n",
       "    </tr>\n",
       "    <tr>\n",
       "      <th>std</th>\n",
       "      <td>19.997537</td>\n",
       "    </tr>\n",
       "    <tr>\n",
       "      <th>min</th>\n",
       "      <td>97.239600</td>\n",
       "    </tr>\n",
       "    <tr>\n",
       "      <th>25%</th>\n",
       "      <td>126.657250</td>\n",
       "    </tr>\n",
       "    <tr>\n",
       "      <th>50%</th>\n",
       "      <td>136.012350</td>\n",
       "    </tr>\n",
       "    <tr>\n",
       "      <th>75%</th>\n",
       "      <td>152.061875</td>\n",
       "    </tr>\n",
       "    <tr>\n",
       "      <th>max</th>\n",
       "      <td>190.034200</td>\n",
       "    </tr>\n",
       "  </tbody>\n",
       "</table>\n",
       "</div>"
      ],
      "text/plain": [
       "                0\n",
       "count   30.000000\n",
       "mean   140.000247\n",
       "std     19.997537\n",
       "min     97.239600\n",
       "25%    126.657250\n",
       "50%    136.012350\n",
       "75%    152.061875\n",
       "max    190.034200"
      ]
     },
     "execution_count": 5,
     "metadata": {},
     "output_type": "execute_result"
    }
   ],
   "source": [
    "import pandas as pd\n",
    "\n",
    "data = pd.DataFrame([125.2994, 126.4402, 171.2639, 143.5338, 160.2288, 97.2396, 132.6253, 125.3658, 157.1991, 155.7616, 130.6605, 149.1697, 134.3806, 138.2204, 146.3384, 117.8715, 152.3988, 172.9519, 159.7141, 132.7292, 137.4430, 190.0342, 116.9569, 134.5817, 149.3947, 130.4849, 124.4223, 127.3084, 108.9376, 151.0511])\n",
    "\n",
    "# Show a summary of the data\n",
    "data.describe()"
   ]
  },
  {
   "cell_type": "code",
   "execution_count": 6,
   "metadata": {},
   "outputs": [
    {
     "data": {
      "image/png": "[encoded data removed]",
      "text/plain": [
       "<Figure size 640x480 with 1 Axes>"
      ]
     },
     "metadata": {},
     "output_type": "display_data"
    }
   ],
   "source": [
    "import matplotlib.pyplot as plt\n",
    "\n",
    "# Plot the data in a histogram\n",
    "fig,ax = plt.subplots(1,1)\n",
    "ax.set_title(\"histogram of samples\")\n",
    "ax.hist(data, bins = [90, 100, 110, 120, 130, 140, 150, 160, 170, 180, 190, 200])\n",
    "ax.set_xlabel(\"value\")\n",
    "ax.set_xticks(np.arange(90,200.1,10))\n",
    "ax.set_ylabel(\"frequency\")\n",
    "plt.show()"
   ]
  },
  {
   "cell_type": "code",
   "execution_count": 7,
   "metadata": {},
   "outputs": [
    {
     "name": "stdout",
     "output_type": "stream",
     "text": [
      "T-critical value: 2.0452296421327034\n",
      "T-statistic value: [10.95586801]\n",
      "P-value: [7.99690789e-12]\n"
     ]
    }
   ],
   "source": [
    "import scipy.stats as stats\n",
    "\n",
    "# Calculate t-critical value\n",
    "alpha = 0.05\n",
    "t_critical = stats.t.ppf(1-alpha/2, len(data)-1)\n",
    "\n",
    "# One-sample t-test\n",
    "t_stat, p_value = stats.ttest_1samp(data, 100)\n",
    "\n",
    "print(\"T-critical value:\", t_critical)\n",
    "print(\"T-statistic value:\", t_stat)\n",
    "print(\"P-value:\", p_value)"
   ]
  },
  {
   "attachments": {},
   "cell_type": "markdown",
   "metadata": {},
   "source": [
    "**Answer:**  \n",
    "t = 10.96 > 2.0452, p < 0.05\n",
    "\n",
    "Because t-statistic is well above our t-critical value we can reject the H0 hypothesis. The medication did effect the result in a positive way."
   ]
  },
  {
   "attachments": {},
   "cell_type": "markdown",
   "metadata": {},
   "source": [
    "## The One Sample t-test\n",
    "\n",
    "Data: <http://users.du.se/~rny/data/ai-datascience/courseresults3.csv>\n",
    "\n",
    "A random sample of 30 seventh grade pupils marks have ben collected, in where marks range from 1 (worst) to 6 (excellent). The mean grade of all seventh grade pupils of the last five years was 4.2.\n",
    "Is the mean of the sample of 30 pupils statistically different from the populations mean?\n",
    "\n",
    "**Answer:**  \n",
    "H0 = The mean grade of the last five years is 4.2.  \n",
    "H1 = The mean grade of this year is NOT 4.2.  "
   ]
  },
  {
   "cell_type": "code",
   "execution_count": 8,
   "metadata": {},
   "outputs": [
    {
     "name": "stdout",
     "output_type": "stream",
     "text": [
      "Grade    float64\n",
      "dtype: object \n",
      "\n",
      "           Grade\n",
      "count  30.000000\n",
      "mean    4.650000\n",
      "std     1.026796\n",
      "min     1.500000\n",
      "25%     4.500000\n",
      "50%     5.000000\n",
      "75%     5.000000\n",
      "max     6.000000\n"
     ]
    },
    {
     "data": {
      "image/png": "[encoded data removed]",
      "text/plain": [
       "<Figure size 640x480 with 1 Axes>"
      ]
     },
     "metadata": {},
     "output_type": "display_data"
    }
   ],
   "source": [
    "import pandas as pd\n",
    "import numpy as np\n",
    "\n",
    "# Import data set and create a data frame\n",
    "gradeData = pd.read_csv('https://users.du.se/~rny/data/ai-datascience/courseresults3.csv')\n",
    "\n",
    "# Print the data types of the values\n",
    "print(gradeData.dtypes, \"\\n\")\n",
    "\n",
    "# Display summary statistics\n",
    "print(gradeData.describe())\n",
    "\n",
    "# Plot the data\n",
    "fig,ax = plt.subplots(1,1)\n",
    "ax.set_title(\"Histogram of grades\")\n",
    "ax.hist(gradeData['Grade'], bins = [1, 1.5, 2, 2.5, 3, 3.5, 4, 4.5, 5, 5.5, 6])\n",
    "ax.set_xlabel(\"Grade\")\n",
    "ax.set_xticks(np.arange(1,6.1,0.5))\n",
    "ax.set_ylabel(\"Frequency\")\n",
    "ax.set_yticks(np.arange(0,12.1,1))\n",
    "plt.show()"
   ]
  },
  {
   "attachments": {},
   "cell_type": "markdown",
   "metadata": {},
   "source": [
    "**Answer:**  \n",
    "Standard deviation: 1.026796  \n",
    "Mean: 4.65  \n",
    "Median: 5.0  "
   ]
  },
  {
   "cell_type": "code",
   "execution_count": 9,
   "metadata": {},
   "outputs": [
    {
     "name": "stdout",
     "output_type": "stream",
     "text": [
      "T-critical value: 2.0452296421327034\n",
      "T-statistic value: 2.4004292338975812\n",
      "P-value: 0.023016789824932483\n",
      "Confidence interval: (4.266588014358859, 5.033411985641142)\n"
     ]
    }
   ],
   "source": [
    "import scipy.stats as stats\n",
    "\n",
    "alpha = 0.05\n",
    "t_critical = stats.t.ppf(1-alpha/2, len(data)-1)\n",
    "\n",
    "t_stat, p_value = stats.ttest_1samp(gradeData['Grade'], 4.2)\n",
    "\n",
    "print(\"T-critical value:\", t_critical)\n",
    "print(\"T-statistic value:\", t_stat)\n",
    "print(\"P-value:\", p_value)\n",
    "\n",
    "n = gradeData['Grade'].count()\n",
    "m = gradeData['Grade'].mean()\n",
    "std = gradeData['Grade'].std()\n",
    "margin_of_error = t_critical * std / np.sqrt(n)\n",
    "confidence_interval = (m - margin_of_error, m + margin_of_error)\n",
    "print(\"Confidence interval:\", confidence_interval)"
   ]
  },
  {
   "attachments": {},
   "cell_type": "markdown",
   "metadata": {},
   "source": [
    "Because t_statistic > t_critical we will reject H0 (null hypothesis). The increase is statistically significant."
   ]
  },
  {
   "attachments": {},
   "cell_type": "markdown",
   "metadata": {},
   "source": [
    "## The Two-sample Independent t-test\n",
    "\n",
    "You have installed a heavy CPU demanding application on a new server. The same application also resides on an older server. You would like to test if there is there is a difference between the application execution time on the new server and the old server.\n",
    "You execute the application several times on the new server and on the old server. You measure the execution time (sec) and the output is tab separated text-file.\n",
    "\n",
    "**Answer:**  \n",
    "H0 = μ; Mean execution time of old server (Baseline)  \n",
    "H1 = μ; Mean execution time of new server; H1 ≠ H0 (Is faster or slower than old server)  "
   ]
  },
  {
   "cell_type": "code",
   "execution_count": 10,
   "metadata": {},
   "outputs": [
    {
     "name": "stdout",
     "output_type": "stream",
     "text": [
      "NewServer    float64\n",
      "OldServer    float64\n",
      "dtype: object \n",
      "\n",
      "       NewServer  OldServer\n",
      "count  15.000000  15.000000\n",
      "mean   40.666667  44.426667\n",
      "std     4.018647   6.019666\n",
      "min    34.100000  34.800000\n",
      "25%    39.500000  42.400000\n",
      "50%    40.800000  43.500000\n",
      "75%    42.350000  47.850000\n",
      "max    50.100000  53.800000\n"
     ]
    },
    {
     "data": {
      "image/png": "[encoded data removed]",
      "text/plain": [
       "<Figure size 1200x400 with 2 Axes>"
      ]
     },
     "metadata": {},
     "output_type": "display_data"
    }
   ],
   "source": [
    "import pandas as pd\n",
    "import matplotlib.pyplot as plt\n",
    "import numpy as np\n",
    "\n",
    "# Import data set and create a data frame\n",
    "execData = pd.read_csv('https://users.du.se/~rny/data/ai-datascience/server2.txt', delim_whitespace=True)\n",
    "\n",
    "# Print the data types of the values\n",
    "print(execData.dtypes, \"\\n\")\n",
    "\n",
    "# Display summary statistics\n",
    "print(execData.describe())\n",
    "\n",
    "# Create a single figure with two subplots side-by-side\n",
    "fig, axes = plt.subplots(1, 2, figsize=(12, 4))\n",
    "\n",
    "# Plot the data for OldServer in a histogram\n",
    "ax1 = axes[0]\n",
    "ax1.set_title(\"OldServer\")\n",
    "ax1.hist(execData['OldServer'], bins=[34, 36, 38, 40, 42, 44, 46, 48, 50, 52, 54])\n",
    "ax1.set_xlabel(\"Execution time (s)\")\n",
    "ax1.set_xticks(np.arange(34, 54.1, 2))\n",
    "ax1.set_ylabel(\"Frequency\")\n",
    "start, end = ax1.get_ylim()\n",
    "ax1.set_yticks(np.arange(start, end, 1))\n",
    "\n",
    "# Plot the data for NewServer in a histogram\n",
    "ax2 = axes[1]\n",
    "ax2.set_title(\"NewServer\")\n",
    "ax2.hist(execData['NewServer'], bins=[34, 36, 38, 40, 42, 44, 46, 48, 50, 52, 54])\n",
    "ax2.set_xlabel(\"Execution time (s)\")\n",
    "ax2.set_xticks(np.arange(34, 54.1, 2))\n",
    "ax2.set_ylabel(\"Frequency\")\n",
    "start, end = ax2.get_ylim()\n",
    "ax2.set_yticks(np.arange(start, end, 1))\n",
    "\n",
    "plt.tight_layout()\n",
    "plt.show()\n"
   ]
  },
  {
   "cell_type": "code",
   "execution_count": 11,
   "metadata": {},
   "outputs": [
    {
     "name": "stdout",
     "output_type": "stream",
     "text": [
      "T-critical value: 2.1447866879169273\n",
      "T-statistic value: 2.011992001694577\n",
      "P-value: 0.05393206433583471\n",
      "Mean of OldServer: 44.426666666666655\n",
      "Mean of NewServer: 40.66666666666666\n",
      "Confidence interval (Old server): (41.09308664824952, 47.76024668508379)\n",
      "Confidence interval (New server): (38.44121412918716, 42.892119204146155)\n"
     ]
    }
   ],
   "source": [
    "# Two-sample t-test\n",
    "import scipy.stats as stats\n",
    "\n",
    "# Calculate t-critical value\n",
    "alpha = 0.05\n",
    "t_critical = stats.t.ppf(1-alpha/2, len(execData)-1)\n",
    "\n",
    "# Compare samples by conducting the test\n",
    "t_stat, p = stats.ttest_ind(execData['OldServer'], execData['NewServer'])\n",
    "print(\"T-critical value:\", t_critical)\n",
    "print(\"T-statistic value:\", t_stat)\n",
    "print(\"P-value:\", p)\n",
    "\n",
    "# Mean of OldServer and NewServer\n",
    "m1 = execData['OldServer'].mean()\n",
    "m2 = execData['NewServer'].mean()\n",
    "print(\"Mean of OldServer:\", m1)\n",
    "print(\"Mean of NewServer:\", m2)\n",
    "\n",
    "n1 = execData['OldServer'].count()\n",
    "std1 = execData['OldServer'].std()\n",
    "margin_of_error1 = t_critical * std1 / np.sqrt(n1)\n",
    "confidence_interval1 = (m1 - margin_of_error1, m1 + margin_of_error1)\n",
    "print(\"Confidence interval (Old server):\", confidence_interval1)\n",
    "\n",
    "n2 = execData['NewServer'].count()\n",
    "std2 = execData['NewServer'].std()\n",
    "margin_of_error2 = t_critical * std2 / np.sqrt(n2)\n",
    "confidence_interval2 = (m2 - margin_of_error2, m2 + margin_of_error2)\n",
    "print(\"Confidence interval (New server):\", confidence_interval2)"
   ]
  },
  {
   "attachments": {},
   "cell_type": "markdown",
   "metadata": {},
   "source": [
    "**Answer:**  \n",
    "Because P > 0.05 H0 should not be rejected."
   ]
  }
 ],
 "metadata": {
  "kernelspec": {
   "display_name": "Python 3",
   "language": "python",
   "name": "python3"
  },
  "language_info": {
   "codemirror_mode": {
    "name": "ipython",
    "version": 3
   },
   "file_extension": ".py",
   "mimetype": "text/x-python",
   "name": "python",
   "nbconvert_exporter": "python",
   "pygments_lexer": "ipython3",
   "version": "3.11.2"
  },
  "orig_nbformat": 4
 },
 "nbformat": 4,
 "nbformat_minor": 2
}
