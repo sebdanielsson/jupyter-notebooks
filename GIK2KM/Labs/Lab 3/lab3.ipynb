{
 "cells": [
  {
   "attachments": {},
   "cell_type": "markdown",
   "metadata": {},
   "source": [
    "# GIK2KM - Lab 3 - More Data Analysis Laboratory\n",
    "\n",
    "## 7 - One-way ANOVA, or Kruskal-Wallis Test\n",
    "\n",
    "\n",
    "One-way Analysis of Variance (ANOVA) is used when comparing three or more groups of data on the interval/ratio scale.\n",
    "\n",
    "Assignment: We have three groups with seven observations per group, as follows: http://users.du.se/∼rny/datascience/data/webcount2.csv\n",
    "\n",
    "The file contains the number of visits (by the thousands) per week on three national websites (located in Sweden, Finland, and Norway). The websites are owned by the same company. The websites have a similar content (essentially only the written language differs), but the target audience are located in the three different countries. The manager team wants to know if the number of website visits are equal between the three websites, or not. Perform a Oneway ANOVA test and find out!"
   ]
  },
  {
   "attachments": {},
   "cell_type": "markdown",
   "metadata": {},
   "source": [
    "1. Formulate your null hypothesis (H0) and its alternative hypothesis (Ha) based on the problem."
   ]
  },
  {
   "attachments": {},
   "cell_type": "markdown",
   "metadata": {},
   "source": [
    "### Svar\n",
    "\n",
    "H0 = Means are equal. There is no difference in the means of the population group.  \n",
    "H1 = Means are not equal. There is a difference in the means of the population group."
   ]
  },
  {
   "attachments": {},
   "cell_type": "markdown",
   "metadata": {},
   "source": [
    "2. Read the file. There are three columns; a website in Sweden, website in Finland, website in Norway. Each row represent the number of website visits per week (by the thousands)."
   ]
  },
  {
   "cell_type": "code",
   "execution_count": 1,
   "metadata": {},
   "outputs": [
    {
     "data": {
      "text/html": [
       "<div>\n",
       "<style scoped>\n",
       "    .dataframe tbody tr th:only-of-type {\n",
       "        vertical-align: middle;\n",
       "    }\n",
       "\n",
       "    .dataframe tbody tr th {\n",
       "        vertical-align: top;\n",
       "    }\n",
       "\n",
       "    .dataframe thead th {\n",
       "        text-align: right;\n",
       "    }\n",
       "</style>\n",
       "<table border=\"1\" class=\"dataframe\">\n",
       "  <thead>\n",
       "    <tr style=\"text-align: right;\">\n",
       "      <th></th>\n",
       "      <th>websiteSWE</th>\n",
       "      <th>websiteFIN</th>\n",
       "      <th>websiteNOR</th>\n",
       "    </tr>\n",
       "  </thead>\n",
       "  <tbody>\n",
       "    <tr>\n",
       "      <th>0</th>\n",
       "      <td>18.2</td>\n",
       "      <td>17.4</td>\n",
       "      <td>15.2</td>\n",
       "    </tr>\n",
       "    <tr>\n",
       "      <th>1</th>\n",
       "      <td>20.1</td>\n",
       "      <td>18.7</td>\n",
       "      <td>18.8</td>\n",
       "    </tr>\n",
       "    <tr>\n",
       "      <th>2</th>\n",
       "      <td>17.6</td>\n",
       "      <td>19.1</td>\n",
       "      <td>17.7</td>\n",
       "    </tr>\n",
       "    <tr>\n",
       "      <th>3</th>\n",
       "      <td>16.8</td>\n",
       "      <td>16.4</td>\n",
       "      <td>16.5</td>\n",
       "    </tr>\n",
       "    <tr>\n",
       "      <th>4</th>\n",
       "      <td>18.8</td>\n",
       "      <td>15.9</td>\n",
       "      <td>15.9</td>\n",
       "    </tr>\n",
       "    <tr>\n",
       "      <th>5</th>\n",
       "      <td>19.7</td>\n",
       "      <td>18.4</td>\n",
       "      <td>17.1</td>\n",
       "    </tr>\n",
       "    <tr>\n",
       "      <th>6</th>\n",
       "      <td>19.1</td>\n",
       "      <td>17.7</td>\n",
       "      <td>16.7</td>\n",
       "    </tr>\n",
       "    <tr>\n",
       "      <th>7</th>\n",
       "      <td>21.0</td>\n",
       "      <td>17.9</td>\n",
       "      <td>14.3</td>\n",
       "    </tr>\n",
       "    <tr>\n",
       "      <th>8</th>\n",
       "      <td>15.0</td>\n",
       "      <td>17.3</td>\n",
       "      <td>18.0</td>\n",
       "    </tr>\n",
       "    <tr>\n",
       "      <th>9</th>\n",
       "      <td>19.6</td>\n",
       "      <td>19.0</td>\n",
       "      <td>16.8</td>\n",
       "    </tr>\n",
       "    <tr>\n",
       "      <th>10</th>\n",
       "      <td>19.4</td>\n",
       "      <td>15.1</td>\n",
       "      <td>17.0</td>\n",
       "    </tr>\n",
       "  </tbody>\n",
       "</table>\n",
       "</div>"
      ],
      "text/plain": [
       "    websiteSWE  websiteFIN  websiteNOR\n",
       "0         18.2        17.4        15.2\n",
       "1         20.1        18.7        18.8\n",
       "2         17.6        19.1        17.7\n",
       "3         16.8        16.4        16.5\n",
       "4         18.8        15.9        15.9\n",
       "5         19.7        18.4        17.1\n",
       "6         19.1        17.7        16.7\n",
       "7         21.0        17.9        14.3\n",
       "8         15.0        17.3        18.0\n",
       "9         19.6        19.0        16.8\n",
       "10        19.4        15.1        17.0"
      ]
     },
     "execution_count": 1,
     "metadata": {},
     "output_type": "execute_result"
    }
   ],
   "source": [
    "import pandas as pd\n",
    "\n",
    "data = pd.read_csv(\"https://users.du.se/~rny/datascience/data/webcount2.csv\", delimiter=\";\", decimal=\",\")\n",
    "swe = data['websiteSWE']\n",
    "fin = data['websiteFIN']\n",
    "nor = data['websiteNOR']\n",
    "data"
   ]
  },
  {
   "attachments": {},
   "cell_type": "markdown",
   "metadata": {},
   "source": [
    "3. Present summary statistics for the three groups"
   ]
  },
  {
   "cell_type": "code",
   "execution_count": 2,
   "metadata": {},
   "outputs": [
    {
     "name": "stdout",
     "output_type": "stream",
     "text": [
      "count    11.000000\n",
      "mean     18.663636\n",
      "std       1.687171\n",
      "min      15.000000\n",
      "25%      17.900000\n",
      "50%      19.100000\n",
      "75%      19.650000\n",
      "max      21.000000\n",
      "Name: websiteSWE, dtype: float64 \n",
      "\n",
      "count    11.000000\n",
      "mean     17.536364\n",
      "std       1.297130\n",
      "min      15.100000\n",
      "25%      16.850000\n",
      "50%      17.700000\n",
      "75%      18.550000\n",
      "max      19.100000\n",
      "Name: websiteFIN, dtype: float64 \n",
      "\n",
      "count    11.000000\n",
      "mean     16.727273\n",
      "std       1.266563\n",
      "min      14.300000\n",
      "25%      16.200000\n",
      "50%      16.800000\n",
      "75%      17.400000\n",
      "max      18.800000\n",
      "Name: websiteNOR, dtype: float64 \n",
      "\n"
     ]
    }
   ],
   "source": [
    "print(swe.describe(),\"\\n\")\n",
    "print(fin.describe(),\"\\n\")\n",
    "print(nor.describe(),\"\\n\")"
   ]
  },
  {
   "attachments": {},
   "cell_type": "markdown",
   "metadata": {},
   "source": [
    "4. Display confidence intervals for the three groups, one for each."
   ]
  },
  {
   "cell_type": "code",
   "execution_count": 3,
   "metadata": {},
   "outputs": [
    {
     "name": "stdout",
     "output_type": "stream",
     "text": [
      "websiteSWE: (17.53017956839288, 19.797093158879846)\n",
      "websiteFIN: (16.664940047686724, 18.407787225040547)\n",
      "websiteNOR: (15.876384129936984, 17.57816132460847)\n"
     ]
    }
   ],
   "source": [
    "import scipy.stats as stats\n",
    "import numpy as np\n",
    "\n",
    "ci_swe = stats.t.interval(0.95, df=len(swe)-1, loc=np.mean(swe), scale=stats.sem(swe))\n",
    "print(\"websiteSWE:\", ci_swe)\n",
    "\n",
    "ci_fin = stats.t.interval(0.95, df=len(fin)-1, loc=np.mean(fin), scale=stats.sem(fin))\n",
    "print(\"websiteFIN:\", ci_fin)\n",
    "\n",
    "ci_nor = stats.t.interval(0.95, df=len(nor)-1, loc=np.mean(nor), scale=stats.sem(nor))\n",
    "print(\"websiteNOR:\", ci_nor)"
   ]
  },
  {
   "attachments": {},
   "cell_type": "markdown",
   "metadata": {},
   "source": [
    "5. Display the three groups as boxplots"
   ]
  },
  {
   "cell_type": "code",
   "execution_count": 4,
   "metadata": {},
   "outputs": [
    {
     "data": {
      "image/png": "[encoded data removed]",
      "text/plain": [
       "<Figure size 640x480 with 1 Axes>"
      ]
     },
     "metadata": {},
     "output_type": "display_data"
    }
   ],
   "source": [
    "import matplotlib.pyplot as plt\n",
    "\n",
    "fig, ax = plt.subplots()\n",
    "bp = ax.boxplot(data)\n",
    "ax.set_xticklabels(['websiteSWE', 'websiteFIN', 'websiteNOR'])\n",
    "ax.set_ylabel('Visits')\n",
    "ax.set_title('Numbers of visits (by the thousands) per week')\n",
    "\n",
    "plt.show()"
   ]
  },
  {
   "attachments": {},
   "cell_type": "markdown",
   "metadata": {},
   "source": [
    "6. Provide arguments for stating that your data samples are normal or not. Support your arguments with:  \n",
    "a) qualitative assessment on the box plots above (or additional histograms)  \n",
    "b) qualitative assessment by using QQ plots  \n",
    "c) quantitative assessment by using the Shapiro-Wilks Test"
   ]
  },
  {
   "attachments": {},
   "cell_type": "markdown",
   "metadata": {},
   "source": [
    "### Answer\n",
    "\n",
    "A. The box plot above shows us two outliers. Both are significantly lower than the majority of the values. One outlier can be found at around 15 for websiteSWE and one aroud 14.3 for websiteNOR. Also the median is not centered in the box for websiteSWE."
   ]
  },
  {
   "cell_type": "code",
   "execution_count": 5,
   "metadata": {},
   "outputs": [
    {
     "data": {
      "image/png": "[encoded data removed]",
      "text/plain": [
       "<Figure size 1500x500 with 3 Axes>"
      ]
     },
     "metadata": {},
     "output_type": "display_data"
    }
   ],
   "source": [
    "fig, ax = plt.subplots(1, 3, figsize=(15, 5))\n",
    "stats.probplot(swe, plot=ax[0])\n",
    "stats.probplot(fin, plot=ax[1])\n",
    "stats.probplot(nor, plot=ax[2])\n",
    "ax[0].set_title('QQ plot for websiteSWE')\n",
    "ax[1].set_title('QQ plot for websiteFIN')\n",
    "ax[2].set_title('QQ plot for websiteNOR')\n",
    "plt.show()"
   ]
  },
  {
   "attachments": {},
   "cell_type": "markdown",
   "metadata": {},
   "source": [
    "### Answer\n",
    "\n",
    "B. Most points are close to the line and can be viewed and normally distributed. We can see one data point for websiteSWE that clearly is an outlier because it's far from the regression line. FIN and NOR have 2 and 1 points that's a bit far of as well but not as far as the outlier on SWE."
   ]
  },
  {
   "cell_type": "code",
   "execution_count": 6,
   "metadata": {},
   "outputs": [
    {
     "name": "stdout",
     "output_type": "stream",
     "text": [
      "Normality test:\n",
      "websiteSWE: ShapiroResult(statistic=0.9394252300262451, pvalue=0.5137653946876526)\n",
      "websiteFIN: ShapiroResult(statistic=0.9414898753166199, pvalue=0.5381695628166199)\n",
      "websiteNOR: ShapiroResult(statistic=0.978549599647522, pvalue=0.9575585722923279)\n"
     ]
    }
   ],
   "source": [
    "print('Normality test:')\n",
    "print('websiteSWE:', stats.shapiro(swe))\n",
    "print('websiteFIN:', stats.shapiro(fin))\n",
    "print('websiteNOR:', stats.shapiro(nor))"
   ]
  },
  {
   "attachments": {},
   "cell_type": "markdown",
   "metadata": {},
   "source": [
    "### Answer\n",
    "\n",
    "C. Wiki säger om data:\n",
    "\n",
    "    If the p value is greater than 0.20, the conclusion is that the data is normally distributed.\n",
    "\n",
    "Med den infon så kan vi konstatera att datat anses vara normalfördelat."
   ]
  },
  {
   "cell_type": "markdown",
   "metadata": {},
   "source": [
    "7. Check for outliers and display the result(s). State your conclusion for presence or non-presence of outliers and your actions taken."
   ]
  },
  {
   "cell_type": "code",
   "execution_count": 7,
   "metadata": {},
   "outputs": [
    {
     "name": "stdout",
     "output_type": "stream",
     "text": [
      "SWE Statistics: DescribeResult(nobs=11, minmax=(15.0, 21.0), mean=18.663636363636364, variance=2.8465454545454545, skewness=-0.8476356691501512, kurtosis=0.12034448845111223)\n",
      "FIN Statistics: DescribeResult(nobs=11, minmax=(15.1, 19.1), mean=17.536363636363635, variance=1.682545454545455, skewness=-0.5332291415000516, kurtosis=-0.7832423845921066)\n",
      "NOR Statistics: DescribeResult(nobs=11, minmax=(14.3, 18.8), mean=16.727272727272727, variance=1.6041818181818184, skewness=-0.3345856150698085, kurtosis=-0.32310175604756086)\n"
     ]
    }
   ],
   "source": [
    "print(\"SWE Statistics:\", stats.describe(swe))\n",
    "print(\"FIN Statistics:\", stats.describe(fin))\n",
    "print(\"NOR Statistics:\", stats.describe(nor))"
   ]
  },
  {
   "attachments": {},
   "cell_type": "markdown",
   "metadata": {},
   "source": [
    "### Svar\n",
    "\n",
    "Vi ser att SWE och NOR har 2 outliers på boxplotten men vi kollar max och minvärden igen (taget från upg 3). Här ser vi med datan från boxplotten att 15.0 i SWE är en outlier och inte ligger inom spannet. Vi ser också att NOR har en outlier med värdet 14.3."
   ]
  },
  {
   "attachments": {},
   "cell_type": "markdown",
   "metadata": {},
   "source": [
    "8. based on your conclusions about the normality of data either carry a Oneway ANOVA test, or a Kruskal-Wallis Test"
   ]
  },
  {
   "cell_type": "code",
   "execution_count": 8,
   "metadata": {},
   "outputs": [
    {
     "data": {
      "text/plain": [
       "F_onewayResult(statistic=5.0889336851154665, pvalue=0.012503039662104238)"
      ]
     },
     "execution_count": 8,
     "metadata": {},
     "output_type": "execute_result"
    }
   ],
   "source": [
    "stats.f_oneway(swe, fin, nor)"
   ]
  },
  {
   "attachments": {},
   "cell_type": "markdown",
   "metadata": {},
   "source": [
    "9. Motivate whether H0 should be rejected or not. Explain your thoughts based on the result"
   ]
  },
  {
   "attachments": {},
   "cell_type": "markdown",
   "metadata": {},
   "source": [
    "### Svar\n",
    "\n",
    "Eftersom p-värdet är lägre än vår signifikansnivå (0.05) så har vi tillräckligt med info för att säga att det finns olikheter i vår tre grupper och kan förkasta H0."
   ]
  },
  {
   "attachments": {},
   "cell_type": "markdown",
   "metadata": {},
   "source": [
    "10. If H0 was rejected, perform a post-hoc test namely the Tukeys HSD test to see which group(s) are different. Explain your thoughts."
   ]
  },
  {
   "cell_type": "code",
   "execution_count": 9,
   "metadata": {},
   "outputs": [
    {
     "name": "stdout",
     "output_type": "stream",
     "text": [
      "Multiple Comparison of Means - Tukey HSD, FWER=0.05\n",
      "===================================================\n",
      "group1 group2 meandiff p-adj   lower  upper  reject\n",
      "---------------------------------------------------\n",
      "   FIN    NOR  -0.8091 0.3916 -2.3121 0.6939  False\n",
      "   FIN    SWE   1.1273 0.1713 -0.3758 2.6303  False\n",
      "   NOR    SWE   1.9364 0.0094  0.4333 3.4394   True\n",
      "---------------------------------------------------\n"
     ]
    }
   ],
   "source": [
    "from statsmodels.stats.multicomp import pairwise_tukeyhsd\n",
    "\n",
    "# Combine the three survey datasets and create labels for each group\n",
    "values = pd.concat([swe, fin, nor], axis=0, ignore_index=True)\n",
    "labels = ['SWE'] * len(swe) + ['FIN'] * len(fin) + ['NOR'] * len(nor)\n",
    "\n",
    "# Perform the Tukey test\n",
    "tukey_result = pairwise_tukeyhsd(values, labels, alpha=0.05)\n",
    "\n",
    "# Print the summary of the test results\n",
    "print(tukey_result)"
   ]
  },
  {
   "attachments": {},
   "cell_type": "markdown",
   "metadata": {},
   "source": [
    "### Answer\n",
    "\n",
    "There is a statistically significant difference between the means of groups NOR and SWE. But not a statistically significant difference between the means of groups FIN and SWE, and FIN and NOR.\n",
    "\n",
    "Because P for NOR-SWE is lower than our significance level (0.05) we should reject H0."
   ]
  },
  {
   "attachments": {},
   "cell_type": "markdown",
   "metadata": {},
   "source": [
    "## 8 - Chi-Square (χ2) Goodness-of-Fit test\n",
    "Chi-Square (χ2) Goodness-of-Fit test is a non-parametric test that is used to find out how the observed value of a given phenomena is significantly different from the expected value. In Chi-Square goodness of fit test, the term Goodness-of-Fit is used to compare the observed sample distribution with the expected probability distribution.\n",
    "\n",
    "Chi-Square goodness of fit test determines how well theoretical distribution (such as normal, uniform, binomial, or Poisson) fits the empirical distribution. In Chi-Square goodness of fit test, sample data is divided into intervals. Then the numbers of points that fall into the interval are compared, with the expected numbers of points in each interval.\n",
    "\n",
    "Assignment: The People Code, created by Dr. Taylor Hartman, divides personalities into four colors: Red (motivated by power), Blue (motivated by intimacy), White (motivated by peace), and Yellow (motivated by fun). Although different groups of people have different demographics, the general breakdown suggests that Reds comprise 25% of the population; Blues 35%; Whites 20%; and Yellows 20%. 300 respondents were to answer a 45-question test which assesses one’s color, based on whether you answer A, B, C, or D. After analysing the test results, the 380 responents were assigned the classes as in Table 1.\n",
    "\n",
    "### Table 1 - Sample distribution\n",
    "\n",
    "| Red | Blue | White | Yellow |\n",
    "| --- | ---- | ----- | ------ |\n",
    "| 117 | 123  | 75    | 65     |\n",
    "\n",
    "### Population proportions\n",
    "\n",
    "| Red | Blue | White | Yellow |\n",
    "| --- | ---- | ----- | ------ |\n",
    "| 25% | 35%  | 20%   | 20%    |\n",
    "\n",
    "Can we conclude your collected sample represents the distribution of the population? That is, how \"good\" do the data \"fit\" the expected probability model?"
   ]
  },
  {
   "attachments": {},
   "cell_type": "markdown",
   "metadata": {},
   "source": [
    "1. Formulate your null hypothesis (H0) and its alternative hypothesis (Ha) based on the problem above."
   ]
  },
  {
   "attachments": {},
   "cell_type": "markdown",
   "metadata": {},
   "source": [
    "H0 = The test is representative of the population  \n",
    "H1 = The test is **not** representative of the population"
   ]
  },
  {
   "attachments": {},
   "cell_type": "markdown",
   "metadata": {},
   "source": [
    "2. Which are the observed values?"
   ]
  },
  {
   "cell_type": "code",
   "execution_count": 10,
   "metadata": {},
   "outputs": [
    {
     "name": "stdout",
     "output_type": "stream",
     "text": [
      "[117, 123, 75, 65]\n"
     ]
    }
   ],
   "source": [
    "observed = [117, 123, 75, 65]\n",
    "\n",
    "print(observed)"
   ]
  },
  {
   "attachments": {},
   "cell_type": "markdown",
   "metadata": {},
   "source": [
    "3. Which are the expected values and expected relative frequency i.e. the\n",
    "expected probability distribution?"
   ]
  },
  {
   "cell_type": "code",
   "execution_count": 11,
   "metadata": {},
   "outputs": [
    {
     "name": "stdout",
     "output_type": "stream",
     "text": [
      "[0.25, 0.35, 0.2, 0.2]\n",
      "[95.0, 133.0, 76.0, 76.0]\n"
     ]
    }
   ],
   "source": [
    "proportions = [0.25, 0.35, 0.20, 0.20]\n",
    "total_respondents = sum(observed)\n",
    "expected = [p * total_respondents for p in proportions]\n",
    "\n",
    "print(proportions)\n",
    "print(expected)"
   ]
  },
  {
   "attachments": {},
   "cell_type": "markdown",
   "metadata": {},
   "source": [
    "4. Motivate whether H0 should be rejected or not. Explain your thoughts based\n",
    "on the result."
   ]
  },
  {
   "cell_type": "code",
   "execution_count": 12,
   "metadata": {},
   "outputs": [
    {
     "name": "stdout",
     "output_type": "stream",
     "text": [
      "Statistic=7.45188, p=0.059\n",
      "Eftersom p-värdet är större än 0.05 så kan vi acceptera H0 och vi kan därför säga att det är samma fördelning.\n"
     ]
    }
   ],
   "source": [
    "from scipy.stats import chisquare\n",
    "\n",
    "statistic, p_value = chisquare(observed, f_exp=expected)\n",
    "print('Statistic=%.5f, p=%.3f' % (statistic, p_value))\n",
    "\n",
    "alpha = 0.05\n",
    "\n",
    "if p_value > alpha:\n",
    "    print('Eftersom p-värdet är större än 0.05 så kan vi acceptera H0 och vi kan därför säga att det är samma fördelning.')\n",
    "else:\n",
    "    print('Eftersom p-värdet är mindre eller lika med 0.05 så förkastar vi H0 och vi kan därför inte säga att det är samma fördelning.')"
   ]
  },
  {
   "attachments": {},
   "cell_type": "markdown",
   "metadata": {},
   "source": [
    "5. **Note: This assignment has nothing to do with what is stated above**  \n",
    "Create and demonstrate an example using the other Chi-Square test, i.e. Chi-Square, Test of Independence."
   ]
  },
  {
   "attachments": {},
   "cell_type": "markdown",
   "metadata": {},
   "source": [
    "H0 = There is no relation between income level and education.  \n",
    "H1 = There is a relation between income level and education.  "
   ]
  },
  {
   "cell_type": "code",
   "execution_count": 13,
   "metadata": {},
   "outputs": [
    {
     "name": "stdout",
     "output_type": "stream",
     "text": [
      "Statistic: 2.3644179894179893\n",
      "P-value: 0.3066007106491661\n",
      "Degrees of freedom: 2\n",
      "Observed:\n",
      "[[20 15]\n",
      " [25 20]\n",
      " [15  5]]\n",
      "Expected:\n",
      "[[21. 14.]\n",
      " [27. 18.]\n",
      " [12.  8.]]\n",
      "Fail to reject the null hypothesis: There's a relationship between education and income.\n"
     ]
    }
   ],
   "source": [
    "import numpy as np\n",
    "from scipy.stats import chi2_contingency\n",
    "\n",
    "observed = np.array([\n",
    "    [20, 15],\n",
    "    [25, 20],\n",
    "    [15, 5]\n",
    "])\n",
    "\n",
    "statistic, p_value, df, expected = chi2_contingency(observed)\n",
    "\n",
    "print(\"Statistic:\", statistic)\n",
    "print(\"P-value:\", p_value)\n",
    "print(\"Degrees of freedom:\", df)\n",
    "print(\"Observed:\", observed, sep=\"\\n\")\n",
    "print(\"Expected:\", expected, sep=\"\\n\")\n",
    "\n",
    "alpha = 0.05\n",
    "\n",
    "if p_value < alpha:\n",
    "    print(\"Reject the null hypothesis: There is no relationship between education and income.\")\n",
    "else:\n",
    "    print(\"Fail to reject the null hypothesis: There's a relationship between education and income.\")"
   ]
  },
  {
   "attachments": {},
   "cell_type": "markdown",
   "metadata": {},
   "source": [
    "## 9 - Paired t-test or Wilcoxon Signed Rank Test\n",
    "\n",
    "A random sample of 20 students were collected. During the test, two measurements (i.e test results) of each person were taken, one before and one after a set of teaching sessions."
   ]
  },
  {
   "attachments": {},
   "cell_type": "markdown",
   "metadata": {},
   "source": [
    "1. What is the ”treatment” in this case?"
   ]
  },
  {
   "attachments": {},
   "cell_type": "markdown",
   "metadata": {},
   "source": [
    "### Answer\n",
    "\n",
    "In this case the treatment is the teching sessions."
   ]
  },
  {
   "attachments": {},
   "cell_type": "markdown",
   "metadata": {},
   "source": [
    "2. Formulate your null hypothesis (H0) and its alternative hypothesis (Ha) based on the problem."
   ]
  },
  {
   "attachments": {},
   "cell_type": "markdown",
   "metadata": {},
   "source": [
    "### Answer\n",
    "\n",
    "H0 = No measureable difference after treatment  \n",
    "H1 = Measurable difference  after treatment"
   ]
  },
  {
   "attachments": {},
   "cell_type": "markdown",
   "metadata": {},
   "source": [
    "3. Read the file https://users.du.se/~rny/datascience/data/diagnosticTest.csv. There are three columns; The student number, test result before teaching, test result after teaching. Each row represent the same subject measurements before and after."
   ]
  },
  {
   "cell_type": "code",
   "execution_count": 14,
   "metadata": {},
   "outputs": [],
   "source": [
    "data = pd.read_csv(\"https://users.du.se/~rny/datascience/data/diagnosticTest.csv\", delimiter=\";\")\n",
    "pre_data = data['Pre-module']\n",
    "post_data = data['Post-module']"
   ]
  },
  {
   "attachments": {},
   "cell_type": "markdown",
   "metadata": {},
   "source": [
    "4. Present summary statistics for the two groups (i.e. the before and after measures, respectively)"
   ]
  },
  {
   "cell_type": "code",
   "execution_count": 15,
   "metadata": {},
   "outputs": [
    {
     "data": {
      "text/html": [
       "<div>\n",
       "<style scoped>\n",
       "    .dataframe tbody tr th:only-of-type {\n",
       "        vertical-align: middle;\n",
       "    }\n",
       "\n",
       "    .dataframe tbody tr th {\n",
       "        vertical-align: top;\n",
       "    }\n",
       "\n",
       "    .dataframe thead th {\n",
       "        text-align: right;\n",
       "    }\n",
       "</style>\n",
       "<table border=\"1\" class=\"dataframe\">\n",
       "  <thead>\n",
       "    <tr style=\"text-align: right;\">\n",
       "      <th></th>\n",
       "      <th>Pre-module</th>\n",
       "      <th>Post-module</th>\n",
       "    </tr>\n",
       "  </thead>\n",
       "  <tbody>\n",
       "    <tr>\n",
       "      <th>count</th>\n",
       "      <td>20.000000</td>\n",
       "      <td>20.000000</td>\n",
       "    </tr>\n",
       "    <tr>\n",
       "      <th>mean</th>\n",
       "      <td>18.400000</td>\n",
       "      <td>20.450000</td>\n",
       "    </tr>\n",
       "    <tr>\n",
       "      <th>std</th>\n",
       "      <td>3.152276</td>\n",
       "      <td>4.058454</td>\n",
       "    </tr>\n",
       "    <tr>\n",
       "      <th>min</th>\n",
       "      <td>12.000000</td>\n",
       "      <td>15.000000</td>\n",
       "    </tr>\n",
       "    <tr>\n",
       "      <th>25%</th>\n",
       "      <td>16.000000</td>\n",
       "      <td>17.750000</td>\n",
       "    </tr>\n",
       "    <tr>\n",
       "      <th>50%</th>\n",
       "      <td>18.000000</td>\n",
       "      <td>19.500000</td>\n",
       "    </tr>\n",
       "    <tr>\n",
       "      <th>75%</th>\n",
       "      <td>21.000000</td>\n",
       "      <td>24.000000</td>\n",
       "    </tr>\n",
       "    <tr>\n",
       "      <th>max</th>\n",
       "      <td>24.000000</td>\n",
       "      <td>29.000000</td>\n",
       "    </tr>\n",
       "  </tbody>\n",
       "</table>\n",
       "</div>"
      ],
      "text/plain": [
       "       Pre-module  Post-module\n",
       "count   20.000000    20.000000\n",
       "mean    18.400000    20.450000\n",
       "std      3.152276     4.058454\n",
       "min     12.000000    15.000000\n",
       "25%     16.000000    17.750000\n",
       "50%     18.000000    19.500000\n",
       "75%     21.000000    24.000000\n",
       "max     24.000000    29.000000"
      ]
     },
     "execution_count": 15,
     "metadata": {},
     "output_type": "execute_result"
    }
   ],
   "source": [
    "data[['Pre-module', 'Post-module']].describe()"
   ]
  },
  {
   "attachments": {},
   "cell_type": "markdown",
   "metadata": {},
   "source": [
    "5. Display the confidence intervals, one for each"
   ]
  },
  {
   "cell_type": "code",
   "execution_count": 16,
   "metadata": {},
   "outputs": [
    {
     "name": "stdout",
     "output_type": "stream",
     "text": [
      "Pre-module: (16.92468955817124, 19.875310441828756)\n",
      "Post-module: (18.550584843324568, 22.34941515667543)\n"
     ]
    }
   ],
   "source": [
    "import scipy.stats as stats\n",
    "import numpy as np\n",
    "\n",
    "ci_pre = stats.t.interval(0.95, df=len(pre_data)-1, loc=np.mean(pre_data), scale=stats.sem(pre_data))\n",
    "print(\"Pre-module:\", ci_pre)\n",
    "\n",
    "ci_post = stats.t.interval(0.95, df=len(post_data)-1, loc=np.mean(post_data), scale=stats.sem(post_data))\n",
    "print(\"Post-module:\", ci_post)"
   ]
  },
  {
   "attachments": {},
   "cell_type": "markdown",
   "metadata": {},
   "source": [
    "6. Display the data groups before and after as boxplots"
   ]
  },
  {
   "cell_type": "code",
   "execution_count": 17,
   "metadata": {},
   "outputs": [
    {
     "data": {
      "image/png": "[encoded data removed]",
      "text/plain": [
       "<Figure size 640x480 with 1 Axes>"
      ]
     },
     "metadata": {},
     "output_type": "display_data"
    }
   ],
   "source": [
    "import matplotlib.pyplot as plt\n",
    "\n",
    "fig, ax = plt.subplots()\n",
    "bp = ax.boxplot(data[['Pre-module', 'Post-module']])\n",
    "ax.set_xticklabels(['Pre-module', 'Post-module'])\n",
    "ax.set_ylabel('Result')\n",
    "ax.set_title('Results of students before and after the module')\n",
    "\n",
    "plt.show()"
   ]
  },
  {
   "attachments": {},
   "cell_type": "markdown",
   "metadata": {},
   "source": [
    "\n",
    "7. Provide arguments for stating that your data samples are normal or not. Support your arguments with:\n",
    "\n",
    "(a) qualitative assessment on the box plots above (or additional histograms)"
   ]
  },
  {
   "cell_type": "code",
   "execution_count": 18,
   "metadata": {},
   "outputs": [
    {
     "data": {
      "image/png": "[encoded data removed]",
      "text/plain": [
       "<Figure size 1200x400 with 2 Axes>"
      ]
     },
     "metadata": {},
     "output_type": "display_data"
    }
   ],
   "source": [
    "# Create two histograms. One for the pre-module data and one for the post-module data.\n",
    "\n",
    "fig, axes = plt.subplots(1, 2, figsize=(12, 4))\n",
    "\n",
    "ax1 = axes[0]\n",
    "ax1.hist(pre_data, bins=10, alpha=0.5, label='Pre-module')\n",
    "ax1.set_xlabel('Result')\n",
    "ax1.set_ylabel('Frequency')\n",
    "ax1.set_title('Results of students before the module')\n",
    "ax1.legend(loc='upper right')\n",
    "\n",
    "ax2 = axes[1]\n",
    "ax2.hist(post_data, bins=10, alpha=0.5, label='Post-module')\n",
    "ax2.set_xlabel('Result')\n",
    "ax2.set_ylabel('Frequency')\n",
    "ax2.set_title('Results of students after the module')\n",
    "ax2.legend(loc='upper right')\n",
    "\n",
    "plt.show()"
   ]
  },
  {
   "attachments": {},
   "cell_type": "markdown",
   "metadata": {},
   "source": [
    "### Answer\n",
    "\n",
    "a. We have no outliers for Pre-module and Post-module. The mean for Post-module is a bit on the lower end. The max value for Post-module is higher compared to pre-module."
   ]
  },
  {
   "cell_type": "code",
   "execution_count": 19,
   "metadata": {},
   "outputs": [
    {
     "data": {
      "image/png": "[encoded data removed]",
      "text/plain": [
       "<Figure size 1000x500 with 2 Axes>"
      ]
     },
     "metadata": {},
     "output_type": "display_data"
    }
   ],
   "source": [
    "fig, ax = plt.subplots(1, 2, figsize=(10, 5))\n",
    "stats.probplot(pre_data, plot=ax[0])\n",
    "stats.probplot(post_data, plot=ax[1])\n",
    "ax[0].set_title('QQ plot for Pre-module')\n",
    "ax[1].set_title('QQ plot for Post-module')\n",
    "plt.show()"
   ]
  },
  {
   "attachments": {},
   "cell_type": "markdown",
   "metadata": {},
   "source": [
    "### Answer\n",
    "\n",
    "b. Both groups seems to be normally distributed. Pre is following the line very good. The points on post are a little bit more distributed comparted to pre."
   ]
  },
  {
   "cell_type": "code",
   "execution_count": 20,
   "metadata": {},
   "outputs": [
    {
     "name": "stdout",
     "output_type": "stream",
     "text": [
      "Normality test:\n",
      "Pre-module: ShapiroResult(statistic=0.9819655418395996, pvalue=0.9568763375282288)\n",
      "Post-module: ShapiroResult(statistic=0.9423450231552124, pvalue=0.2654399871826172)\n"
     ]
    }
   ],
   "source": [
    "print('Normality test:')\n",
    "print('Pre-module:', stats.shapiro(pre_data))\n",
    "print('Post-module:', stats.shapiro(post_data))"
   ]
  },
  {
   "attachments": {},
   "cell_type": "markdown",
   "metadata": {},
   "source": [
    "### Answer\n",
    "\n",
    "C. Wiki säger om data:\n",
    "\n",
    "    If the p value is greater than 0.20, the conclusion is that the data is normally distributed.\n",
    "\n",
    "Med den infon så kan vi konstatera att datat anses vara normalfördelat."
   ]
  },
  {
   "attachments": {},
   "cell_type": "markdown",
   "metadata": {},
   "source": [
    "8. Check for outliers and display the result(s). State your conclusion for presence or non-presence of outliers and your actions taken."
   ]
  },
  {
   "cell_type": "code",
   "execution_count": 21,
   "metadata": {},
   "outputs": [
    {
     "name": "stdout",
     "output_type": "stream",
     "text": [
      "Pre-module: DescribeResult(nobs=20, minmax=(12, 24), mean=18.4, variance=9.936842105263159, skewness=-0.04799336972598032, kurtosis=-0.6665828784831955)\n",
      "Post-module: DescribeResult(nobs=20, minmax=(15, 29), mean=20.45, variance=16.47105263157895, skewness=0.406075819645607, kurtosis=-0.8919059031428689)\n"
     ]
    }
   ],
   "source": [
    "print(\"Pre-module:\", stats.describe(pre_data))\n",
    "print(\"Post-module:\", stats.describe(post_data))"
   ]
  },
  {
   "attachments": {},
   "cell_type": "markdown",
   "metadata": {},
   "source": [
    "### Answer\n",
    "\n",
    "We checked the min and max values and compared them to the boxplot and histograms and checked if the min and max values is higher or lower than the displayed data. We can't find any outliers."
   ]
  },
  {
   "attachments": {},
   "cell_type": "markdown",
   "metadata": {},
   "source": [
    "\n",
    "9. Provide arguments if the data is normal or not, and based on that conclusion perform a Paired t-test, or a Wilcoxon Signed Rank Test"
   ]
  },
  {
   "cell_type": "markdown",
   "metadata": {},
   "source": [
    "### Answer\n",
    "\n",
    "As explained in our previous answers the data is normally distributed and we will proceed to perform a paired t-test."
   ]
  },
  {
   "cell_type": "code",
   "execution_count": 22,
   "metadata": {},
   "outputs": [
    {
     "name": "stdout",
     "output_type": "stream",
     "text": [
      "T-statistic: -3.231252665580312\n",
      "P-value: 0.004394965993185664\n"
     ]
    }
   ],
   "source": [
    "from scipy.stats import ttest_rel\n",
    "\n",
    "t_statistic, p_value = ttest_rel(pre_data, post_data)\n",
    "print('T-statistic:', t_statistic)\n",
    "print('P-value:', p_value)"
   ]
  },
  {
   "attachments": {},
   "cell_type": "markdown",
   "metadata": {},
   "source": [
    "10. Motivate whether H0 should be rejected or not. Explain your thoughts based on the result"
   ]
  },
  {
   "cell_type": "code",
   "execution_count": 23,
   "metadata": {},
   "outputs": [
    {
     "name": "stdout",
     "output_type": "stream",
     "text": [
      "Svar: Eftersom p-värdet är mindre än 0.05 så förkastar vi H0. Förändringen av behandlingen är signifikant.\n"
     ]
    }
   ],
   "source": [
    "alpha = 0.05\n",
    "\n",
    "if p_value < alpha:\n",
    "    print('Svar: Eftersom p-värdet är mindre än 0.05 så förkastar vi H0. Förändringen av behandlingen är signifikant.')\n",
    "else:\n",
    "    print('Svar: Eftersom p-värdet är större eller lika med 0.05 så kan vi acceptera H0 och vi kan därför inte säga att förändringen är statistiskt signifikant.')"
   ]
  }
 ],
 "metadata": {
  "kernelspec": {
   "display_name": "Python 3",
   "language": "python",
   "name": "python3"
  },
  "language_info": {
   "codemirror_mode": {
    "name": "ipython",
    "version": 3
   },
   "file_extension": ".py",
   "mimetype": "text/x-python",
   "name": "python",
   "nbconvert_exporter": "python",
   "pygments_lexer": "ipython3",
   "version": "3.11.2"
  },
  "orig_nbformat": 4
 },
 "nbformat": 4,
 "nbformat_minor": 2
}
