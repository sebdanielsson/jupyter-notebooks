{
 "cells": [
  {
   "attachments": {},
   "cell_type": "markdown",
   "metadata": {},
   "source": [
    "# GIK2KM - Lab 3 - More Data Analysis Laboratory\n",
    "\n",
    "## 7 - One-way ANOVA, or Kruskal-Wallis Test\n",
    "\n",
    "\n",
    "One-way Analysis of Variance (ANOVA) is used when comparing three or more groups of data on the interval/ratio scale.\n",
    "\n",
    "Assignment: We have three groups with seven observations per group, as follows: http://users.du.se/∼rny/datascience/data/webcount2.csv\n",
    "\n",
    "The file contains the number of visits (by the thousands) per week on three national websites (located in Sweden, Finland, and Norway). The websites are owned by the same company. The websites have a similar content (essentially only the written language differs), but the target audience are located in the three different countries. The manager team wants to know if the number of website visits are equal between the three websites, or not. Perform a Oneway ANOVA test and find out!"
   ]
  },
  {
   "attachments": {},
   "cell_type": "markdown",
   "metadata": {},
   "source": [
    "1. Formulate your null hypothesis (H0) and its alternative hypothesis (Ha) based on the problem."
   ]
  },
  {
   "cell_type": "code",
   "execution_count": null,
   "metadata": {},
   "outputs": [],
   "source": []
  },
  {
   "attachments": {},
   "cell_type": "markdown",
   "metadata": {},
   "source": [
    "2. Read the file. There are three columns; a website in Sweden, website in Fin- land, website in Norway. Each row represent the number of website visits per week (by the thousands)."
   ]
  },
  {
   "cell_type": "code",
   "execution_count": null,
   "metadata": {},
   "outputs": [],
   "source": []
  },
  {
   "attachments": {},
   "cell_type": "markdown",
   "metadata": {},
   "source": [
    "3. Present summary statistics for the three groups"
   ]
  },
  {
   "cell_type": "code",
   "execution_count": null,
   "metadata": {},
   "outputs": [],
   "source": []
  },
  {
   "attachments": {},
   "cell_type": "markdown",
   "metadata": {},
   "source": [
    "4. Display confidence intervals for the three groups, one for each."
   ]
  },
  {
   "cell_type": "code",
   "execution_count": null,
   "metadata": {},
   "outputs": [],
   "source": []
  },
  {
   "attachments": {},
   "cell_type": "markdown",
   "metadata": {},
   "source": [
    "5. Display the three groups as boxplots"
   ]
  },
  {
   "cell_type": "code",
   "execution_count": null,
   "metadata": {},
   "outputs": [],
   "source": []
  },
  {
   "attachments": {},
   "cell_type": "markdown",
   "metadata": {},
   "source": [
    "6. Provide arguments for stating that your data samples are normal or not. Support your arguments with:  \n",
    "a) qualitative assessment on the box plots above (or additional histograms)  \n",
    "b) qualitative assessment by using QQ plots  \n",
    "c) quantitative assessment by using the Shapiro-Wilks Test"
   ]
  },
  {
   "cell_type": "code",
   "execution_count": null,
   "metadata": {},
   "outputs": [],
   "source": []
  },
  {
   "cell_type": "markdown",
   "metadata": {},
   "source": [
    "7. Check for outliers and display the result(s). State your conclusion for presence or non-presence of outliers and your actions taken."
   ]
  },
  {
   "cell_type": "code",
   "execution_count": null,
   "metadata": {},
   "outputs": [],
   "source": []
  },
  {
   "attachments": {},
   "cell_type": "markdown",
   "metadata": {},
   "source": [
    "8. based on your conclusions about the normality of data either carry a Oneway ANOVA test, or a Kruskal-Wallis Test"
   ]
  },
  {
   "cell_type": "code",
   "execution_count": null,
   "metadata": {},
   "outputs": [],
   "source": []
  },
  {
   "attachments": {},
   "cell_type": "markdown",
   "metadata": {},
   "source": [
    "9. Motivate whether H0 should be rejected or not. Explain your thoughts based on the result"
   ]
  },
  {
   "cell_type": "code",
   "execution_count": null,
   "metadata": {},
   "outputs": [],
   "source": []
  },
  {
   "attachments": {},
   "cell_type": "markdown",
   "metadata": {},
   "source": [
    "10. If H0 was rejected, perform a post-hoc test namely the Tukeys HSD test to see which group(s) are different. Explain your thoughts."
   ]
  },
  {
   "cell_type": "code",
   "execution_count": null,
   "metadata": {},
   "outputs": [],
   "source": []
  },
  {
   "attachments": {},
   "cell_type": "markdown",
   "metadata": {},
   "source": [
    "## 8 - Chi-Square (χ2) Goodness-of-Fit test\n",
    "Chi-Square (χ2) Goodness-of-Fit test is a non-parametric test that is used to find out how the observed value of a given phenomena is significantly different from the expected value. In Chi-Square goodness of fit test, the term Goodness-of-Fit is used to compare the observed sample distribution with the expected probability distribution.\n",
    "\n",
    "Chi-Square goodness of fit test determines how well theoretical distribution (such as normal, uniform, binomial, or Poisson) fits the empirical distribution. In Chi-Square goodness of fit test, sample data is divided into intervals. Then the numbers of points that fall into the interval are compared, with the expected numbers of points in each interval.\n",
    "\n",
    "Assignment: The People Code, created by Dr. Taylor Hartman, divides personalities into four colors: Red (motivated by power), Blue (motivated by intimacy), White (motivated by peace), and Yellow (motivated by fun). Although different groups of people have different demographics, the general breakdown suggests that Reds comprise 25% of the population; Blues 35%; Whites 20%; and Yellows 20%. 300 respondents were to answer a 45-question test which assesses one’s color, based on whether you answer A, B, C, or D. After analysing the test results, the 300 responents were assigned the classes as in Table 1.\n",
    "\n",
    "Table 1:\n",
    "| Red | Blue | White | Yellow |\n",
    "| --- | ---- | ----- | ------ |\n",
    "| 117 | 123  | 75    | 65     |\n",
    "\n",
    "Can we conclude your collected sample represents the distribution of the population? That is, how \"good\" do the data \"fit\" the expected probability model?"
   ]
  },
  {
   "attachments": {},
   "cell_type": "markdown",
   "metadata": {},
   "source": [
    "1. Formulate your null hypothesis (H0) and its alternative hypothesis (Ha) based on the problem above."
   ]
  },
  {
   "attachments": {},
   "cell_type": "markdown",
   "metadata": {},
   "source": [
    "H0 = The test is representative of the population  \n",
    "H1 = The test is **not** representative of the population"
   ]
  },
  {
   "attachments": {},
   "cell_type": "markdown",
   "metadata": {},
   "source": [
    "2. Which are the observed values?"
   ]
  },
  {
   "cell_type": "code",
   "execution_count": 27,
   "metadata": {},
   "outputs": [
    {
     "name": "stdout",
     "output_type": "stream",
     "text": [
      "[117, 123, 75, 65]\n"
     ]
    }
   ],
   "source": [
    "observed = [117, 123, 75, 65]\n",
    "\n",
    "print(observed)"
   ]
  },
  {
   "attachments": {},
   "cell_type": "markdown",
   "metadata": {},
   "source": [
    "3. Which are the expected values and expected relative frequency i.e. the\n",
    "expected probability distribution?"
   ]
  },
  {
   "cell_type": "code",
   "execution_count": 28,
   "metadata": {},
   "outputs": [
    {
     "name": "stdout",
     "output_type": "stream",
     "text": [
      "[0.25, 0.35, 0.2, 0.2]\n",
      "[95.0, 133.0, 76.0, 76.0]\n"
     ]
    }
   ],
   "source": [
    "proportions = [0.25, 0.35, 0.20, 0.20]\n",
    "total_respondents = sum(observed)\n",
    "expected = [p * total_respondents for p in proportions]\n",
    "\n",
    "print(proportions)\n",
    "print(expected)"
   ]
  },
  {
   "attachments": {},
   "cell_type": "markdown",
   "metadata": {},
   "source": [
    "4. Motivate whether H0 should be rejected or not. Explain your thoughts based\n",
    "on the result."
   ]
  },
  {
   "cell_type": "code",
   "execution_count": 31,
   "metadata": {},
   "outputs": [
    {
     "name": "stdout",
     "output_type": "stream",
     "text": [
      "Statistic=7.45188, p=0.059\n",
      "Eftersom p-värdet är större än 0.05 så kan vi acceptera H0 och vi kan därför säga att det är samma fördelning.\n"
     ]
    }
   ],
   "source": [
    "from scipy.stats import chisquare\n",
    "\n",
    "statistic, p_value = chisquare(observed, f_exp=expected)\n",
    "print('Statistic=%.5f, p=%.3f' % (statistic, p_value))\n",
    "\n",
    "alpha = 0.05\n",
    "\n",
    "if p_value > alpha:\n",
    "    print('Eftersom p-värdet är större än 0.05 så kan vi acceptera H0 och vi kan därför säga att det är samma fördelning.')\n",
    "else:\n",
    "    print('Eftersom p-värdet är mindre eller lika med 0.05 så förkastar vi H0 och vi kan därför inte säga att det är samma fördelning.')"
   ]
  },
  {
   "attachments": {},
   "cell_type": "markdown",
   "metadata": {},
   "source": [
    "5. **Note: This assignment has nothing to do with what is stated above**  \n",
    "Create and demonstrate an example using the other Chi-Square test, i.e. Chi-Square, Test of Independence."
   ]
  },
  {
   "attachments": {},
   "cell_type": "markdown",
   "metadata": {},
   "source": [
    "H0 = There is no relation between income level and education.  \n",
    "H1 = There is a relation between income level and education.  "
   ]
  },
  {
   "cell_type": "code",
   "execution_count": 36,
   "metadata": {},
   "outputs": [
    {
     "name": "stdout",
     "output_type": "stream",
     "text": [
      "Statistic: 2.3644179894179893\n",
      "P-value: 0.3066007106491661\n",
      "Degrees of freedom: 2\n",
      "Expected:\n",
      "[[21. 14.]\n",
      " [27. 18.]\n",
      " [12.  8.]]\n",
      "Fail to reject the null hypothesis: There's not enough evidence to say there isn't a relationship between education and income.\n"
     ]
    }
   ],
   "source": [
    "import numpy as np\n",
    "from scipy.stats import chi2_contingency\n",
    "\n",
    "observed = np.array([\n",
    "    [20, 15],\n",
    "    [25, 20],\n",
    "    [15, 5]\n",
    "])\n",
    "\n",
    "statistic, p_value, df, expected = chi2_contingency(observed)\n",
    "\n",
    "print(\"Statistic:\", statistic)\n",
    "print(\"P-value:\", p_value)\n",
    "print(\"Degrees of freedom:\", df)\n",
    "print(\"Expected:\", expected, sep=\"\\n\")\n",
    "\n",
    "alpha = 0.05\n",
    "\n",
    "if p_value < alpha:\n",
    "    print(\"Reject the null hypothesis: There is no relationship between education and income.\")\n",
    "else:\n",
    "    print(\"Fail to reject the null hypothesis: There's not enough evidence to say there isn't a relationship between education and income.\")"
   ]
  },
  {
   "attachments": {},
   "cell_type": "markdown",
   "metadata": {},
   "source": [
    "## 9 - Paired t-test or Wilcoxon Signed Rank Test\n",
    "\n",
    "A random sample of 20 students were collected. During the test, two measurements (i.e test results) of each person were taken, one before and one after a set of teaching sessions."
   ]
  },
  {
   "attachments": {},
   "cell_type": "markdown",
   "metadata": {},
   "source": [
    "1. What is the ”treatment” in this case?"
   ]
  },
  {
   "attachments": {},
   "cell_type": "markdown",
   "metadata": {},
   "source": [
    "2. Formulate your null hypothesis (H0) and its alternative hypothesis (Ha) based on the problem."
   ]
  },
  {
   "attachments": {},
   "cell_type": "markdown",
   "metadata": {},
   "source": [
    "3. Read the file https://users.du.se/∼rny/datascience/data/diagnosticTest.csv. There are three columns; The student number, test result before teaching, test result after teaching. Each row represent the same subject measurements before and after."
   ]
  },
  {
   "attachments": {},
   "cell_type": "markdown",
   "metadata": {},
   "source": [
    "4. Present summary statistics for the two groups (i.e. the before and after mea- sures, respectively)"
   ]
  },
  {
   "attachments": {},
   "cell_type": "markdown",
   "metadata": {},
   "source": [
    "5. Display the confidence intervals, one for each"
   ]
  },
  {
   "attachments": {},
   "cell_type": "markdown",
   "metadata": {},
   "source": [
    "6. Display the data groups before and after as boxplots"
   ]
  },
  {
   "attachments": {},
   "cell_type": "markdown",
   "metadata": {},
   "source": [
    "\n",
    "7. Provide arguments for stating that your data samples are normal or not. Support your arguments with:\n",
    "(a) qualitative assessment on the box plots above (or additional histograms) (b) qualitative assessment by using QQ plots\n",
    "(c) quantitative assessment by using the Shapiro-Wilks Test."
   ]
  },
  {
   "attachments": {},
   "cell_type": "markdown",
   "metadata": {},
   "source": [
    "8. Check for outliers and display the result(s). State your conclusion for presence or non-presence of outliers and your actions taken."
   ]
  },
  {
   "attachments": {},
   "cell_type": "markdown",
   "metadata": {},
   "source": [
    "\n",
    "9. Provide arguments if the data is normal or not, and based on that conclusion perform a Paired t-test, or a Wilcoxon Signed Rank Test"
   ]
  },
  {
   "attachments": {},
   "cell_type": "markdown",
   "metadata": {},
   "source": [
    "10. Motivate whether H0 should be rejected or not. Explain your thoughts based on the result"
   ]
  },
  {
   "cell_type": "markdown",
   "metadata": {},
   "source": []
  }
 ],
 "metadata": {
  "kernelspec": {
   "display_name": "Python 3",
   "language": "python",
   "name": "python3"
  },
  "language_info": {
   "codemirror_mode": {
    "name": "ipython",
    "version": 3
   },
   "file_extension": ".py",
   "mimetype": "text/x-python",
   "name": "python",
   "nbconvert_exporter": "python",
   "pygments_lexer": "ipython3",
   "version": "3.11.2"
  },
  "orig_nbformat": 4
 },
 "nbformat": 4,
 "nbformat_minor": 2
}
