{
 "cells": [
  {
   "attachments": {},
   "cell_type": "markdown",
   "metadata": {},
   "source": [
    "# GIK2KM - Lab 3 - More Data Analysis Laboratory\n",
    "\n",
    "## 7 - One-way ANOVA, or Kruskal-Wallis Test\n",
    "\n",
    "\n",
    "One-way Analysis of Variance (ANOVA) is used when comparing three or more groups of data on the interval/ratio scale.\n",
    "\n",
    "Assignment: We have three groups with seven observations per group, as follows: http://users.du.se/∼rny/datascience/data/webcount2.csv\n",
    "\n",
    "The file contains the number of visits (by the thousands) per week on three national websites (located in Sweden, Finland, and Norway). The websites are owned by the same company. The websites have a similar content (essentially only the written language differs), but the target audience are located in the three different countries. The manager team wants to know if the number of website visits are equal between the three websites, or not. Perform a Oneway ANOVA test and find out!"
   ]
  },
  {
   "attachments": {},
   "cell_type": "markdown",
   "metadata": {},
   "source": [
    "1. Formulate your null hypothesis (H0) and its alternative hypothesis (Ha) based on the problem."
   ]
  },
  {
   "attachments": {},
   "cell_type": "markdown",
   "metadata": {},
   "source": [
    "### Svar\n",
    "\n",
    "H0 = Means are equal. There is no difference in the means of the population group.  \n",
    "H1 = Means are not equal. There is a difference in the means of the population group."
   ]
  },
  {
   "attachments": {},
   "cell_type": "markdown",
   "metadata": {},
   "source": [
    "2. Read the file. There are three columns; a website in Sweden, website in Finland, website in Norway. Each row represent the number of website visits per week (by the thousands)."
   ]
  },
  {
   "cell_type": "code",
   "execution_count": 1,
   "metadata": {},
   "outputs": [
    {
     "data": {
      "text/html": [
       "<div>\n",
       "<style scoped>\n",
       "    .dataframe tbody tr th:only-of-type {\n",
       "        vertical-align: middle;\n",
       "    }\n",
       "\n",
       "    .dataframe tbody tr th {\n",
       "        vertical-align: top;\n",
       "    }\n",
       "\n",
       "    .dataframe thead th {\n",
       "        text-align: right;\n",
       "    }\n",
       "</style>\n",
       "<table border=\"1\" class=\"dataframe\">\n",
       "  <thead>\n",
       "    <tr style=\"text-align: right;\">\n",
       "      <th></th>\n",
       "      <th>websiteSWE</th>\n",
       "      <th>websiteFIN</th>\n",
       "      <th>websiteNOR</th>\n",
       "    </tr>\n",
       "  </thead>\n",
       "  <tbody>\n",
       "    <tr>\n",
       "      <th>0</th>\n",
       "      <td>18.2</td>\n",
       "      <td>17.4</td>\n",
       "      <td>15.2</td>\n",
       "    </tr>\n",
       "    <tr>\n",
       "      <th>1</th>\n",
       "      <td>20.1</td>\n",
       "      <td>18.7</td>\n",
       "      <td>18.8</td>\n",
       "    </tr>\n",
       "    <tr>\n",
       "      <th>2</th>\n",
       "      <td>17.6</td>\n",
       "      <td>19.1</td>\n",
       "      <td>17.7</td>\n",
       "    </tr>\n",
       "    <tr>\n",
       "      <th>3</th>\n",
       "      <td>16.8</td>\n",
       "      <td>16.4</td>\n",
       "      <td>16.5</td>\n",
       "    </tr>\n",
       "    <tr>\n",
       "      <th>4</th>\n",
       "      <td>18.8</td>\n",
       "      <td>15.9</td>\n",
       "      <td>15.9</td>\n",
       "    </tr>\n",
       "    <tr>\n",
       "      <th>5</th>\n",
       "      <td>19.7</td>\n",
       "      <td>18.4</td>\n",
       "      <td>17.1</td>\n",
       "    </tr>\n",
       "    <tr>\n",
       "      <th>6</th>\n",
       "      <td>19.1</td>\n",
       "      <td>17.7</td>\n",
       "      <td>16.7</td>\n",
       "    </tr>\n",
       "    <tr>\n",
       "      <th>7</th>\n",
       "      <td>21.0</td>\n",
       "      <td>17.9</td>\n",
       "      <td>14.3</td>\n",
       "    </tr>\n",
       "    <tr>\n",
       "      <th>8</th>\n",
       "      <td>15.0</td>\n",
       "      <td>17.3</td>\n",
       "      <td>18.0</td>\n",
       "    </tr>\n",
       "    <tr>\n",
       "      <th>9</th>\n",
       "      <td>19.6</td>\n",
       "      <td>19.0</td>\n",
       "      <td>16.8</td>\n",
       "    </tr>\n",
       "    <tr>\n",
       "      <th>10</th>\n",
       "      <td>19.4</td>\n",
       "      <td>15.1</td>\n",
       "      <td>17.0</td>\n",
       "    </tr>\n",
       "  </tbody>\n",
       "</table>\n",
       "</div>"
      ],
      "text/plain": [
       "    websiteSWE  websiteFIN  websiteNOR\n",
       "0         18.2        17.4        15.2\n",
       "1         20.1        18.7        18.8\n",
       "2         17.6        19.1        17.7\n",
       "3         16.8        16.4        16.5\n",
       "4         18.8        15.9        15.9\n",
       "5         19.7        18.4        17.1\n",
       "6         19.1        17.7        16.7\n",
       "7         21.0        17.9        14.3\n",
       "8         15.0        17.3        18.0\n",
       "9         19.6        19.0        16.8\n",
       "10        19.4        15.1        17.0"
      ]
     },
     "execution_count": 1,
     "metadata": {},
     "output_type": "execute_result"
    }
   ],
   "source": [
    "import pandas as pd\n",
    "\n",
    "data = pd.read_csv(\"https://users.du.se/~rny/datascience/data/webcount2.csv\", delimiter=\";\", decimal=\",\")\n",
    "swe = data['websiteSWE']\n",
    "fin = data['websiteFIN']\n",
    "nor = data['websiteNOR']\n",
    "data"
   ]
  },
  {
   "attachments": {},
   "cell_type": "markdown",
   "metadata": {},
   "source": [
    "3. Present summary statistics for the three groups"
   ]
  },
  {
   "cell_type": "code",
   "execution_count": 2,
   "metadata": {},
   "outputs": [
    {
     "name": "stdout",
     "output_type": "stream",
     "text": [
      "count    11.000000\n",
      "mean     18.663636\n",
      "std       1.687171\n",
      "min      15.000000\n",
      "25%      17.900000\n",
      "50%      19.100000\n",
      "75%      19.650000\n",
      "max      21.000000\n",
      "Name: websiteSWE, dtype: float64 \n",
      "\n",
      "count    11.000000\n",
      "mean     17.536364\n",
      "std       1.297130\n",
      "min      15.100000\n",
      "25%      16.850000\n",
      "50%      17.700000\n",
      "75%      18.550000\n",
      "max      19.100000\n",
      "Name: websiteFIN, dtype: float64 \n",
      "\n",
      "count    11.000000\n",
      "mean     16.727273\n",
      "std       1.266563\n",
      "min      14.300000\n",
      "25%      16.200000\n",
      "50%      16.800000\n",
      "75%      17.400000\n",
      "max      18.800000\n",
      "Name: websiteNOR, dtype: float64 \n",
      "\n"
     ]
    }
   ],
   "source": [
    "print(swe.describe(),\"\\n\")\n",
    "print(fin.describe(),\"\\n\")\n",
    "print(nor.describe(),\"\\n\")"
   ]
  },
  {
   "attachments": {},
   "cell_type": "markdown",
   "metadata": {},
   "source": [
    "4. Display confidence intervals for the three groups, one for each."
   ]
  },
  {
   "cell_type": "code",
   "execution_count": 3,
   "metadata": {},
   "outputs": [
    {
     "name": "stdout",
     "output_type": "stream",
     "text": [
      "websiteSWE: (17.53017956839288, 19.797093158879846)\n",
      "websiteFIN: (16.664940047686724, 18.407787225040547)\n",
      "websiteNOR: (15.876384129936984, 17.57816132460847)\n"
     ]
    }
   ],
   "source": [
    "import scipy.stats as stats\n",
    "import numpy as np\n",
    "\n",
    "ci_swe = stats.t.interval(0.95, df=len(swe)-1, loc=np.mean(swe), scale=stats.sem(swe))\n",
    "print(\"websiteSWE:\", ci_swe)\n",
    "\n",
    "ci_fin = stats.t.interval(0.95, df=len(fin)-1, loc=np.mean(fin), scale=stats.sem(fin))\n",
    "print(\"websiteFIN:\", ci_fin)\n",
    "\n",
    "ci_nor = stats.t.interval(0.95, df=len(nor)-1, loc=np.mean(nor), scale=stats.sem(nor))\n",
    "print(\"websiteNOR:\", ci_nor)"
   ]
  },
  {
   "attachments": {},
   "cell_type": "markdown",
   "metadata": {},
   "source": [
    "5. Display the three groups as boxplots"
   ]
  },
  {
   "cell_type": "code",
   "execution_count": 4,
   "metadata": {},
   "outputs": [
    {
     "data": {
      "image/png": "[encoded data removed]",
      "text/plain": [
       "<Figure size 640x480 with 1 Axes>"
      ]
     },
     "metadata": {},
     "output_type": "display_data"
    }
   ],
   "source": [
    "import matplotlib.pyplot as plt\n",
    "\n",
    "fig, ax = plt.subplots()\n",
    "bp = ax.boxplot(data)\n",
    "ax.set_xticklabels(['websiteSWE', 'websiteFIN', 'websiteNOR'])\n",
    "ax.set_ylabel('Visits')\n",
    "ax.set_title('Numbers of visits (by the thousands) per week')\n",
    "\n",
    "plt.show()"
   ]
  },
  {
   "attachments": {},
   "cell_type": "markdown",
   "metadata": {},
   "source": [
    "6. Provide arguments for stating that your data samples are normal or not. Support your arguments with:  \n",
    "a) qualitative assessment on the box plots above (or additional histograms)  \n",
    "b) qualitative assessment by using QQ plots  \n",
    "c) quantitative assessment by using the Shapiro-Wilks Test"
   ]
  },
  {
   "attachments": {},
   "cell_type": "markdown",
   "metadata": {},
   "source": [
    "### Answer\n",
    "\n",
    "A. The box plot above shows us two outliers. Both are significantly lower than the majority of the values. One outlier can be found at around 15 for websiteSWE and one aroud 14.3 for websiteNOR."
   ]
  },
  {
   "cell_type": "code",
   "execution_count": 5,
   "metadata": {},
   "outputs": [],
   "source": [
    "# Write code for B here"
   ]
  },
  {
   "attachments": {},
   "cell_type": "markdown",
   "metadata": {},
   "source": [
    "B. X"
   ]
  },
  {
   "cell_type": "code",
   "execution_count": 6,
   "metadata": {},
   "outputs": [
    {
     "name": "stdout",
     "output_type": "stream",
     "text": [
      "Normality test:\n",
      "websiteSWE: ShapiroResult(statistic=0.9394252300262451, pvalue=0.5137653946876526)\n",
      "websiteFIN: ShapiroResult(statistic=0.9414898753166199, pvalue=0.5381695628166199)\n",
      "websiteNOR: ShapiroResult(statistic=0.978549599647522, pvalue=0.9575585722923279)\n"
     ]
    }
   ],
   "source": [
    "print('Normality test:')\n",
    "print('websiteSWE:', stats.shapiro(swe))\n",
    "print('websiteFIN:', stats.shapiro(fin))\n",
    "print('websiteNOR:', stats.shapiro(nor))"
   ]
  },
  {
   "attachments": {},
   "cell_type": "markdown",
   "metadata": {},
   "source": [
    "C. Wiki säger om data:\n",
    "\n",
    "    If the p value is greater than 0.20, the conclusion is that the data is normally distributed.\n",
    "\n",
    "Med den infon så kan vi konstatera att datat anses vara normalfördelat."
   ]
  },
  {
   "cell_type": "markdown",
   "metadata": {},
   "source": [
    "7. Check for outliers and display the result(s). State your conclusion for presence or non-presence of outliers and your actions taken."
   ]
  },
  {
   "cell_type": "code",
   "execution_count": 7,
   "metadata": {},
   "outputs": [
    {
     "name": "stdout",
     "output_type": "stream",
     "text": [
      "SWE Statistics: DescribeResult(nobs=11, minmax=(15.0, 21.0), mean=18.663636363636364, variance=2.8465454545454545, skewness=-0.8476356691501512, kurtosis=0.12034448845111223)\n",
      "FIN Statistics: DescribeResult(nobs=11, minmax=(15.1, 19.1), mean=17.536363636363635, variance=1.682545454545455, skewness=-0.5332291415000516, kurtosis=-0.7832423845921066)\n",
      "NOR Statistics: DescribeResult(nobs=11, minmax=(14.3, 18.8), mean=16.727272727272727, variance=1.6041818181818184, skewness=-0.3345856150698085, kurtosis=-0.32310175604756086)\n"
     ]
    }
   ],
   "source": [
    "print(\"SWE Statistics:\", stats.describe(swe))\n",
    "print(\"FIN Statistics:\", stats.describe(fin))\n",
    "print(\"NOR Statistics:\", stats.describe(nor))"
   ]
  },
  {
   "attachments": {},
   "cell_type": "markdown",
   "metadata": {},
   "source": [
    "### Svar\n",
    "\n",
    "Vi ser att SWE och NOR har 2 outliers på boxplotten men vi kollar max och minvärden igen (taget från upg 3). Här ser vi med datan från boxplotten att 15.0 i SWE är en outlier och inte ligger inom spannet. Vi ser också att NOR har en outlier med värdet 14.3."
   ]
  },
  {
   "attachments": {},
   "cell_type": "markdown",
   "metadata": {},
   "source": [
    "8. based on your conclusions about the normality of data either carry a Oneway ANOVA test, or a Kruskal-Wallis Test"
   ]
  },
  {
   "cell_type": "code",
   "execution_count": 8,
   "metadata": {},
   "outputs": [
    {
     "data": {
      "text/plain": [
       "F_onewayResult(statistic=5.0889336851154665, pvalue=0.012503039662104238)"
      ]
     },
     "execution_count": 8,
     "metadata": {},
     "output_type": "execute_result"
    }
   ],
   "source": [
    "stats.f_oneway(swe, fin, nor)"
   ]
  },
  {
   "attachments": {},
   "cell_type": "markdown",
   "metadata": {},
   "source": [
    "9. Motivate whether H0 should be rejected or not. Explain your thoughts based on the result"
   ]
  },
  {
   "attachments": {},
   "cell_type": "markdown",
   "metadata": {},
   "source": [
    "### Svar\n",
    "\n",
    "Eftersom p-värdet är lägre än vår signifikansnivå (0.05) så har vi tillräckligt med info för att säga att det finns olikheter i vår tre grupper och kan förkasta H0."
   ]
  },
  {
   "attachments": {},
   "cell_type": "markdown",
   "metadata": {},
   "source": [
    "10. If H0 was rejected, perform a post-hoc test namely the Tukeys HSD test to see which group(s) are different. Explain your thoughts."
   ]
  },
  {
   "cell_type": "code",
   "execution_count": 9,
   "metadata": {},
   "outputs": [
    {
     "name": "stdout",
     "output_type": "stream",
     "text": [
      "Multiple Comparison of Means - Tukey HSD, FWER=0.05 \n",
      "====================================================\n",
      "group1 group2 meandiff p-adj   lower   upper  reject\n",
      "----------------------------------------------------\n",
      "     a      b  -1.1273 0.1713 -2.6303  0.3758  False\n",
      "     a      c  -1.9364 0.0094 -3.4394 -0.4333   True\n",
      "     b      c  -0.8091 0.3916 -2.3121  0.6939  False\n",
      "----------------------------------------------------\n"
     ]
    }
   ],
   "source": [
    "from statsmodels.stats.multicomp import pairwise_tukeyhsd\n",
    "\n",
    "a = [18.2,20.1,17.6,16.8,18.8,19.7,19.1,21,15,19.6,19.4]\n",
    "b = [17.4,18.7,19.1,16.4,15.9,18.4,17.7,17.9,17.3,19,15.1]\n",
    "c = [15.2,18.8,17.7,16.5,15.9,17.1,16.7,14.3,18,16.8,17]\n",
    "\n",
    "\n",
    "# IF you see that the overall p-value from the ANOVA table is lower than your ALPHA value, then \n",
    "#  you can conclude that the mean values across each group are NOT equal.\n",
    "# In order to decide to determine exactly which group means are different, perform Tukey’s HSD Test \n",
    "\n",
    "# Use the data above, or recreate DataFrame to hold data\n",
    "df = pd.DataFrame({'score': [18.2,20.1,17.6,16.8,18.8,19.7,19.1,21,15,19.6,19.4] + [17.4,18.7,19.1,16.4,15.9,18.4,17.7,17.9,17.3,19,15.1] + [15.2,18.8,17.7,16.5,15.9,17.1,16.7,14.3,18,16.8,17],\n",
    "                     'group': ['a'] * 11 + ['b'] * 11 + ['c'] * 11}) \n",
    "\n",
    "# perform Tukey's test\n",
    "tukey = pairwise_tukeyhsd(endog=df['score'],\n",
    "                          groups=df['group'],\n",
    "                          alpha=0.05)\n",
    "\n",
    "#display results\n",
    "print(tukey)\n",
    "\n",
    "#There is a statistically significant difference between the means of \n",
    "# groups a and b and groups b and c, but not a statistically significant \n",
    "# difference between the means of groups a and c."
   ]
  },
  {
   "attachments": {},
   "cell_type": "markdown",
   "metadata": {},
   "source": [
    "## 8 - Chi-Square (χ2) Goodness-of-Fit test\n",
    "Chi-Square (χ2) Goodness-of-Fit test is a non-parametric test that is used to find out how the observed value of a given phenomena is significantly different from the expected value. In Chi-Square goodness of fit test, the term Goodness-of-Fit is used to compare the observed sample distribution with the expected probability distribution.\n",
    "\n",
    "Chi-Square goodness of fit test determines how well theoretical distribution (such as normal, uniform, binomial, or Poisson) fits the empirical distribution. In Chi-Square goodness of fit test, sample data is divided into intervals. Then the numbers of points that fall into the interval are compared, with the expected numbers of points in each interval.\n",
    "\n",
    "Assignment: The People Code, created by Dr. Taylor Hartman, divides personalities into four colors: Red (motivated by power), Blue (motivated by intimacy), White (motivated by peace), and Yellow (motivated by fun). Although different groups of people have different demographics, the general breakdown suggests that Reds comprise 25% of the population; Blues 35%; Whites 20%; and Yellows 20%. 300 respondents were to answer a 45-question test which assesses one’s color, based on whether you answer A, B, C, or D. After analysing the test results, the 300 responents were assigned the classes as in Table 1.\n",
    "\n",
    "Table 1:\n",
    "| Red | Blue | White | Yellow |\n",
    "| --- | ---- | ----- | ------ |\n",
    "| 117 | 123  | 75    | 65     |\n",
    "\n",
    "Can we conclude your collected sample represents the distribution of the population? That is, how \"good\" do the data \"fit\" the expected probability model?"
   ]
  },
  {
   "attachments": {},
   "cell_type": "markdown",
   "metadata": {},
   "source": [
    "1. Formulate your null hypothesis (H0) and its alternative hypothesis (Ha) based on the problem above."
   ]
  },
  {
   "attachments": {},
   "cell_type": "markdown",
   "metadata": {},
   "source": [
    "H0 = The test is representative of the population  \n",
    "H1 = The test is **not** representative of the population"
   ]
  },
  {
   "attachments": {},
   "cell_type": "markdown",
   "metadata": {},
   "source": [
    "2. Which are the observed values?"
   ]
  },
  {
   "cell_type": "code",
   "execution_count": 10,
   "metadata": {},
   "outputs": [
    {
     "name": "stdout",
     "output_type": "stream",
     "text": [
      "[117, 123, 75, 65]\n"
     ]
    }
   ],
   "source": [
    "observed = [117, 123, 75, 65]\n",
    "\n",
    "print(observed)"
   ]
  },
  {
   "attachments": {},
   "cell_type": "markdown",
   "metadata": {},
   "source": [
    "3. Which are the expected values and expected relative frequency i.e. the\n",
    "expected probability distribution?"
   ]
  },
  {
   "cell_type": "code",
   "execution_count": 11,
   "metadata": {},
   "outputs": [
    {
     "name": "stdout",
     "output_type": "stream",
     "text": [
      "[0.25, 0.35, 0.2, 0.2]\n",
      "[95.0, 133.0, 76.0, 76.0]\n"
     ]
    }
   ],
   "source": [
    "proportions = [0.25, 0.35, 0.20, 0.20]\n",
    "total_respondents = sum(observed)\n",
    "expected = [p * total_respondents for p in proportions]\n",
    "\n",
    "print(proportions)\n",
    "print(expected)"
   ]
  },
  {
   "attachments": {},
   "cell_type": "markdown",
   "metadata": {},
   "source": [
    "4. Motivate whether H0 should be rejected or not. Explain your thoughts based\n",
    "on the result."
   ]
  },
  {
   "cell_type": "code",
   "execution_count": 12,
   "metadata": {},
   "outputs": [
    {
     "name": "stdout",
     "output_type": "stream",
     "text": [
      "Statistic=7.45188, p=0.059\n",
      "Eftersom p-värdet är större än 0.05 så kan vi acceptera H0 och vi kan därför säga att det är samma fördelning.\n"
     ]
    }
   ],
   "source": [
    "from scipy.stats import chisquare\n",
    "\n",
    "statistic, p_value = chisquare(observed, f_exp=expected)\n",
    "print('Statistic=%.5f, p=%.3f' % (statistic, p_value))\n",
    "\n",
    "alpha = 0.05\n",
    "\n",
    "if p_value > alpha:\n",
    "    print('Eftersom p-värdet är större än 0.05 så kan vi acceptera H0 och vi kan därför säga att det är samma fördelning.')\n",
    "else:\n",
    "    print('Eftersom p-värdet är mindre eller lika med 0.05 så förkastar vi H0 och vi kan därför inte säga att det är samma fördelning.')"
   ]
  },
  {
   "attachments": {},
   "cell_type": "markdown",
   "metadata": {},
   "source": [
    "5. **Note: This assignment has nothing to do with what is stated above**  \n",
    "Create and demonstrate an example using the other Chi-Square test, i.e. Chi-Square, Test of Independence."
   ]
  },
  {
   "attachments": {},
   "cell_type": "markdown",
   "metadata": {},
   "source": [
    "H0 = There is no relation between income level and education.  \n",
    "H1 = There is a relation between income level and education.  "
   ]
  },
  {
   "cell_type": "code",
   "execution_count": 13,
   "metadata": {},
   "outputs": [
    {
     "name": "stdout",
     "output_type": "stream",
     "text": [
      "Statistic: 2.3644179894179893\n",
      "P-value: 0.3066007106491661\n",
      "Degrees of freedom: 2\n",
      "Observed:\n",
      "[[20 15]\n",
      " [25 20]\n",
      " [15  5]]\n",
      "Expected:\n",
      "[[21. 14.]\n",
      " [27. 18.]\n",
      " [12.  8.]]\n",
      "Fail to reject the null hypothesis: There's a relationship between education and income.\n"
     ]
    }
   ],
   "source": [
    "import numpy as np\n",
    "from scipy.stats import chi2_contingency\n",
    "\n",
    "observed = np.array([\n",
    "    [20, 15],\n",
    "    [25, 20],\n",
    "    [15, 5]\n",
    "])\n",
    "\n",
    "statistic, p_value, df, expected = chi2_contingency(observed)\n",
    "\n",
    "print(\"Statistic:\", statistic)\n",
    "print(\"P-value:\", p_value)\n",
    "print(\"Degrees of freedom:\", df)\n",
    "print(\"Observed:\", observed, sep=\"\\n\")\n",
    "print(\"Expected:\", expected, sep=\"\\n\")\n",
    "\n",
    "alpha = 0.05\n",
    "\n",
    "if p_value < alpha:\n",
    "    print(\"Reject the null hypothesis: There is no relationship between education and income.\")\n",
    "else:\n",
    "    print(\"Fail to reject the null hypothesis: There's a relationship between education and income.\")"
   ]
  },
  {
   "attachments": {},
   "cell_type": "markdown",
   "metadata": {},
   "source": [
    "## 9 - Paired t-test or Wilcoxon Signed Rank Test\n",
    "\n",
    "A random sample of 20 students were collected. During the test, two measurements (i.e test results) of each person were taken, one before and one after a set of teaching sessions."
   ]
  },
  {
   "attachments": {},
   "cell_type": "markdown",
   "metadata": {},
   "source": [
    "1. What is the ”treatment” in this case?"
   ]
  },
  {
   "attachments": {},
   "cell_type": "markdown",
   "metadata": {},
   "source": [
    "2. Formulate your null hypothesis (H0) and its alternative hypothesis (Ha) based on the problem."
   ]
  },
  {
   "attachments": {},
   "cell_type": "markdown",
   "metadata": {},
   "source": [
    "3. Read the file https://users.du.se/∼rny/datascience/data/diagnosticTest.csv. There are three columns; The student number, test result before teaching, test result after teaching. Each row represent the same subject measurements before and after."
   ]
  },
  {
   "attachments": {},
   "cell_type": "markdown",
   "metadata": {},
   "source": [
    "4. Present summary statistics for the two groups (i.e. the before and after mea- sures, respectively)"
   ]
  },
  {
   "attachments": {},
   "cell_type": "markdown",
   "metadata": {},
   "source": [
    "5. Display the confidence intervals, one for each"
   ]
  },
  {
   "attachments": {},
   "cell_type": "markdown",
   "metadata": {},
   "source": [
    "6. Display the data groups before and after as boxplots"
   ]
  },
  {
   "attachments": {},
   "cell_type": "markdown",
   "metadata": {},
   "source": [
    "\n",
    "7. Provide arguments for stating that your data samples are normal or not. Support your arguments with:\n",
    "(a) qualitative assessment on the box plots above (or additional histograms) (b) qualitative assessment by using QQ plots\n",
    "(c) quantitative assessment by using the Shapiro-Wilks Test."
   ]
  },
  {
   "attachments": {},
   "cell_type": "markdown",
   "metadata": {},
   "source": [
    "8. Check for outliers and display the result(s). State your conclusion for presence or non-presence of outliers and your actions taken."
   ]
  },
  {
   "attachments": {},
   "cell_type": "markdown",
   "metadata": {},
   "source": [
    "\n",
    "9. Provide arguments if the data is normal or not, and based on that conclusion perform a Paired t-test, or a Wilcoxon Signed Rank Test"
   ]
  },
  {
   "attachments": {},
   "cell_type": "markdown",
   "metadata": {},
   "source": [
    "10. Motivate whether H0 should be rejected or not. Explain your thoughts based on the result"
   ]
  },
  {
   "cell_type": "markdown",
   "metadata": {},
   "source": []
  }
 ],
 "metadata": {
  "kernelspec": {
   "display_name": "Python 3",
   "language": "python",
   "name": "python3"
  },
  "language_info": {
   "codemirror_mode": {
    "name": "ipython",
    "version": 3
   },
   "file_extension": ".py",
   "mimetype": "text/x-python",
   "name": "python",
   "nbconvert_exporter": "python",
   "pygments_lexer": "ipython3",
   "version": "3.11.2"
  },
  "orig_nbformat": 4
 },
 "nbformat": 4,
 "nbformat_minor": 2
}
