{
 "cells": [
  {
   "cell_type": "markdown",
   "metadata": {},
   "source": [
    "## Dataset\n",
    "\n",
    "Gutenberg dataset 1.7 GB <https://zenodo.org/records/3360392/files/D1.7GB.zip?download=1>  \n",
    "<https://zenodo.org/records/3360392>"
   ]
  },
  {
   "cell_type": "code",
   "execution_count": null,
   "metadata": {},
   "outputs": [],
   "source": [
    "import os\n",
    "\n",
    "def convert_to_utf8(filename, encodings=('utf-8', 'iso-8859-1', 'windows-1252')):\n",
    "    for encoding in encodings:\n",
    "        try:\n",
    "            with open(filename, 'r', encoding=encoding) as file:\n",
    "                content = file.read()\n",
    "            with open(filename, 'w', encoding='utf-8') as file:\n",
    "                file.write(content)\n",
    "            break\n",
    "        except UnicodeDecodeError:\n",
    "            continue\n",
    "    else:\n",
    "        print(f\"Failed to convert {filename}.\")\n",
    "\n",
    "\n",
    "directory = \"./dataset\"\n",
    "\n",
    "for filename in os.listdir(directory):\n",
    "    if filename.endswith('.txt'):\n",
    "        filepath = os.path.join(directory, filename)\n",
    "        convert_to_utf8(filepath)\n"
   ]
  },
  {
   "cell_type": "code",
   "execution_count": null,
   "metadata": {},
   "outputs": [],
   "source": [
    "import os\n",
    "from collections import Counter\n",
    "from multiprocessing import Pool\n",
    "import concurrent.futures\n",
    "import pandas as pd\n",
    "\n",
    "def count_words_in_file(filename):\n",
    "    word_count = Counter()\n",
    "    with open(filename, 'r') as file:\n",
    "        for line in file:\n",
    "            word_count.update(line.strip().split())\n",
    "    return word_count\n",
    "\n",
    "def word_count_serial(directory):\n",
    "    total_count = Counter()\n",
    "    for filename in os.listdir(directory):\n",
    "        if filename.endswith('.txt'):\n",
    "            filepath = os.path.join(directory, filename)\n",
    "            total_count.update(count_words_in_file(filepath))\n",
    "    return total_count\n",
    "\n",
    "def word_count_parallel(directory):\n",
    "    pool = Pool()\n",
    "    filepaths = [os.path.join(directory, filename) for filename in os.listdir(directory) if filename.endswith('.txt')]\n",
    "    results = pool.map(count_words_in_file, filepaths)\n",
    "    pool.close()\n",
    "    pool.join()\n",
    "    total_count = Counter()\n",
    "    for result in results:\n",
    "        total_count.update(result)\n",
    "    return total_count\n"
   ]
  },
  {
   "cell_type": "code",
   "execution_count": null,
   "metadata": {},
   "outputs": [],
   "source": [
    "directory = \"./dataset\"\n",
    "\n",
    "word_counts_serial = word_count_serial(directory)\n",
    "df_word_counts_serial = pd.DataFrame(word_counts_serial.items(), columns=['Word', 'Count'])\n",
    "df_word_counts_serial.head()"
   ]
  },
  {
   "cell_type": "code",
   "execution_count": null,
   "metadata": {},
   "outputs": [],
   "source": [
    "directory = \"./dataset\"\n",
    "\n",
    "word_counts_parallel = word_count_parallel(directory)\n",
    "df_word_counts_parallel = pd.DataFrame(word_counts_parallel.items(), columns=['Word', 'Count'])\n",
    "df_word_counts_parallel.head()"
   ]
  },
  {
   "cell_type": "code",
   "execution_count": null,
   "metadata": {},
   "outputs": [],
   "source": []
  }
 ],
 "metadata": {
  "kernelspec": {
   "display_name": "Python 3",
   "language": "python",
   "name": "python3"
  },
  "language_info": {
   "codemirror_mode": {
    "name": "ipython",
    "version": 3
   },
   "file_extension": ".py",
   "mimetype": "text/x-python",
   "name": "python",
   "nbconvert_exporter": "python",
   "pygments_lexer": "ipython3",
   "version": "3.12.1"
  }
 },
 "nbformat": 4,
 "nbformat_minor": 2
}
