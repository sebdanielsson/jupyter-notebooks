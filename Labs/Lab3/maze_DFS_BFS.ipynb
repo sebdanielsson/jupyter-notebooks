{
 "cells": [
  {
   "cell_type": "code",
   "execution_count": null,
   "metadata": {},
   "outputs": [],
   "source": [
    "%pylab inline"
   ]
  },
  {
   "cell_type": "code",
   "execution_count": null,
   "metadata": {},
   "outputs": [],
   "source": [
    "from pandas import *\n",
    "#import numpy\n",
    "#import matplotlib"
   ]
  },
  {
   "cell_type": "code",
   "execution_count": null,
   "metadata": {},
   "outputs": [],
   "source": [
    "def make_maze(w, h):\n",
    "    vis = [[0] * w + [1] for _ in range(h)] + [[1] * (w + 1)]\n",
    "    ver = [[\"10\"] * w + ['1'] for _ in range(h)] + [[]]\n",
    "    hor = [[\"11\"] * w + ['1'] for _ in range(h + 1)]\n",
    " \n",
    "    def walk(x, y):\n",
    "        vis[y][x] = 1\n",
    " \n",
    "        d = [(x - 1, y), (x, y + 1), (x + 1, y), (x, y - 1)]\n",
    "        shuffle(d)\n",
    "        for (xx, yy) in d:\n",
    "            if vis[yy][xx]: continue\n",
    "            if xx == x: hor[max(y, yy)][x] = \"10\"\n",
    "            if yy == y: ver[y][max(x, xx)] = \"00\"\n",
    "            walk(xx, yy)\n",
    " \n",
    "    walk(numpy.random.randint(w), numpy.random.randint(h))\n",
    " \n",
    "    s = \"\"\n",
    "    for (a, b) in zip(hor, ver):\n",
    "        s += ''.join(a + ['\\n'] + b + ['\\n'])\n",
    "        \n",
    "    M=[]\n",
    "    for line in s.split(\"\\n\"):\n",
    "        if line!=\"\":\n",
    "            R=[]\n",
    "            for e in line:\n",
    "                R.append(int(e))\n",
    "            M.append(R)\n",
    "    return M\n",
    " \n",
    "maze=numpy.array(make_maze(8,8))\n",
    "imshow(maze)\n",
    "\n",
    "print(maze.shape)\n"
   ]
  },
  {
   "cell_type": "code",
   "execution_count": null,
   "metadata": {},
   "outputs": [],
   "source": [
    "m=numpy.ones((17,17))\n",
    "for i in range(8):\n",
    "    for j in range(8):\n",
    "        m[1+(i*2)][1+(j*2)]=0\n",
    "imshow(m)\n",
    "print(m)"
   ]
  },
  {
   "cell_type": "code",
   "execution_count": null,
   "metadata": {},
   "outputs": [],
   "source": [
    "#maze\n",
    "startLocation=[1,1]\n",
    "targetLocation=[15,15]\n"
   ]
  },
  {
   "cell_type": "code",
   "execution_count": null,
   "metadata": {},
   "outputs": [],
   "source": [
    "maze[1][1]"
   ]
  },
  {
   "cell_type": "code",
   "execution_count": null,
   "metadata": {},
   "outputs": [],
   "source": [
    "maze[15][15]"
   ]
  },
  {
   "cell_type": "code",
   "execution_count": null,
   "metadata": {},
   "outputs": [],
   "source": [
    "def giveMeNeighborLocations(x,y):\n",
    "    return [[x-1,y],[x,y-1],[x+1,y],[x,y+1]]\n",
    "\n",
    "giveMeNeighborLocations(5,5)"
   ]
  },
  {
   "cell_type": "code",
   "execution_count": null,
   "metadata": {},
   "outputs": [],
   "source": [
    "def getNeighbors(x,y):\n",
    "    nb=list()\n",
    "    xm=[0,1,0,-1]\n",
    "    ym=[1,0,-1,0]\n",
    "    for i in range(4):\n",
    "        nb.append([x+xm[i],y+ym[i]])\n",
    "    return nb\n",
    "\n",
    "getNeighbors(1,1)"
   ]
  },
  {
   "cell_type": "code",
   "execution_count": null,
   "metadata": {},
   "outputs": [],
   "source": [
    "#maze[13][15]=1\n",
    "#imshow(maze)"
   ]
  },
  {
   "cell_type": "code",
   "execution_count": null,
   "metadata": {},
   "outputs": [],
   "source": [
    "# maze\n",
    "startLocation=[1,1]\n",
    "targetLocation=[15,15]\n",
    "distances=numpy.zeros(maze.shape)-1\n",
    "\n",
    "front=[startLocation]\n",
    "distances[startLocation[0]][startLocation[1]]=0\n",
    "currentDistance=1\n",
    "while len(front)>0: \n",
    "    newFront=list()\n",
    "    for currentLocation in front:    \n",
    "        neighbors=getNeighbors(currentLocation[0],currentLocation[1])\n",
    "        #print(neighbors)\n",
    "        for nb in neighbors:\n",
    "            if maze[nb[0]][nb[1]]==0 and distances[nb[0]][nb[1]]<0.0:\n",
    "                distances[nb[0]][nb[1]]=currentDistance\n",
    "                newFront.append(nb)\n",
    "        #print(\"current front\",newFront)\n",
    "    front=newFront\n",
    "    currentDistance+=1 #currentDistance=currentDistance+1"
   ]
  },
  {
   "cell_type": "code",
   "execution_count": null,
   "metadata": {},
   "outputs": [],
   "source": [
    "figure(figsize=[8,4])\n",
    "subplot(1,2,1)\n",
    "imshow(maze)\n",
    "subplot(1,2,2)\n",
    "imshow(distances,cmap='Spectral')\n"
   ]
  },
  {
   "cell_type": "code",
   "execution_count": null,
   "metadata": {},
   "outputs": [],
   "source": [
    "m=[['x',2],['x',4],['x',6]]\n",
    "print(m)\n",
    "#print(transpose(m))"
   ]
  },
  {
   "cell_type": "raw",
   "metadata": {},
   "source": [
    "# Pseudo code\n",
    "DFS(graph, start_node, end_node):\n",
    "    frontier = new Stack()\n",
    "    frontier.push(start_node)\n",
    "    explored = new Set()\n",
    "    while frontier is not empty:\n",
    "        current_node = frontier.pop()\n",
    "        if current_node in explored: continue\n",
    "        if current_node == end_node: return success\n",
    "        \n",
    "        for neighbor in graph.get_neigbhors(current_node):\n",
    "            frontier.push(neighbor)\n",
    "        explored.add(current_node)"
   ]
  },
  {
   "cell_type": "code",
   "execution_count": null,
   "metadata": {},
   "outputs": [],
   "source": [
    "def DFS(maze,startNode,endNode):\n",
    "    frontier=list()\n",
    "    frontier.append(startNode)\n",
    "    explored=list()\n",
    "    while len(frontier)!=0:\n",
    "        currentNode=frontier.pop()\n",
    "        if currentNode in explored:\n",
    "            continue\n",
    "        if currentNode == endNode:\n",
    "            return \"success!\",explored+[targetLocation]\n",
    "        for nb in getNeighbors(currentNode[0],currentNode[1]):\n",
    "            if maze[nb[0]][nb[1]]==0:\n",
    "                frontier.append(nb)\n",
    "        explored.append(currentNode)\n",
    "    return \"failure\",explored\n",
    "\n",
    "imshow(maze)\n",
    "print(startLocation,targetLocation)\n",
    "answer,explored=DFS(maze,startLocation,targetLocation)\n",
    "print(answer)\n",
    "print(explored)\n",
    "plot(transpose(explored)[1],transpose(explored)[0],'ow')"
   ]
  },
  {
   "cell_type": "code",
   "execution_count": null,
   "metadata": {},
   "outputs": [],
   "source": [
    "# Get the shortest path \n",
    "currentLocation=targetLocation\n",
    "path=[]\n",
    "while currentLocation!=startLocation:\n",
    "    path.append(currentLocation)\n",
    "    neighbors=getNeighbors(currentLocation[0],currentLocation[1])\n",
    "    indices=[]\n",
    "    for nb in neighbors:\n",
    "        if nb in explored:\n",
    "            indices.append(explored.index(nb))\n",
    "    currentLocation=explored[min(indices)] \n",
    "    \n",
    "path.append(startLocation)\n",
    "imshow(maze)\n",
    "plot(transpose(path)[1],transpose(path)[0],'or')"
   ]
  },
  {
   "cell_type": "code",
   "execution_count": null,
   "metadata": {},
   "outputs": [],
   "source": [
    "len(explored)"
   ]
  },
  {
   "cell_type": "code",
   "execution_count": null,
   "metadata": {},
   "outputs": [],
   "source": [
    "# BFS\n",
    "from typing import Deque\n",
    "\n",
    "def BFS(maze,startNode,endNode):\n",
    "    frontier=Deque()\n",
    "    frontier.append(startNode)\n",
    "    explored=list()\n",
    "    while len(frontier)!=0:\n",
    "        currentNode=frontier.popleft()\n",
    "        if currentNode in explored:\n",
    "            continue\n",
    "        if currentNode == endNode:\n",
    "            return \"success!\",explored+[targetLocation]\n",
    "        for nb in getNeighbors(currentNode[0],currentNode[1]):\n",
    "            if maze[nb[0]][nb[1]]==0:\n",
    "                frontier.append(nb)\n",
    "        explored.append(currentNode)\n",
    "    return \"failure\",explored\n",
    " \n",
    "imshow(maze)\n",
    "print(startLocation,targetLocation)\n",
    "answer,explored=BFS(maze,startLocation,targetLocation)\n",
    "print(answer)\n",
    "print(explored)\n",
    "plot(transpose(explored)[1],transpose(explored)[0],'ow')"
   ]
  },
  {
   "cell_type": "code",
   "execution_count": null,
   "metadata": {},
   "outputs": [],
   "source": [
    "# Get the shortest path \n",
    "currentLocation=targetLocation\n",
    "path=[]\n",
    "while currentLocation!=startLocation:\n",
    "    path.append(currentLocation)\n",
    "    neighbors=getNeighbors(currentLocation[0],currentLocation[1])\n",
    "    indices=[]\n",
    "    for nb in neighbors:\n",
    "        if nb in explored:\n",
    "            indices.append(explored.index(nb))\n",
    "    currentLocation=explored[min(indices)]  \n",
    "path.append(startLocation)\n",
    "imshow(maze)\n",
    "plot(transpose(path)[1],transpose(path)[0],'or')"
   ]
  },
  {
   "cell_type": "code",
   "execution_count": null,
   "metadata": {},
   "outputs": [],
   "source": [
    "len(explored)"
   ]
  },
  {
   "cell_type": "code",
   "execution_count": null,
   "metadata": {},
   "outputs": [],
   "source": []
  }
 ],
 "metadata": {
  "kernelspec": {
   "display_name": "Python 3 (ipykernel)",
   "language": "python",
   "name": "python3"
  },
  "language_info": {
   "codemirror_mode": {
    "name": "ipython",
    "version": 3
   },
   "file_extension": ".py",
   "mimetype": "text/x-python",
   "name": "python",
   "nbconvert_exporter": "python",
   "pygments_lexer": "ipython3",
   "version": "3.8.8"
  }
 },
 "nbformat": 4,
 "nbformat_minor": 4
}
