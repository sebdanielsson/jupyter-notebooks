{
 "cells": [
  {
   "cell_type": "code",
   "execution_count": 4,
   "metadata": {},
   "outputs": [
    {
     "name": "stdout",
     "output_type": "stream",
     "text": [
      "Populating the interactive namespace from numpy and matplotlib\n"
     ]
    },
    {
     "name": "stderr",
     "output_type": "stream",
     "text": [
      "C:\\Users\\vpp\\Anaconda3\\lib\\site-packages\\IPython\\core\\magics\\pylab.py:159: UserWarning: pylab import has clobbered these variables: ['test', 'array', 'plotting', 'unique']\n",
      "`%matplotlib` prevents importing * from pylab and numpy\n",
      "  warn(\"pylab import has clobbered these variables: %s\"  % clobbered +\n"
     ]
    }
   ],
   "source": [
    "%pylab inline"
   ]
  },
  {
   "cell_type": "code",
   "execution_count": 5,
   "metadata": {},
   "outputs": [],
   "source": [
    "from pandas import *\n",
    "import numpy"
   ]
  },
  {
   "cell_type": "code",
   "execution_count": 10,
   "metadata": {},
   "outputs": [
    {
     "name": "stdout",
     "output_type": "stream",
     "text": [
      "[[1 1 1 1 1 1 1 1 1 1 1 1 1 1 1 1 1]\n",
      " [1 0 0 0 0 0 1 0 0 0 0 0 0 0 1 0 1]\n",
      " [1 0 1 1 1 0 1 0 1 1 1 0 1 0 1 0 1]\n",
      " [1 0 0 0 1 0 1 0 0 0 1 0 1 0 1 0 1]\n",
      " [1 1 1 0 1 0 1 1 1 0 1 0 1 0 1 0 1]\n",
      " [1 0 0 0 1 0 0 0 1 0 1 0 1 0 0 0 1]\n",
      " [1 0 1 1 1 1 1 1 1 0 1 0 1 1 1 1 1]\n",
      " [1 0 1 0 0 0 0 0 0 0 1 0 0 0 0 0 1]\n",
      " [1 0 1 0 1 1 1 1 1 1 1 1 1 1 1 0 1]\n",
      " [1 0 0 0 1 0 0 0 1 0 0 0 1 0 0 0 1]\n",
      " [1 0 1 1 1 1 1 0 1 0 1 0 1 0 1 1 1]\n",
      " [1 0 0 0 0 0 1 0 0 0 1 0 1 0 1 0 1]\n",
      " [1 1 1 1 1 0 1 1 1 1 1 0 1 1 1 0 1]\n",
      " [1 0 0 0 1 0 0 0 1 0 0 0 0 0 0 0 1]\n",
      " [1 0 1 1 1 1 1 0 1 0 1 1 1 1 1 0 1]\n",
      " [1 0 0 0 0 0 0 0 0 0 1 0 0 0 0 0 1]\n",
      " [1 1 1 1 1 1 1 1 1 1 1 1 1 1 1 1 1]]\n"
     ]
    }
   ],
   "source": [
    "def make_maze(w , h):\n",
    "    vis = [[0] * w + [1] for _ in range(h)] + [[1] * (w + 1)]\n",
    "    ver = [[\"10\"] * w + ['1'] for _ in range(h)] + [[]]\n",
    "    hor = [[\"11\"] * w + ['1'] for _ in range(h + 1)]\n",
    " \n",
    "    def walk(x, y):\n",
    "        vis[y][x] = 1\n",
    " \n",
    "        d = [(x - 1, y), (x, y + 1), (x + 1, y), (x, y - 1)]\n",
    "        shuffle(d)\n",
    "        for (xx, yy) in d:\n",
    "            if vis[yy][xx]: continue\n",
    "            if xx == x: hor[max(y, yy)][x] = \"10\"\n",
    "            if yy == y: ver[y][max(x, xx)] = \"00\"\n",
    "            walk(xx, yy)\n",
    " \n",
    "    walk(numpy.random.randint(w), numpy.random.randint(h))\n",
    " \n",
    "    s = \"\"\n",
    "    for (a, b) in zip(hor, ver):\n",
    "        s += ''.join(a + ['\\n'] + b + ['\\n'])\n",
    "        \n",
    "    M=[]\n",
    "    for line in s.split(\"\\n\"):\n",
    "        if line!=\"\":\n",
    "            R=[]\n",
    "            for e in line:\n",
    "                R.append(int(e))\n",
    "            M.append(R)\n",
    "    return M\n",
    " \n",
    "maze=numpy.array(make_maze(8,8))\n",
    "print(maze)\n",
    "#imshow(maze)"
   ]
  },
  {
   "cell_type": "code",
   "execution_count": null,
   "metadata": {},
   "outputs": [],
   "source": []
  },
  {
   "cell_type": "code",
   "execution_count": null,
   "metadata": {},
   "outputs": [],
   "source": []
  }
 ],
 "metadata": {
  "kernelspec": {
   "display_name": "Python 3 (ipykernel)",
   "language": "python",
   "name": "python3"
  },
  "language_info": {
   "codemirror_mode": {
    "name": "ipython",
    "version": 3
   },
   "file_extension": ".py",
   "mimetype": "text/x-python",
   "name": "python",
   "nbconvert_exporter": "python",
   "pygments_lexer": "ipython3",
   "version": "3.8.8"
  }
 },
 "nbformat": 4,
 "nbformat_minor": 4
}
