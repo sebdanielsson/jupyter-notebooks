{
 "cells": [
  {
   "attachments": {},
   "cell_type": "markdown",
   "metadata": {},
   "source": [
    "# Lab 3: Solve the Maze using A*"
   ]
  },
  {
   "cell_type": "code",
   "execution_count": 4,
   "metadata": {},
   "outputs": [
    {
     "name": "stdout",
     "output_type": "stream",
     "text": [
      "Start location is valid = 0\n",
      "Target location is valid = 0\n"
     ]
    },
    {
     "data": {
      "image/png": "[encoded data removed]",
      "text/plain": [
       "<Figure size 400x400 with 1 Axes>"
      ]
     },
     "metadata": {},
     "output_type": "display_data"
    }
   ],
   "source": [
    "from pylab import *\n",
    "import numpy\n",
    "\n",
    "# Generate maze\n",
    "def make_maze(w, h):\n",
    "    vis = [[0] * w + [1] for _ in range(h)] + [[1] * (w + 1)]\n",
    "    ver = [[\"10\"] * w + ['1'] for _ in range(h)] + [[]]\n",
    "    hor = [[\"11\"] * w + ['1'] for _ in range(h + 1)]\n",
    " \n",
    "    def walk(x, y):\n",
    "        vis[y][x] = 1\n",
    " \n",
    "        d = [(x - 1, y), (x, y + 1), (x + 1, y), (x, y - 1)]\n",
    "        shuffle(d)\n",
    "        for (xx, yy) in d:\n",
    "            if vis[yy][xx]: continue\n",
    "            if xx == x: hor[max(y, yy)][x] = \"10\"\n",
    "            if yy == y: ver[y][max(x, xx)] = \"00\"\n",
    "            walk(xx, yy)\n",
    " \n",
    "    walk(numpy.random.randint(w), numpy.random.randint(h))\n",
    " \n",
    "    s = \"\"\n",
    "    for (a, b) in zip(hor, ver):\n",
    "        s += ''.join(a + ['\\n'] + b + ['\\n'])\n",
    "        \n",
    "    M=[]\n",
    "    for line in s.split(\"\\n\"):\n",
    "        if line!=\"\":\n",
    "            R=[]\n",
    "            for e in line:\n",
    "                R.append(int(e))\n",
    "            M.append(R)\n",
    "    return M\n",
    "\n",
    "# Generate maze and define start and target locations\n",
    "maze_width=8\n",
    "maze_height=8\n",
    "startLocation=(1,1)\n",
    "targetLocation=(maze_height*2-1,maze_width*2-1)\n",
    "maze=numpy.array(make_maze(maze_width,maze_height))\n",
    "\n",
    "# Plot the maze\n",
    "def plot_maze(maze, start, end, maze_width, maze_height):\n",
    "    plt.imshow(maze, cmap='binary')\n",
    "    plt.xticks(range(0, maze_width*2))\n",
    "    plt.yticks(range(0, maze_height*2))\n",
    "    plt.plot(start[1], start[0], 'gs')\n",
    "    plt.plot(end[1], end[0], 'rs')\n",
    "\n",
    "# Check if the start and target locations are valid\n",
    "if maze[startLocation[0]][startLocation[1]]==1:\n",
    "    print('Start location is not valid =', maze[1][1])\n",
    "else:\n",
    "    print('Start location is valid =', maze[1][1])\n",
    "if maze[targetLocation[0]][targetLocation[1]]==1:\n",
    "    print('Target location is not valid =', maze[15][15])\n",
    "else:\n",
    "    print('Target location is valid =', maze[15][15])\n",
    "\n",
    "# Plot maze\n",
    "plt.figure(figsize=[maze_width/2,maze_height/2])\n",
    "plot_maze(maze, startLocation, targetLocation, maze_width, maze_height)\n",
    "plt.show()"
   ]
  },
  {
   "cell_type": "code",
   "execution_count": 5,
   "metadata": {},
   "outputs": [],
   "source": [
    "# A* algorithm\n",
    "def a_star(maze, start, end):\n",
    "    # List of squares to visit\n",
    "    queue = [start]\n",
    "    # Dictionary with the cost from start to each square\n",
    "    costs = {start: 0}\n",
    "    # Keep track of the parents of each square\n",
    "    parents = {start: None}\n",
    "    # List or set to store visited squares\n",
    "    visited = []\n",
    "\n",
    "    # Repeat until we have visited all squares\n",
    "    while queue:\n",
    "        # Sort the queue by cost + heuristic\n",
    "        queue.sort(key=lambda x: costs[x] + abs(end[0] - x[0]) + abs(end[1] - x[1]))\n",
    "\n",
    "        # Get the square with the lowest cost + heuristic\n",
    "        current = queue.pop(0)\n",
    "\n",
    "        # Add the current square to the visited list or set\n",
    "        visited.append(current)\n",
    "\n",
    "        # Check if we have reached the end\n",
    "        if current == end:\n",
    "            # Save the path\n",
    "            path = []\n",
    "            while current:\n",
    "                path.append(current)\n",
    "                current = parents[current]\n",
    "            return path[::-1], visited\n",
    "\n",
    "        # Get the row and column of the current square\n",
    "        row, col = current\n",
    "\n",
    "        # List of neighbors\n",
    "        neighbors = []\n",
    "\n",
    "        # Check if the above square is a valid neighbor\n",
    "        if row > 0 and maze[row - 1][col] == 0:\n",
    "            neighbors.append((row - 1, col))\n",
    "\n",
    "        # Check if the below square is a valid neighbor\n",
    "        if row < len(maze) - 1 and maze[row + 1][col] == 0:\n",
    "            neighbors.append((row + 1, col))\n",
    "\n",
    "        # Check if the left square is a valid neighbor\n",
    "        if col > 0 and maze[row][col - 1] == 0:\n",
    "            neighbors.append((row, col - 1))\n",
    "\n",
    "        # Check if the right square is a valid neighbor\n",
    "        if col < len(maze[0]) - 1 and maze[row][col + 1] == 0:\n",
    "            neighbors.append((row, col + 1))\n",
    "\n",
    "        # Get cost of reaching each neighbor\n",
    "        for neighbor in neighbors:\n",
    "            cost = costs[current] + 1\n",
    "\n",
    "            # Update the cost and parent of the neighbor if the cost is lower than the current\n",
    "            if neighbor not in costs or cost < costs[neighbor]:\n",
    "                costs[neighbor] = cost\n",
    "                parents[neighbor] = current\n",
    "                queue.append(neighbor)\n",
    "\n",
    "    # Return none if no path to the end is found\n",
    "    return None"
   ]
  },
  {
   "cell_type": "code",
   "execution_count": 6,
   "metadata": {},
   "outputs": [
    {
     "ename": "ValueError",
     "evalue": "not enough values to unpack (expected 3, got 2)",
     "output_type": "error",
     "traceback": [
      "\u001b[0;31m---------------------------------------------------------------------------\u001b[0m",
      "\u001b[0;31mValueError\u001b[0m                                Traceback (most recent call last)",
      "Cell \u001b[0;32mIn[6], line 2\u001b[0m\n\u001b[1;32m      1\u001b[0m \u001b[39m# Find the best path with A*\u001b[39;00m\n\u001b[0;32m----> 2\u001b[0m generated_path, visited, cost_map \u001b[39m=\u001b[39m a_star(maze, startLocation, targetLocation)\n\u001b[1;32m      4\u001b[0m \u001b[39m# Plot the visited squares and the best path\u001b[39;00m\n\u001b[1;32m      5\u001b[0m plt\u001b[39m.\u001b[39mfigure(figsize\u001b[39m=\u001b[39m[maze_width,maze_height])\n",
      "\u001b[0;31mValueError\u001b[0m: not enough values to unpack (expected 3, got 2)"
     ]
    }
   ],
   "source": [
    "# Find the best path with A*\n",
    "generated_path, visited = a_star(maze, startLocation, targetLocation)\n",
    "\n",
    "# Plot the visited squares and the best path\n",
    "plt.figure(figsize=[maze_width,maze_height])\n",
    "\n",
    "plt.subplot(1, 2, 1)\n",
    "plot_maze(maze, startLocation, targetLocation, maze_width, maze_height)\n",
    "plot(transpose(visited[1:-1])[1],transpose(visited[1:-1])[0],'k.')\n",
    "\n",
    "plt.subplot(1, 2, 2)\n",
    "plot_maze(maze, startLocation, targetLocation, maze_width, maze_height)\n",
    "plot(transpose(generated_path[1:-1])[1],transpose(generated_path[1:-1])[0],'k.')\n",
    "\n",
    "# Show the figure\n",
    "plt.show()"
   ]
  },
  {
   "cell_type": "code",
   "execution_count": null,
   "metadata": {},
   "outputs": [],
   "source": [
    "import matplotlib.pyplot as plt\n",
    "import matplotlib.cm as cm\n",
    "\n",
    "# Use imshow() to display the spectral map\n",
    "plt.imshow(cost_map, cmap=cm.viridis)\n",
    "\n",
    "# Show the plot\n",
    "plt.show()\n"
   ]
  },
  {
   "cell_type": "code",
   "execution_count": null,
   "metadata": {},
   "outputs": [],
   "source": []
  }
 ],
 "metadata": {
  "kernelspec": {
   "display_name": "Python 3",
   "language": "python",
   "name": "python3"
  },
  "language_info": {
   "codemirror_mode": {
    "name": "ipython",
    "version": 3
   },
   "file_extension": ".py",
   "mimetype": "text/x-python",
   "name": "python",
   "nbconvert_exporter": "python",
   "pygments_lexer": "ipython3",
   "version": "3.10.8"
  },
  "orig_nbformat": 4,
  "vscode": {
   "interpreter": {
    "hash": "73a4deffa37449eec2906a82541729956dc4ede81d351440dc1e5a408dd292eb"
   }
  }
 },
 "nbformat": 4,
 "nbformat_minor": 2
}
