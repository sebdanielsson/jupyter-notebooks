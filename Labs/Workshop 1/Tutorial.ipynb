{
 "cells": [
  {
   "cell_type": "code",
   "execution_count": null,
   "id": "72fc2c83",
   "metadata": {},
   "outputs": [],
   "source": [
    "%matplotlib inline\n",
    "import numpy"
   ]
  },
  {
   "cell_type": "code",
   "execution_count": null,
   "id": "74523294",
   "metadata": {},
   "outputs": [],
   "source": [
    "print(\"hello world\")"
   ]
  },
  {
   "cell_type": "code",
   "execution_count": null,
   "id": "170aff65",
   "metadata": {},
   "outputs": [],
   "source": [
    "i=5\n",
    "f=0.4\n",
    "b=True\n",
    "s=\"Hello world\""
   ]
  },
  {
   "cell_type": "code",
   "execution_count": null,
   "id": "1e15aee4",
   "metadata": {},
   "outputs": [],
   "source": [
    "print(i,f,b,s)"
   ]
  },
  {
   "cell_type": "code",
   "execution_count": null,
   "id": "85fa40df",
   "metadata": {},
   "outputs": [],
   "source": [
    "j=i\n",
    "print(i,j)"
   ]
  },
  {
   "cell_type": "code",
   "execution_count": null,
   "id": "e0d04e89",
   "metadata": {},
   "outputs": [],
   "source": [
    "for i in range(10):\n",
    "    print(i)"
   ]
  },
  {
   "cell_type": "code",
   "execution_count": null,
   "id": "a3605cc8",
   "metadata": {},
   "outputs": [],
   "source": [
    "j=0\n",
    "for i in range (10):\n",
    "  j=j+i\n",
    "  print(i,j)"
   ]
  },
  {
   "cell_type": "code",
   "execution_count": null,
   "id": "66fbb0f2",
   "metadata": {},
   "outputs": [],
   "source": [
    "n=0\n",
    "for i in range(10):\n",
    "    for j in range(10):\n",
    "        n=n+(i*j)\n",
    "print(i,j,n)"
   ]
  },
  {
   "cell_type": "code",
   "execution_count": null,
   "id": "afe08224",
   "metadata": {},
   "outputs": [],
   "source": [
    "a=5\n",
    "b=6\n",
    "if a == b:\n",
    "    print(\"yes\")\n",
    "    for i in range(10):\n",
    "        print(\"Yes really, celebrate!\")\n",
    "else:\n",
    "    print(\"no\")"
   ]
  },
  {
   "cell_type": "code",
   "execution_count": null,
   "id": "815312af",
   "metadata": {},
   "outputs": [],
   "source": [
    "i=0\n",
    "while i<10:\n",
    "    i=i+1\n",
    "    print(i)"
   ]
  },
  {
   "cell_type": "code",
   "execution_count": null,
   "id": "962cdf49",
   "metadata": {},
   "outputs": [],
   "source": [
    "#if (statement):\n",
    "#    while (statement):\n",
    "#        for (variable in (iterator):"
   ]
  },
  {
   "cell_type": "code",
   "execution_count": null,
   "id": "33e36a52",
   "metadata": {},
   "outputs": [],
   "source": [
    "L=list()\n",
    "L.append(1)\n",
    "L.append(2)\n",
    "print(L)"
   ]
  },
  {
   "cell_type": "code",
   "execution_count": null,
   "id": "19b4a387",
   "metadata": {},
   "outputs": [],
   "source": [
    "print(L[0],L[1])"
   ]
  },
  {
   "cell_type": "code",
   "execution_count": null,
   "id": "2f13de24",
   "metadata": {},
   "outputs": [],
   "source": [
    "L[3]"
   ]
  },
  {
   "cell_type": "code",
   "execution_count": null,
   "id": "b1acb78f",
   "metadata": {},
   "outputs": [],
   "source": [
    "L=[1,2,3,54,5,3243245,324,1]\n",
    "print(L)"
   ]
  },
  {
   "cell_type": "code",
   "execution_count": null,
   "id": "8cd271a3",
   "metadata": {},
   "outputs": [],
   "source": [
    "L=list()\n",
    "L=[]"
   ]
  },
  {
   "cell_type": "code",
   "execution_count": null,
   "id": "89832641",
   "metadata": {},
   "outputs": [],
   "source": [
    "L=[1,0.6,False,True,\"this is a string\"]\n",
    "print(L)"
   ]
  },
  {
   "cell_type": "code",
   "execution_count": null,
   "id": "58d30ae3",
   "metadata": {},
   "outputs": [],
   "source": [
    "s=0\n",
    "for i in range(len(L)):\n",
    "    s=s+L[i]\n",
    "    print(s,i)"
   ]
  },
  {
   "cell_type": "code",
   "execution_count": null,
   "id": "f599b3f5",
   "metadata": {},
   "outputs": [],
   "source": [
    "for v in L:\n",
    "    print(v):    "
   ]
  },
  {
   "cell_type": "code",
   "execution_count": null,
   "id": "842927a7",
   "metadata": {},
   "outputs": [],
   "source": [
    "for i,v in enumerate(L):\n",
    "    print(i,v)"
   ]
  },
  {
   "cell_type": "code",
   "execution_count": null,
   "id": "70b331d0",
   "metadata": {},
   "outputs": [],
   "source": [
    "list(range(10))"
   ]
  },
  {
   "cell_type": "code",
   "execution_count": null,
   "id": "29610d6e",
   "metadata": {},
   "outputs": [],
   "source": [
    "M=[]\n",
    "for i in range(3):\n",
    "    r=[]\n",
    "    for j in range(3+i):\n",
    "        r.append(j*i)\n",
    "    M.append(r)\n",
    "print(M)"
   ]
  },
  {
   "cell_type": "code",
   "execution_count": null,
   "id": "c0a4f8de",
   "metadata": {},
   "outputs": [],
   "source": [
    "D=dict()\n",
    "D[\"This is a key\"]=76\n",
    "D[i]=\"This is a value key\"\n",
    "print(D)"
   ]
  },
  {
   "cell_type": "code",
   "execution_count": null,
   "id": "5593a2a1",
   "metadata": {},
   "outputs": [],
   "source": [
    "len(D)"
   ]
  },
  {
   "cell_type": "code",
   "execution_count": null,
   "id": "df7b5673",
   "metadata": {
    "scrolled": true
   },
   "outputs": [],
   "source": [
    "D.keys()"
   ]
  },
  {
   "cell_type": "code",
   "execution_count": null,
   "id": "3162be88",
   "metadata": {},
   "outputs": [],
   "source": [
    "D.values()"
   ]
  },
  {
   "cell_type": "code",
   "execution_count": null,
   "id": "5515eda8",
   "metadata": {},
   "outputs": [],
   "source": [
    "D[\"[1,2]\"]=[4,5,6]\n",
    "print(D)"
   ]
  },
  {
   "cell_type": "code",
   "execution_count": null,
   "id": "21e67a12",
   "metadata": {},
   "outputs": [],
   "source": [
    "D=dict()\n",
    "D[\"This is a dictionary\"]=dict()\n",
    "print(D)\n",
    "D[\"This is a dictionary\"][\"other key\"]=[1,2,3,4,dict(),[2,2]]\n",
    "print(D)"
   ]
  },
  {
   "cell_type": "code",
   "execution_count": null,
   "id": "e56fc5b8",
   "metadata": {},
   "outputs": [],
   "source": [
    "S=set()\n",
    "S.add(54)\n",
    "S.add(60)\n",
    "S.add(54)\n",
    "print(S)"
   ]
  },
  {
   "cell_type": "code",
   "execution_count": null,
   "id": "7275c55d",
   "metadata": {},
   "outputs": [],
   "source": [
    "def functionName(a, b, c):\n",
    "    print(a, b, c)\n",
    "    return a*b*c\n",
    "    \n",
    "print(functionName(1,2,3))"
   ]
  },
  {
   "cell_type": "markdown",
   "id": "5fedb414",
   "metadata": {},
   "source": [
    "# Tic-tac-toe"
   ]
  },
  {
   "cell_type": "code",
   "execution_count": null,
   "id": "91b8208e",
   "metadata": {},
   "outputs": [],
   "source": [
    "# Generate board\n",
    "def generateBoard():\n",
    "    return(numpy.random.choice([0,1,2],(9)))\n",
    "\n",
    "# Empty board\n",
    "def emptyBoard():\n",
    "    return[0,0,0,0,0,0,0,0,0]\n",
    "\n",
    "# Check board length\n",
    "def checkIllegalLength(board):\n",
    "    board=[0, 1, 0, 1, 1, 2, 0, 2, 2, 1]\n",
    "    if len(board)!=9:\n",
    "        print(\"Error: The board must be 9 slots.\\nArray length is\",len(board),\"slots.\", board)\n",
    "\n",
    "# Check for illegal values\n",
    "def checkIllegalValues(board):\n",
    "    board=[0, 1, 2, 0, 1, 1, 2, 1, 3]\n",
    "    for i in board:\n",
    "        if i not in range(0, 3):\n",
    "            print(\"Error: The board must only contain the following values: 0, 1, 2.\\nFound value [\", i, \"] inside the array.\", board)\n",
    "            break\n",
    "\n",
    "# Show board\n",
    "def showBoard(board):\n",
    "    C=[\".\",\"X\",\"O\"]\n",
    "    i=0\n",
    "    for column in range(3):\n",
    "        S=\"\"\n",
    "        for row in range(3):\n",
    "            S=S+\" \"+C[board[i]]+\" |\"\n",
    "            i=i+1\n",
    "        print(S)\n",
    "        print(\"---+---+---\")\n",
    "\n",
    "# Get all legal moves\n",
    "def getAllLegalMoves(board):\n",
    "    L=list()\n",
    "    for i in range(9):\n",
    "        if board[i]==0:\n",
    "            L.append(i)\n",
    "    return L\n",
    "\n",
    "for i in range(10):\n",
    "    board=numpy.random.choice([0,1,2],(9))\n",
    "    print(board,getAllLegalMoves(board))\n",
    "\n",
    "# Get is winning board\n",
    "def isWinningBoard(board):\n",
    "    if board[0]==board[1] and board[1]==board[2] and board[2]!=0:\n",
    "        return True\n",
    "    if board[3]==board[4] and board[4]==board[5] and board[5]!=0:\n",
    "        return True\n",
    "    if board[6]==board[7] and board[7]==board[8] and board[8]!=0:\n",
    "        return True\n",
    "    if board[0]==board[3] and board[3]==board[6] and board[6]!=0:\n",
    "        return True\n",
    "    if board[1]==board[4] and board[4]==board[7] and board[7]!=0:\n",
    "        return True\n",
    "    if board[2]==board[5] and board[5]==board[8] and board[8]!=0:\n",
    "        return True\n",
    "    if board[0]==board[4] and board[4]==board[8] and board[8]!=0:\n",
    "        return True\n",
    "    if board[2]==board[4] and board[4]==board[6] and board[6]!=0:\n",
    "        return True\n",
    "    return False"
   ]
  },
  {
   "cell_type": "code",
   "execution_count": null,
   "id": "8ce6519f",
   "metadata": {},
   "outputs": [],
   "source": [
    "# Test functions\n",
    "print(\"Test: Generate board\")\n",
    "board=generateBoard()\n",
    "print(board)\n",
    "\n",
    "print(\"\\nTest: Show board\")\n",
    "showBoard(board)\n",
    "\n",
    "print(\"\\nTest: Check for illegal length\")\n",
    "checkIllegalLength(board)\n",
    "\n",
    "print(\"\\nTest: Check for illegal values\")\n",
    "checkIllegalValues(board)\n",
    "\n",
    "print(\"\\nTest: Empty board\")\n",
    "board=emptyBoard()\n",
    "print(board)\n",
    "\n",
    "print(\"\\nTest: Get all legal moves for 10 random boards\")\n",
    "for i in range(10):\n",
    "    board=numpy.random.choice([0,1,2],(9))\n",
    "    print(board,getAllLegalMoves(board))\n",
    "\n",
    "print(\"\\nTest: Is this a winning board?\")\n",
    "showBoard(board)\n",
    "isWinningBoard(board)"
   ]
  },
  {
   "cell_type": "code",
   "execution_count": null,
   "id": "e0317631",
   "metadata": {},
   "outputs": [],
   "source": [
    "board=emptyBoard()\n",
    "currentPlayer=1\n",
    "C=[\".\", \"X\", \"O\" ]\n",
    "while not isWinningBoard(board):\n",
    "    print(\"\\n\")\n",
    "    showBoard(board)\n",
    "    print(\"\\nPlayer \"+C[currentPlayer]+\" move:\")\n",
    "    choice=int(input())\n",
    "    if choice in getAllLegalMoves(board):\n",
    "        #insert 1 or 2 into board at location choice\n",
    "        board[choice]=currentPlayer\n",
    "        currentPlayer=3-currentPlayer\n",
    "    else:\n",
    "        print(\"Error: Invalid move.\")\n",
    "print(\"\\nPlayer \"+C[3-currentPlayer]+\" win!\")\n",
    "showBoard(board)"
   ]
  },
  {
   "cell_type": "code",
   "execution_count": null,
   "id": "02da0000",
   "metadata": {},
   "outputs": [],
   "source": []
  }
 ],
 "metadata": {
  "kernelspec": {
   "display_name": "Python 3 (ipykernel)",
   "language": "python",
   "name": "python3"
  },
  "language_info": {
   "codemirror_mode": {
    "name": "ipython",
    "version": 3
   },
   "file_extension": ".py",
   "mimetype": "text/x-python",
   "name": "python",
   "nbconvert_exporter": "python",
   "pygments_lexer": "ipython3",
   "version": "3.10.8"
  }
 },
 "nbformat": 4,
 "nbformat_minor": 5
}
