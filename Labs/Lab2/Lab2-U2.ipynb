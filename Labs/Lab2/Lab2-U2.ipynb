{
 "cells": [
  {
   "cell_type": "markdown",
   "id": "2d26e861",
   "metadata": {},
   "source": [
    "# seeds Data Set - https://archive.ics.uci.edu/ml/datasets/seeds#\n",
    "\n",
    "## Data Set Information\n",
    "\n",
    "The examined group comprised kernels belonging to three different varieties of wheat: Kama, Rosa and Canadian, 70 elements each, randomly selected for \n",
    "the experiment. High quality visualization of the internal kernel structure was detected using a soft X-ray technique. It is non-destructive and considerably cheaper than other more sophisticated imaging techniques like scanning microscopy or laser technology. The images were recorded on 13x18 cm X-ray KODAK plates. Studies were conducted using combine harvested wheat grain originating from experimental fields, explored at the Institute of Agrophysics of the Polish Academy of Sciences in Lublin. \n",
    "\n",
    "The data set can be used for the tasks of classification and cluster analysis.\n",
    "\n",
    "## Attribute Information\n",
    "\n",
    "To construct the data, seven geometric parameters of wheat kernels were measured: \n",
    "1. area A, \n",
    "2. perimeter P, \n",
    "3. compactness C = 4*pi*A/P^2, \n",
    "4. length of kernel, \n",
    "5. width of kernel, \n",
    "6. asymmetry coefficient \n",
    "7. length of kernel groove. \n",
    "All of these parameters were real-valued continuous."
   ]
  },
  {
   "cell_type": "markdown",
   "id": "55e80656",
   "metadata": {},
   "source": [
    "# Labb 2 Uppgift 2\n",
    "\n",
    "För varje körning nedan, presentera confusion matrix och värdet på Accuracy\n",
    "\n",
    "a. Prova två körningar och redogör för vilken skillnad blir det i de två fallen:\n",
    "i. med icke-normaliserat data, dvs originaldata.\n",
    "ii. med normaliserat datat i intervallet [0,1]\n",
    "\n",
    "Tips för normalisering:\n",
    "https://machinelearningmastery.com/standardscaler-and-minmax scaler-transforms-in-python/\n",
    "\n",
    "b. I dessa körningar förändra antalet tränings- och testfall. Sätt random_state=None i DecisionTreeClassifier kontruktorn (innebär att test och träningsobservationerna verkligen slumpas varje gång du kör) och kör varje punkt nedan 100 gånger (allt från början till slut) och beräkna medelvärdet på prestandan av dessa 100 körningar:\n",
    "i. train=75%, test=25%\n",
    "ii. välj själv ett förhållande mellan träning och test\n",
    "\n",
    "Presentera en av de bästa exekveringarna, med avseende på prestandan (värdet på Accuracy) hos klassificeringsalgoritmen. Visa alltid confusion matrix och accuracy."
   ]
  },
  {
   "cell_type": "code",
   "execution_count": null,
   "id": "a5ec5136-f151-4370-9422-0e8af35bfadf",
   "metadata": {},
   "outputs": [],
   "source": [
    "# Import data set\n",
    "import pandas as pd\n",
    "\n",
    "data = pd.read_csv('seeds_dataset.txt', delim_whitespace=True, header=None, usecols=[*range(0, 8)], names=['area A', 'perimeter P', 'compactness C', 'kernel length', 'kernel width', 'asymmetry coefficient', 'kernel groove length', 'wheat variant'])"
   ]
  },
  {
   "cell_type": "code",
   "execution_count": null,
   "id": "3e7f8bb4",
   "metadata": {},
   "outputs": [],
   "source": [
    "# Do some exploratory data analysis\n",
    "import seaborn as sns\n",
    "\n",
    "display(round(data.describe(),1))\n",
    "data.info()\n",
    "sns.pairplot(data, hue = 'wheat variant')"
   ]
  },
  {
   "cell_type": "code",
   "execution_count": null,
   "id": "26191795",
   "metadata": {},
   "outputs": [],
   "source": [
    "# Split data into training and test sets\n",
    "from sklearn.model_selection import train_test_split\n",
    "x = data.drop('wheat variant', axis = 1)\n",
    "y = data['wheat variant']\n",
    "\n",
    "x_training_data, x_test_data, y_training_data, y_test_data = train_test_split(x, y, test_size = 0.25)"
   ]
  },
  {
   "cell_type": "code",
   "execution_count": null,
   "id": "cb3cb086",
   "metadata": {},
   "outputs": [],
   "source": [
    "# Train the decision tree model\n",
    "from sklearn.tree import DecisionTreeClassifier\n",
    "model = DecisionTreeClassifier()\n",
    "model.fit(x_training_data, y_training_data)\n",
    "predictions = model.predict(x_test_data)"
   ]
  },
  {
   "cell_type": "code",
   "execution_count": null,
   "id": "31470bec",
   "metadata": {},
   "outputs": [],
   "source": [
    "# Predict the test set results\n",
    "predictions"
   ]
  },
  {
   "cell_type": "code",
   "execution_count": null,
   "id": "cb3fc9fb",
   "metadata": {},
   "outputs": [],
   "source": [
    "# Measure the accuracy of the model\n",
    "from sklearn.metrics import confusion_matrix\n",
    "from sklearn.metrics import classification_report\n",
    "from sklearn import tree\n",
    "import matplotlib.pyplot as plt\n",
    "\n",
    "# Generate a decision tree\n",
    "tree.plot_tree(model)\n",
    "plt.show()\n",
    "\n",
    "# Print the classification report\n",
    "print('\\nClassification report:\\n', classification_report(y_test_data, predictions))\n",
    "\n",
    "# Print the Confusion matrix\n",
    "print('\\nConfustion matrix:')\n",
    "#print('\\nConfustion matrix:\\n', confusion_matrix(y_test_data, predictions))\n",
    "pd.crosstab(y_test_data, predictions, rownames=['Actual'], colnames=['Predicted'])"
   ]
  },
  {
   "cell_type": "code",
   "execution_count": null,
   "id": "2a8ccc01",
   "metadata": {},
   "outputs": [],
   "source": []
  }
 ],
 "metadata": {
  "kernelspec": {
   "display_name": "Python 3.10.8",
   "language": "python",
   "name": "python3"
  },
  "language_info": {
   "codemirror_mode": {
    "name": "ipython",
    "version": 3
   },
   "file_extension": ".py",
   "mimetype": "text/x-python",
   "name": "python",
   "nbconvert_exporter": "python",
   "pygments_lexer": "ipython3",
   "version": "3.10.8"
  },
  "vscode": {
   "interpreter": {
    "hash": "73a4deffa37449eec2906a82541729956dc4ede81d351440dc1e5a408dd292eb"
   }
  }
 },
 "nbformat": 4,
 "nbformat_minor": 5
}
