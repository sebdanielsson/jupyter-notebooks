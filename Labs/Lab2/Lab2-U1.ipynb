{
 "cells": [
  {
   "cell_type": "code",
   "execution_count": null,
   "id": "4e4117c5-252c-48e4-9bf9-49ce58cd8fee",
   "metadata": {},
   "outputs": [],
   "source": [
    "import numpy as np # linear algebra\n",
    "import pandas as pd # data processing,\n",
    "import seaborn as sns\n",
    "import matplotlib.pyplot as plt\n",
    "from sklearn.model_selection import train_test_split\n",
    "from sklearn.neighbors import KNeighborsClassifier\n",
    "import warnings \n",
    "warnings.filterwarnings('ignore')"
   ]
  },
  {
   "cell_type": "code",
   "execution_count": null,
   "id": "0b77c7f1-5f25-4a2f-ae14-af6d70ec5cf0",
   "metadata": {},
   "outputs": [],
   "source": [
    "df = pd.read_csv('Wholesale_customers_data.csv')  #Läser in csv-filen"
   ]
  },
  {
   "cell_type": "code",
   "execution_count": null,
   "id": "2bc52092-ae63-4c47-98ca-44f879098ae1",
   "metadata": {},
   "outputs": [],
   "source": [
    "df.head()  #Visar de 5 första raderna"
   ]
  },
  {
   "cell_type": "code",
   "execution_count": null,
   "id": "202103c3-2b87-415c-9ea5-6b9fca34fcec",
   "metadata": {},
   "outputs": [],
   "source": [
    "df.dtypes  #Visar vilka datatyper det är"
   ]
  },
  {
   "cell_type": "code",
   "execution_count": null,
   "id": "65d389e3-fbcc-4d55-ae40-69eff06f8374",
   "metadata": {},
   "outputs": [],
   "source": [
    "#pd.set_option('display.max_rows', None) #Warning: shows ALL rows\n",
    "#print(df)"
   ]
  },
  {
   "cell_type": "code",
   "execution_count": null,
   "id": "f5d33d18-1dca-4b7a-a0ec-a7ad7c21edc1",
   "metadata": {},
   "outputs": [],
   "source": [
    "round(df.describe(),1)"
   ]
  },
  {
   "cell_type": "code",
   "execution_count": null,
   "id": "f35a56a0-3f41-4131-9069-ec89dd17faa6",
   "metadata": {},
   "outputs": [],
   "source": [
    "#visualiserar sambandet mellan olika varor, sålda på resturang/cafe respektive butik\n",
    "sns.pairplot(df.drop(labels=['Region', 'Detergents_Paper', 'Delicassen'], axis=1), hue='Channel')\n"
   ]
  },
  {
   "cell_type": "code",
   "execution_count": null,
   "id": "339d6c43-39db-49be-a27c-0dd465b8abe7",
   "metadata": {},
   "outputs": [],
   "source": [
    "df.tail()"
   ]
  },
  {
   "cell_type": "code",
   "execution_count": null,
   "id": "a475ba83-133c-4802-a940-74897373bf8b",
   "metadata": {},
   "outputs": [],
   "source": [
    "#Normailiserar datan\n",
    "from sklearn.preprocessing import MinMaxScaler\n",
    "\n",
    "scaler = MinMaxScaler()\n",
    "df_norm = pd.DataFrame(scaler.fit_transform(df), columns=df.columns)\n",
    "print(df_norm)"
   ]
  },
  {
   "cell_type": "code",
   "execution_count": null,
   "id": "620ae59e-59fd-4c36-89ff-e2791bf9abed",
   "metadata": {},
   "outputs": [],
   "source": [
    "#Delar upp datasetet i training och test\n",
    "X_train, X_test, y_train, y_test = train_test_split(df[['Fresh', 'Milk', \n",
    "                                                        'Grocery', 'Frozen']],\n",
    "                                                    df['Channel'], random_state=123, test_size=0.33)"
   ]
  },
  {
   "cell_type": "code",
   "execution_count": null,
   "id": "0d48bc5a-e0a9-49a7-8df4-b3c21ead5af6",
   "metadata": {},
   "outputs": [],
   "source": [
    "#visar hur datat delats upp\n",
    "print(\"X_train shape: {}\\ny_train shape: {}\".format(X_train.shape, y_train.shape))\n",
    "print(\"X_test shape: {}\\ny_test shape: {}\".format(X_test.shape, y_test.shape))"
   ]
  },
  {
   "cell_type": "code",
   "execution_count": null,
   "id": "d51bf41a-7650-4842-b7a6-7b5ad8eae9a2",
   "metadata": {},
   "outputs": [],
   "source": [
    "#Skriver ut träningsdata\n",
    "print(X_train, y_train)"
   ]
  },
  {
   "cell_type": "code",
   "execution_count": null,
   "id": "1216a80f-cb7e-46da-88f0-665d540ee9d1",
   "metadata": {},
   "outputs": [],
   "source": [
    "#Väljer antalet K \n",
    "k = 5\n",
    "knn = KNeighborsClassifier(n_neighbors=k)"
   ]
  },
  {
   "cell_type": "code",
   "execution_count": null,
   "id": "5c3b8ed6-281d-4b3a-bc12-4e787e704a10",
   "metadata": {},
   "outputs": [],
   "source": [
    "knn.fit(X_train, y_train)"
   ]
  },
  {
   "cell_type": "code",
   "execution_count": null,
   "id": "6503c728-bba6-4581-a9c7-63439806351c",
   "metadata": {},
   "outputs": [],
   "source": [
    "# skapar en prediction array för test\n",
    "y_pred = knn.predict(X_test)\n",
    "print(y_pred)"
   ]
  },
  {
   "cell_type": "code",
   "execution_count": null,
   "id": "85e189d9-4281-498b-a11e-cd06f2dfb6bf",
   "metadata": {},
   "outputs": [],
   "source": [
    "#Gör en confusion matrix \n",
    "confusion_matrix = pd.crosstab(y_test, y_pred, rownames=['Actual'], colnames=['Predicted'])\n",
    "\n",
    "print (confusion_matrix)"
   ]
  },
  {
   "cell_type": "code",
   "execution_count": null,
   "id": "6cf2dad4-53cc-4257-9d37-8de5f2dde91b",
   "metadata": {},
   "outputs": [],
   "source": [
    "pd.concat([X_test, y_test, pd.Series(y_pred, name='Predicted', index=X_test.index)], \n",
    "          ignore_index=False, axis=1)"
   ]
  },
  {
   "cell_type": "code",
   "execution_count": null,
   "id": "bb531ee2-cd37-41fe-9026-7ae5c44386a1",
   "metadata": {},
   "outputs": [],
   "source": [
    "#  Compute the ACCURACY measurement of this model \n",
    "print(\"Test set accuracy: {:.2f}\".format(knn.score(X_test, y_test)))"
   ]
  },
  {
   "cell_type": "code",
   "execution_count": null,
   "id": "ca6da561-fa15-4a4b-b8c7-06d4fedbf485",
   "metadata": {},
   "outputs": [],
   "source": []
  }
 ],
 "metadata": {
  "kernelspec": {
   "display_name": "Python 3 (ipykernel)",
   "language": "python",
   "name": "python3"
  },
  "language_info": {
   "codemirror_mode": {
    "name": "ipython",
    "version": 3
   },
   "file_extension": ".py",
   "mimetype": "text/x-python",
   "name": "python",
   "nbconvert_exporter": "python",
   "pygments_lexer": "ipython3",
   "version": "3.9.13"
  }
 },
 "nbformat": 4,
 "nbformat_minor": 5
}
