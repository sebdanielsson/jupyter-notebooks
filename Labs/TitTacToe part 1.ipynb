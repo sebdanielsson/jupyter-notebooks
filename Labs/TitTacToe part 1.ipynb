{
 "cells": [
  {
   "cell_type": "code",
   "execution_count": 2,
   "metadata": {},
   "outputs": [],
   "source": [
    "%matplotlib inline"
   ]
  },
  {
   "cell_type": "code",
   "execution_count": 3,
   "metadata": {},
   "outputs": [
    {
     "name": "stdout",
     "output_type": "stream",
     "text": [
      "[0, 0, 0, 0, 0, 0, 0, 0, 0]\n"
     ]
    }
   ],
   "source": [
    "board=[0,0,0,0,0,0,0,0,0]\n",
    "print(board)\n",
    "\n",
    "\n",
    "if len(board)!=9:\n",
    "    print(\"you did something wrong\")"
   ]
  },
  {
   "cell_type": "code",
   "execution_count": 7,
   "metadata": {},
   "outputs": [
    {
     "name": "stdout",
     "output_type": "stream",
     "text": [
      "[0, 0, 0, 0, 0, 0, 0, 0, 0]\n"
     ]
    }
   ],
   "source": [
    "def showBoard(board):\n",
    "    #your code here!\n",
    "    print(board) #<- not enough, must be better!\n",
    "showBoard(board)"
   ]
  },
  {
   "cell_type": "raw",
   "metadata": {},
   "source": [
    "minimal requ:\n",
    "000\n",
    "000\n",
    "000\n",
    "\n",
    "---\n",
    "010\n",
    "020\n",
    "010\n",
    "\n",
    "stretch goal:\n",
    "...\n",
    "O.X\n",
    "XO.\n",
    "\n",
    "fancy:\n",
    " . | . | .\n",
    "---+---+---\n",
    " . | . | .\n",
    "---+---+---\n",
    " . | . | .\n"
   ]
  },
  {
   "cell_type": "code",
   "execution_count": 6,
   "metadata": {},
   "outputs": [
    {
     "name": "stdout",
     "output_type": "stream",
     "text": [
      ". O X\n",
      ". . O\n",
      ". X .\n"
     ]
    }
   ],
   "source": [
    "def showBoard(board):\n",
    "    C=[\".\",\"O\",\"X\"]\n",
    "    print(C[board[0]],C[board[1]],C[board[2]])\n",
    "    print(C[board[3]],C[board[4]],C[board[5]])\n",
    "    print(C[board[6]],C[board[7]],C[board[8]])\n",
    "\n",
    "showBoard([0,1,2,0,0,1,0,2,0])\n"
   ]
  },
  {
   "cell_type": "code",
   "execution_count": 11,
   "metadata": {},
   "outputs": [
    {
     "name": "stdout",
     "output_type": "stream",
     "text": [
      "[ 1  1  1  1  0 -1 -1 -1  1]\n"
     ]
    }
   ],
   "source": [
    "board=numpy.random.choice([-1,0,1],(9))\n",
    "print(board)"
   ]
  },
  {
   "cell_type": "code",
   "execution_count": 12,
   "metadata": {},
   "outputs": [
    {
     "name": "stdout",
     "output_type": "stream",
     "text": [
      " O | O | O |\n",
      "---+---+---\n",
      " O | . | X |\n",
      "---+---+---\n",
      " X | X | O |\n",
      "---+---+---\n"
     ]
    }
   ],
   "source": [
    "def showBoard(board):\n",
    "    C=[\".\",\"O\",\"X\"]\n",
    "    #C={-1:\"O\",0:\".\",1:\"X\"}\n",
    "    i=0\n",
    "    for column in range(3):\n",
    "        S=\"\"\n",
    "        for row in range(3):\n",
    "            S=S+\" \"+C[board[i]]+\" |\"\n",
    "            i=i+1\n",
    "        print(S)\n",
    "        print(\"---+---+---\")\n",
    "showBoard(board)"
   ]
  },
  {
   "cell_type": "code",
   "execution_count": 13,
   "metadata": {},
   "outputs": [
    {
     "name": "stdout",
     "output_type": "stream",
     "text": [
      "[0 0 2 0 0 0 2 1 1] [0, 1, 3, 4, 5]\n",
      "[0 1 1 2 0 2 1 2 1] [0, 4]\n",
      "[2 2 1 0 1 1 2 0 1] [3, 7]\n",
      "[0 2 2 1 1 1 0 1 0] [0, 6, 8]\n",
      "[1 0 1 0 0 2 1 1 2] [1, 3, 4]\n",
      "[1 0 2 2 2 1 2 1 2] [1]\n",
      "[0 0 1 1 2 0 0 2 2] [0, 1, 5, 6]\n",
      "[2 2 2 0 1 0 0 0 0] [3, 5, 6, 7, 8]\n",
      "[0 0 2 1 1 0 0 0 2] [0, 1, 5, 6, 7]\n",
      "[0 0 1 1 0 2 2 1 0] [0, 1, 4, 8]\n"
     ]
    }
   ],
   "source": [
    "def emptyBoard():\n",
    "    return [0,0,0,0,0,0,0,0,0]\n",
    "\n",
    "def getAllLegalMoves(board):\n",
    "    L=list()\n",
    "    for i in range(9):\n",
    "        if board[i]==0:\n",
    "            L.append(i)\n",
    "    return L\n",
    "\n",
    "for i in range(10):\n",
    "    board=numpy.random.choice([0,1,2],(9))\n",
    "    print(board,getAllLegalMoves(board))\n",
    "\n",
    "def isWinningBoard(board):\n",
    "    if sum(board)==0:\n",
    "        return False\n",
    "    if board[0]==board[1] and board[1]==board[2]:\n",
    "        return True\n",
    "    if board[3]==board[4] and board[4]==board[5]:\n",
    "        return True\n",
    "    #...\n",
    "    return False\n"
   ]
  },
  {
   "cell_type": "code",
   "execution_count": 27,
   "metadata": {},
   "outputs": [],
   "source": [
    "# create empty board\n",
    "#while not done:\n",
    "#    show boaed\n",
    "#    get input from current player\n",
    "#    execute move of current player\n",
    "#    switch player\n"
   ]
  },
  {
   "cell_type": "code",
   "execution_count": null,
   "metadata": {},
   "outputs": [
    {
     "name": "stdout",
     "output_type": "stream",
     "text": [
      "[0, 0, 0, 0, 0, 0, 0, 0, 0] 1 False [0, 1, 2, 3, 4, 5, 6, 7, 8]\n",
      " . | . | . |\n",
      "---+---+---\n",
      " . | . | . |\n",
      "---+---+---\n",
      " . | . | . |\n",
      "---+---+---\n",
      "player O move:\n"
     ]
    }
   ],
   "source": [
    "board=emptyBoard()\n",
    "currentPlayer=1\n",
    "C=[\".\",\"O\",\"X\"]\n",
    "# Debugging\n",
    "print(board,currentPlayer,isWinningBoard(board),getAllLegalMoves(board))\n",
    "while True:\n",
    "    showBoard(board)\n",
    "    print(\"player \"+C[currentPlayer]+\" move:\")\n",
    "    choice=int(input())\n",
    "    if choice in getAllLegalMoves(board):\n",
    "        \n",
    "        #insert 1 or 2 into board at location choice\n",
    "        board[choice]=currentPlayer\n",
    "        currentPlayer=3-currentPlayer\n",
    "    else:\n",
    "        print(\"this is your last warning\")"
   ]
  },
  {
   "cell_type": "code",
   "execution_count": 32,
   "metadata": {},
   "outputs": [
    {
     "name": "stdout",
     "output_type": "stream",
     "text": [
      "[1 2 0 0 0 2 1 1 0]\n",
      "[1 2 0]\n"
     ]
    }
   ],
   "source": [
    "board=numpy.random.choice([0,1,2],(9))\n",
    "print(board)\n",
    "print(board[[0,1,2]])"
   ]
  },
  {
   "cell_type": "code",
   "execution_count": 41,
   "metadata": {},
   "outputs": [
    {
     "name": "stdout",
     "output_type": "stream",
     "text": [
      "[0, 0, 0, 0, 0, 1, 0, 0, 0]\n"
     ]
    },
    {
     "data": {
      "text/plain": [
       "1"
      ]
     },
     "execution_count": 41,
     "metadata": {},
     "output_type": "execute_result"
    }
   ],
   "source": [
    "print(board)\n",
    "sum(board)"
   ]
  },
  {
   "cell_type": "code",
   "execution_count": null,
   "metadata": {},
   "outputs": [],
   "source": []
  }
 ],
 "metadata": {
  "kernelspec": {
   "display_name": "Python 3 (ipykernel)",
   "language": "python",
   "name": "python3"
  },
  "language_info": {
   "codemirror_mode": {
    "name": "ipython",
    "version": 3
   },
   "file_extension": ".py",
   "mimetype": "text/x-python",
   "name": "python",
   "nbconvert_exporter": "python",
   "pygments_lexer": "ipython3",
   "version": "3.9.13"
  }
 },
 "nbformat": 4,
 "nbformat_minor": 2
}
