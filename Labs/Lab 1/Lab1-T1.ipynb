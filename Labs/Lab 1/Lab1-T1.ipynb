{
 "cells": [
  {
   "cell_type": "code",
   "execution_count": null,
   "id": "fb838512-15f0-4c21-b414-daa6744509a0",
   "metadata": {},
   "outputs": [],
   "source": [
    "# Import pandas and import data from csv\n",
    "import pandas as pd\n",
    "\n",
    "customer_data = pd.read_csv('customerdata4.csv')"
   ]
  },
  {
   "cell_type": "code",
   "execution_count": null,
   "id": "e2ab2df5-16ad-4d3b-a0a3-2e306606279a",
   "metadata": {},
   "outputs": [],
   "source": [
    "# Look at the data headers to see what we can work with\n",
    "customer_data.head()"
   ]
  },
  {
   "cell_type": "code",
   "execution_count": null,
   "id": "e2cbcea6-e4ca-4a07-98c5-50097e44e267",
   "metadata": {},
   "outputs": [],
   "source": [
    "# Get a brief summary of the data\n",
    "customer_data.describe()"
   ]
  },
  {
   "cell_type": "code",
   "execution_count": null,
   "id": "dbde2e82-fda8-4f4c-93f6-e2d3f32fa5a6",
   "metadata": {},
   "outputs": [],
   "source": [
    "# Import seaborn for plotting\n",
    "import seaborn as sns\n",
    "\n",
    "# Analyze the age distribution grouped by gender\n",
    "sns.boxplot(data=customer_data, x=\"Age\", y=\"Gender\")"
   ]
  },
  {
   "cell_type": "code",
   "execution_count": null,
   "id": "265c3913-0ec1-492c-9afa-c6aababa6cac",
   "metadata": {},
   "outputs": [],
   "source": [
    "# Analyze the income distribution grouped by gender\n",
    "sns.boxplot(data=customer_data, x=\"Annual Income (10kkr)\", y=\"Gender\")"
   ]
  },
  {
   "cell_type": "code",
   "execution_count": null,
   "id": "bae2d409-85a7-418a-9aad-cd78488b1af2",
   "metadata": {},
   "outputs": [],
   "source": [
    "# Analyze the spending score grouped by gender\n",
    "sns.boxplot(data=customer_data, x=\"Spending Score (1-100)\", y=\"Gender\")"
   ]
  },
  {
   "cell_type": "code",
   "execution_count": null,
   "id": "d4fe212c-09fb-4777-a623-adab078ecc61",
   "metadata": {},
   "outputs": [],
   "source": [
    "# Import matplotlib for plotting and scipy to generate dendrogram\n",
    "import matplotlib.pyplot as plt\n",
    "%matplotlib inline\n",
    "import scipy.cluster.hierarchy as shc\n",
    "\n",
    "# Create new data sets with only the data that we will analyze\n",
    "data_age_score = customer_data.iloc[:, [2,4]].values\n",
    "data_income_score = customer_data.iloc[:, [3,4]].values\n",
    "\n",
    "# Dendrogram 1 - Age & Spending Score\n",
    "plt.title(\"Customer dendogram with Age and Spending Score\")\n",
    "dend = shc.dendrogram(shc.linkage(data_age_score, method='ward'))"
   ]
  },
  {
   "cell_type": "code",
   "execution_count": null,
   "id": "39c9ecfc-8335-4e54-8e65-627b2aa85e81",
   "metadata": {},
   "outputs": [],
   "source": [
    "# Dendrogram 2 - Income & Spending Score\n",
    "plt.title(\"Customer dendogram with Income and Spending Score\")\n",
    "dend = shc.dendrogram(shc.linkage(data_income_score, method='ward'))"
   ]
  },
  {
   "cell_type": "code",
   "execution_count": null,
   "id": "c01da404-7419-40fa-9d44-c05b78a5fa05",
   "metadata": {},
   "outputs": [],
   "source": [
    "# Import sklearn for clustering\n",
    "from sklearn.cluster import KMeans\n",
    "\n",
    "# k_list is the list of range in between we want to find clusters for\n",
    "k_list = list(range(1, 11))\n",
    "\n",
    "# SSE is the Sum of Squared Errors\n",
    "sse = []\n",
    "\n",
    "for k in k_list:\n",
    "    # km_model is the KMeans where we define the model for fitting the data\n",
    "    km_model = KMeans(n_clusters=k)\n",
    "    \n",
    "    # fitting the data (data is the data set) to km_model\n",
    "    km_model.fit(data_age_score)\n",
    "    sse.append(km_model.inertia_)\n",
    "\n",
    "# Plot sse against k and find the value of k where it starts to flatten down and make angle like elbow.\n",
    "plt.plot(k_list, sse, '-o')\n",
    "plt.title('Find an optimal k-value with the elbow method\\nData: Age and Spending Score')\n",
    "plt.xlabel(r'Number of clusters *k*')\n",
    "plt.ylabel('Sum of squared distance')"
   ]
  },
  {
   "cell_type": "code",
   "execution_count": null,
   "id": "7a02e01c-d006-479c-98e2-994e9b3620b5",
   "metadata": {},
   "outputs": [],
   "source": [
    "# k_list is the list of range in between we want to find clusters for\n",
    "k_list = list(range(1, 11))\n",
    "\n",
    "# SSE is the Sum of Squared Errors\n",
    "sse = []\n",
    "\n",
    "for k in k_list:\n",
    "    # km_model is the KMeans where we define the model for fitting the data\n",
    "    km_model = KMeans(n_clusters=k)\n",
    "    \n",
    "    # fitting the data (data is the data set) to km_model\n",
    "    km_model.fit(data_income_score)\n",
    "    sse.append(km_model.inertia_)\n",
    "\n",
    "# Plot sse against k and find the value of k where it starts to flatten down and make angle like elbow.\n",
    "plt.plot(k_list, sse, '-o')\n",
    "plt.title('Find an optimal k-value with the elbow method\\nData: Income and Spending Score')\n",
    "plt.xlabel(r'Number of clusters *k*')\n",
    "plt.ylabel('Sum of squared distance')"
   ]
  },
  {
   "cell_type": "code",
   "execution_count": null,
   "id": "624f866a-d39b-4642-8b66-c466ac2fb521",
   "metadata": {},
   "outputs": [],
   "source": [
    "# Set the number of clusters\n",
    "k = 4\n",
    "\n",
    "# Run clustering on \"Age & Spending Score\" data set\n",
    "#kmeans = KMeans(n_clusters=k).fit(data_age_score)\n",
    "kmeans = KMeans(n_clusters=k, init = 'k-means++').fit(data_age_score)\n",
    "centroids = kmeans.cluster_centers_\n",
    "\n",
    "# Create a scatter plot with our results from the clustering\n",
    "plt.scatter(data_age_score[:,1], data_age_score[:,0], c= kmeans.labels_.astype(float), s=50, alpha=0.5)\n",
    "plt.scatter(centroids[:, 1], centroids[:, 0], c='red', s=40,marker='x')\n",
    "\n",
    "plt.ylabel('Age')\n",
    "plt.xlabel('Spending Score (1-100)')\n",
    "\n",
    "plt.show()"
   ]
  },
  {
   "cell_type": "code",
   "execution_count": null,
   "id": "e912c8db-1fdb-401b-ab9f-a2ee41625e70",
   "metadata": {},
   "outputs": [],
   "source": [
    "# Set the number of clusters k\n",
    "k = 5\n",
    "\n",
    "# Run clustering on \"Income & Spending Score\" data set\n",
    "#kmeans = KMeans(n_clusters=k).fit(data_income_score)\n",
    "kmeans = KMeans(n_clusters=k, init = 'k-means++').fit(data_income_score)\n",
    "centroids = kmeans.cluster_centers_\n",
    "\n",
    "# Create a scatter plot with our results from the clustering\n",
    "plt.scatter(data_income_score[:,1], data_income_score[:,0], c= kmeans.labels_.astype(float), s=50, alpha=0.5)\n",
    "plt.scatter(centroids[:, 1], centroids[:, 0], c='red', s=40,marker='x')\n",
    "\n",
    "# Print labels for the two axis\n",
    "plt.ylabel('Annual Income (10kkr)')\n",
    "plt.xlabel('Spending Score (1-100)')\n",
    "\n",
    "plt.show()"
   ]
  },
  {
   "cell_type": "code",
   "execution_count": null,
   "id": "f49e9b34-b222-4864-bacb-526c3aca34a1",
   "metadata": {},
   "outputs": [],
   "source": []
  }
 ],
 "metadata": {
  "kernelspec": {
   "display_name": "Python 3.9.13",
   "language": "python",
   "name": "python3"
  },
  "language_info": {
   "codemirror_mode": {
    "name": "ipython",
    "version": 3
   },
   "file_extension": ".py",
   "mimetype": "text/x-python",
   "name": "python",
   "nbconvert_exporter": "python",
   "pygments_lexer": "ipython3",
   "version": "3.9.13"
  },
  "vscode": {
   "interpreter": {
    "hash": "38cca0c38332a56087b24af0bc80247f4fced29cb4f7f437d91dc159adec9c4e"
   }
  }
 },
 "nbformat": 4,
 "nbformat_minor": 5
}
