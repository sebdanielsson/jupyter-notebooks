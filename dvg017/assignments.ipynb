{
 "cells": [
  {
   "attachments": {},
   "cell_type": "markdown",
   "metadata": {},
   "source": [
    "# Assignments four course DVG017"
   ]
  },
  {
   "attachments": {},
   "cell_type": "markdown",
   "metadata": {},
   "source": [
    "## Assignment 1 - Python"
   ]
  },
  {
   "cell_type": "code",
   "execution_count": 1,
   "metadata": {},
   "outputs": [
    {
     "name": "stdout",
     "output_type": "stream",
     "text": [
      "Hej, jag heter Sebastian.\n",
      "Jag vill lära mig programmering för att jag vill kunna bygga något i framtiden.\n"
     ]
    }
   ],
   "source": [
    "print('Hej, jag heter Sebastian.')                          \n",
    "print('Jag vill lära mig programmering för att jag vill kunna bygga något i framtiden.')"
   ]
  },
  {
   "attachments": {},
   "cell_type": "markdown",
   "metadata": {},
   "source": [
    "## Assignment 2 - Variables & Data Types"
   ]
  },
  {
   "cell_type": "code",
   "execution_count": 2,
   "metadata": {},
   "outputs": [
    {
     "name": "stdout",
     "output_type": "stream",
     "text": [
      "Hej, Billy\n",
      "Så här tycker du om programmering: Fun!\n"
     ]
    }
   ],
   "source": [
    "name = input(\"Vad heter du? \")\n",
    "opinion = input(\"Vad tycker du om programmering? \")\n",
    "\n",
    "print(\"Hej,\", name)\n",
    "print(\"Så här tycker du om programmering:\", opinion)"
   ]
  },
  {
   "attachments": {},
   "cell_type": "markdown",
   "metadata": {},
   "source": [
    "## Assignment 3 - Conditional Statements"
   ]
  },
  {
   "cell_type": "code",
   "execution_count": 3,
   "metadata": {},
   "outputs": [
    {
     "name": "stdout",
     "output_type": "stream",
     "text": [
      "Ditt betyg är: A\n"
     ]
    }
   ],
   "source": [
    "score = int(input(\"Ange ditt resultat: \"))\n",
    "\n",
    "if score<0:\n",
    "    print(\"Felaktigt resultat. Giltig poäng är 0-50.\")\n",
    "elif score<16:\n",
    "    print(\"Ditt betyg är: F\")\n",
    "elif score<24:\n",
    "    print(\"Ditt betyg är: E\")\n",
    "elif score<32:\n",
    "    print(\"Ditt betyg är: D\")\n",
    "elif score<40:\n",
    "    print(\"Ditt betyg är: C\")\n",
    "elif score<48:\n",
    "    print(\"Ditt betyg är: B\")\n",
    "elif score<51:\n",
    "    print(\"Ditt betyg är: A\")\n",
    "else:\n",
    "    print(\"Felaktigt resultat. Giltig poäng är 0-50.\")"
   ]
  },
  {
   "attachments": {},
   "cell_type": "markdown",
   "metadata": {},
   "source": [
    "## Assignment 4 - Loop Statements"
   ]
  },
  {
   "cell_type": "code",
   "execution_count": 5,
   "metadata": {},
   "outputs": [
    {
     "name": "stdout",
     "output_type": "stream",
     "text": [
      "Summan av de inmatade heltalen är 10\n",
      "Programmet avslutas!\n"
     ]
    }
   ],
   "source": [
    "repeat = True\n",
    "\n",
    "while repeat:\n",
    "    n = 1\n",
    "    summa = 0\n",
    "  \n",
    "    while n != 0:\n",
    "        n = int(input(\"Ange ett positivt heltal: \"))\n",
    "        \n",
    "        if n < 0:\n",
    "            print(\"Fel! Talet är inte positivt!\")\n",
    "        elif n > 0:\n",
    "            summa += n\n",
    "\n",
    "    print(\"Summan av de inmatade heltalen är\", summa)\n",
    "\n",
    "    response = input(\"Vill du beräkna en summa till (j/n)? \").lower()\n",
    "\n",
    "    if response == \"j\":\n",
    "        repeat = True\n",
    "    elif response == \"n\":\n",
    "        repeat = False\n",
    "    else:\n",
    "        print(\"Ogiltigt svar. Ange 'j' för ja eller 'n' för nej.\")\n",
    "        continue\n",
    "\n",
    "print(\"Programmet avslutas!\")"
   ]
  },
  {
   "attachments": {},
   "cell_type": "markdown",
   "metadata": {},
   "source": [
    "## Assignment 5 - Strings"
   ]
  },
  {
   "cell_type": "code",
   "execution_count": 6,
   "metadata": {},
   "outputs": [
    {
     "name": "stdout",
     "output_type": "stream",
     "text": [
      "----------------------\n",
      "2:ans tabell\n",
      "----------------------\n",
      "  0 *   2 =    0\n",
      "  1 *   2 =    2\n",
      "  2 *   2 =    4\n",
      "  3 *   2 =    6\n",
      "  4 *   2 =    8\n",
      "  5 *   2 =   10\n",
      "  6 *   2 =   12\n",
      "  7 *   2 =   14\n",
      "  8 *   2 =   16\n",
      "  9 *   2 =   18\n",
      " 10 *   2 =   20\n",
      "Programmet avslutas!\n"
     ]
    }
   ],
   "source": [
    "repeat = True\n",
    "\n",
    "while repeat:\n",
    "    table = int(input('Ange tabell: '))\n",
    "    start_interval = int(input('Ange startintervall: '))\n",
    "    stop_interval = int(input('Ange stoppintervall: '))\n",
    "\n",
    "    print(f'----------------------\\n{table}:ans tabell\\n----------------------')\n",
    "\n",
    "    for i in range(start_interval, stop_interval + 1):\n",
    "        print(f'{i:3} * {table:3} = {table * i:4}')\n",
    "\n",
    "    repeat = input('Vill du avsluta (j/n)? ').lower()\n",
    "\n",
    "    if repeat == 'j':\n",
    "        repeat = False\n",
    "    elif repeat == 'n':\n",
    "        repeat = True\n",
    "    else:\n",
    "        print(\"Felaktigt svar.\")\n",
    "\n",
    "print('Programmet avslutas!')"
   ]
  },
  {
   "attachments": {},
   "cell_type": "markdown",
   "metadata": {},
   "source": [
    "## Assignment 6 - Lists"
   ]
  },
  {
   "cell_type": "code",
   "execution_count": 8,
   "metadata": {},
   "outputs": [
    {
     "name": "stdout",
     "output_type": "stream",
     "text": [
      "Inmatade tal som lista: [10, 3, 6, 1]\n",
      "Listan i omvänd ordning: [1, 6, 3, 10]\n",
      "Sorterad lista: [1, 3, 6, 10]\n",
      "Listan har 4 element\n",
      "Minsta talet i lista är 1 och största talet är 10 \n",
      "Summan av talen är 20 och medelvärdet är 5.00\n"
     ]
    }
   ],
   "source": [
    "heltal_list = input(\"Ange heltal: \").split()\n",
    "\n",
    "for i in range(len(heltal_list)):\n",
    "    heltal_list[i] = int(heltal_list[i])\n",
    "\n",
    "print(f\"Inmatade tal som lista: {heltal_list}\")\n",
    "\n",
    "heltal_list.reverse()\n",
    "print(f\"Listan i omvänd ordning: {heltal_list}\")\n",
    "\n",
    "heltal_list.sort()\n",
    "print(f\"Sorterad lista: {heltal_list}\")\n",
    "\n",
    "print(f\"Listan har {len(heltal_list)} element\")\n",
    "\n",
    "print(f\"Minsta talet i lista är {min(heltal_list)} och största talet är {max(heltal_list)} \")\n",
    "\n",
    "print(f\"Summan av talen är {sum(heltal_list)} och medelvärdet är {sum(heltal_list)/len(heltal_list):.2f}\")"
   ]
  },
  {
   "attachments": {},
   "cell_type": "markdown",
   "metadata": {},
   "source": [
    "## Assignment 7 - Calculator"
   ]
  },
  {
   "cell_type": "code",
   "execution_count": 9,
   "metadata": {},
   "outputs": [
    {
     "name": "stdout",
     "output_type": "stream",
     "text": [
      "Svar: 5 + 2 = 7\n",
      "Programmet avslutas.\n"
     ]
    }
   ],
   "source": [
    "repeat = True\n",
    "\n",
    "while repeat:\n",
    "    # Ask for operand_1\n",
    "    operand_1 = int(input(\"Ange operand: \"))\n",
    "\n",
    "    # Ask for operator\n",
    "    operator = input(\"Ange räknesätt: \")\n",
    "    while operator not in [\"+\", \"-\", \"*\", \"/\", \"%\", \"//\"]:\n",
    "        print(\"Felaktigt operator.\")\n",
    "        operator = input(\"Ange operator: \")\n",
    "\n",
    "    # Ask for operand_2 and make sure it's not 0 if operator is division\n",
    "    operand_2 = int(input(\"Ange operand: \"))\n",
    "    while operator in [\"/\", \"%\", \"//\"] and operand_2 == 0:\n",
    "        print(\"Division med noll är inte tillåtet.\")\n",
    "        operand_2 = int(input(\"Ange operand: \"))\n",
    "\n",
    "    # Make calculations and print result\n",
    "    if operator == \"+\":\n",
    "        print(f\"Svar: {operand_1} {operator} {operand_2} = {operand_1 + operand_2}\")\n",
    "    elif operator == \"-\":\n",
    "        print(f\"Svar: {operand_1} {operator} {operand_2} = {operand_1 - operand_2}\")\n",
    "    elif operator == \"*\":\n",
    "        print(f\"Svar: {operand_1} {operator} {operand_2} = {operand_1 * operand_2}\")\n",
    "    elif operator == \"/\":\n",
    "        print(f\"Svar: {operand_1} {operator} {operand_2} = {operand_1 / operand_2}\")\n",
    "    elif operator == \"%\":\n",
    "        print(f\"Svar: {operand_1} {operator} {operand_2} = {operand_1 % operand_2}\")\n",
    "    elif operator == \"//\":\n",
    "        print(f\"Svar: {operand_1} {operator} {operand_2} = {operand_1 // operand_2}\")\n",
    "    else:\n",
    "        print(\"Något gick fel.\")\n",
    "\n",
    "    # Ask if user wants to do another calculation\n",
    "    repeat = input(\"\\nVill du göra en ny beräkning (j/n)? \").lower()\n",
    "\n",
    "    while repeat not in [\"j\", \"n\"]:\n",
    "        print(\"Felaktigt svar. Svara med (j/n).\")\n",
    "        repeat = input(\"Vill du göra en ny beräkning (j/n)? \").lower()\n",
    "\n",
    "    if repeat == \"n\":\n",
    "        repeat = False\n",
    "\n",
    "print(\"Programmet avslutas.\")"
   ]
  },
  {
   "attachments": {},
   "cell_type": "markdown",
   "metadata": {},
   "source": [
    "## Assignment 8 - Functions - Part 1"
   ]
  },
  {
   "cell_type": "code",
   "execution_count": 10,
   "metadata": {},
   "outputs": [
    {
     "name": "stdout",
     "output_type": "stream",
     "text": [
      "Det största talet är 100\n"
     ]
    }
   ],
   "source": [
    "def print_max(number_1, number_2, number_3):\n",
    "    # Find the highest number\n",
    "    highest_number = number_1\n",
    "    if number_2 > highest_number:\n",
    "        highest_number = number_2\n",
    "    if number_3 > highest_number:\n",
    "        highest_number = number_3\n",
    "\n",
    "    # Print the highest number\n",
    "    print(f\"Det största talet är {highest_number}\")\n",
    "\n",
    "\n",
    "# Ask for three integers to compare\n",
    "number_1 = int(input(\"Skriv in tal 1: \"))\n",
    "number_2 = int(input(\"Skriv in tal 2: \"))\n",
    "number_3 = int(input(\"Skriv in tal 3: \"))\n",
    "\n",
    "# Call the print_max function\n",
    "print_max(number_1, number_2, number_3)"
   ]
  },
  {
   "cell_type": "code",
   "execution_count": null,
   "metadata": {},
   "outputs": [],
   "source": []
  }
 ],
 "metadata": {
  "kernelspec": {
   "display_name": "Python 3",
   "language": "python",
   "name": "python3"
  },
  "language_info": {
   "codemirror_mode": {
    "name": "ipython",
    "version": 3
   },
   "file_extension": ".py",
   "mimetype": "text/x-python",
   "name": "python",
   "nbconvert_exporter": "python",
   "pygments_lexer": "ipython3",
   "version": "3.11.3"
  },
  "orig_nbformat": 4
 },
 "nbformat": 4,
 "nbformat_minor": 2
}
