{
 "cells": [
  {
   "attachments": {},
   "cell_type": "markdown",
   "metadata": {},
   "source": [
    "# Assignments four course DVG017"
   ]
  },
  {
   "attachments": {},
   "cell_type": "markdown",
   "metadata": {},
   "source": [
    "## Assignment 1 - Python"
   ]
  },
  {
   "cell_type": "code",
   "execution_count": null,
   "metadata": {},
   "outputs": [],
   "source": [
    "print('Hej, jag heter Sebastian.')                          \n",
    "print('Jag vill lära mig programmering för att jag vill kunna bygga något i framtiden.')"
   ]
  },
  {
   "attachments": {},
   "cell_type": "markdown",
   "metadata": {},
   "source": [
    "## Assignment 2 - Variables & Data Types"
   ]
  },
  {
   "cell_type": "code",
   "execution_count": null,
   "metadata": {},
   "outputs": [],
   "source": [
    "name = input(\"Vad heter du? \")\n",
    "opinion = input(\"Vad tycker du om programmering? \")\n",
    "\n",
    "print(\"Hej,\", name)\n",
    "print(\"Så här tycker du om programmering:\", opinion)"
   ]
  },
  {
   "attachments": {},
   "cell_type": "markdown",
   "metadata": {},
   "source": [
    "## Assignment 3 - Conditional Statements"
   ]
  },
  {
   "cell_type": "code",
   "execution_count": null,
   "metadata": {},
   "outputs": [],
   "source": [
    "score = int(input(\"Ange ditt resultat: \"))\n",
    "\n",
    "if score<0:\n",
    "    print(\"Felaktigt resultat. Giltig poäng är 0-50.\")\n",
    "elif score<16:\n",
    "    print(\"Ditt betyg är: F\")\n",
    "elif score<24:\n",
    "    print(\"Ditt betyg är: E\")\n",
    "elif score<32:\n",
    "    print(\"Ditt betyg är: D\")\n",
    "elif score<40:\n",
    "    print(\"Ditt betyg är: C\")\n",
    "elif score<48:\n",
    "    print(\"Ditt betyg är: B\")\n",
    "elif score<51:\n",
    "    print(\"Ditt betyg är: A\")\n",
    "else:\n",
    "    print(\"Felaktigt resultat. Giltig poäng är 0-50.\")"
   ]
  },
  {
   "attachments": {},
   "cell_type": "markdown",
   "metadata": {},
   "source": [
    "## Assignment 4 - Loop Statements"
   ]
  },
  {
   "cell_type": "code",
   "execution_count": null,
   "metadata": {},
   "outputs": [],
   "source": [
    "repeat = True\n",
    "\n",
    "while repeat:\n",
    "    n = 1\n",
    "    summa = 0\n",
    "  \n",
    "    while n != 0:\n",
    "        n = int(input(\"Ange ett positivt heltal: \"))\n",
    "        \n",
    "        if n < 0:\n",
    "            print(\"Fel! Talet är inte positivt!\")\n",
    "        elif n > 0:\n",
    "            summa += n\n",
    "\n",
    "    print(\"Summan av de inmatade heltalen är\", summa)\n",
    "\n",
    "    response = input(\"Vill du beräkna en summa till (j/n)? \").lower()\n",
    "\n",
    "    if response == \"j\":\n",
    "        repeat = True\n",
    "    elif response == \"n\":\n",
    "        repeat = False\n",
    "    else:\n",
    "        print(\"Ogiltigt svar. Ange 'j' för ja eller 'n' för nej.\")\n",
    "        continue\n",
    "\n",
    "print(\"Programmet avslutas!\")"
   ]
  },
  {
   "attachments": {},
   "cell_type": "markdown",
   "metadata": {},
   "source": [
    "## Assignment 5 - Strings"
   ]
  },
  {
   "cell_type": "code",
   "execution_count": null,
   "metadata": {},
   "outputs": [],
   "source": [
    "repeat = True\n",
    "\n",
    "while repeat:\n",
    "    table = int(input('Ange tabell: '))\n",
    "    start_interval = int(input('Ange startintervall: '))\n",
    "    stop_interval = int(input('Ange stoppintervall: '))\n",
    "\n",
    "    print(f'----------------------\\n{table}:ans tabell\\n----------------------')\n",
    "\n",
    "    for i in range(start_interval, stop_interval + 1):\n",
    "        print(f'{i:3} * {table:3} = {table * i:4}')\n",
    "\n",
    "    repeat = input('Vill du avsluta (j/n)? ').lower()\n",
    "\n",
    "    if repeat == 'j':\n",
    "        repeat = False\n",
    "    elif repeat == 'n':\n",
    "        repeat = True\n",
    "    else:\n",
    "        print(\"Felaktigt svar.\")\n",
    "\n",
    "print('Programmet avslutas!')"
   ]
  },
  {
   "attachments": {},
   "cell_type": "markdown",
   "metadata": {},
   "source": [
    "## Assignment 6 - Lists"
   ]
  },
  {
   "cell_type": "code",
   "execution_count": null,
   "metadata": {},
   "outputs": [],
   "source": [
    "heltal_list = input(\"Ange heltal: \").split()\n",
    "\n",
    "for i in range(len(heltal_list)):\n",
    "    heltal_list[i] = int(heltal_list[i])\n",
    "\n",
    "print(f\"Inmatade tal som lista: {heltal_list}\")\n",
    "\n",
    "heltal_list.reverse()\n",
    "print(f\"Listan i omvänd ordning: {heltal_list}\")\n",
    "\n",
    "heltal_list.sort()\n",
    "print(f\"Sorterad lista: {heltal_list}\")\n",
    "\n",
    "print(f\"Listan har {len(heltal_list)} element\")\n",
    "\n",
    "print(f\"Minsta talet i lista är {min(heltal_list)} och största talet är {max(heltal_list)} \")\n",
    "\n",
    "print(f\"Summan av talen är {sum(heltal_list)} och medelvärdet är {sum(heltal_list)/len(heltal_list):.2f}\")"
   ]
  },
  {
   "attachments": {},
   "cell_type": "markdown",
   "metadata": {},
   "source": [
    "## Assignment 7 - Calculator"
   ]
  },
  {
   "cell_type": "code",
   "execution_count": 25,
   "metadata": {},
   "outputs": [
    {
     "name": "stdout",
     "output_type": "stream",
     "text": [
      "Felaktigt operator.\n",
      "Felaktigt operator.\n",
      "Felaktigt operator.\n",
      "Felaktigt operator.\n",
      "Felaktigt operator.\n",
      "Felaktigt operator.\n",
      "Felaktigt operator.\n",
      "Felaktigt operator.\n",
      "Felaktigt operator.\n",
      "Felaktigt operator.\n",
      "Felaktigt operator.\n",
      "Felaktigt operator.\n",
      "Felaktigt operator.\n",
      "Felaktigt operator.\n",
      "Felaktigt operator.\n",
      "Felaktigt operator.\n"
     ]
    }
   ],
   "source": [
    "repeat = True\n",
    "\n",
    "while repeat:\n",
    "    # Ask for operand_1\n",
    "    operand_1 = int(input(\"Ange operand: \"))\n",
    "\n",
    "    # Ask for operator\n",
    "    operator = input(\"Ange räknesätt: \")\n",
    "    while operator not in [\"+\", \"-\", \"*\", \"/\", \"%\", \"//\"]:\n",
    "        print(\"Felaktigt operator.\")\n",
    "        operator = input(\"Ange operator: \")\n",
    "\n",
    "    # Ask for operand_2 and make sure it's not 0 if operator is division\n",
    "    operand_2 = int(input(\"Ange operand: \"))\n",
    "    while operator in [\"/\", \"%\", \"//\"] and operand_2 == 0:\n",
    "        print(\"Division med noll är inte tillåtet.\")\n",
    "        operand_2 = int(input(\"Ange operand: \"))\n",
    "\n",
    "    # Make calculations and print result\n",
    "    if operator == \"+\":\n",
    "        print(f\"Svar: {operand_1} {operator} {operand_2} = {operand_1 + operand_2}\")\n",
    "    elif operator == \"-\":\n",
    "        print(f\"Svar: {operand_1} {operator} {operand_2} = {operand_1 - operand_2}\")\n",
    "    elif operator == \"*\":\n",
    "        print(f\"Svar: {operand_1} {operator} {operand_2} = {operand_1 * operand_2}\")\n",
    "    elif operator == \"/\":\n",
    "        print(f\"Svar: {operand_1} {operator} {operand_2} = {operand_1 / operand_2}\")\n",
    "    elif operator == \"%\":\n",
    "        print(f\"Svar: {operand_1} {operator} {operand_2} = {operand_1 % operand_2}\")\n",
    "    elif operator == \"//\":\n",
    "        print(f\"Svar: {operand_1} {operator} {operand_2} = {operand_1 // operand_2}\")\n",
    "    else:\n",
    "        print(\"Något gick fel.\")\n",
    "\n",
    "    # Ask if user wants to do another calculation\n",
    "    repeat = input(\"\\nVill du göra en ny beräkning (j/n)? \").lower()\n",
    "\n",
    "    while repeat not in [\"j\", \"n\"]:\n",
    "        print(\"Felaktigt svar. Svara med (j/n).\")\n",
    "        repeat = input(\"Vill du göra en ny beräkning (j/n)? \").lower()\n",
    "\n",
    "    if repeat == \"n\":\n",
    "        repeat = False\n",
    "\n",
    "print(\"Programmet avslutas.\")"
   ]
  },
  {
   "attachments": {},
   "cell_type": "markdown",
   "metadata": {},
   "source": [
    "## Assignment 8 - Functions, part 1"
   ]
  },
  {
   "cell_type": "code",
   "execution_count": null,
   "metadata": {},
   "outputs": [],
   "source": [
    "def print_max(number_1, number_2, number_3):\n",
    "    # Find the highest number\n",
    "    highest_number = number_1\n",
    "    if number_2 > highest_number:\n",
    "        highest_number = number_2\n",
    "    if number_3 > highest_number:\n",
    "        highest_number = number_3\n",
    "\n",
    "    # Print the highest number\n",
    "    print(f\"Det största talet är {highest_number}\")\n",
    "\n",
    "\n",
    "# Ask for three integers to compare\n",
    "number_1 = int(input(\"Skriv in tal 1: \"))\n",
    "number_2 = int(input(\"Skriv in tal 2: \"))\n",
    "number_3 = int(input(\"Skriv in tal 3: \"))\n",
    "\n",
    "# Call the print_max function\n",
    "print_max(number_1, number_2, number_3)"
   ]
  },
  {
   "attachments": {},
   "cell_type": "markdown",
   "metadata": {},
   "source": [
    "## Assignment 9 - Functions, part 2 / Finn-Fem-Fel"
   ]
  },
  {
   "cell_type": "code",
   "execution_count": 2,
   "metadata": {},
   "outputs": [
    {
     "name": "stdout",
     "output_type": "stream",
     "text": [
      "Medelvärdet av tärningskasten är: 3.59\n",
      "Antal 1:or = 151\n",
      "Antal 2:or = 152\n",
      "Antal 3:or = 177\n",
      "Antal 4:or = 179\n",
      "Antal 5:or = 157\n",
      "Antal 6:or = 184\n",
      "Totalt antal summerade tärningskast är 1000\n"
     ]
    }
   ],
   "source": [
    "from random import randint\n",
    "\n",
    "\n",
    "# Funktion som slumpar fram ett antal kast till en lista\n",
    "def slumpa_tärningskast_till_lista(antalKast, lista):\n",
    "    for i in range(antalKast):\n",
    "        tärningskast = randint(1, 6)\n",
    "        lista.append(tärningskast)\n",
    "\n",
    "\n",
    "# Funktion som beräknar medelvärdet på tal i en lista\n",
    "def beräkna_medelvärde(lista):\n",
    "    summa = 0\n",
    "    for element in lista:\n",
    "        summa = summa + element\n",
    "    medelvärde = summa / len(lista)\n",
    "    return medelvärde\n",
    "\n",
    "\n",
    "# Fråga användaren om indata\n",
    "antal_kast = int(input('Hur många tärningskast vill du göra? '))\n",
    "\n",
    "# Skapa en tom lista\n",
    "lista = []\n",
    "\n",
    "# Anropa funktionen som slumpar fram tärningskast till en lista\n",
    "slumpa_tärningskast_till_lista(antal_kast, lista)\n",
    "\n",
    "# Anropa funktionen som beräknar medelvärdet för elementen i en lista\n",
    "medel_värde = beräkna_medelvärde(lista)\n",
    "# Skriv ut medelvärdet\n",
    "print(f'Medelvärdet av tärningskasten är: {medel_värde:.2f}')\n",
    "\n",
    "# Skriv ut en frekvenstabell\n",
    "summa_tärningskast = 0\n",
    "for i in range(1, 7):\n",
    "    antal = lista.count(i)\n",
    "    summa_tärningskast += antal\n",
    "    print(f'Antal {i}:or = {antal}')  \n",
    "\n",
    "print(f'Totalt antal summerade tärningskast är {summa_tärningskast}')"
   ]
  },
  {
   "attachments": {},
   "cell_type": "markdown",
   "metadata": {},
   "source": [
    "## Assignment 10 - PEP 8"
   ]
  },
  {
   "cell_type": "code",
   "execution_count": 1,
   "metadata": {},
   "outputs": [
    {
     "name": "stdout",
     "output_type": "stream",
     "text": [
      "Svar: 10.0 * 10.0 = 100.0\n",
      "Program terminated.\n"
     ]
    }
   ],
   "source": [
    "def make_calculation(operator, operand_1, operand_2):\n",
    "    # Handle division by zero\n",
    "    if operator in division_operators and operand_2 == 0:\n",
    "        return \"Error: Division by zero is not allowed.\"\n",
    "\n",
    "    # Make calculations and return result\n",
    "    if operator == \"+\":\n",
    "        return operand_1 + operand_2\n",
    "    elif operator == \"-\":\n",
    "        return operand_1 - operand_2\n",
    "    elif operator == \"*\":\n",
    "        return operand_1 * operand_2\n",
    "    elif operator == \"/\":\n",
    "        return operand_1 / operand_2\n",
    "    elif operator == \"%\":\n",
    "        return operand_1 % operand_2\n",
    "    elif operator == \"//\":\n",
    "        return operand_1 // operand_2\n",
    "    else:\n",
    "        return \"Error: Unknown operator.\"\n",
    "\n",
    "\n",
    "repeat = True\n",
    "operators = [\"+\", \"-\", \"*\", \"/\", \"%\", \"//\"]\n",
    "division_operators = [\"/\", \"%\", \"//\"]\n",
    "\n",
    "while repeat:\n",
    "    # Ask for an expression\n",
    "    input_list = input(\"Enter an expression: \").split()\n",
    "    operator = input_list[1]\n",
    "    operand_1 = float(input_list[0])\n",
    "    operand_2 = float(input_list[2])\n",
    "\n",
    "    # Make calculations and print result\n",
    "    result = make_calculation(operator, operand_1, operand_2)\n",
    "    print(f\"Svar: {operand_1} {operator} {operand_2} = {result}\")\n",
    "\n",
    "    # Ask if user wants to do another calculation\n",
    "    repeat = input(\"\\nDo you want to make another calculation (y/n)? \").lower()\n",
    "\n",
    "    while repeat not in [\"y\", \"n\"]:\n",
    "        print(\"Error: Unknown answer. Answer with (y/n).\")\n",
    "        repeat = input(\"Do you want to make another calculation (y/n)? \").lower()\n",
    "\n",
    "    if repeat == \"n\":\n",
    "        repeat = False\n",
    "\n",
    "print(\"Program terminated.\")"
   ]
  },
  {
   "attachments": {},
   "cell_type": "markdown",
   "metadata": {},
   "source": [
    "## Assignment 11 - OOP"
   ]
  },
  {
   "cell_type": "code",
   "execution_count": null,
   "metadata": {},
   "outputs": [],
   "source": []
  }
 ],
 "metadata": {
  "kernelspec": {
   "display_name": "Python 3",
   "language": "python",
   "name": "python3"
  },
  "language_info": {
   "codemirror_mode": {
    "name": "ipython",
    "version": 3
   },
   "file_extension": ".py",
   "mimetype": "text/x-python",
   "name": "python",
   "nbconvert_exporter": "python",
   "pygments_lexer": "ipython3",
   "version": "3.11.3"
  },
  "orig_nbformat": 4
 },
 "nbformat": 4,
 "nbformat_minor": 2
}
