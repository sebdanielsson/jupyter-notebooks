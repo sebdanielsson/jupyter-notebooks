{
 "cells": [
  {
   "cell_type": "code",
   "execution_count": null,
   "metadata": {},
   "outputs": [],
   "source": [
    "import numpy as np\n",
    "from pandas import DataFrame\n",
    "\n",
    "point = np.array([\n",
    "    [25,25],\n",
    "    [25,15],\n",
    "    [30,40],\n",
    "    [40,40],\n",
    "    [45,25],\n",
    "    [55,40],\n",
    "    [60,75],\n",
    "    [70,80],\n",
    "    [70,55],\n",
    "    [80,45],\n",
    "    [80,90],\n",
    "    [85,70]])\n",
    "\n",
    "# data assignment\n",
    "xCoord = (point[:,0])\n",
    "yCoord = (point[:,1])\n",
    "print(xCoord)\n",
    "print(yCoord)"
   ]
  },
  {
   "cell_type": "code",
   "execution_count": null,
   "metadata": {},
   "outputs": [],
   "source": [
    "import matplotlib.pyplot as plt\n",
    "from sklearn.cluster import KMeans\n",
    "\n",
    "labels = range(1, (len(point)+1))\n",
    "plt.figure(figsize=(8, 8))\n",
    "\n",
    "#[:,0] for two dimensional arrays gives all values in column 0\n",
    "plt.scatter(point[:,0],point[:,1], label='True Position')\n",
    "\n",
    "#an iterator of tuples where the first item in each passed iterator is paired together, and then the second item in each passed iterator are paired together etc\n",
    "for label, x, y in zip(labels, point[:, 0], point[:, 1]):\n",
    "    plt.annotate(\n",
    "        label,\n",
    "        xy=(x, y), xytext=(-3, 3),\n",
    "        textcoords='offset points', ha='right', va='bottom')\n",
    "plt.show()\n",
    "\n",
    "#draws the data points in the X numpy array and label data points from 1 to n."
   ]
  },
  {
   "cell_type": "code",
   "execution_count": null,
   "metadata": {},
   "outputs": [],
   "source": [
    "#df = DataFrame(Data,columns=['x','y'])\n",
    "# set number of clusters k\n",
    "k = 2\n",
    "kmeans = KMeans(n_clusters=k).fit(point)\n",
    "centroids = kmeans.cluster_centers_\n",
    "print(centroids)\n",
    "\n",
    "plt.scatter(point[:,0], point[:,1], c= kmeans.labels_.astype(float), s=50, alpha=0.5)\n",
    "plt.scatter(centroids[:, 0], centroids[:, 1], c='red', s=40,marker='x')\n",
    "plt.show()"
   ]
  },
  {
   "cell_type": "code",
   "execution_count": null,
   "metadata": {},
   "outputs": [],
   "source": [
    "k = 2\n",
    "#kmeans = KMeans(n_clusters=k).fit(point)\n",
    "kmeans = KMeans(n_clusters = k, init = 'k-means++').fit(point)\n",
    "centroids = kmeans.cluster_centers_\n",
    "print(centroids)\n",
    "\n",
    "plt.scatter(point[:,0], point[:,1], c= kmeans.labels_.astype(float), s=50, alpha=0.5)\n",
    "plt.scatter(centroids[:, 0], centroids[:, 1], c='red', s=40,marker='x')\n",
    "plt.show()\n"
   ]
  },
  {
   "cell_type": "code",
   "execution_count": null,
   "metadata": {},
   "outputs": [],
   "source": [
    "# Elbow method\n",
    "\n",
    "import numpy as np\n",
    "import matplotlib.pyplot as plt\n",
    "from sklearn.cluster import KMeans\n",
    "\n",
    "# Run the Kmeans algorithm and get the index of data points clusters\n",
    "# SSE is the Sum of Squared Errors\n",
    "sse = []\n",
    "x1 = np.array([1, 1, 1, 2, 2, 3, 4, 5, 6, 6, 6, 7, 7, 8, 8, 8, 8, 9, 9, 9])\n",
    "x2 = np.array([4, 5, 6, 5, 6, 6, 8, 6, 8, 6, 7, 1, 7, 1, 3, 7, 2, 1, 3, 2])\n",
    "plt.plot()\n",
    "plt.xlim([0, 10])\n",
    "plt.ylim([0, 10])\n",
    "plt.title('Dataset')\n",
    "plt.scatter(x1, x2)\n",
    "plt.show()\n"
   ]
  },
  {
   "cell_type": "code",
   "execution_count": null,
   "metadata": {},
   "outputs": [],
   "source": [
    "X = np.stack((x1, x2), axis=-1)\n",
    "\n",
    "# k_list is the list of range in between we want to find clusters for\n",
    "k_list = list(range(1, 12))\n",
    "\n",
    "for k in k_list:\n",
    "    # km_model is the KMeans where we define the model for fitting the data\n",
    "    km_model = KMeans(n_clusters=k)\n",
    "    \n",
    "    # fitting the data (X is the data set) to km_model\n",
    "    km_model.fit(X)\n",
    "    sse.append(km_model.inertia_)\n",
    "\n",
    "# Plot sse against k and find the value of k where it starts to flatten down and make angle like elbow.\n",
    "plt.figure(figsize=(6, 6))\n",
    "plt.plot(k_list, sse, '-o')\n",
    "plt.xlabel(r'Number of clusters *k*')\n",
    "plt.ylabel('Sum of squared distance')"
   ]
  },
  {
   "cell_type": "code",
   "execution_count": null,
   "metadata": {},
   "outputs": [],
   "source": []
  }
 ],
 "metadata": {
  "kernelspec": {
   "display_name": "Python 3.10.8",
   "language": "python",
   "name": "python3"
  },
  "language_info": {
   "codemirror_mode": {
    "name": "ipython",
    "version": 3
   },
   "file_extension": ".py",
   "mimetype": "text/x-python",
   "name": "python",
   "nbconvert_exporter": "python",
   "pygments_lexer": "ipython3",
   "version": "3.10.8"
  },
  "vscode": {
   "interpreter": {
    "hash": "73a4deffa37449eec2906a82541729956dc4ede81d351440dc1e5a408dd292eb"
   }
  }
 },
 "nbformat": 4,
 "nbformat_minor": 4
}
