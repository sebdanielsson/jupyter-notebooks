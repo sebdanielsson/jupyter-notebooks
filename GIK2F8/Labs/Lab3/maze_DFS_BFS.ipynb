{
 "cells": [
  {
   "cell_type": "code",
   "execution_count": 1,
   "metadata": {},
   "outputs": [],
   "source": [
    "from pylab import *\n",
    "from pandas import *\n",
    "import numpy\n",
    "from random import shuffle"
   ]
  },
  {
   "cell_type": "code",
   "execution_count": 2,
   "metadata": {},
   "outputs": [
    {
     "name": "stdout",
     "output_type": "stream",
     "text": [
      "(17, 17)\n"
     ]
    },
    {
     "data": {
      "image/png": "[encoded data removed]",
      "text/plain": [
       "<Figure size 640x480 with 1 Axes>"
      ]
     },
     "metadata": {},
     "output_type": "display_data"
    }
   ],
   "source": [
    "def make_maze(w, h):\n",
    "    vis = [[0] * w + [1] for _ in range(h)] + [[1] * (w + 1)]\n",
    "    ver = [[\"10\"] * w + ['1'] for _ in range(h)] + [[]]\n",
    "    hor = [[\"11\"] * w + ['1'] for _ in range(h + 1)]\n",
    " \n",
    "    def walk(x, y):\n",
    "        vis[y][x] = 1\n",
    " \n",
    "        d = [(x - 1, y), (x, y + 1), (x + 1, y), (x, y - 1)]\n",
    "        shuffle(d)\n",
    "        for (xx, yy) in d:\n",
    "            if vis[yy][xx]: continue\n",
    "            if xx == x: hor[max(y, yy)][x] = \"10\"\n",
    "            if yy == y: ver[y][max(x, xx)] = \"00\"\n",
    "            walk(xx, yy)\n",
    " \n",
    "    walk(numpy.random.randint(w), numpy.random.randint(h))\n",
    " \n",
    "    s = \"\"\n",
    "    for (a, b) in zip(hor, ver):\n",
    "        s += ''.join(a + ['\\n'] + b + ['\\n'])\n",
    "        \n",
    "    M=[]\n",
    "    for line in s.split(\"\\n\"):\n",
    "        if line!=\"\":\n",
    "            R=[]\n",
    "            for e in line:\n",
    "                R.append(int(e))\n",
    "            M.append(R)\n",
    "    return M\n",
    " \n",
    "maze=numpy.array(make_maze(8,8))\n",
    "imshow(maze)\n",
    "\n",
    "print(maze.shape)\n"
   ]
  },
  {
   "cell_type": "code",
   "execution_count": 3,
   "metadata": {},
   "outputs": [
    {
     "name": "stdout",
     "output_type": "stream",
     "text": [
      "[[1. 1. 1. 1. 1. 1. 1. 1. 1. 1. 1. 1. 1. 1. 1. 1. 1.]\n",
      " [1. 0. 1. 0. 1. 0. 1. 0. 1. 0. 1. 0. 1. 0. 1. 0. 1.]\n",
      " [1. 1. 1. 1. 1. 1. 1. 1. 1. 1. 1. 1. 1. 1. 1. 1. 1.]\n",
      " [1. 0. 1. 0. 1. 0. 1. 0. 1. 0. 1. 0. 1. 0. 1. 0. 1.]\n",
      " [1. 1. 1. 1. 1. 1. 1. 1. 1. 1. 1. 1. 1. 1. 1. 1. 1.]\n",
      " [1. 0. 1. 0. 1. 0. 1. 0. 1. 0. 1. 0. 1. 0. 1. 0. 1.]\n",
      " [1. 1. 1. 1. 1. 1. 1. 1. 1. 1. 1. 1. 1. 1. 1. 1. 1.]\n",
      " [1. 0. 1. 0. 1. 0. 1. 0. 1. 0. 1. 0. 1. 0. 1. 0. 1.]\n",
      " [1. 1. 1. 1. 1. 1. 1. 1. 1. 1. 1. 1. 1. 1. 1. 1. 1.]\n",
      " [1. 0. 1. 0. 1. 0. 1. 0. 1. 0. 1. 0. 1. 0. 1. 0. 1.]\n",
      " [1. 1. 1. 1. 1. 1. 1. 1. 1. 1. 1. 1. 1. 1. 1. 1. 1.]\n",
      " [1. 0. 1. 0. 1. 0. 1. 0. 1. 0. 1. 0. 1. 0. 1. 0. 1.]\n",
      " [1. 1. 1. 1. 1. 1. 1. 1. 1. 1. 1. 1. 1. 1. 1. 1. 1.]\n",
      " [1. 0. 1. 0. 1. 0. 1. 0. 1. 0. 1. 0. 1. 0. 1. 0. 1.]\n",
      " [1. 1. 1. 1. 1. 1. 1. 1. 1. 1. 1. 1. 1. 1. 1. 1. 1.]\n",
      " [1. 0. 1. 0. 1. 0. 1. 0. 1. 0. 1. 0. 1. 0. 1. 0. 1.]\n",
      " [1. 1. 1. 1. 1. 1. 1. 1. 1. 1. 1. 1. 1. 1. 1. 1. 1.]]\n"
     ]
    },
    {
     "data": {
      "image/png": "[encoded data removed]",
      "text/plain": [
       "<Figure size 640x480 with 1 Axes>"
      ]
     },
     "metadata": {},
     "output_type": "display_data"
    }
   ],
   "source": [
    "m=numpy.ones((17,17))\n",
    "for i in range(8):\n",
    "    for j in range(8):\n",
    "        m[1+(i*2)][1+(j*2)]=0\n",
    "imshow(m)\n",
    "print(m)"
   ]
  },
  {
   "cell_type": "code",
   "execution_count": 4,
   "metadata": {},
   "outputs": [],
   "source": [
    "#maze\n",
    "startLocation=[1,1]\n",
    "targetLocation=[15,15]\n"
   ]
  },
  {
   "cell_type": "code",
   "execution_count": 5,
   "metadata": {},
   "outputs": [
    {
     "data": {
      "text/plain": [
       "0"
      ]
     },
     "execution_count": 5,
     "metadata": {},
     "output_type": "execute_result"
    }
   ],
   "source": [
    "maze[1][1]"
   ]
  },
  {
   "cell_type": "code",
   "execution_count": 6,
   "metadata": {},
   "outputs": [
    {
     "data": {
      "text/plain": [
       "0"
      ]
     },
     "execution_count": 6,
     "metadata": {},
     "output_type": "execute_result"
    }
   ],
   "source": [
    "maze[15][15]"
   ]
  },
  {
   "cell_type": "code",
   "execution_count": 7,
   "metadata": {},
   "outputs": [
    {
     "data": {
      "text/plain": [
       "[[4, 5], [5, 4], [6, 5], [5, 6]]"
      ]
     },
     "execution_count": 7,
     "metadata": {},
     "output_type": "execute_result"
    }
   ],
   "source": [
    "def giveMeNeighborLocations(x,y):\n",
    "    return [[x-1,y],[x,y-1],[x+1,y],[x,y+1]]\n",
    "\n",
    "giveMeNeighborLocations(5,5)"
   ]
  },
  {
   "cell_type": "code",
   "execution_count": 8,
   "metadata": {},
   "outputs": [
    {
     "data": {
      "text/plain": [
       "[[1, 2], [2, 1], [1, 0], [0, 1]]"
      ]
     },
     "execution_count": 8,
     "metadata": {},
     "output_type": "execute_result"
    }
   ],
   "source": [
    "def getNeighbors(x,y):\n",
    "    nb=list()\n",
    "    xm=[0,1,0,-1]\n",
    "    ym=[1,0,-1,0]\n",
    "    for i in range(4):\n",
    "        nb.append([x+xm[i],y+ym[i]])\n",
    "    return nb\n",
    "\n",
    "getNeighbors(1,1)"
   ]
  },
  {
   "cell_type": "code",
   "execution_count": 9,
   "metadata": {},
   "outputs": [],
   "source": [
    "#maze[13][15]=1\n",
    "#imshow(maze)"
   ]
  },
  {
   "cell_type": "code",
   "execution_count": 10,
   "metadata": {},
   "outputs": [],
   "source": [
    "# maze\n",
    "startLocation=[1,1]\n",
    "targetLocation=[15,15]\n",
    "distances=numpy.zeros(maze.shape)-1\n",
    "\n",
    "front=[startLocation]\n",
    "distances[startLocation[0]][startLocation[1]]=0\n",
    "currentDistance=1\n",
    "while len(front)>0: \n",
    "    newFront=list()\n",
    "    for currentLocation in front:    \n",
    "        neighbors=getNeighbors(currentLocation[0],currentLocation[1])\n",
    "        #print(neighbors)\n",
    "        for nb in neighbors:\n",
    "            if maze[nb[0]][nb[1]]==0 and distances[nb[0]][nb[1]]<0.0:\n",
    "                distances[nb[0]][nb[1]]=currentDistance\n",
    "                newFront.append(nb)\n",
    "        #print(\"current front\",newFront)\n",
    "    front=newFront\n",
    "    currentDistance+=1 #currentDistance=currentDistance+1"
   ]
  },
  {
   "cell_type": "code",
   "execution_count": 11,
   "metadata": {},
   "outputs": [
    {
     "data": {
      "text/plain": [
       "<matplotlib.image.AxesImage at 0xffff4e745310>"
      ]
     },
     "execution_count": 11,
     "metadata": {},
     "output_type": "execute_result"
    },
    {
     "data": {
      "image/png": "[encoded data removed]",
      "text/plain": [
       "<Figure size 800x400 with 2 Axes>"
      ]
     },
     "metadata": {},
     "output_type": "display_data"
    }
   ],
   "source": [
    "figure(figsize=[8,4])\n",
    "subplot(1,2,1)\n",
    "imshow(maze)\n",
    "subplot(1,2,2)\n",
    "imshow(distances,cmap='Spectral')\n"
   ]
  },
  {
   "cell_type": "code",
   "execution_count": 12,
   "metadata": {},
   "outputs": [
    {
     "name": "stdout",
     "output_type": "stream",
     "text": [
      "[['x', 2], ['x', 4], ['x', 6]]\n"
     ]
    }
   ],
   "source": [
    "m=[['x',2],['x',4],['x',6]]\n",
    "print(m)\n",
    "#print(transpose(m))"
   ]
  },
  {
   "cell_type": "raw",
   "metadata": {},
   "source": [
    "# Pseudo code\n",
    "DFS(graph, start_node, end_node):\n",
    "    frontier = new Stack()\n",
    "    frontier.push(start_node)\n",
    "    explored = new Set()\n",
    "    while frontier is not empty:\n",
    "        current_node = frontier.pop()\n",
    "        if current_node in explored: continue\n",
    "        if current_node == end_node: return success\n",
    "        \n",
    "        for neighbor in graph.get_neigbhors(current_node):\n",
    "            frontier.push(neighbor)\n",
    "        explored.add(current_node)"
   ]
  },
  {
   "cell_type": "code",
   "execution_count": 13,
   "metadata": {},
   "outputs": [
    {
     "name": "stdout",
     "output_type": "stream",
     "text": [
      "[1, 1] [15, 15]\n",
      "success!\n",
      "[[1, 1], [2, 1], [3, 1], [4, 1], [5, 1], [5, 2], [5, 3], [5, 4], [5, 5], [6, 5], [7, 5], [8, 5], [9, 5], [9, 4], [9, 3], [9, 2], [9, 1], [8, 1], [7, 1], [7, 2], [7, 3], [10, 1], [11, 1], [12, 1], [13, 1], [14, 1], [15, 1], [15, 2], [15, 3], [14, 3], [13, 3], [13, 4], [13, 5], [12, 5], [11, 5], [11, 4], [11, 3], [11, 6], [11, 7], [10, 7], [9, 7], [8, 7], [7, 7], [6, 7], [5, 7], [12, 7], [13, 7], [14, 7], [15, 7], [15, 6], [15, 5], [1, 2], [1, 3], [2, 3], [3, 3], [3, 4], [3, 5], [3, 6], [3, 7], [2, 7], [1, 7], [1, 8], [1, 9], [1, 10], [1, 11], [1, 12], [1, 13], [2, 13], [3, 13], [3, 12], [3, 11], [4, 11], [5, 11], [5, 10], [5, 9], [6, 9], [7, 9], [8, 9], [9, 9], [10, 9], [11, 9], [12, 9], [13, 9], [14, 9], [15, 9], [1, 14], [1, 15], [2, 15], [3, 15], [4, 15], [5, 15], [5, 14], [5, 13], [6, 13], [7, 13], [7, 12], [7, 11], [8, 11], [9, 11], [10, 11], [11, 11], [12, 11], [13, 11], [14, 11], [15, 11], [15, 12], [15, 13], [14, 13], [13, 13], [12, 13], [11, 13], [11, 14], [11, 15], [10, 15], [9, 15], [8, 15], [7, 15], [9, 14], [9, 13], [12, 15], [13, 15], [14, 15], [15, 15]]\n"
     ]
    },
    {
     "data": {
      "text/plain": [
       "[<matplotlib.lines.Line2D at 0xffff4e746610>]"
      ]
     },
     "execution_count": 13,
     "metadata": {},
     "output_type": "execute_result"
    },
    {
     "data": {
      "image/png": "[encoded data removed]",
      "text/plain": [
       "<Figure size 640x480 with 1 Axes>"
      ]
     },
     "metadata": {},
     "output_type": "display_data"
    }
   ],
   "source": [
    "def DFS(maze,startNode,endNode):\n",
    "    frontier=list()\n",
    "    frontier.append(startNode)\n",
    "    explored=list()\n",
    "    while len(frontier)!=0:\n",
    "        currentNode=frontier.pop()\n",
    "        if currentNode in explored:\n",
    "            continue\n",
    "        if currentNode == endNode:\n",
    "            return \"success!\",explored+[targetLocation]\n",
    "        for nb in getNeighbors(currentNode[0],currentNode[1]):\n",
    "            if maze[nb[0]][nb[1]]==0:\n",
    "                frontier.append(nb)\n",
    "        explored.append(currentNode)\n",
    "    return \"failure\",explored\n",
    "\n",
    "imshow(maze)\n",
    "print(startLocation,targetLocation)\n",
    "answer,explored=DFS(maze,startLocation,targetLocation)\n",
    "print(answer)\n",
    "print(explored)\n",
    "plot(transpose(explored)[1],transpose(explored)[0],'ow')"
   ]
  },
  {
   "cell_type": "code",
   "execution_count": 14,
   "metadata": {},
   "outputs": [
    {
     "data": {
      "text/plain": [
       "[<matplotlib.lines.Line2D at 0xffff508827d0>]"
      ]
     },
     "execution_count": 14,
     "metadata": {},
     "output_type": "execute_result"
    },
    {
     "data": {
      "image/png": "[encoded data removed]",
      "text/plain": [
       "<Figure size 640x480 with 1 Axes>"
      ]
     },
     "metadata": {},
     "output_type": "display_data"
    }
   ],
   "source": [
    "# Get the shortest path \n",
    "currentLocation=targetLocation\n",
    "path=[]\n",
    "while currentLocation!=startLocation:\n",
    "    path.append(currentLocation)\n",
    "    neighbors=getNeighbors(currentLocation[0],currentLocation[1])\n",
    "    indices=[]\n",
    "    for nb in neighbors:\n",
    "        if nb in explored:\n",
    "            indices.append(explored.index(nb))\n",
    "    currentLocation=explored[min(indices)] \n",
    "    \n",
    "path.append(startLocation)\n",
    "imshow(maze)\n",
    "plot(transpose(path)[1],transpose(path)[0],'or')"
   ]
  },
  {
   "cell_type": "code",
   "execution_count": 15,
   "metadata": {},
   "outputs": [
    {
     "data": {
      "text/plain": [
       "123"
      ]
     },
     "execution_count": 15,
     "metadata": {},
     "output_type": "execute_result"
    }
   ],
   "source": [
    "len(explored)"
   ]
  },
  {
   "cell_type": "code",
   "execution_count": 16,
   "metadata": {},
   "outputs": [
    {
     "name": "stdout",
     "output_type": "stream",
     "text": [
      "[1, 1] [15, 15]\n",
      "success!\n",
      "[[1, 1], [1, 2], [2, 1], [1, 3], [3, 1], [1, 4], [2, 3], [4, 1], [1, 5], [3, 3], [5, 1], [3, 4], [5, 2], [3, 5], [5, 3], [3, 6], [5, 4], [3, 7], [5, 5], [3, 8], [2, 7], [6, 5], [3, 9], [1, 7], [7, 5], [1, 8], [8, 5], [1, 9], [9, 5], [1, 10], [9, 4], [1, 11], [9, 3], [1, 12], [9, 2], [1, 13], [9, 1], [1, 14], [2, 13], [10, 1], [8, 1], [1, 15], [3, 13], [11, 1], [7, 1], [2, 15], [3, 12], [12, 1], [7, 2], [3, 15], [3, 11], [13, 1], [7, 3], [4, 15], [4, 11], [14, 1], [5, 15], [5, 11], [15, 1], [5, 14], [5, 10], [15, 2], [5, 13], [5, 9], [15, 3], [6, 13], [6, 9], [14, 3], [7, 13], [7, 9], [13, 3], [7, 12], [8, 9], [13, 4], [7, 11], [9, 9], [13, 5], [8, 11], [10, 9], [12, 5], [9, 11], [11, 9], [11, 5], [10, 11], [12, 9], [11, 6], [11, 4], [11, 11], [13, 9], [11, 7], [11, 3], [12, 11], [14, 9], [12, 7], [10, 7], [13, 11], [15, 9], [13, 7], [9, 7], [14, 11], [14, 7], [8, 7], [15, 11], [15, 7], [7, 7], [15, 12], [15, 6], [6, 7], [15, 13], [15, 5], [5, 7], [14, 13], [13, 13], [12, 13], [11, 13], [11, 14], [11, 15], [12, 15], [10, 15], [13, 15], [9, 15], [14, 15], [9, 14], [8, 15], [15, 15]]\n"
     ]
    },
    {
     "data": {
      "text/plain": [
       "[<matplotlib.lines.Line2D at 0xffff4e5db7d0>]"
      ]
     },
     "execution_count": 16,
     "metadata": {},
     "output_type": "execute_result"
    },
    {
     "data": {
      "image/png": "[encoded data removed]",
      "text/plain": [
       "<Figure size 640x480 with 1 Axes>"
      ]
     },
     "metadata": {},
     "output_type": "display_data"
    }
   ],
   "source": [
    "# BFS\n",
    "from typing import Deque\n",
    "\n",
    "def BFS(maze,startNode,endNode):\n",
    "    frontier=Deque()\n",
    "    frontier.append(startNode)\n",
    "    explored=list()\n",
    "    while len(frontier)!=0:\n",
    "        currentNode=frontier.popleft()\n",
    "        if currentNode in explored:\n",
    "            continue\n",
    "        if currentNode == endNode:\n",
    "            return \"success!\",explored+[targetLocation]\n",
    "        for nb in getNeighbors(currentNode[0],currentNode[1]):\n",
    "            if maze[nb[0]][nb[1]]==0:\n",
    "                frontier.append(nb)\n",
    "        explored.append(currentNode)\n",
    "    return \"failure\",explored\n",
    " \n",
    "imshow(maze)\n",
    "print(startLocation,targetLocation)\n",
    "answer,explored=BFS(maze,startLocation,targetLocation)\n",
    "print(answer)\n",
    "print(explored)\n",
    "plot(transpose(explored)[1],transpose(explored)[0],'ow')"
   ]
  },
  {
   "cell_type": "code",
   "execution_count": 17,
   "metadata": {},
   "outputs": [
    {
     "data": {
      "text/plain": [
       "[<matplotlib.lines.Line2D at 0xffff50a2c750>]"
      ]
     },
     "execution_count": 17,
     "metadata": {},
     "output_type": "execute_result"
    },
    {
     "data": {
      "image/png": "[encoded data removed]",
      "text/plain": [
       "<Figure size 640x480 with 1 Axes>"
      ]
     },
     "metadata": {},
     "output_type": "display_data"
    }
   ],
   "source": [
    "# Get the shortest path \n",
    "currentLocation=targetLocation\n",
    "path=[]\n",
    "while currentLocation!=startLocation:\n",
    "    path.append(currentLocation)\n",
    "    neighbors=getNeighbors(currentLocation[0],currentLocation[1])\n",
    "    indices=[]\n",
    "    for nb in neighbors:\n",
    "        if nb in explored:\n",
    "            indices.append(explored.index(nb))\n",
    "    currentLocation=explored[min(indices)]  \n",
    "path.append(startLocation)\n",
    "imshow(maze)\n",
    "plot(transpose(path)[1],transpose(path)[0],'or')"
   ]
  },
  {
   "cell_type": "code",
   "execution_count": 18,
   "metadata": {},
   "outputs": [
    {
     "data": {
      "text/plain": [
       "125"
      ]
     },
     "execution_count": 18,
     "metadata": {},
     "output_type": "execute_result"
    }
   ],
   "source": [
    "len(explored)"
   ]
  }
 ],
 "metadata": {
  "kernelspec": {
   "display_name": "Python 3",
   "language": "python",
   "name": "python3"
  },
  "language_info": {
   "codemirror_mode": {
    "name": "ipython",
    "version": 3
   },
   "file_extension": ".py",
   "mimetype": "text/x-python",
   "name": "python",
   "nbconvert_exporter": "python",
   "pygments_lexer": "ipython3",
   "version": "3.11.2"
  },
  "vscode": {
   "interpreter": {
    "hash": "73a4deffa37449eec2906a82541729956dc4ede81d351440dc1e5a408dd292eb"
   }
  }
 },
 "nbformat": 4,
 "nbformat_minor": 4
}
