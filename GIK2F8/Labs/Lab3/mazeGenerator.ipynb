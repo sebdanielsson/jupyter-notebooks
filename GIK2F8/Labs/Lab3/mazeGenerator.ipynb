{
 "cells": [
  {
   "cell_type": "code",
   "execution_count": 1,
   "metadata": {},
   "outputs": [],
   "source": [
    "# Import libraries\n",
    "from pylab import *\n",
    "from pandas import *\n",
    "import numpy\n",
    "from random import shuffle"
   ]
  },
  {
   "cell_type": "code",
   "execution_count": 2,
   "metadata": {},
   "outputs": [
    {
     "name": "stdout",
     "output_type": "stream",
     "text": [
      "[[1 1 1 1 1 1 1 1 1 1 1 1 1 1 1 1 1]\n",
      " [1 0 0 0 0 0 1 0 0 0 0 0 0 0 0 0 1]\n",
      " [1 1 1 0 1 0 1 0 1 1 1 1 1 0 1 0 1]\n",
      " [1 0 0 0 1 0 1 0 0 0 1 0 0 0 1 0 1]\n",
      " [1 0 1 1 1 0 1 1 1 0 1 0 1 1 1 0 1]\n",
      " [1 0 1 0 1 0 0 0 1 0 1 0 0 0 1 0 1]\n",
      " [1 0 1 0 1 1 1 0 1 0 1 1 1 0 1 1 1]\n",
      " [1 0 1 0 0 0 0 0 1 0 1 0 1 0 0 0 1]\n",
      " [1 0 1 0 1 1 1 1 1 0 1 0 1 1 1 0 1]\n",
      " [1 0 1 0 0 0 1 0 0 0 1 0 0 0 1 0 1]\n",
      " [1 0 1 1 1 1 1 0 1 1 1 0 1 0 1 1 1]\n",
      " [1 0 0 0 0 0 1 0 1 0 0 0 1 0 0 0 1]\n",
      " [1 1 1 1 1 0 1 0 1 1 1 1 1 1 1 0 1]\n",
      " [1 0 0 0 0 0 1 0 1 0 0 0 0 0 1 0 1]\n",
      " [1 0 1 1 1 1 1 0 1 0 1 1 1 0 1 0 1]\n",
      " [1 0 0 0 0 0 0 0 0 0 1 0 0 0 0 0 1]\n",
      " [1 1 1 1 1 1 1 1 1 1 1 1 1 1 1 1 1]]\n",
      "Maze size: (17, 17)\n"
     ]
    },
    {
     "data": {
      "text/plain": [
       "<matplotlib.image.AxesImage at 0xffff76633b50>"
      ]
     },
     "execution_count": 2,
     "metadata": {},
     "output_type": "execute_result"
    },
    {
     "data": {
      "image/png": "[encoded data removed]",
      "text/plain": [
       "<Figure size 640x480 with 1 Axes>"
      ]
     },
     "metadata": {},
     "output_type": "display_data"
    }
   ],
   "source": [
    "# Generate maze\n",
    "def make_maze(w, h):\n",
    "    vis = [[0] * w + [1] for _ in range(h)] + [[1] * (w + 1)]\n",
    "    ver = [[\"10\"] * w + ['1'] for _ in range(h)] + [[]]\n",
    "    hor = [[\"11\"] * w + ['1'] for _ in range(h + 1)]\n",
    " \n",
    "    def walk(x, y):\n",
    "        vis[y][x] = 1\n",
    " \n",
    "        d = [(x - 1, y), (x, y + 1), (x + 1, y), (x, y - 1)]\n",
    "        shuffle(d)\n",
    "        for (xx, yy) in d:\n",
    "            if vis[yy][xx]: continue\n",
    "            if xx == x: hor[max(y, yy)][x] = \"10\"\n",
    "            if yy == y: ver[y][max(x, xx)] = \"00\"\n",
    "            walk(xx, yy)\n",
    " \n",
    "    walk(numpy.random.randint(w), numpy.random.randint(h))\n",
    " \n",
    "    s = \"\"\n",
    "    for (a, b) in zip(hor, ver):\n",
    "        s += ''.join(a + ['\\n'] + b + ['\\n'])\n",
    "        \n",
    "    M=[]\n",
    "    for line in s.split(\"\\n\"):\n",
    "        if line!=\"\":\n",
    "            R=[]\n",
    "            for e in line:\n",
    "                R.append(int(e))\n",
    "            M.append(R)\n",
    "    return M\n",
    " \n",
    "maze=numpy.array(make_maze(8,8))\n",
    "\n",
    "print(maze)\n",
    "print('Maze size:', maze.shape)\n",
    "imshow(maze)"
   ]
  },
  {
   "cell_type": "code",
   "execution_count": 3,
   "metadata": {},
   "outputs": [
    {
     "name": "stdout",
     "output_type": "stream",
     "text": [
      "Start location is valid = 0\n",
      "Target location is valid = 0\n"
     ]
    }
   ],
   "source": [
    "# Set start and target locations\n",
    "startLocation=[1,1]\n",
    "targetLocation=[15,15]\n",
    "if maze[startLocation[0]][startLocation[1]]==1:\n",
    "    print('Start location is not valid =', maze[1][1])\n",
    "else:\n",
    "    print('Start location is valid =', maze[1][1])\n",
    "\n",
    "if maze[targetLocation[0]][targetLocation[1]]==1:\n",
    "    print('Target location is not valid =', maze[15][15])\n",
    "else:\n",
    "    print('Target location is valid =', maze[15][15])"
   ]
  },
  {
   "cell_type": "code",
   "execution_count": 4,
   "metadata": {},
   "outputs": [],
   "source": [
    "# Use A* algorithm to solve above maze without classes"
   ]
  },
  {
   "cell_type": "code",
   "execution_count": null,
   "metadata": {},
   "outputs": [],
   "source": []
  }
 ],
 "metadata": {
  "kernelspec": {
   "display_name": "Python 3",
   "language": "python",
   "name": "python3"
  },
  "language_info": {
   "codemirror_mode": {
    "name": "ipython",
    "version": 3
   },
   "file_extension": ".py",
   "mimetype": "text/x-python",
   "name": "python",
   "nbconvert_exporter": "python",
   "pygments_lexer": "ipython3",
   "version": "3.11.2"
  },
  "vscode": {
   "interpreter": {
    "hash": "73a4deffa37449eec2906a82541729956dc4ede81d351440dc1e5a408dd292eb"
   }
  }
 },
 "nbformat": 4,
 "nbformat_minor": 4
}
