{
 "cells": [
  {
   "attachments": {},
   "cell_type": "markdown",
   "metadata": {},
   "source": [
    "# Lab 3: Solve the Maze using A* - Group 11 - Sebastian Danielsson (h21sebda)"
   ]
  },
  {
   "attachments": {},
   "cell_type": "markdown",
   "metadata": {},
   "source": [
    "## Generate maze function"
   ]
  },
  {
   "cell_type": "code",
   "execution_count": 1,
   "metadata": {},
   "outputs": [],
   "source": [
    "from pylab import transpose, imshow, plot\n",
    "from numpy.random import shuffle\n",
    "import numpy\n",
    "\n",
    "def make_maze(w, h):\n",
    "    vis = [[0] * w + [1] for _ in range(h)] + [[1] * (w + 1)]\n",
    "    ver = [[\"10\"] * w + ['1'] for _ in range(h)] + [[]]\n",
    "    hor = [[\"11\"] * w + ['1'] for _ in range(h + 1)]\n",
    " \n",
    "    def walk(x, y):\n",
    "        vis[y][x] = 1\n",
    " \n",
    "        d = [(x - 1, y), (x, y + 1), (x + 1, y), (x, y - 1)]\n",
    "        shuffle(d)\n",
    "        for (xx, yy) in d:\n",
    "            if vis[yy][xx]: continue\n",
    "            if xx == x: hor[max(y, yy)][x] = \"10\"\n",
    "            if yy == y: ver[y][max(x, xx)] = \"00\"\n",
    "            walk(xx, yy)\n",
    " \n",
    "    walk(numpy.random.randint(w), numpy.random.randint(h))\n",
    " \n",
    "    s = \"\"\n",
    "    for (a, b) in zip(hor, ver):\n",
    "        s += ''.join(a + ['\\n'] + b + ['\\n'])\n",
    "        \n",
    "    M=[]\n",
    "    for line in s.split(\"\\n\"):\n",
    "        if line!=\"\":\n",
    "            R=[]\n",
    "            for e in line:\n",
    "                R.append(int(e))\n",
    "            M.append(R)\n",
    "    return M"
   ]
  },
  {
   "attachments": {},
   "cell_type": "markdown",
   "metadata": {},
   "source": [
    "## A* functions"
   ]
  },
  {
   "cell_type": "code",
   "execution_count": 2,
   "metadata": {},
   "outputs": [],
   "source": [
    "# Get neighbors of a square\n",
    "def get_neighbors(maze, square):\n",
    "    x, y = square\n",
    "    neighbors = []\n",
    "    if x > 0 and maze[x - 1][y] == 0:\n",
    "        neighbors.append((x - 1, y))\n",
    "    if x < len(maze) - 1 and maze[x + 1][y] == 0:\n",
    "        neighbors.append((x + 1, y))\n",
    "    if y > 0 and maze[x][y - 1] == 0:\n",
    "        neighbors.append((x, y - 1))\n",
    "    if y < len(maze[0]) - 1 and maze[x][y + 1] == 0:\n",
    "        neighbors.append((x, y + 1))\n",
    "    return neighbors\n",
    "\n",
    "# A* algorithm\n",
    "def a_star(maze, start, end):\n",
    "    # List of squares to visit\n",
    "    queue = [start]\n",
    "    # Keep track of the parents of each square\n",
    "    parents = {start: None}\n",
    "    # Dictionary with the cost from start to each square\n",
    "    costs = {start: 0}\n",
    "    # List or set to store visited squares\n",
    "    visited = []\n",
    "\n",
    "    # Repeat until we have visited all squares\n",
    "    while queue:\n",
    "        # Sort the queue by cost + heuristic\n",
    "        queue.sort(key=lambda x: costs[x] + abs(end[0] - x[0]) + abs(end[1] - x[1]))\n",
    "\n",
    "        # Get the square with the lowest cost + heuristic\n",
    "        current = queue.pop(0)\n",
    "\n",
    "        # Add the current square to the visited list or set\n",
    "        visited.append(current)\n",
    "\n",
    "        # Check if we have reached the end\n",
    "        if current == end:\n",
    "            # Save the path\n",
    "            path = []\n",
    "            while current:\n",
    "                path.append(current)\n",
    "                current = parents[current]\n",
    "            return path[::-1], visited, costs\n",
    "\n",
    "        neighbors = get_neighbors(maze, current)\n",
    "\n",
    "        # Get cost of reaching each neighbor\n",
    "        for neighbor in neighbors:\n",
    "            cost = costs[current] + 1\n",
    "\n",
    "            # Update the cost and parent of the neighbor if the cost is missing or lower than the current known cost\n",
    "            if neighbor not in costs or cost < costs[neighbor]:\n",
    "                costs[neighbor] = cost\n",
    "                parents[neighbor] = current\n",
    "                queue.append(neighbor)\n",
    "\n",
    "    # Return none if no path to the end is found\n",
    "    return None"
   ]
  },
  {
   "attachments": {},
   "cell_type": "markdown",
   "metadata": {},
   "source": [
    "## Create a maze and plot the mission"
   ]
  },
  {
   "cell_type": "code",
   "execution_count": 3,
   "metadata": {},
   "outputs": [
    {
     "name": "stdout",
     "output_type": "stream",
     "text": [
      "Start location is valid = 0\n",
      "Target location is valid = 0\n"
     ]
    },
    {
     "data": {
      "image/png": "[encoded data removed]",
      "text/plain": [
       "<Figure size 400x400 with 1 Axes>"
      ]
     },
     "metadata": {},
     "output_type": "display_data"
    }
   ],
   "source": [
    "import matplotlib.pyplot as plt\n",
    "\n",
    "# Configure properties for the maze\n",
    "maze_width=8\n",
    "maze_height=8\n",
    "startLocation=(1,1)\n",
    "targetLocation=(maze_height*2-1,maze_width*2-1)\n",
    "# Create the maze\n",
    "maze=numpy.array(make_maze(maze_width,maze_height))\n",
    "\n",
    "# Create a function to plot the maze\n",
    "def plot_maze(maze, start, end, maze_width, maze_height):\n",
    "    # Plot the maze\n",
    "    plt.imshow(maze, cmap='binary')\n",
    "    # Show tick for each square\n",
    "    plt.xticks(range(0, maze_width*2))\n",
    "    plt.yticks(range(0, maze_height*2))\n",
    "    # Show the start and target locations\n",
    "    plt.plot(start[1], start[0], 'gs')\n",
    "    plt.plot(end[1], end[0], 'rs')\n",
    "\n",
    "# Check if the start and target locations are valid\n",
    "if maze[startLocation[0]][startLocation[1]]==1:\n",
    "    print('Start location is not valid =', maze[1][1])\n",
    "else:\n",
    "    print('Start location is valid =', maze[1][1])\n",
    "if maze[targetLocation[0]][targetLocation[1]]==1:\n",
    "    print('Target location is not valid =', maze[15][15])\n",
    "else:\n",
    "    print('Target location is valid =', maze[15][15])\n",
    "\n",
    "# Plot the mission\n",
    "plt.figure(figsize=[maze_width/2,maze_height/2])\n",
    "plot_maze(maze, startLocation, targetLocation, maze_width, maze_height)\n",
    "plt.show()"
   ]
  },
  {
   "cell_type": "code",
   "execution_count": 4,
   "metadata": {},
   "outputs": [
    {
     "data": {
      "image/png": "[encoded data removed]",
      "text/plain": [
       "<Figure size 1600x1600 with 3 Axes>"
      ]
     },
     "metadata": {},
     "output_type": "display_data"
    }
   ],
   "source": [
    "# Find the best path with A*\n",
    "generated_path, visited, costs = a_star(maze, startLocation, targetLocation)\n",
    "\n",
    "# Plot the visited squares and the best path\n",
    "plt.figure(figsize=[maze_width*2,maze_height*2])\n",
    "\n",
    "plt.subplot(1, 3, 1)\n",
    "plot_maze(maze, startLocation, targetLocation, maze_width, maze_height)\n",
    "plot(transpose(generated_path[1:-1])[1],transpose(generated_path[1:-1])[0],'k.')\n",
    "\n",
    "plt.subplot(1, 3, 2)\n",
    "plot_maze(maze, startLocation, targetLocation, maze_width, maze_height)\n",
    "plot(transpose(visited[1:-1])[1],transpose(visited[1:-1])[0],'k.')\n",
    "\n",
    "plt.subplot(1, 3, 3)\n",
    "\n",
    "# Set illegal moves and unexplored squares to -1\n",
    "cost_array = [[-1 for _ in range(len(maze[0]))] for _ in range(len(maze))]\n",
    "\n",
    "# Add the costs of the visited squares\n",
    "for square, cost in costs.items():\n",
    "    x, y = square\n",
    "    cost_array[x][y] = cost\n",
    "\n",
    "# Plot the maze with the costs\n",
    "imshow(cost_array,cmap='Spectral')\n",
    "# Show tick for each square\n",
    "plt.xticks(range(0, maze_width*2))\n",
    "plt.yticks(range(0, maze_height*2))\n",
    "# Show the start and target locations\n",
    "plt.plot(startLocation[1], startLocation[0], 'gs')\n",
    "plt.plot(targetLocation[1], targetLocation[0], 'rs')\n",
    "\n",
    "# Show the figure\n",
    "plt.show()"
   ]
  }
 ],
 "metadata": {
  "kernelspec": {
   "display_name": "Python 3",
   "language": "python",
   "name": "python3"
  },
  "language_info": {
   "codemirror_mode": {
    "name": "ipython",
    "version": 3
   },
   "file_extension": ".py",
   "mimetype": "text/x-python",
   "name": "python",
   "nbconvert_exporter": "python",
   "pygments_lexer": "ipython3",
   "version": "3.11.2"
  },
  "orig_nbformat": 4,
  "vscode": {
   "interpreter": {
    "hash": "73a4deffa37449eec2906a82541729956dc4ede81d351440dc1e5a408dd292eb"
   }
  }
 },
 "nbformat": 4,
 "nbformat_minor": 2
}
