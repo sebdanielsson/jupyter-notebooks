{
 "cells": [
  {
   "cell_type": "code",
   "execution_count": null,
   "id": "a35c8d81-319a-4519-8ab0-9b6169367834",
   "metadata": {},
   "outputs": [],
   "source": [
    "import numpy as np\n",
    "import pandas as pd\n",
    "import seaborn as sns\n",
    "from sklearn.cluster import KMeans\n",
    "import matplotlib.pyplot as plt\n",
    "%matplotlib inline\n",
    "from pandas import DataFrame\n",
    "import scipy.cluster.hierarchy as shc\n",
    "from sklearn.cluster import AgglomerativeClustering\n",
    "\n",
    "# Import data from csv\n",
    "customer_data = pd.read_csv('wholesale_customer_data.csv')\n",
    "customer_data.shape"
   ]
  },
  {
   "cell_type": "code",
   "execution_count": null,
   "id": "a9f755f0-c671-4821-80fd-434f38e3398c",
   "metadata": {},
   "outputs": [],
   "source": [
    "customer_data.sum()"
   ]
  },
  {
   "cell_type": "code",
   "execution_count": null,
   "id": "eb8c63d5-795a-4228-a1ac-aafdcb583664",
   "metadata": {},
   "outputs": [],
   "source": [
    "# Select data for analysis.\n",
    "# 0=Channel, 1=Region, 2=Fresh, 3=Milk, 4=Grocery, 5=Frozen, 6=Detergents_Paper, 7=Delicassen\n",
    "analysis1 = customer_data.iloc[:, [3,4]]\n",
    "analysis1_name = list(analysis1.columns.values.tolist())"
   ]
  },
  {
   "cell_type": "code",
   "execution_count": null,
   "id": "5705cfa7-b262-4286-9516-6f03bd82f173",
   "metadata": {},
   "outputs": [],
   "source": [
    "fig, axes = plt.subplots(1, 2, figsize=(18, 10))\n",
    "fig.suptitle('Box plots for categories with and without outliers')\n",
    "\n",
    "sns.boxplot(ax=axes[0], data=customer_data.iloc[:, 2:8])\n",
    "sns.boxplot(ax=axes[1], data=customer_data.iloc[:, 2:8],showfliers=False)"
   ]
  },
  {
   "cell_type": "code",
   "execution_count": null,
   "id": "b118cfbf-a460-426e-8013-1fb120a09ab2",
   "metadata": {},
   "outputs": [],
   "source": [
    "plt.figure(figsize=(10,7))\n",
    "plt.title(analysis1_name[0] + ' & ' + analysis1_name[1])\n",
    "dend = shc.dendrogram(shc.linkage(analysis1, method='ward'))"
   ]
  },
  {
   "cell_type": "code",
   "execution_count": null,
   "id": "5cf2f0c9-84ee-4698-a99b-21cea159784d",
   "metadata": {},
   "outputs": [],
   "source": [
    "# k_list is the list of range in between we want to find clusters for\n",
    "k_list = list(range(1, 11))\n",
    "\n",
    "# SSE is the Sum of Squared Errors\n",
    "sse = []\n",
    "\n",
    "for k in k_list:\n",
    "    # km_model is the KMeans where we define the model for fitting the data\n",
    "    km_model = KMeans(n_clusters=k, n_init=10)\n",
    "    \n",
    "    # fitting the data (data is the data set) to km_model\n",
    "    km_model.fit(analysis1)\n",
    "    sse.append(km_model.inertia_)\n",
    "\n",
    "# Plot sse against k and find the value of k where it starts to flatten down and make angle like elbow.\n",
    "plt.plot(k_list, sse, '-o')\n",
    "plt.title('Find an optimal k-value with the elbow method\\nAnalysis 1: ' + analysis1_name[0] + ' & ' + analysis1_name[1])\n",
    "plt.xlabel(r'Number of clusters *k*')\n",
    "plt.ylabel('Sum of squared distance')"
   ]
  },
  {
   "cell_type": "code",
   "execution_count": null,
   "id": "8eebeb5e-56e0-453a-af72-5825263024f1",
   "metadata": {},
   "outputs": [],
   "source": [
    "k = 3\n",
    "cluster = AgglomerativeClustering(n_clusters=k, affinity='euclidean', linkage='ward')\n",
    "cluster.fit_predict(analysis1.values)\n",
    "plt.figure(figsize=(10,7))\n",
    "plt.xlabel(analysis1_name[0])\n",
    "plt.ylabel(analysis1_name[1])\n",
    "plt.scatter(analysis1.values[:,0], analysis1.values[:,1], c=cluster.labels_, cmap=\"rainbow\")"
   ]
  },
  {
   "cell_type": "code",
   "execution_count": null,
   "id": "de800334-3360-4653-867a-43df9d7c719c",
   "metadata": {},
   "outputs": [],
   "source": []
  }
 ],
 "metadata": {
  "kernelspec": {
   "display_name": "Python 3 (ipykernel)",
   "language": "python",
   "name": "python3"
  },
  "language_info": {
   "codemirror_mode": {
    "name": "ipython",
    "version": 3
   },
   "file_extension": ".py",
   "mimetype": "text/x-python",
   "name": "python",
   "nbconvert_exporter": "python",
   "pygments_lexer": "ipython3",
   "version": "3.11.2"
  }
 },
 "nbformat": 4,
 "nbformat_minor": 5
}
